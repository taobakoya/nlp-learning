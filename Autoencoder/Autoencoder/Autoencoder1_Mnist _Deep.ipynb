{
 "cells": [
  {
   "cell_type": "code",
   "execution_count": 1,
   "metadata": {},
   "outputs": [],
   "source": [
    "# Import the Libararies\n",
    "from keras.layers import Input, Dense\n",
    "from keras.models import Model\n",
    "from keras.datasets import mnist\n",
    "import numpy as np\n",
    "import matplotlib.pyplot as plt"
   ]
  },
  {
   "cell_type": "code",
   "execution_count": 2,
   "metadata": {},
   "outputs": [],
   "source": [
    "# Import the dataset\n",
    "(x_train, _), (x_test, _) = mnist.load_data()"
   ]
  },
  {
   "cell_type": "code",
   "execution_count": 3,
   "metadata": {},
   "outputs": [
    {
     "data": {
      "text/plain": [
       "((60000, 28, 28), (10000, 28, 28))"
      ]
     },
     "execution_count": 3,
     "metadata": {},
     "output_type": "execute_result"
    }
   ],
   "source": [
    "x_train.shape,x_test.shape"
   ]
  },
  {
   "cell_type": "code",
   "execution_count": 4,
   "metadata": {},
   "outputs": [],
   "source": [
    "# Scaling\n",
    "\n",
    "x_train = x_train / 255\n",
    "x_test = x_test / 255\n",
    "\n",
    "x_train = x_train.reshape((len(x_train), np.prod(x_train.shape[1:])))  #(28*28 = 784)Return the product of array elements over a given axis.\n",
    "x_test = x_test.reshape((len(x_test), np.prod(x_test.shape[1:])))\n",
    "\n"
   ]
  },
  {
   "cell_type": "code",
   "execution_count": 5,
   "metadata": {},
   "outputs": [
    {
     "data": {
      "text/plain": [
       "((60000, 784), (10000, 784))"
      ]
     },
     "execution_count": 5,
     "metadata": {},
     "output_type": "execute_result"
    }
   ],
   "source": [
    "x_train.shape,x_test.shape"
   ]
  },
  {
   "cell_type": "code",
   "execution_count": 6,
   "metadata": {},
   "outputs": [],
   "source": [
    "input_size = 784\n",
    "code_size = 32\n",
    "\n",
    "input_img = Input(shape=(input_size,))\n",
    "\n",
    "\n",
    "hidden_1 = Dense(128, activation='relu')(input_img)\n",
    "hidden_2 = Dense(64, activation='relu')(hidden_1)\n",
    "\n",
    "code = Dense(code_size, activation='relu')(hidden_2)\n",
    "\n",
    "hidden_3 = Dense(64, activation='relu')(code)\n",
    "hidden_4 = Dense(128, activation='relu')(hidden_3)\n",
    "\n",
    "output_img = Dense(input_size, activation='sigmoid')(hidden_4)\n",
    "\n",
    "autoencoder = Model(input_img, output_img)\n",
    "\n",
    "autoencoder.compile(optimizer='adam', loss='binary_crossentropy')\n",
    "\n",
    "\n"
   ]
  },
  {
   "cell_type": "code",
   "execution_count": 7,
   "metadata": {},
   "outputs": [
    {
     "name": "stdout",
     "output_type": "stream",
     "text": [
      "Epoch 1/50\n",
      "235/235 [==============================] - 4s 14ms/step - loss: 0.2456 - val_loss: 0.1674\n",
      "Epoch 2/50\n",
      "235/235 [==============================] - 3s 13ms/step - loss: 0.1504 - val_loss: 0.1359\n",
      "Epoch 3/50\n",
      "235/235 [==============================] - 3s 13ms/step - loss: 0.1313 - val_loss: 0.1246\n",
      "Epoch 4/50\n",
      "235/235 [==============================] - 3s 13ms/step - loss: 0.1222 - val_loss: 0.1176\n",
      "Epoch 5/50\n",
      "235/235 [==============================] - 3s 13ms/step - loss: 0.1165 - val_loss: 0.1126\n",
      "Epoch 6/50\n",
      "235/235 [==============================] - 3s 13ms/step - loss: 0.1121 - val_loss: 0.1086\n",
      "Epoch 7/50\n",
      "235/235 [==============================] - 3s 13ms/step - loss: 0.1083 - val_loss: 0.1057\n",
      "Epoch 8/50\n",
      "235/235 [==============================] - 3s 13ms/step - loss: 0.1056 - val_loss: 0.1029\n",
      "Epoch 9/50\n",
      "235/235 [==============================] - 3s 13ms/step - loss: 0.1031 - val_loss: 0.1012\n",
      "Epoch 10/50\n",
      "235/235 [==============================] - 3s 13ms/step - loss: 0.1013 - val_loss: 0.0997\n",
      "Epoch 11/50\n",
      "235/235 [==============================] - 3s 13ms/step - loss: 0.1000 - val_loss: 0.0983\n",
      "Epoch 12/50\n",
      "235/235 [==============================] - 3s 13ms/step - loss: 0.0988 - val_loss: 0.0973\n",
      "Epoch 13/50\n",
      "235/235 [==============================] - 3s 13ms/step - loss: 0.0979 - val_loss: 0.0964\n",
      "Epoch 14/50\n",
      "235/235 [==============================] - 3s 13ms/step - loss: 0.0970 - val_loss: 0.0958\n",
      "Epoch 15/50\n",
      "235/235 [==============================] - 3s 13ms/step - loss: 0.0962 - val_loss: 0.0952\n",
      "Epoch 16/50\n",
      "235/235 [==============================] - 3s 13ms/step - loss: 0.0954 - val_loss: 0.0939\n",
      "Epoch 17/50\n",
      "235/235 [==============================] - 3s 13ms/step - loss: 0.0947 - val_loss: 0.0936\n",
      "Epoch 18/50\n",
      "235/235 [==============================] - 3s 13ms/step - loss: 0.0940 - val_loss: 0.0929\n",
      "Epoch 19/50\n",
      "235/235 [==============================] - 3s 13ms/step - loss: 0.0933 - val_loss: 0.0922\n",
      "Epoch 20/50\n",
      "235/235 [==============================] - 3s 13ms/step - loss: 0.0927 - val_loss: 0.0918\n",
      "Epoch 21/50\n",
      "235/235 [==============================] - 3s 13ms/step - loss: 0.0921 - val_loss: 0.0912\n",
      "Epoch 22/50\n",
      "235/235 [==============================] - 3s 13ms/step - loss: 0.0915 - val_loss: 0.0905\n",
      "Epoch 23/50\n",
      "235/235 [==============================] - 3s 13ms/step - loss: 0.0910 - val_loss: 0.0901\n",
      "Epoch 24/50\n",
      "235/235 [==============================] - 3s 13ms/step - loss: 0.0904 - val_loss: 0.0895\n",
      "Epoch 25/50\n",
      "235/235 [==============================] - 3s 13ms/step - loss: 0.0900 - val_loss: 0.0892\n",
      "Epoch 26/50\n",
      "235/235 [==============================] - 3s 13ms/step - loss: 0.0896 - val_loss: 0.0886\n",
      "Epoch 27/50\n",
      "235/235 [==============================] - 3s 13ms/step - loss: 0.0892 - val_loss: 0.0886\n",
      "Epoch 28/50\n",
      "235/235 [==============================] - 3s 13ms/step - loss: 0.0890 - val_loss: 0.0885\n",
      "Epoch 29/50\n",
      "235/235 [==============================] - 3s 13ms/step - loss: 0.0887 - val_loss: 0.0880\n",
      "Epoch 30/50\n",
      "235/235 [==============================] - 3s 13ms/step - loss: 0.0884 - val_loss: 0.0878\n",
      "Epoch 31/50\n",
      "235/235 [==============================] - 3s 13ms/step - loss: 0.0882 - val_loss: 0.0874\n",
      "Epoch 32/50\n",
      "235/235 [==============================] - 3s 13ms/step - loss: 0.0880 - val_loss: 0.0873\n",
      "Epoch 33/50\n",
      "235/235 [==============================] - 3s 13ms/step - loss: 0.0878 - val_loss: 0.0870\n",
      "Epoch 34/50\n",
      "235/235 [==============================] - 3s 13ms/step - loss: 0.0876 - val_loss: 0.0870\n",
      "Epoch 35/50\n",
      "235/235 [==============================] - 3s 13ms/step - loss: 0.0874 - val_loss: 0.0870\n",
      "Epoch 36/50\n",
      "235/235 [==============================] - 3s 13ms/step - loss: 0.0873 - val_loss: 0.0867\n",
      "Epoch 37/50\n",
      "235/235 [==============================] - 3s 12ms/step - loss: 0.0871 - val_loss: 0.0865\n",
      "Epoch 38/50\n",
      "235/235 [==============================] - 3s 13ms/step - loss: 0.0870 - val_loss: 0.0865\n",
      "Epoch 39/50\n",
      "235/235 [==============================] - 3s 13ms/step - loss: 0.0869 - val_loss: 0.0866\n",
      "Epoch 40/50\n",
      "235/235 [==============================] - 3s 13ms/step - loss: 0.0867 - val_loss: 0.0864\n",
      "Epoch 41/50\n",
      "235/235 [==============================] - 3s 13ms/step - loss: 0.0866 - val_loss: 0.0860\n",
      "Epoch 42/50\n",
      "235/235 [==============================] - 3s 12ms/step - loss: 0.0865 - val_loss: 0.0862\n",
      "Epoch 43/50\n",
      "235/235 [==============================] - 3s 13ms/step - loss: 0.0864 - val_loss: 0.0861\n",
      "Epoch 44/50\n",
      "235/235 [==============================] - 3s 12ms/step - loss: 0.0863 - val_loss: 0.0858\n",
      "Epoch 45/50\n",
      "235/235 [==============================] - 3s 12ms/step - loss: 0.0861 - val_loss: 0.0858\n",
      "Epoch 46/50\n",
      "235/235 [==============================] - 3s 13ms/step - loss: 0.0861 - val_loss: 0.0856\n",
      "Epoch 47/50\n",
      "235/235 [==============================] - 3s 12ms/step - loss: 0.0859 - val_loss: 0.0855\n",
      "Epoch 48/50\n",
      "235/235 [==============================] - 3s 12ms/step - loss: 0.0858 - val_loss: 0.0854\n",
      "Epoch 49/50\n",
      "235/235 [==============================] - 3s 13ms/step - loss: 0.0858 - val_loss: 0.0854\n",
      "Epoch 50/50\n",
      "235/235 [==============================] - 3s 12ms/step - loss: 0.0857 - val_loss: 0.0853\n"
     ]
    },
    {
     "data": {
      "text/plain": [
       "<keras.callbacks.History at 0x7f063970fad0>"
      ]
     },
     "execution_count": 7,
     "metadata": {},
     "output_type": "execute_result"
    }
   ],
   "source": [
    "autoencoder.fit(x_train, x_train, epochs=50, batch_size=256, shuffle=True, validation_data=(x_test, x_test))"
   ]
  },
  {
   "cell_type": "code",
   "execution_count": 8,
   "metadata": {},
   "outputs": [],
   "source": [
    "def plot_autoencoder_outputs(autoencoder, n, dims):\n",
    "    decoded_imgs = autoencoder.predict(x_test)\n",
    "\n",
    "    # number of example digits to show\n",
    "    n = 10\n",
    "    plt.figure(figsize=(20, 4))\n",
    "    for i in range(n):\n",
    "        # plot original image\n",
    "        ax = plt.subplot(2, n, i + 1)\n",
    "        plt.imshow(x_test[i].reshape(*dims))\n",
    "        plt.gray()\n",
    "        ax.get_xaxis().set_visible(False)\n",
    "        ax.get_yaxis().set_visible(False)\n",
    "        \n",
    "\n",
    "        # plot reconstruction \n",
    "        ax = plt.subplot(2, n, i + 1 + n)\n",
    "        plt.imshow(decoded_imgs[i].reshape(*dims))\n",
    "        plt.gray()\n",
    "        ax.get_xaxis().set_visible(False)\n",
    "        ax.get_yaxis().set_visible(False)\n",
    "       \n",
    "    plt.show()\n"
   ]
  },
  {
   "cell_type": "code",
   "execution_count": 9,
   "metadata": {},
   "outputs": [
    {
     "data": {
      "image/png": "[encoded data removed]",
      "text/plain": [
       "<Figure size 1440x288 with 20 Axes>"
      ]
     },
     "metadata": {
      "needs_background": "light"
     },
     "output_type": "display_data"
    }
   ],
   "source": [
    "plot_autoencoder_outputs(autoencoder, 10, (28, 28))"
   ]
  },
  {
   "cell_type": "code",
   "execution_count": null,
   "metadata": {},
   "outputs": [],
   "source": []
  }
 ],
 "metadata": {
  "kernelspec": {
   "display_name": "Python 3",
   "language": "python",
   "name": "python3"
  },
  "language_info": {
   "codemirror_mode": {
    "name": "ipython",
    "version": 3
   },
   "file_extension": ".py",
   "mimetype": "text/x-python",
   "name": "python",
   "nbconvert_exporter": "python",
   "pygments_lexer": "ipython3",
   "version": "3.7.6"
  }
 },
 "nbformat": 4,
 "nbformat_minor": 4
}
