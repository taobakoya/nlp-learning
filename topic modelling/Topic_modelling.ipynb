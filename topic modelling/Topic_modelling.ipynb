{
 "cells": [
  {
   "cell_type": "markdown",
   "metadata": {
    "id": "DTgw8DO9DsLA"
   },
   "source": [
    "**# Topic Modelling**"
   ]
  },
  {
   "cell_type": "code",
   "execution_count": 10,
   "metadata": {
    "executionInfo": {
     "elapsed": 17,
     "status": "ok",
     "timestamp": 1686983485264,
     "user": {
      "displayName": "Nisarg Gandhewar",
      "userId": "00173707501276252012"
     },
     "user_tz": -330
    },
    "id": "3meq8kK407UQ"
   },
   "outputs": [],
   "source": [
    "# doc1 = \"I want to watch a movie this weekend\"\n",
    "# doc2 = 'I went shopping yesterday. New Zealand won the World Test Championship by beating India by eight wickets at Southampton'\n",
    "# doc3 = 'I don’t watch cricket. Netflix and Amazon Prime have very good movies to watch'\n",
    "# doc4 = 'Movies are a nice way to chill however, this time I would like to paint and read some good books. It’s been so long!'\n",
    "# doc5 ='This blueberry milkshake is so good! Try reading Dr. Joe Dispenza’s books. His work is such a game-changer! His books helped to learn so much about how our thoughts impact our biology and how we can all rewire our brains'"
   ]
  },
  {
   "cell_type": "code",
   "execution_count": 11,
   "metadata": {
    "executionInfo": {
     "elapsed": 16,
     "status": "ok",
     "timestamp": 1686983485265,
     "user": {
      "displayName": "Nisarg Gandhewar",
      "userId": "00173707501276252012"
     },
     "user_tz": -330
    },
    "id": "Dlg9ojvh07eH"
   },
   "outputs": [],
   "source": [
    "# doc1 = \"Sugar is bad to consume. My sister likes to have sugar, but not my father.\"\n",
    "# doc2 = \"My father spends a lot of time driving my sister around to dance practice.\"\n",
    "# doc3 = \"Doctors suggest that driving may cause increased stress and blood pressure.\"\n",
    "# doc4 = \"Sometimes I feel pressure to perform well at school, but my father never seems to drive my sister to do better.\"\n",
    "# doc5 = \"Health experts say that Sugar is not good for your lifestyle.\""
   ]
  },
  {
   "cell_type": "code",
   "execution_count": 12,
   "metadata": {
    "executionInfo": {
     "elapsed": 16,
     "status": "ok",
     "timestamp": 1686983485266,
     "user": {
      "displayName": "Nisarg Gandhewar",
      "userId": "00173707501276252012"
     },
     "user_tz": -330
    },
    "id": "lfJWKrBYM0WB"
   },
   "outputs": [],
   "source": [
    "doc1 = 'Playing cricket is good for health'\n",
    "doc2 = 'Virat is a very famous indian cricketer'\n",
    "doc3 = 'health is wealth'\n",
    "doc4 = 'Cricket is very popular in India'\n",
    "doc5 = 'apple is good for health'\n",
    "doc6 = 'Doing exercise is neccessary for good health'\n",
    "doc7 = 'Now a days Everyone paying attention towards there health'"
   ]
  },
  {
   "cell_type": "code",
   "execution_count": 13,
   "metadata": {
    "executionInfo": {
     "elapsed": 15,
     "status": "ok",
     "timestamp": 1686983485267,
     "user": {
      "displayName": "Nisarg Gandhewar",
      "userId": "00173707501276252012"
     },
     "user_tz": -330
    },
    "id": "wPzPpBxi09U_"
   },
   "outputs": [],
   "source": [
    "# compile documents\n",
    "doc_complete = [doc1, doc2, doc3, doc4, doc5, doc6,doc7]"
   ]
  },
  {
   "cell_type": "code",
   "execution_count": 14,
   "metadata": {
    "colab": {
     "base_uri": "https://localhost:8080/"
    },
    "executionInfo": {
     "elapsed": 19,
     "status": "ok",
     "timestamp": 1686983485271,
     "user": {
      "displayName": "Nisarg Gandhewar",
      "userId": "00173707501276252012"
     },
     "user_tz": -330
    },
    "id": "XUGIxpam1A-K",
    "outputId": "cad4fa87-14b6-45a5-c3cf-a8c2cd6b1b5a"
   },
   "outputs": [
    {
     "name": "stderr",
     "output_type": "stream",
     "text": [
      "[nltk_data] Downloading package stopwords to /root/nltk_data...\n",
      "[nltk_data]   Package stopwords is already up-to-date!\n",
      "[nltk_data] Downloading package wordnet to /root/nltk_data...\n",
      "[nltk_data]   Package wordnet is already up-to-date!\n"
     ]
    }
   ],
   "source": [
    "# Text preprocessing\n",
    "import nltk\n",
    "nltk.download('stopwords')\n",
    "nltk.download('wordnet')\n",
    "from nltk.corpus import stopwords\n",
    "from nltk.stem.wordnet import WordNetLemmatizer\n",
    "import string\n",
    "stop = set(stopwords.words('english'))\n",
    "exclude = set(string.punctuation)\n",
    "lemma = WordNetLemmatizer()\n"
   ]
  },
  {
   "cell_type": "code",
   "execution_count": 15,
   "metadata": {
    "executionInfo": {
     "elapsed": 17,
     "status": "ok",
     "timestamp": 1686983485273,
     "user": {
      "displayName": "Nisarg Gandhewar",
      "userId": "00173707501276252012"
     },
     "user_tz": -330
    },
    "id": "qQvMH3Mr1M7e"
   },
   "outputs": [],
   "source": [
    "def clean(doc):\n",
    "    stop_free = \" \".join([i for i in doc.lower().split() if i not in stop])\n",
    "    punc_free = ''.join(ch for ch in stop_free if ch not in exclude)\n",
    "    normalized = \" \".join(lemma.lemmatize(word,pos='n') for word in punc_free.split())\n",
    "    return normalized\n",
    "\n",
    "doc_clean = [clean(doc).split() for doc in doc_complete]"
   ]
  },
  {
   "cell_type": "code",
   "execution_count": 16,
   "metadata": {
    "colab": {
     "base_uri": "https://localhost:8080/"
    },
    "executionInfo": {
     "elapsed": 40,
     "status": "ok",
     "timestamp": 1686983485934,
     "user": {
      "displayName": "Nisarg Gandhewar",
      "userId": "00173707501276252012"
     },
     "user_tz": -330
    },
    "id": "H38YC3As30Ve",
    "outputId": "416d959b-bed3-4ed1-e5b5-76d5647df44e"
   },
   "outputs": [
    {
     "data": {
      "text/plain": [
       "[['playing', 'cricket', 'good', 'health'],\n",
       " ['virat', 'famous', 'indian', 'cricketer'],\n",
       " ['health', 'wealth'],\n",
       " ['cricket', 'popular', 'india'],\n",
       " ['apple', 'good', 'health'],\n",
       " ['exercise', 'neccessary', 'good', 'health'],\n",
       " ['day', 'everyone', 'paying', 'attention', 'towards', 'health']]"
      ]
     },
     "execution_count": 16,
     "metadata": {},
     "output_type": "execute_result"
    }
   ],
   "source": [
    "doc_clean"
   ]
  },
  {
   "cell_type": "code",
   "execution_count": 17,
   "metadata": {
    "executionInfo": {
     "elapsed": 37,
     "status": "ok",
     "timestamp": 1686983485935,
     "user": {
      "displayName": "Nisarg Gandhewar",
      "userId": "00173707501276252012"
     },
     "user_tz": -330
    },
    "id": "nnUzQi8k1rlQ"
   },
   "outputs": [],
   "source": [
    "# convert a corpus into a document-term matrix.\n",
    "# Importing Gensim\n",
    "import gensim\n",
    "from gensim import corpora"
   ]
  },
  {
   "cell_type": "code",
   "execution_count": 18,
   "metadata": {
    "executionInfo": {
     "elapsed": 37,
     "status": "ok",
     "timestamp": 1686983485936,
     "user": {
      "displayName": "Nisarg Gandhewar",
      "userId": "00173707501276252012"
     },
     "user_tz": -330
    },
    "id": "ie3KnJ6n1tVt"
   },
   "outputs": [],
   "source": [
    "# Creating the term dictionary of our courpus, where every unique term is assigned an index.\n",
    "dictionary = corpora.Dictionary(doc_clean)"
   ]
  },
  {
   "cell_type": "code",
   "execution_count": 19,
   "metadata": {
    "colab": {
     "base_uri": "https://localhost:8080/"
    },
    "executionInfo": {
     "elapsed": 36,
     "status": "ok",
     "timestamp": 1686983485937,
     "user": {
      "displayName": "Nisarg Gandhewar",
      "userId": "00173707501276252012"
     },
     "user_tz": -330
    },
    "id": "Kh-Z4EnB4Ous",
    "outputId": "7a1bde33-035e-4893-b5a4-548412eaed46"
   },
   "outputs": [
    {
     "name": "stdout",
     "output_type": "stream",
     "text": [
      "Dictionary<19 unique tokens: ['cricket', 'good', 'health', 'playing', 'cricketer']...>\n"
     ]
    }
   ],
   "source": [
    "print(dictionary)"
   ]
  },
  {
   "cell_type": "code",
   "execution_count": 20,
   "metadata": {
    "colab": {
     "base_uri": "https://localhost:8080/"
    },
    "executionInfo": {
     "elapsed": 28,
     "status": "ok",
     "timestamp": 1686983485938,
     "user": {
      "displayName": "Nisarg Gandhewar",
      "userId": "00173707501276252012"
     },
     "user_tz": -330
    },
    "id": "HgANZeQE4Usi",
    "outputId": "9c0e487e-505d-483b-b9a9-2cfde6540ab1"
   },
   "outputs": [
    {
     "name": "stdout",
     "output_type": "stream",
     "text": [
      "{'cricket': 0, 'good': 1, 'health': 2, 'playing': 3, 'cricketer': 4, 'famous': 5, 'indian': 6, 'virat': 7, 'wealth': 8, 'india': 9, 'popular': 10, 'apple': 11, 'exercise': 12, 'neccessary': 13, 'attention': 14, 'day': 15, 'everyone': 16, 'paying': 17, 'towards': 18}\n"
     ]
    }
   ],
   "source": [
    "# get the integer id\n",
    "print(dictionary.token2id)"
   ]
  },
  {
   "cell_type": "code",
   "execution_count": 21,
   "metadata": {
    "executionInfo": {
     "elapsed": 23,
     "status": "ok",
     "timestamp": 1686983485939,
     "user": {
      "displayName": "Nisarg Gandhewar",
      "userId": "00173707501276252012"
     },
     "user_tz": -330
    },
    "id": "WGENfho110Vw"
   },
   "outputs": [],
   "source": [
    "# Converting list of documents (corpus) into Document Term Matrix using dictionary prepared above.\n",
    "doc_term_matrix = [dictionary.doc2bow(doc) for doc in doc_clean]"
   ]
  },
  {
   "cell_type": "code",
   "execution_count": 22,
   "metadata": {
    "colab": {
     "base_uri": "https://localhost:8080/"
    },
    "executionInfo": {
     "elapsed": 23,
     "status": "ok",
     "timestamp": 1686983485940,
     "user": {
      "displayName": "Nisarg Gandhewar",
      "userId": "00173707501276252012"
     },
     "user_tz": -330
    },
    "id": "OJpRjeyu4fO0",
    "outputId": "bbb69f39-bb4b-4382-cf35-ee103ed0f45f"
   },
   "outputs": [
    {
     "name": "stdout",
     "output_type": "stream",
     "text": [
      "[[(0, 1), (1, 1), (2, 1), (3, 1)], [(4, 1), (5, 1), (6, 1), (7, 1)], [(2, 1), (8, 1)], [(0, 1), (9, 1), (10, 1)], [(1, 1), (2, 1), (11, 1)], [(1, 1), (2, 1), (12, 1), (13, 1)], [(2, 1), (14, 1), (15, 1), (16, 1), (17, 1), (18, 1)]]\n"
     ]
    }
   ],
   "source": [
    "print(doc_term_matrix)"
   ]
  },
  {
   "cell_type": "code",
   "execution_count": 23,
   "metadata": {
    "executionInfo": {
     "elapsed": 17,
     "status": "ok",
     "timestamp": 1686983485941,
     "user": {
      "displayName": "Nisarg Gandhewar",
      "userId": "00173707501276252012"
     },
     "user_tz": -330
    },
    "id": "thwjLraM17SM"
   },
   "outputs": [],
   "source": [
    "# Creating the object for LDA model using gensim library\n",
    "Lda = gensim.models.ldamodel.LdaModel"
   ]
  },
  {
   "cell_type": "code",
   "execution_count": 24,
   "metadata": {
    "executionInfo": {
     "elapsed": 28,
     "status": "ok",
     "timestamp": 1686983486640,
     "user": {
      "displayName": "Nisarg Gandhewar",
      "userId": "00173707501276252012"
     },
     "user_tz": -330
    },
    "id": "a6Q_DtVu2ARM"
   },
   "outputs": [],
   "source": [
    "# Running and Trainign LDA model on the document term matrix.\n",
    "ldamodel = Lda(doc_term_matrix, num_topics=2, id2word = dictionary, passes=50)\n",
    "# Passes= Number of passes through the corpus during training\n",
    "# id2word= It is used to determine the vocabulary size"
   ]
  },
  {
   "cell_type": "code",
   "execution_count": 26,
   "metadata": {
    "colab": {
     "base_uri": "https://localhost:8080/"
    },
    "executionInfo": {
     "elapsed": 26,
     "status": "ok",
     "timestamp": 1686983486643,
     "user": {
      "displayName": "Nisarg Gandhewar",
      "userId": "00173707501276252012"
     },
     "user_tz": -330
    },
    "id": "zlasQIPQ2T5D",
    "outputId": "8c5aa592-a9b3-424a-874b-17e8d89f7965"
   },
   "outputs": [
    {
     "name": "stdout",
     "output_type": "stream",
     "text": [
      "Topic: 0 \n",
      "Words: ['good', 'health', 'cricket', 'virat']\n",
      "\n",
      "\n",
      "Topic: 1 \n",
      "Words: ['health', 'everyone', 'day', 'paying']\n",
      "\n",
      "\n"
     ]
    }
   ],
   "source": [
    "# show the first 10 words belonging to each topic\n",
    "for idx, topic in ldamodel.show_topics(formatted=False,num_words= 4):\n",
    "  print('Topic: {} \\nWords: {}'.format(idx, [w[0] for w in topic]))\n",
    "  print(\"\\n\")"
   ]
  }
 ],
 "metadata": {
  "colab": {
   "authorship_tag": "ABX9TyOPFDb1LgQOULiOoXNk+it9",
   "provenance": []
  },
  "kernelspec": {
   "display_name": "Python 3 (ipykernel)",
   "language": "python",
   "name": "python3"
  },
  "language_info": {
   "codemirror_mode": {
    "name": "ipython",
    "version": 3
   },
   "file_extension": ".py",
   "mimetype": "text/x-python",
   "name": "python",
   "nbconvert_exporter": "python",
   "pygments_lexer": "ipython3",
   "version": "3.11.3"
  }
 },
 "nbformat": 4,
 "nbformat_minor": 1
}
