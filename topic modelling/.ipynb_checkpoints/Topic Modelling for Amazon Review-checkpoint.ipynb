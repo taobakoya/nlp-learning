{
 "cells": [
  {
   "cell_type": "markdown",
   "metadata": {
    "id": "PugaKI32KGgX"
   },
   "source": [
    "# Case Study: Topic Modelling for Amazon Review\n",
    "Objective: A mobile company wants to understand the voice of the customer by analyzing the reviews of their product on Amazon and the topics that customers are talking about.\n",
    "# Tasks -\n",
    "\n",
    "1. Normalize case\n",
    "2. Tokenize (using word_tokenize from NLTK)\n",
    "3. POS tagging using the NLTK pos tagger\n",
    "4. For the topic model, we would want to include only nouns\n",
    " - First, find out all the POS tags that correspond to nouns\n",
    "5. Lemmatize (you want different forms of the terms to be treated as one, don't worry about providing POS tag to lemmatizer for now)\n",
    "6. Remove stop words and punctuation\n",
    "7. Create a topic model using LDA on the cleaned up data with 10 topics\n",
    " - choose the topic model parameters carefully\n",
    " - what is the coherence of the model?\n",
    "8. Analyze the topics, which pairs of topics can be combined?\n",
    "9. Create topic model using LDA with what you think is the optimal number of topics\n",
    " - choose the topic model parameters carefully\n",
    " - is the coherence better now?\n",
    "10. The business finally needs to be able to interpret the topics\n",
    " - name each of the identified topics\n",
    " - create a table with the topic name and the top 10 terms in each to present to business"
   ]
  },
  {
   "cell_type": "markdown",
   "metadata": {
    "id": "sI7cj1kvKGgn"
   },
   "source": [
    "#### Some code to get you started"
   ]
  },
  {
   "cell_type": "code",
   "execution_count": 1,
   "metadata": {
    "executionInfo": {
     "elapsed": 2682,
     "status": "ok",
     "timestamp": 1686987631456,
     "user": {
      "displayName": "Nisarg Gandhewar",
      "userId": "00173707501276252012"
     },
     "user_tz": -330
    },
    "id": "9UxKo-A8KGgn"
   },
   "outputs": [],
   "source": [
    "import warnings\n",
    "warnings.filterwarnings(\"ignore\")\n",
    "\n",
    "# Importing the usual utilities\n",
    "import numpy as np, pandas as pd\n",
    "import re, random, os, string\n",
    "\n",
    "from pprint import pprint #pretty print\n",
    "\n",
    "from nltk.tokenize import word_tokenize\n",
    "from nltk.stem import WordNetLemmatizer"
   ]
  },
  {
   "cell_type": "markdown",
   "metadata": {
    "id": "82dPqzxyKGgp"
   },
   "source": [
    "#### Reading in the reviews file"
   ]
  },
  {
   "cell_type": "code",
   "execution_count": 2,
   "metadata": {
    "colab": {
     "base_uri": "https://localhost:8080/",
     "height": 206
    },
    "executionInfo": {
     "elapsed": 28,
     "status": "ok",
     "timestamp": 1686987631457,
     "user": {
      "displayName": "Nisarg Gandhewar",
      "userId": "00173707501276252012"
     },
     "user_tz": -330
    },
    "id": "4mHBMbN5KGgp",
    "outputId": "e0b9d308-5af5-412d-e5c6-a2d90f60669c"
   },
   "outputs": [
    {
     "data": {
      "text/html": [
       "\n",
       "  <div id=\"df-2d3124cd-8ec8-4fc0-90bb-52dc7c1aa4f5\">\n",
       "    <div class=\"colab-df-container\">\n",
       "      <div>\n",
       "<style scoped>\n",
       "    .dataframe tbody tr th:only-of-type {\n",
       "        vertical-align: middle;\n",
       "    }\n",
       "\n",
       "    .dataframe tbody tr th {\n",
       "        vertical-align: top;\n",
       "    }\n",
       "\n",
       "    .dataframe thead th {\n",
       "        text-align: right;\n",
       "    }\n",
       "</style>\n",
       "<table border=\"1\" class=\"dataframe\">\n",
       "  <thead>\n",
       "    <tr style=\"text-align: right;\">\n",
       "      <th></th>\n",
       "      <th>sentiment</th>\n",
       "      <th>review</th>\n",
       "    </tr>\n",
       "  </thead>\n",
       "  <tbody>\n",
       "    <tr>\n",
       "      <th>0</th>\n",
       "      <td>1</td>\n",
       "      <td>Good but need updates and improvements</td>\n",
       "    </tr>\n",
       "    <tr>\n",
       "      <th>1</th>\n",
       "      <td>0</td>\n",
       "      <td>Worst mobile i have bought ever, Battery is dr...</td>\n",
       "    </tr>\n",
       "    <tr>\n",
       "      <th>2</th>\n",
       "      <td>1</td>\n",
       "      <td>when I will get my 10% cash back.... its alrea...</td>\n",
       "    </tr>\n",
       "    <tr>\n",
       "      <th>3</th>\n",
       "      <td>1</td>\n",
       "      <td>Good</td>\n",
       "    </tr>\n",
       "    <tr>\n",
       "      <th>4</th>\n",
       "      <td>0</td>\n",
       "      <td>The worst phone everThey have changed the last...</td>\n",
       "    </tr>\n",
       "  </tbody>\n",
       "</table>\n",
       "</div>\n",
       "      <button class=\"colab-df-convert\" onclick=\"convertToInteractive('df-2d3124cd-8ec8-4fc0-90bb-52dc7c1aa4f5')\"\n",
       "              title=\"Convert this dataframe to an interactive table.\"\n",
       "              style=\"display:none;\">\n",
       "        \n",
       "  <svg xmlns=\"http://www.w3.org/2000/svg\" height=\"24px\"viewBox=\"0 0 24 24\"\n",
       "       width=\"24px\">\n",
       "    <path d=\"M0 0h24v24H0V0z\" fill=\"none\"/>\n",
       "    <path d=\"M18.56 5.44l.94 2.06.94-2.06 2.06-.94-2.06-.94-.94-2.06-.94 2.06-2.06.94zm-11 1L8.5 8.5l.94-2.06 2.06-.94-2.06-.94L8.5 2.5l-.94 2.06-2.06.94zm10 10l.94 2.06.94-2.06 2.06-.94-2.06-.94-.94-2.06-.94 2.06-2.06.94z\"/><path d=\"M17.41 7.96l-1.37-1.37c-.4-.4-.92-.59-1.43-.59-.52 0-1.04.2-1.43.59L10.3 9.45l-7.72 7.72c-.78.78-.78 2.05 0 2.83L4 21.41c.39.39.9.59 1.41.59.51 0 1.02-.2 1.41-.59l7.78-7.78 2.81-2.81c.8-.78.8-2.07 0-2.86zM5.41 20L4 18.59l7.72-7.72 1.47 1.35L5.41 20z\"/>\n",
       "  </svg>\n",
       "      </button>\n",
       "      \n",
       "  <style>\n",
       "    .colab-df-container {\n",
       "      display:flex;\n",
       "      flex-wrap:wrap;\n",
       "      gap: 12px;\n",
       "    }\n",
       "\n",
       "    .colab-df-convert {\n",
       "      background-color: #E8F0FE;\n",
       "      border: none;\n",
       "      border-radius: 50%;\n",
       "      cursor: pointer;\n",
       "      display: none;\n",
       "      fill: #1967D2;\n",
       "      height: 32px;\n",
       "      padding: 0 0 0 0;\n",
       "      width: 32px;\n",
       "    }\n",
       "\n",
       "    .colab-df-convert:hover {\n",
       "      background-color: #E2EBFA;\n",
       "      box-shadow: 0px 1px 2px rgba(60, 64, 67, 0.3), 0px 1px 3px 1px rgba(60, 64, 67, 0.15);\n",
       "      fill: #174EA6;\n",
       "    }\n",
       "\n",
       "    [theme=dark] .colab-df-convert {\n",
       "      background-color: #3B4455;\n",
       "      fill: #D2E3FC;\n",
       "    }\n",
       "\n",
       "    [theme=dark] .colab-df-convert:hover {\n",
       "      background-color: #434B5C;\n",
       "      box-shadow: 0px 1px 3px 1px rgba(0, 0, 0, 0.15);\n",
       "      filter: drop-shadow(0px 1px 2px rgba(0, 0, 0, 0.3));\n",
       "      fill: #FFFFFF;\n",
       "    }\n",
       "  </style>\n",
       "\n",
       "      <script>\n",
       "        const buttonEl =\n",
       "          document.querySelector('#df-2d3124cd-8ec8-4fc0-90bb-52dc7c1aa4f5 button.colab-df-convert');\n",
       "        buttonEl.style.display =\n",
       "          google.colab.kernel.accessAllowed ? 'block' : 'none';\n",
       "\n",
       "        async function convertToInteractive(key) {\n",
       "          const element = document.querySelector('#df-2d3124cd-8ec8-4fc0-90bb-52dc7c1aa4f5');\n",
       "          const dataTable =\n",
       "            await google.colab.kernel.invokeFunction('convertToInteractive',\n",
       "                                                     [key], {});\n",
       "          if (!dataTable) return;\n",
       "\n",
       "          const docLinkHtml = 'Like what you see? Visit the ' +\n",
       "            '<a target=\"_blank\" href=https://colab.research.google.com/notebooks/data_table.ipynb>data table notebook</a>'\n",
       "            + ' to learn more about interactive tables.';\n",
       "          element.innerHTML = '';\n",
       "          dataTable['output_type'] = 'display_data';\n",
       "          await google.colab.output.renderOutput(dataTable, element);\n",
       "          const docLink = document.createElement('div');\n",
       "          docLink.innerHTML = docLinkHtml;\n",
       "          element.appendChild(docLink);\n",
       "        }\n",
       "      </script>\n",
       "    </div>\n",
       "  </div>\n",
       "  "
      ],
      "text/plain": [
       "   sentiment                                             review\n",
       "0          1             Good but need updates and improvements\n",
       "1          0  Worst mobile i have bought ever, Battery is dr...\n",
       "2          1  when I will get my 10% cash back.... its alrea...\n",
       "3          1                                               Good\n",
       "4          0  The worst phone everThey have changed the last..."
      ]
     },
     "execution_count": 2,
     "metadata": {},
     "output_type": "execute_result"
    }
   ],
   "source": [
    "# Import the dataset\n",
    "reviews = pd.read_csv(\"K8 Reviews v0.2.csv\")\n",
    "reviews.head()"
   ]
  },
  {
   "cell_type": "markdown",
   "metadata": {
    "id": "QV2XT33fKGgq"
   },
   "source": [
    "## Task 1. Normalize case"
   ]
  },
  {
   "cell_type": "code",
   "execution_count": 3,
   "metadata": {
    "colab": {
     "base_uri": "https://localhost:8080/",
     "height": 35
    },
    "executionInfo": {
     "elapsed": 26,
     "status": "ok",
     "timestamp": 1686987631458,
     "user": {
      "displayName": "Nisarg Gandhewar",
      "userId": "00173707501276252012"
     },
     "user_tz": -330
    },
    "id": "YXpuW7N2KGgq",
    "outputId": "a961c8cc-ed36-41a0-f576-f5049cc50d02"
   },
   "outputs": [
    {
     "data": {
      "application/vnd.google.colaboratory.intrinsic+json": {
       "type": "string"
      },
      "text/plain": [
       "'good but need updates and improvements'"
      ]
     },
     "execution_count": 3,
     "metadata": {},
     "output_type": "execute_result"
    }
   ],
   "source": [
    "reviews_lower = [sent.lower() for sent in reviews.review.values]\n",
    "reviews_lower[0]"
   ]
  },
  {
   "cell_type": "markdown",
   "metadata": {
    "id": "2IojJ8kaKGgr"
   },
   "source": [
    "## Task 2. Tokenize (using word_tokenize from NLTK)"
   ]
  },
  {
   "cell_type": "code",
   "execution_count": 4,
   "metadata": {
    "colab": {
     "base_uri": "https://localhost:8080/"
    },
    "executionInfo": {
     "elapsed": 4747,
     "status": "ok",
     "timestamp": 1686987636181,
     "user": {
      "displayName": "Nisarg Gandhewar",
      "userId": "00173707501276252012"
     },
     "user_tz": -330
    },
    "id": "wYVbFDNmKGgr",
    "outputId": "8437fb2f-64e8-411b-de98-1c66124a6359"
   },
   "outputs": [
    {
     "name": "stderr",
     "output_type": "stream",
     "text": [
      "[nltk_data] Downloading package punkt to /root/nltk_data...\n",
      "[nltk_data]   Package punkt is already up-to-date!\n"
     ]
    },
    {
     "data": {
      "text/plain": [
       "['good', 'but', 'need', 'updates', 'and', 'improvements']"
      ]
     },
     "execution_count": 4,
     "metadata": {},
     "output_type": "execute_result"
    }
   ],
   "source": [
    "import nltk\n",
    "nltk.download('punkt')\n",
    "\n",
    "reviews_token = [word_tokenize(sent) for sent in reviews_lower]\n",
    "reviews_token[0]"
   ]
  },
  {
   "cell_type": "markdown",
   "metadata": {
    "id": "d94a6OxGKGgr"
   },
   "source": [
    "## Task 3. POS tagging using the NLTK pos tagger"
   ]
  },
  {
   "cell_type": "markdown",
   "metadata": {
    "id": "Xvz0OoIoKGgs"
   },
   "source": [
    "Check out the POS tagging chapter from the NLTK book\n",
    "\n",
    "http://www.nltk.org/book/ch05.html\n",
    "\n",
    "Examples -"
   ]
  },
  {
   "cell_type": "code",
   "execution_count": 5,
   "metadata": {
    "colab": {
     "base_uri": "https://localhost:8080/"
    },
    "executionInfo": {
     "elapsed": 51,
     "status": "ok",
     "timestamp": 1686987636182,
     "user": {
      "displayName": "Nisarg Gandhewar",
      "userId": "00173707501276252012"
     },
     "user_tz": -330
    },
    "id": "CJuvtqsIKGgs",
    "outputId": "034ae2fd-2f36-46d3-aea6-b3161692714d"
   },
   "outputs": [
    {
     "name": "stderr",
     "output_type": "stream",
     "text": [
      "[nltk_data] Downloading package averaged_perceptron_tagger to\n",
      "[nltk_data]     /root/nltk_data...\n",
      "[nltk_data]   Package averaged_perceptron_tagger is already up-to-\n",
      "[nltk_data]       date!\n"
     ]
    },
    {
     "data": {
      "text/plain": [
       "True"
      ]
     },
     "execution_count": 5,
     "metadata": {},
     "output_type": "execute_result"
    }
   ],
   "source": [
    "import nltk\n",
    "nltk.download('averaged_perceptron_tagger')"
   ]
  },
  {
   "cell_type": "code",
   "execution_count": 6,
   "metadata": {
    "colab": {
     "base_uri": "https://localhost:8080/"
    },
    "executionInfo": {
     "elapsed": 46,
     "status": "ok",
     "timestamp": 1686987636183,
     "user": {
      "displayName": "Nisarg Gandhewar",
      "userId": "00173707501276252012"
     },
     "user_tz": -330
    },
    "id": "S4KM62hvUqjS",
    "outputId": "606fb2ca-3166-4b63-94cd-e595b02dcdf0"
   },
   "outputs": [
    {
     "name": "stdout",
     "output_type": "stream",
     "text": [
      "(: opening parenthesis\n",
      "    (\n",
      "): closing parenthesis\n",
      "    )\n",
      "*: negator\n",
      "    not n't\n",
      ",: comma\n",
      "    ,\n",
      "--: dash\n",
      "    --\n",
      ".: sentence terminator\n",
      "    . ? ; ! :\n",
      ":: colon\n",
      "    :\n",
      "ABL: determiner/pronoun, pre-qualifier\n",
      "    quite such rather\n",
      "ABN: determiner/pronoun, pre-quantifier\n",
      "    all half many nary\n",
      "ABX: determiner/pronoun, double conjunction or pre-quantifier\n",
      "    both\n",
      "AP: determiner/pronoun, post-determiner\n",
      "    many other next more last former little several enough most least only\n",
      "    very few fewer past same Last latter less single plenty 'nough lesser\n",
      "    certain various manye next-to-last particular final previous present\n",
      "    nuf\n",
      "AP$: determiner/pronoun, post-determiner, genitive\n",
      "    other's\n",
      "AP+AP: determiner/pronoun, post-determiner, hyphenated pair\n",
      "    many-much\n",
      "AT: article\n",
      "    the an no a every th' ever' ye\n",
      "BE: verb 'to be', infinitive or imperative\n",
      "    be\n",
      "BED: verb 'to be', past tense, 2nd person singular or all persons plural\n",
      "    were\n",
      "BED*: verb 'to be', past tense, 2nd person singular or all persons plural, negated\n",
      "    weren't\n",
      "BEDZ: verb 'to be', past tense, 1st and 3rd person singular\n",
      "    was\n",
      "BEDZ*: verb 'to be', past tense, 1st and 3rd person singular, negated\n",
      "    wasn't\n",
      "BEG: verb 'to be', present participle or gerund\n",
      "    being\n",
      "BEM: verb 'to be', present tense, 1st person singular\n",
      "    am\n",
      "BEM*: verb 'to be', present tense, 1st person singular, negated\n",
      "    ain't\n",
      "BEN: verb 'to be', past participle\n",
      "    been\n",
      "BER: verb 'to be', present tense, 2nd person singular or all persons plural\n",
      "    are art\n",
      "BER*: verb 'to be', present tense, 2nd person singular or all persons plural, negated\n",
      "    aren't ain't\n",
      "BEZ: verb 'to be', present tense, 3rd person singular\n",
      "    is\n",
      "BEZ*: verb 'to be', present tense, 3rd person singular, negated\n",
      "    isn't ain't\n",
      "CC: conjunction, coordinating\n",
      "    and or but plus & either neither nor yet 'n' and/or minus an'\n",
      "CD: numeral, cardinal\n",
      "    two one 1 four 2 1913 71 74 637 1937 8 five three million 87-31 29-5\n",
      "    seven 1,119 fifty-three 7.5 billion hundred 125,000 1,700 60 100 six\n",
      "    ...\n",
      "CD$: numeral, cardinal, genitive\n",
      "    1960's 1961's .404's\n",
      "CS: conjunction, subordinating\n",
      "    that as after whether before while like because if since for than altho\n",
      "    until so unless though providing once lest s'posin' till whereas\n",
      "    whereupon supposing tho' albeit then so's 'fore\n",
      "DO: verb 'to do', uninflected present tense, infinitive or imperative\n",
      "    do dost\n",
      "DO*: verb 'to do', uninflected present tense or imperative, negated\n",
      "    don't\n",
      "DO+PPSS: verb 'to do', past or present tense + pronoun, personal, nominative, not 3rd person singular\n",
      "    d'you\n",
      "DOD: verb 'to do', past tense\n",
      "    did done\n",
      "DOD*: verb 'to do', past tense, negated\n",
      "    didn't\n",
      "DOZ: verb 'to do', present tense, 3rd person singular\n",
      "    does\n",
      "DOZ*: verb 'to do', present tense, 3rd person singular, negated\n",
      "    doesn't don't\n",
      "DT: determiner/pronoun, singular\n",
      "    this each another that 'nother\n",
      "DT$: determiner/pronoun, singular, genitive\n",
      "    another's\n",
      "DT+BEZ: determiner/pronoun + verb 'to be', present tense, 3rd person singular\n",
      "    that's\n",
      "DT+MD: determiner/pronoun + modal auxillary\n",
      "    that'll this'll\n",
      "DTI: determiner/pronoun, singular or plural\n",
      "    any some\n",
      "DTS: determiner/pronoun, plural\n",
      "    these those them\n",
      "DTS+BEZ: pronoun, plural + verb 'to be', present tense, 3rd person singular\n",
      "    them's\n",
      "DTX: determiner, pronoun or double conjunction\n",
      "    neither either one\n",
      "EX: existential there\n",
      "    there\n",
      "EX+BEZ: existential there + verb 'to be', present tense, 3rd person singular\n",
      "    there's\n",
      "EX+HVD: existential there + verb 'to have', past tense\n",
      "    there'd\n",
      "EX+HVZ: existential there + verb 'to have', present tense, 3rd person singular\n",
      "    there's\n",
      "EX+MD: existential there + modal auxillary\n",
      "    there'll there'd\n",
      "FW-*: foreign word: negator\n",
      "    pas non ne\n",
      "FW-AT: foreign word: article\n",
      "    la le el un die der ein keine eine das las les Il\n",
      "FW-AT+NN: foreign word: article + noun, singular, common\n",
      "    l'orchestre l'identite l'arcade l'ange l'assistance l'activite\n",
      "    L'Universite l'independance L'Union L'Unita l'osservatore\n",
      "FW-AT+NP: foreign word: article + noun, singular, proper\n",
      "    L'Astree L'Imperiale\n",
      "FW-BE: foreign word: verb 'to be', infinitive or imperative\n",
      "    sit\n",
      "FW-BER: foreign word: verb 'to be', present tense, 2nd person singular or all persons plural\n",
      "    sind sunt etes\n",
      "FW-BEZ: foreign word: verb 'to be', present tense, 3rd person singular\n",
      "    ist est\n",
      "FW-CC: foreign word: conjunction, coordinating\n",
      "    et ma mais und aber och nec y\n",
      "FW-CD: foreign word: numeral, cardinal\n",
      "    une cinq deux sieben unam zwei\n",
      "FW-CS: foreign word: conjunction, subordinating\n",
      "    bevor quam ma\n",
      "FW-DT: foreign word: determiner/pronoun, singular\n",
      "    hoc\n",
      "FW-DT+BEZ: foreign word: determiner + verb 'to be', present tense, 3rd person singular\n",
      "    c'est\n",
      "FW-DTS: foreign word: determiner/pronoun, plural\n",
      "    haec\n",
      "FW-HV: foreign word: verb 'to have', present tense, not 3rd person singular\n",
      "    habe\n",
      "FW-IN: foreign word: preposition\n",
      "    ad de en a par con dans ex von auf super post sine sur sub avec per\n",
      "    inter sans pour pendant in di\n",
      "FW-IN+AT: foreign word: preposition + article\n",
      "    della des du aux zur d'un del dell'\n",
      "FW-IN+NN: foreign word: preposition + noun, singular, common\n",
      "    d'etat d'hotel d'argent d'identite d'art\n",
      "FW-IN+NP: foreign word: preposition + noun, singular, proper\n",
      "    d'Yquem d'Eiffel\n",
      "FW-JJ: foreign word: adjective\n",
      "    avant Espagnol sinfonica Siciliana Philharmonique grand publique haute\n",
      "    noire bouffe Douce meme humaine bel serieuses royaux anticus presto\n",
      "    Sovietskaya Bayerische comique schwarzen ...\n",
      "FW-JJR: foreign word: adjective, comparative\n",
      "    fortiori\n",
      "FW-JJT: foreign word: adjective, superlative\n",
      "    optimo\n",
      "FW-NN: foreign word: noun, singular, common\n",
      "    ballet esprit ersatz mano chatte goutte sang Fledermaus oud def kolkhoz\n",
      "    roi troika canto boite blutwurst carne muzyka bonheur monde piece force\n",
      "    ...\n",
      "FW-NN$: foreign word: noun, singular, common, genitive\n",
      "    corporis intellectus arte's dei aeternitatis senioritatis curiae\n",
      "    patronne's chambre's\n",
      "FW-NNS: foreign word: noun, plural, common\n",
      "    al culpas vopos boites haflis kolkhozes augen tyrannis alpha-beta-\n",
      "    gammas metis banditos rata phis negociants crus Einsatzkommandos\n",
      "    kamikaze wohaws sabinas zorrillas palazzi engages coureurs corroborees\n",
      "    yori Ubermenschen ...\n",
      "FW-NP: foreign word: noun, singular, proper\n",
      "    Karshilama Dieu Rundfunk Afrique Espanol Afrika Spagna Gott Carthago\n",
      "    deus\n",
      "FW-NPS: foreign word: noun, plural, proper\n",
      "    Svenskarna Atlantes Dieux\n",
      "FW-NR: foreign word: noun, singular, adverbial\n",
      "    heute morgen aujourd'hui hoy\n",
      "FW-OD: foreign word: numeral, ordinal\n",
      "    18e 17e quintus\n",
      "FW-PN: foreign word: pronoun, nominal\n",
      "    hoc\n",
      "FW-PP$: foreign word: determiner, possessive\n",
      "    mea mon deras vos\n",
      "FW-PPL: foreign word: pronoun, singular, reflexive\n",
      "    se\n",
      "FW-PPL+VBZ: foreign word: pronoun, singular, reflexive + verb, present tense, 3rd person singular\n",
      "    s'excuse s'accuse\n",
      "FW-PPO: pronoun, personal, accusative\n",
      "    lui me moi mi\n",
      "FW-PPO+IN: foreign word: pronoun, personal, accusative + preposition\n",
      "    mecum tecum\n",
      "FW-PPS: foreign word: pronoun, personal, nominative, 3rd person singular\n",
      "    il\n",
      "FW-PPSS: foreign word: pronoun, personal, nominative, not 3rd person singular\n",
      "    ich vous sie je\n",
      "FW-PPSS+HV: foreign word: pronoun, personal, nominative, not 3rd person singular + verb 'to have', present tense, not 3rd person singular\n",
      "    j'ai\n",
      "FW-QL: foreign word: qualifier\n",
      "    minus\n",
      "FW-RB: foreign word: adverb\n",
      "    bas assai deja um wiederum cito velociter vielleicht simpliciter non zu\n",
      "    domi nuper sic forsan olim oui semper tout despues hors\n",
      "FW-RB+CC: foreign word: adverb + conjunction, coordinating\n",
      "    forisque\n",
      "FW-TO+VB: foreign word: infinitival to + verb, infinitive\n",
      "    d'entretenir\n",
      "FW-UH: foreign word: interjection\n",
      "    sayonara bien adieu arigato bonjour adios bueno tchalo ciao o\n",
      "FW-VB: foreign word: verb, present tense, not 3rd person singular, imperative or infinitive\n",
      "    nolo contendere vive fermate faciunt esse vade noli tangere dites duces\n",
      "    meminisse iuvabit gosaimasu voulez habla ksu'u'peli'afo lacheln miuchi\n",
      "    say allons strafe portant\n",
      "FW-VBD: foreign word: verb, past tense\n",
      "    stabat peccavi audivi\n",
      "FW-VBG: foreign word: verb, present participle or gerund\n",
      "    nolens volens appellant seq. obliterans servanda dicendi delenda\n",
      "FW-VBN: foreign word: verb, past participle\n",
      "    vue verstrichen rasa verboten engages\n",
      "FW-VBZ: foreign word: verb, present tense, 3rd person singular\n",
      "    gouverne sinkt sigue diapiace\n",
      "FW-WDT: foreign word: WH-determiner\n",
      "    quo qua quod que quok\n",
      "FW-WPO: foreign word: WH-pronoun, accusative\n",
      "    quibusdam\n",
      "FW-WPS: foreign word: WH-pronoun, nominative\n",
      "    qui\n",
      "HV: verb 'to have', uninflected present tense, infinitive or imperative\n",
      "    have hast\n",
      "HV*: verb 'to have', uninflected present tense or imperative, negated\n",
      "    haven't ain't\n",
      "HV+TO: verb 'to have', uninflected present tense + infinitival to\n",
      "    hafta\n",
      "HVD: verb 'to have', past tense\n",
      "    had\n",
      "HVD*: verb 'to have', past tense, negated\n",
      "    hadn't\n",
      "HVG: verb 'to have', present participle or gerund\n",
      "    having\n",
      "HVN: verb 'to have', past participle\n",
      "    had\n",
      "HVZ: verb 'to have', present tense, 3rd person singular\n",
      "    has hath\n",
      "HVZ*: verb 'to have', present tense, 3rd person singular, negated\n",
      "    hasn't ain't\n",
      "IN: preposition\n",
      "    of in for by considering to on among at through with under into\n",
      "    regarding than since despite according per before toward against as\n",
      "    after during including between without except upon out over ...\n",
      "IN+IN: preposition, hyphenated pair\n",
      "    f'ovuh\n",
      "IN+PPO: preposition + pronoun, personal, accusative\n",
      "    t'hi-im\n",
      "JJ: adjective\n",
      "    ecent over-all possible hard-fought favorable hard meager fit such\n",
      "    widespread outmoded inadequate ambiguous grand clerical effective\n",
      "    orderly federal foster general proportionate ...\n",
      "JJ$: adjective, genitive\n",
      "    Great's\n",
      "JJ+JJ: adjective, hyphenated pair\n",
      "    big-large long-far\n",
      "JJR: adjective, comparative\n",
      "    greater older further earlier later freer franker wider better deeper\n",
      "    firmer tougher faster higher bigger worse younger lighter nicer slower\n",
      "    happier frothier Greater newer Elder ...\n",
      "JJR+CS: adjective + conjunction, coordinating\n",
      "    lighter'n\n",
      "JJS: adjective, semantically superlative\n",
      "    top chief principal northernmost master key head main tops utmost\n",
      "    innermost foremost uppermost paramount topmost\n",
      "JJT: adjective, superlative\n",
      "    best largest coolest calmest latest greatest earliest simplest\n",
      "    strongest newest fiercest unhappiest worst youngest worthiest fastest\n",
      "    hottest fittest lowest finest smallest staunchest ...\n",
      "MD: modal auxillary\n",
      "    should may might will would must can could shall ought need wilt\n",
      "MD*: modal auxillary, negated\n",
      "    cannot couldn't wouldn't can't won't shouldn't shan't mustn't musn't\n",
      "MD+HV: modal auxillary + verb 'to have', uninflected form\n",
      "    shouldda musta coulda must've woulda could've\n",
      "MD+PPSS: modal auxillary + pronoun, personal, nominative, not 3rd person singular\n",
      "    willya\n",
      "MD+TO: modal auxillary + infinitival to\n",
      "    oughta\n",
      "NN: noun, singular, common\n",
      "    failure burden court fire appointment awarding compensation Mayor\n",
      "    interim committee fact effect airport management surveillance jail\n",
      "    doctor intern extern night weekend duty legislation Tax Office ...\n",
      "NN$: noun, singular, common, genitive\n",
      "    season's world's player's night's chapter's golf's football's\n",
      "    baseball's club's U.'s coach's bride's bridegroom's board's county's\n",
      "    firm's company's superintendent's mob's Navy's ...\n",
      "NN+BEZ: noun, singular, common + verb 'to be', present tense, 3rd person singular\n",
      "    water's camera's sky's kid's Pa's heat's throat's father's money's\n",
      "    undersecretary's granite's level's wife's fat's Knife's fire's name's\n",
      "    hell's leg's sun's roulette's cane's guy's kind's baseball's ...\n",
      "NN+HVD: noun, singular, common + verb 'to have', past tense\n",
      "    Pa'd\n",
      "NN+HVZ: noun, singular, common + verb 'to have', present tense, 3rd person singular\n",
      "    guy's Knife's boat's summer's rain's company's\n",
      "NN+IN: noun, singular, common + preposition\n",
      "    buncha\n",
      "NN+MD: noun, singular, common + modal auxillary\n",
      "    cowhand'd sun'll\n",
      "NN+NN: noun, singular, common, hyphenated pair\n",
      "    stomach-belly\n",
      "NNS: noun, plural, common\n",
      "    irregularities presentments thanks reports voters laws legislators\n",
      "    years areas adjustments chambers $100 bonds courts sales details raises\n",
      "    sessions members congressmen votes polls calls ...\n",
      "NNS$: noun, plural, common, genitive\n",
      "    taxpayers' children's members' States' women's cutters' motorists'\n",
      "    steelmakers' hours' Nations' lawyers' prisoners' architects' tourists'\n",
      "    Employers' secretaries' Rogues' ...\n",
      "NNS+MD: noun, plural, common + modal auxillary\n",
      "    duds'd oystchers'll\n",
      "NP: noun, singular, proper\n",
      "    Fulton Atlanta September-October Durwood Pye Ivan Allen Jr. Jan.\n",
      "    Alpharetta Grady William B. Hartsfield Pearl Williams Aug. Berry J. M.\n",
      "    Cheshire Griffin Opelika Ala. E. Pelham Snodgrass ...\n",
      "NP$: noun, singular, proper, genitive\n",
      "    Green's Landis' Smith's Carreon's Allison's Boston's Spahn's Willie's\n",
      "    Mickey's Milwaukee's Mays' Howsam's Mantle's Shaw's Wagner's Rickey's\n",
      "    Shea's Palmer's Arnold's Broglio's ...\n",
      "NP+BEZ: noun, singular, proper + verb 'to be', present tense, 3rd person singular\n",
      "    W.'s Ike's Mack's Jack's Kate's Katharine's Black's Arthur's Seaton's\n",
      "    Buckhorn's Breed's Penny's Rob's Kitty's Blackwell's Myra's Wally's\n",
      "    Lucille's Springfield's Arlene's\n",
      "NP+HVZ: noun, singular, proper + verb 'to have', present tense, 3rd person singular\n",
      "    Bill's Guardino's Celie's Skolman's Crosson's Tim's Wally's\n",
      "NP+MD: noun, singular, proper + modal auxillary\n",
      "    Gyp'll John'll\n",
      "NPS: noun, plural, proper\n",
      "    Chases Aderholds Chapelles Armisteads Lockies Carbones French Marskmen\n",
      "    Toppers Franciscans Romans Cadillacs Masons Blacks Catholics British\n",
      "    Dixiecrats Mississippians Congresses ...\n",
      "NPS$: noun, plural, proper, genitive\n",
      "    Republicans' Orioles' Birds' Yanks' Redbirds' Bucs' Yankees' Stevenses'\n",
      "    Geraghtys' Burkes' Wackers' Achaeans' Dresbachs' Russians' Democrats'\n",
      "    Gershwins' Adventists' Negroes' Catholics' ...\n",
      "NR: noun, singular, adverbial\n",
      "    Friday home Wednesday Tuesday Monday Sunday Thursday yesterday tomorrow\n",
      "    tonight West East Saturday west left east downtown north northeast\n",
      "    southeast northwest North South right ...\n",
      "NR$: noun, singular, adverbial, genitive\n",
      "    Saturday's Monday's yesterday's tonight's tomorrow's Sunday's\n",
      "    Wednesday's Friday's today's Tuesday's West's Today's South's\n",
      "NR+MD: noun, singular, adverbial + modal auxillary\n",
      "    today'll\n",
      "NRS: noun, plural, adverbial\n",
      "    Sundays Mondays Saturdays Wednesdays Souths Fridays\n",
      "OD: numeral, ordinal\n",
      "    first 13th third nineteenth 2d 61st second sixth eighth ninth twenty-\n",
      "    first eleventh 50th eighteenth- Thirty-ninth 72nd 1/20th twentieth\n",
      "    mid-19th thousandth 350th sixteenth 701st ...\n",
      "PN: pronoun, nominal\n",
      "    none something everything one anyone nothing nobody everybody everyone\n",
      "    anybody anything someone no-one nothin\n",
      "PN$: pronoun, nominal, genitive\n",
      "    one's someone's anybody's nobody's everybody's anyone's everyone's\n",
      "PN+BEZ: pronoun, nominal + verb 'to be', present tense, 3rd person singular\n",
      "    nothing's everything's somebody's nobody's someone's\n",
      "PN+HVD: pronoun, nominal + verb 'to have', past tense\n",
      "    nobody'd\n",
      "PN+HVZ: pronoun, nominal + verb 'to have', present tense, 3rd person singular\n",
      "    nobody's somebody's one's\n",
      "PN+MD: pronoun, nominal + modal auxillary\n",
      "    someone'll somebody'll anybody'd\n",
      "PP$: determiner, possessive\n",
      "    our its his their my your her out thy mine thine\n",
      "PP$$: pronoun, possessive\n",
      "    ours mine his hers theirs yours\n",
      "PPL: pronoun, singular, reflexive\n",
      "    itself himself myself yourself herself oneself ownself\n",
      "PPLS: pronoun, plural, reflexive\n",
      "    themselves ourselves yourselves\n",
      "PPO: pronoun, personal, accusative\n",
      "    them it him me us you 'em her thee we'uns\n",
      "PPS: pronoun, personal, nominative, 3rd person singular\n",
      "    it he she thee\n",
      "PPS+BEZ: pronoun, personal, nominative, 3rd person singular + verb 'to be', present tense, 3rd person singular\n",
      "    it's he's she's\n",
      "PPS+HVD: pronoun, personal, nominative, 3rd person singular + verb 'to have', past tense\n",
      "    she'd he'd it'd\n",
      "PPS+HVZ: pronoun, personal, nominative, 3rd person singular + verb 'to have', present tense, 3rd person singular\n",
      "    it's he's she's\n",
      "PPS+MD: pronoun, personal, nominative, 3rd person singular + modal auxillary\n",
      "    he'll she'll it'll he'd it'd she'd\n",
      "PPSS: pronoun, personal, nominative, not 3rd person singular\n",
      "    they we I you ye thou you'uns\n",
      "PPSS+BEM: pronoun, personal, nominative, not 3rd person singular + verb 'to be', present tense, 1st person singular\n",
      "    I'm Ahm\n",
      "PPSS+BER: pronoun, personal, nominative, not 3rd person singular + verb 'to be', present tense, 2nd person singular or all persons plural\n",
      "    we're you're they're\n",
      "PPSS+BEZ: pronoun, personal, nominative, not 3rd person singular + verb 'to be', present tense, 3rd person singular\n",
      "    you's\n",
      "PPSS+BEZ*: pronoun, personal, nominative, not 3rd person singular + verb 'to be', present tense, 3rd person singular, negated\n",
      "    'tain't\n",
      "PPSS+HV: pronoun, personal, nominative, not 3rd person singular + verb 'to have', uninflected present tense\n",
      "    I've we've they've you've\n",
      "PPSS+HVD: pronoun, personal, nominative, not 3rd person singular + verb 'to have', past tense\n",
      "    I'd you'd we'd they'd\n",
      "PPSS+MD: pronoun, personal, nominative, not 3rd person singular + modal auxillary\n",
      "    you'll we'll I'll we'd I'd they'll they'd you'd\n",
      "PPSS+VB: pronoun, personal, nominative, not 3rd person singular + verb 'to verb', uninflected present tense\n",
      "    y'know\n",
      "QL: qualifier, pre\n",
      "    well less very most so real as highly fundamentally even how much\n",
      "    remarkably somewhat more completely too thus ill deeply little overly\n",
      "    halfway almost impossibly far severly such ...\n",
      "QLP: qualifier, post\n",
      "    indeed enough still 'nuff\n",
      "RB: adverb\n",
      "    only often generally also nevertheless upon together back newly no\n",
      "    likely meanwhile near then heavily there apparently yet outright fully\n",
      "    aside consistently specifically formally ever just ...\n",
      "RB$: adverb, genitive\n",
      "    else's\n",
      "RB+BEZ: adverb + verb 'to be', present tense, 3rd person singular\n",
      "    here's there's\n",
      "RB+CS: adverb + conjunction, coordinating\n",
      "    well's soon's\n",
      "RBR: adverb, comparative\n",
      "    further earlier better later higher tougher more harder longer sooner\n",
      "    less faster easier louder farther oftener nearer cheaper slower tighter\n",
      "    lower worse heavier quicker ...\n",
      "RBR+CS: adverb, comparative + conjunction, coordinating\n",
      "    more'n\n",
      "RBT: adverb, superlative\n",
      "    most best highest uppermost nearest brightest hardest fastest deepest\n",
      "    farthest loudest ...\n",
      "RN: adverb, nominal\n",
      "    here afar then\n",
      "RP: adverb, particle\n",
      "    up out off down over on in about through across after\n",
      "RP+IN: adverb, particle + preposition\n",
      "    out'n outta\n",
      "TO: infinitival to\n",
      "    to t'\n",
      "TO+VB: infinitival to + verb, infinitive\n",
      "    t'jawn t'lah\n",
      "UH: interjection\n",
      "    Hurrah bang whee hmpf ah goodbye oops oh-the-pain-of-it ha crunch say\n",
      "    oh why see well hello lo alas tarantara rum-tum-tum gosh hell keerist\n",
      "    Jesus Keeeerist boy c'mon 'mon goddamn bah hoo-pig damn ...\n",
      "VB: verb, base: uninflected present, imperative or infinitive\n",
      "    investigate find act follow inure achieve reduce take remedy re-set\n",
      "    distribute realize disable feel receive continue place protect\n",
      "    eliminate elaborate work permit run enter force ...\n",
      "VB+AT: verb, base: uninflected present or infinitive + article\n",
      "    wanna\n",
      "VB+IN: verb, base: uninflected present, imperative or infinitive + preposition\n",
      "    lookit\n",
      "VB+JJ: verb, base: uninflected present, imperative or infinitive + adjective\n",
      "    die-dead\n",
      "VB+PPO: verb, uninflected present tense + pronoun, personal, accusative\n",
      "    let's lemme gimme\n",
      "VB+RP: verb, imperative + adverbial particle\n",
      "    g'ahn c'mon\n",
      "VB+TO: verb, base: uninflected present, imperative or infinitive + infinitival to\n",
      "    wanta wanna\n",
      "VB+VB: verb, base: uninflected present, imperative or infinitive; hypenated pair\n",
      "    say-speak\n",
      "VBD: verb, past tense\n",
      "    said produced took recommended commented urged found added praised\n",
      "    charged listed became announced brought attended wanted voted defeated\n",
      "    received got stood shot scheduled feared promised made ...\n",
      "VBG: verb, present participle or gerund\n",
      "    modernizing improving purchasing Purchasing lacking enabling pricing\n",
      "    keeping getting picking entering voting warning making strengthening\n",
      "    setting neighboring attending participating moving ...\n",
      "VBG+TO: verb, present participle + infinitival to\n",
      "    gonna\n",
      "VBN: verb, past participle\n",
      "    conducted charged won received studied revised operated accepted\n",
      "    combined experienced recommended effected granted seen protected\n",
      "    adopted retarded notarized selected composed gotten printed ...\n",
      "VBN+TO: verb, past participle + infinitival to\n",
      "    gotta\n",
      "VBZ: verb, present tense, 3rd person singular\n",
      "    deserves believes receives takes goes expires says opposes starts\n",
      "    permits expects thinks faces votes teaches holds calls fears spends\n",
      "    collects backs eliminates sets flies gives seeks reads ...\n",
      "WDT: WH-determiner\n",
      "    which what whatever whichever whichever-the-hell\n",
      "WDT+BER: WH-determiner + verb 'to be', present tense, 2nd person singular or all persons plural\n",
      "    what're\n",
      "WDT+BER+PP: WH-determiner + verb 'to be', present, 2nd person singular or all persons plural + pronoun, personal, nominative, not 3rd person singular\n",
      "    whaddya\n",
      "WDT+BEZ: WH-determiner + verb 'to be', present tense, 3rd person singular\n",
      "    what's\n",
      "WDT+DO+PPS: WH-determiner + verb 'to do', uninflected present tense + pronoun, personal, nominative, not 3rd person singular\n",
      "    whaddya\n",
      "WDT+DOD: WH-determiner + verb 'to do', past tense\n",
      "    what'd\n",
      "WDT+HVZ: WH-determiner + verb 'to have', present tense, 3rd person singular\n",
      "    what's\n",
      "WP$: WH-pronoun, genitive\n",
      "    whose whosever\n",
      "WPO: WH-pronoun, accusative\n",
      "    whom that who\n",
      "WPS: WH-pronoun, nominative\n",
      "    that who whoever whosoever what whatsoever\n",
      "WPS+BEZ: WH-pronoun, nominative + verb 'to be', present, 3rd person singular\n",
      "    that's who's\n",
      "WPS+HVD: WH-pronoun, nominative + verb 'to have', past tense\n",
      "    who'd\n",
      "WPS+HVZ: WH-pronoun, nominative + verb 'to have', present tense, 3rd person singular\n",
      "    who's that's\n",
      "WPS+MD: WH-pronoun, nominative + modal auxillary\n",
      "    who'll that'd who'd that'll\n",
      "WQL: WH-qualifier\n",
      "    however how\n",
      "WRB: WH-adverb\n",
      "    however when where why whereby wherever how whenever whereon wherein\n",
      "    wherewith wheare wherefore whereof howsabout\n",
      "WRB+BER: WH-adverb + verb 'to be', present, 2nd person singular or all persons plural\n",
      "    where're\n",
      "WRB+BEZ: WH-adverb + verb 'to be', present, 3rd person singular\n",
      "    how's where's\n",
      "WRB+DO: WH-adverb + verb 'to do', present, not 3rd person singular\n",
      "    howda\n",
      "WRB+DOD: WH-adverb + verb 'to do', past tense\n",
      "    where'd how'd\n",
      "WRB+DOD*: WH-adverb + verb 'to do', past tense, negated\n",
      "    whyn't\n",
      "WRB+DOZ: WH-adverb + verb 'to do', present tense, 3rd person singular\n",
      "    how's\n",
      "WRB+IN: WH-adverb + preposition\n",
      "    why'n\n",
      "WRB+MD: WH-adverb + modal auxillary\n",
      "    where'd\n"
     ]
    },
    {
     "name": "stderr",
     "output_type": "stream",
     "text": [
      "[nltk_data] Downloading package tagsets to /root/nltk_data...\n",
      "[nltk_data]   Package tagsets is already up-to-date!\n"
     ]
    }
   ],
   "source": [
    "# Get the list of tag\n",
    "nltk.download('tagsets')\n",
    "nltk.help.brown_tagset()"
   ]
  },
  {
   "cell_type": "code",
   "execution_count": 7,
   "metadata": {
    "colab": {
     "base_uri": "https://localhost:8080/"
    },
    "executionInfo": {
     "elapsed": 39,
     "status": "ok",
     "timestamp": 1686987636183,
     "user": {
      "displayName": "Nisarg Gandhewar",
      "userId": "00173707501276252012"
     },
     "user_tz": -330
    },
    "id": "a7KkxJRrKGgs",
    "outputId": "178236a6-adf7-4dd0-a47b-b4b9aaa23759"
   },
   "outputs": [
    {
     "data": {
      "text/plain": [
       "[('good', 'JJ'),\n",
       " ('but', 'CC'),\n",
       " ('need', 'VBP'),\n",
       " ('updates', 'NNS'),\n",
       " ('and', 'CC'),\n",
       " ('improvements', 'NNS')]"
      ]
     },
     "execution_count": 7,
     "metadata": {},
     "output_type": "execute_result"
    }
   ],
   "source": [
    "nltk.pos_tag(reviews_token[0])"
   ]
  },
  {
   "cell_type": "code",
   "execution_count": 8,
   "metadata": {
    "executionInfo": {
     "elapsed": 14,
     "status": "ok",
     "timestamp": 1686987636184,
     "user": {
      "displayName": "Nisarg Gandhewar",
      "userId": "00173707501276252012"
     },
     "user_tz": -330
    },
    "id": "pYZI_7J4KGgt"
   },
   "outputs": [],
   "source": [
    "sent = \"I like to move it\".split()\n",
    "sent_tagged = nltk.pos_tag(sent)"
   ]
  },
  {
   "cell_type": "code",
   "execution_count": 9,
   "metadata": {
    "colab": {
     "base_uri": "https://localhost:8080/"
    },
    "executionInfo": {
     "elapsed": 13,
     "status": "ok",
     "timestamp": 1686987636184,
     "user": {
      "displayName": "Nisarg Gandhewar",
      "userId": "00173707501276252012"
     },
     "user_tz": -330
    },
    "id": "9sBCsO9TKGgt",
    "outputId": "3458559a-73ea-485d-840c-aeb2c00ca06c"
   },
   "outputs": [
    {
     "data": {
      "text/plain": [
       "[('I', 'PRP'), ('like', 'VBP'), ('to', 'TO'), ('move', 'VB'), ('it', 'PRP')]"
      ]
     },
     "execution_count": 9,
     "metadata": {},
     "output_type": "execute_result"
    }
   ],
   "source": [
    "sent_tagged"
   ]
  },
  {
   "cell_type": "code",
   "execution_count": 10,
   "metadata": {
    "colab": {
     "base_uri": "https://localhost:8080/"
    },
    "executionInfo": {
     "elapsed": 54379,
     "status": "ok",
     "timestamp": 1686987690553,
     "user": {
      "displayName": "Nisarg Gandhewar",
      "userId": "00173707501276252012"
     },
     "user_tz": -330
    },
    "id": "Tb_ZctI0KGgt",
    "outputId": "e2a621db-c52d-46bb-f7c1-2d65ec713d10"
   },
   "outputs": [
    {
     "data": {
      "text/plain": [
       "[('good', 'JJ'),\n",
       " ('but', 'CC'),\n",
       " ('need', 'VBP'),\n",
       " ('updates', 'NNS'),\n",
       " ('and', 'CC'),\n",
       " ('improvements', 'NNS')]"
      ]
     },
     "execution_count": 10,
     "metadata": {},
     "output_type": "execute_result"
    }
   ],
   "source": [
    "# Apply on the dataset\n",
    "reviews_tagged = [nltk.pos_tag(tokens) for tokens in reviews_token]\n",
    "reviews_tagged[0]"
   ]
  },
  {
   "cell_type": "markdown",
   "metadata": {
    "id": "cGuNeLf_KGgt"
   },
   "source": [
    "## Task 4. For the topic model, we would want to include only nouns\n",
    " - First, find out all the POS tags that correspond to nouns\n",
    " - Limit the data to only terms with these tags\n"
   ]
  },
  {
   "cell_type": "code",
   "execution_count": 11,
   "metadata": {
    "colab": {
     "base_uri": "https://localhost:8080/"
    },
    "executionInfo": {
     "elapsed": 16,
     "status": "ok",
     "timestamp": 1686987690553,
     "user": {
      "displayName": "Nisarg Gandhewar",
      "userId": "00173707501276252012"
     },
     "user_tz": -330
    },
    "id": "jr3yG5qoKGgu",
    "outputId": "879eea00-b7f1-49ae-ab7e-d44cc4d26103"
   },
   "outputs": [
    {
     "name": "stdout",
     "output_type": "stream",
     "text": [
      "$: dollar\n",
      "    $ -$ --$ A$ C$ HK$ M$ NZ$ S$ U.S.$ US$\n",
      "'': closing quotation mark\n",
      "    ' ''\n",
      "(: opening parenthesis\n",
      "    ( [ {\n",
      "): closing parenthesis\n",
      "    ) ] }\n",
      ",: comma\n",
      "    ,\n",
      "--: dash\n",
      "    --\n",
      ".: sentence terminator\n",
      "    . ! ?\n",
      ":: colon or ellipsis\n",
      "    : ; ...\n",
      "CC: conjunction, coordinating\n",
      "    & 'n and both but either et for less minus neither nor or plus so\n",
      "    therefore times v. versus vs. whether yet\n",
      "CD: numeral, cardinal\n",
      "    mid-1890 nine-thirty forty-two one-tenth ten million 0.5 one forty-\n",
      "    seven 1987 twenty '79 zero two 78-degrees eighty-four IX '60s .025\n",
      "    fifteen 271,124 dozen quintillion DM2,000 ...\n",
      "DT: determiner\n",
      "    all an another any both del each either every half la many much nary\n",
      "    neither no some such that the them these this those\n",
      "EX: existential there\n",
      "    there\n",
      "FW: foreign word\n",
      "    gemeinschaft hund ich jeux habeas Haementeria Herr K'ang-si vous\n",
      "    lutihaw alai je jour objets salutaris fille quibusdam pas trop Monte\n",
      "    terram fiche oui corporis ...\n",
      "IN: preposition or conjunction, subordinating\n",
      "    astride among uppon whether out inside pro despite on by throughout\n",
      "    below within for towards near behind atop around if like until below\n",
      "    next into if beside ...\n",
      "JJ: adjective or numeral, ordinal\n",
      "    third ill-mannered pre-war regrettable oiled calamitous first separable\n",
      "    ectoplasmic battery-powered participatory fourth still-to-be-named\n",
      "    multilingual multi-disciplinary ...\n",
      "JJR: adjective, comparative\n",
      "    bleaker braver breezier briefer brighter brisker broader bumper busier\n",
      "    calmer cheaper choosier cleaner clearer closer colder commoner costlier\n",
      "    cozier creamier crunchier cuter ...\n",
      "JJS: adjective, superlative\n",
      "    calmest cheapest choicest classiest cleanest clearest closest commonest\n",
      "    corniest costliest crassest creepiest crudest cutest darkest deadliest\n",
      "    dearest deepest densest dinkiest ...\n",
      "LS: list item marker\n",
      "    A A. B B. C C. D E F First G H I J K One SP-44001 SP-44002 SP-44005\n",
      "    SP-44007 Second Third Three Two * a b c d first five four one six three\n",
      "    two\n",
      "MD: modal auxiliary\n",
      "    can cannot could couldn't dare may might must need ought shall should\n",
      "    shouldn't will would\n",
      "NN: noun, common, singular or mass\n",
      "    common-carrier cabbage knuckle-duster Casino afghan shed thermostat\n",
      "    investment slide humour falloff slick wind hyena override subhumanity\n",
      "    machinist ...\n",
      "NNP: noun, proper, singular\n",
      "    Motown Venneboerger Czestochwa Ranzer Conchita Trumplane Christos\n",
      "    Oceanside Escobar Kreisler Sawyer Cougar Yvette Ervin ODI Darryl CTCA\n",
      "    Shannon A.K.C. Meltex Liverpool ...\n",
      "NNPS: noun, proper, plural\n",
      "    Americans Americas Amharas Amityvilles Amusements Anarcho-Syndicalists\n",
      "    Andalusians Andes Andruses Angels Animals Anthony Antilles Antiques\n",
      "    Apache Apaches Apocrypha ...\n",
      "NNS: noun, common, plural\n",
      "    undergraduates scotches bric-a-brac products bodyguards facets coasts\n",
      "    divestitures storehouses designs clubs fragrances averages\n",
      "    subjectivists apprehensions muses factory-jobs ...\n",
      "PDT: pre-determiner\n",
      "    all both half many quite such sure this\n",
      "POS: genitive marker\n",
      "    ' 's\n",
      "PRP: pronoun, personal\n",
      "    hers herself him himself hisself it itself me myself one oneself ours\n",
      "    ourselves ownself self she thee theirs them themselves they thou thy us\n",
      "PRP$: pronoun, possessive\n",
      "    her his mine my our ours their thy your\n",
      "RB: adverb\n",
      "    occasionally unabatingly maddeningly adventurously professedly\n",
      "    stirringly prominently technologically magisterially predominately\n",
      "    swiftly fiscally pitilessly ...\n",
      "RBR: adverb, comparative\n",
      "    further gloomier grander graver greater grimmer harder harsher\n",
      "    healthier heavier higher however larger later leaner lengthier less-\n",
      "    perfectly lesser lonelier longer louder lower more ...\n",
      "RBS: adverb, superlative\n",
      "    best biggest bluntest earliest farthest first furthest hardest\n",
      "    heartiest highest largest least less most nearest second tightest worst\n",
      "RP: particle\n",
      "    aboard about across along apart around aside at away back before behind\n",
      "    by crop down ever fast for forth from go high i.e. in into just later\n",
      "    low more off on open out over per pie raising start teeth that through\n",
      "    under unto up up-pp upon whole with you\n",
      "SYM: symbol\n",
      "    % & ' '' ''. ) ). * + ,. < = > @ A[fj] U.S U.S.S.R * ** ***\n",
      "TO: \"to\" as preposition or infinitive marker\n",
      "    to\n",
      "UH: interjection\n",
      "    Goodbye Goody Gosh Wow Jeepers Jee-sus Hubba Hey Kee-reist Oops amen\n",
      "    huh howdy uh dammit whammo shucks heck anyways whodunnit honey golly\n",
      "    man baby diddle hush sonuvabitch ...\n",
      "VB: verb, base form\n",
      "    ask assemble assess assign assume atone attention avoid bake balkanize\n",
      "    bank begin behold believe bend benefit bevel beware bless boil bomb\n",
      "    boost brace break bring broil brush build ...\n",
      "VBD: verb, past tense\n",
      "    dipped pleaded swiped regummed soaked tidied convened halted registered\n",
      "    cushioned exacted snubbed strode aimed adopted belied figgered\n",
      "    speculated wore appreciated contemplated ...\n",
      "VBG: verb, present participle or gerund\n",
      "    telegraphing stirring focusing angering judging stalling lactating\n",
      "    hankerin' alleging veering capping approaching traveling besieging\n",
      "    encrypting interrupting erasing wincing ...\n",
      "VBN: verb, past participle\n",
      "    multihulled dilapidated aerosolized chaired languished panelized used\n",
      "    experimented flourished imitated reunifed factored condensed sheared\n",
      "    unsettled primed dubbed desired ...\n",
      "VBP: verb, present tense, not 3rd person singular\n",
      "    predominate wrap resort sue twist spill cure lengthen brush terminate\n",
      "    appear tend stray glisten obtain comprise detest tease attract\n",
      "    emphasize mold postpone sever return wag ...\n",
      "VBZ: verb, present tense, 3rd person singular\n",
      "    bases reconstructs marks mixes displeases seals carps weaves snatches\n",
      "    slumps stretches authorizes smolders pictures emerges stockpiles\n",
      "    seduces fizzes uses bolsters slaps speaks pleads ...\n",
      "WDT: WH-determiner\n",
      "    that what whatever which whichever\n",
      "WP: WH-pronoun\n",
      "    that what whatever whatsoever which who whom whosoever\n",
      "WP$: WH-pronoun, possessive\n",
      "    whose\n",
      "WRB: Wh-adverb\n",
      "    how however whence whenever where whereby whereever wherein whereof why\n",
      "``: opening quotation mark\n",
      "    ` ``\n"
     ]
    },
    {
     "name": "stderr",
     "output_type": "stream",
     "text": [
      "[nltk_data] Downloading package tagsets to /root/nltk_data...\n",
      "[nltk_data]   Package tagsets is already up-to-date!\n"
     ]
    }
   ],
   "source": [
    "nltk.download('tagsets')\n",
    "nltk.help.upenn_tagset()"
   ]
  },
  {
   "cell_type": "markdown",
   "metadata": {
    "id": "etzHqokWKGgu"
   },
   "source": [
    "You see that for each term, the POS taggger returns a tuple. The first element of the tuple being the term, the second being the tag."
   ]
  },
  {
   "cell_type": "code",
   "execution_count": 12,
   "metadata": {
    "colab": {
     "base_uri": "https://localhost:8080/"
    },
    "executionInfo": {
     "elapsed": 10,
     "status": "ok",
     "timestamp": 1686987690553,
     "user": {
      "displayName": "Nisarg Gandhewar",
      "userId": "00173707501276252012"
     },
     "user_tz": -330
    },
    "id": "7mSu0pXIKGgu",
    "outputId": "b94e92e0-5d52-476c-adc8-4676ac1b8939"
   },
   "outputs": [
    {
     "data": {
      "text/plain": [
       "('great', 'JJ')"
      ]
     },
     "execution_count": 12,
     "metadata": {},
     "output_type": "execute_result"
    }
   ],
   "source": [
    "tagged_tuple = nltk.pos_tag(['great'])\n",
    "tagged_tuple[0]"
   ]
  },
  {
   "cell_type": "code",
   "execution_count": 13,
   "metadata": {
    "colab": {
     "base_uri": "https://localhost:8080/"
    },
    "executionInfo": {
     "elapsed": 7,
     "status": "ok",
     "timestamp": 1686987690554,
     "user": {
      "displayName": "Nisarg Gandhewar",
      "userId": "00173707501276252012"
     },
     "user_tz": -330
    },
    "id": "YbBTY2fmKGgv",
    "outputId": "9af08661-12aa-4269-fcdc-7b56d037c2d4"
   },
   "outputs": [
    {
     "name": "stdout",
     "output_type": "stream",
     "text": [
      "'great'\n",
      "'JJ'\n"
     ]
    }
   ],
   "source": [
    "pprint(tagged_tuple[0][0])\n",
    "pprint(tagged_tuple[0][1])"
   ]
  },
  {
   "cell_type": "code",
   "execution_count": 14,
   "metadata": {
    "colab": {
     "base_uri": "https://localhost:8080/"
    },
    "executionInfo": {
     "elapsed": 5,
     "status": "ok",
     "timestamp": 1686987690554,
     "user": {
      "displayName": "Nisarg Gandhewar",
      "userId": "00173707501276252012"
     },
     "user_tz": -330
    },
    "id": "9rbuORFzKGgv",
    "outputId": "ed66836f-87f9-4435-c0d7-69e24e5faa0f"
   },
   "outputs": [
    {
     "data": {
      "text/plain": [
       "[('updates', 'NNS'), ('improvements', 'NNS')]"
      ]
     },
     "execution_count": 14,
     "metadata": {},
     "output_type": "execute_result"
    }
   ],
   "source": [
    "reviews_noun=[]\n",
    "for sent in reviews_tagged:\n",
    "    reviews_noun.append([token for token in sent if re.search(\"NN.*\", token[1])])\n",
    "reviews_noun[0]"
   ]
  },
  {
   "cell_type": "code",
   "execution_count": 15,
   "metadata": {
    "colab": {
     "base_uri": "https://localhost:8080/"
    },
    "collapsed": true,
    "executionInfo": {
     "elapsed": 2306,
     "status": "ok",
     "timestamp": 1686987692856,
     "user": {
      "displayName": "Nisarg Gandhewar",
      "userId": "00173707501276252012"
     },
     "user_tz": -330
    },
    "id": "lSXjBtCCKGgw",
    "outputId": "e8dad55c-808f-4758-f9af-a8135c0fdda1"
   },
   "outputs": [
    {
     "name": "stderr",
     "output_type": "stream",
     "text": [
      "[nltk_data] Downloading package wordnet to /root/nltk_data...\n",
      "[nltk_data]   Package wordnet is already up-to-date!\n"
     ]
    }
   ],
   "source": [
    "# Apply lemmatization\n",
    "nltk.download('wordnet')\n",
    "\n",
    "lemm = WordNetLemmatizer()\n",
    "reviews_lemm=[]\n",
    "\n",
    "for sent in reviews_noun:\n",
    "    reviews_lemm.append([lemm.lemmatize(word[0]) for word in sent])"
   ]
  },
  {
   "cell_type": "code",
   "execution_count": 16,
   "metadata": {
    "colab": {
     "base_uri": "https://localhost:8080/"
    },
    "executionInfo": {
     "elapsed": 22,
     "status": "ok",
     "timestamp": 1686987692857,
     "user": {
      "displayName": "Nisarg Gandhewar",
      "userId": "00173707501276252012"
     },
     "user_tz": -330
    },
    "id": "dA4wIQDrKGgw",
    "outputId": "29e935a1-1829-4453-b287-2ac256da5114"
   },
   "outputs": [
    {
     "data": {
      "text/plain": [
       "['update', 'improvement']"
      ]
     },
     "execution_count": 16,
     "metadata": {},
     "output_type": "execute_result"
    }
   ],
   "source": [
    "reviews_lemm[0]"
   ]
  },
  {
   "cell_type": "markdown",
   "metadata": {
    "id": "js8MT0s5KGgw"
   },
   "source": [
    "## Task  6. Remove stop words and punctuation (if there are any at all after the POS tagging)"
   ]
  },
  {
   "cell_type": "markdown",
   "metadata": {
    "id": "3E7XMZaFKGgw"
   },
   "source": [
    "Use NLTK standard stop word list and the punctuations"
   ]
  },
  {
   "cell_type": "code",
   "execution_count": 17,
   "metadata": {
    "colab": {
     "base_uri": "https://localhost:8080/"
    },
    "executionInfo": {
     "elapsed": 16,
     "status": "ok",
     "timestamp": 1686987692858,
     "user": {
      "displayName": "Nisarg Gandhewar",
      "userId": "00173707501276252012"
     },
     "user_tz": -330
    },
    "id": "Z1dBXgTiKGgx",
    "outputId": "42deb3aa-5bd1-4ed1-fd9c-18d02f87e3c0"
   },
   "outputs": [
    {
     "name": "stderr",
     "output_type": "stream",
     "text": [
      "[nltk_data] Downloading package stopwords to /root/nltk_data...\n",
      "[nltk_data]   Package stopwords is already up-to-date!\n"
     ]
    }
   ],
   "source": [
    "nltk.download('stopwords')\n",
    "\n",
    "from string import punctuation\n",
    "from nltk.corpus import stopwords\n",
    "stop_nltk = stopwords.words(\"english\")"
   ]
  },
  {
   "cell_type": "code",
   "execution_count": 18,
   "metadata": {
    "colab": {
     "base_uri": "https://localhost:8080/"
    },
    "executionInfo": {
     "elapsed": 14,
     "status": "ok",
     "timestamp": 1686987692859,
     "user": {
      "displayName": "Nisarg Gandhewar",
      "userId": "00173707501276252012"
     },
     "user_tz": -330
    },
    "id": "Mtk_JTR_NAC4",
    "outputId": "6a6fe028-2e16-4f3e-b2bd-a109be199e35"
   },
   "outputs": [
    {
     "data": {
      "text/plain": [
       "['!',\n",
       " '\"',\n",
       " '#',\n",
       " '$',\n",
       " '%',\n",
       " '&',\n",
       " \"'\",\n",
       " '(',\n",
       " ')',\n",
       " '*',\n",
       " '+',\n",
       " ',',\n",
       " '-',\n",
       " '.',\n",
       " '/',\n",
       " ':',\n",
       " ';',\n",
       " '<',\n",
       " '=',\n",
       " '>',\n",
       " '?',\n",
       " '@',\n",
       " '[',\n",
       " '\\\\',\n",
       " ']',\n",
       " '^',\n",
       " '_',\n",
       " '`',\n",
       " '{',\n",
       " '|',\n",
       " '}',\n",
       " '~']"
      ]
     },
     "execution_count": 18,
     "metadata": {},
     "output_type": "execute_result"
    }
   ],
   "source": [
    "list(punctuation)"
   ]
  },
  {
   "cell_type": "code",
   "execution_count": 19,
   "metadata": {
    "collapsed": true,
    "executionInfo": {
     "elapsed": 12,
     "status": "ok",
     "timestamp": 1686987692860,
     "user": {
      "displayName": "Nisarg Gandhewar",
      "userId": "00173707501276252012"
     },
     "user_tz": -330
    },
    "id": "QUbr4VrEKGgx"
   },
   "outputs": [],
   "source": [
    "stop_updated = stop_nltk + list(punctuation) + [\"...\"] + [\"..\"]\n",
    "reviews_sw_removed=[]\n",
    "for sent in reviews_lemm:\n",
    "    reviews_sw_removed.append([term for term in sent if term not in stop_updated])"
   ]
  },
  {
   "cell_type": "code",
   "execution_count": 20,
   "metadata": {
    "colab": {
     "base_uri": "https://localhost:8080/"
    },
    "executionInfo": {
     "elapsed": 13,
     "status": "ok",
     "timestamp": 1686987692861,
     "user": {
      "displayName": "Nisarg Gandhewar",
      "userId": "00173707501276252012"
     },
     "user_tz": -330
    },
    "id": "MPj15ZieKGgx",
    "outputId": "0c0a7caf-64a6-45c8-a026-1f47fb45e927"
   },
   "outputs": [
    {
     "data": {
      "text/plain": [
       "['mobile',\n",
       " 'battery',\n",
       " 'hell',\n",
       " 'backup',\n",
       " 'hour',\n",
       " 'us',\n",
       " 'idle',\n",
       " 'discharged.this',\n",
       " 'lie',\n",
       " 'amazon',\n",
       " 'lenove',\n",
       " 'battery',\n",
       " 'charger',\n",
       " 'hour']"
      ]
     },
     "execution_count": 20,
     "metadata": {},
     "output_type": "execute_result"
    }
   ],
   "source": [
    "reviews_sw_removed[1]"
   ]
  },
  {
   "cell_type": "markdown",
   "metadata": {
    "id": "7Ls15IzfKGgx"
   },
   "source": [
    "## Task 7. Create a topic model using LDA on the cleaned up data with 10 topics\n",
    " - what is the coherence of the model?\n",
    "\n",
    " Use gensim for this task"
   ]
  },
  {
   "cell_type": "code",
   "execution_count": 21,
   "metadata": {
    "executionInfo": {
     "elapsed": 1528,
     "status": "ok",
     "timestamp": 1686987694380,
     "user": {
      "displayName": "Nisarg Gandhewar",
      "userId": "00173707501276252012"
     },
     "user_tz": -330
    },
    "id": "2Wz349w0KGgx"
   },
   "outputs": [],
   "source": [
    "import gensim\n",
    "import gensim.corpora as corpora\n",
    "from gensim.models import CoherenceModel\n",
    "from gensim.models import ldamodel"
   ]
  },
  {
   "cell_type": "code",
   "execution_count": 22,
   "metadata": {
    "colab": {
     "base_uri": "https://localhost:8080/"
    },
    "executionInfo": {
     "elapsed": 139,
     "status": "ok",
     "timestamp": 1686987694380,
     "user": {
      "displayName": "Nisarg Gandhewar",
      "userId": "00173707501276252012"
     },
     "user_tz": -330
    },
    "id": "UnIsm8zyKGgy",
    "outputId": "ff719638-ad5e-4761-a8b8-5446bb68a6db"
   },
   "outputs": [
    {
     "name": "stdout",
     "output_type": "stream",
     "text": [
      "9262\n",
      "Dictionary<9262 unique tokens: ['improvement', 'update', 'amazon', 'backup', 'battery']...>\n",
      "{'improvement': 0, 'update': 1, 'amazon': 2, 'backup': 3, 'battery': 4, 'charger': 5, 'discharged.this': 6, 'hell': 7, 'hour': 8, 'idle': 9, 'lenove': 10, 'lie': 11, 'mobile': 12, 'us': 13, 'cash': 14, 'everthey': 15, 'phone': 16, 'problem': 17, 'camerawaste': 18, 'money': 19, 'allot': 20, 'k8': 21, 'reason': 22, 'level': 23, 'ahmedabad': 24, 'hanging': 25, 'lenovo': 26, 'note': 27, 'station': 28, 'year': 29, 'glitch': 30, 'lot': 31, 'option': 32, 'thing': 33, 'wrost': 34, 'damage': 35, 'month': 36, 'item': 37, 'life': 38, 'motherboard': 39, 'battry': 40, 'screen': 41, 'slim': 42, 'headset': 43, 'time': 44, 'card': 45, 'comparison': 46, 'credit': 47, 'deal': 48, 'prize': 49, 'product': 50, 'range': 51, 'seal': 52, 'specification': 53, 'solution': 54, 'smartphone': 55, 'galery': 56, 'speaker': 57, 'camera': 58, 'features.excelent': 59, 'speed.excellent': 60, 'call': 61, 'cast': 62, 'hotspot': 63, 'wifi': 64, 'cable': 65, 'usb': 66, 'display': 67, 'price': 68, 'any1': 69, 'function': 70, 'fon': 71, 'speekars': 72, 'color': 73, 'issue': 74, 'back-up': 75, 'heating': 76, 'oreo': 77, '😒😒☹️': 78, 'customer': 79, 'one': 80, 'service': 81, 'sim': 82, 'performance': 83, 'passa': 84, 'pricefull': 85, 'wasole': 86, 'bcoms': 87, 'dont': 88, 'plzz': 89, 'restarts': 90, 'signal': 91, 'round': 92, 'day': 93, 'rs.3000': 94, 'span': 95, 'trust': 96, 'disappointment': 97, 'headache': 98, 'quality': 99, 'rate': 100, 'feature': 101, 'min': 102, '.....': 103, 'charge': 104, 'hr': 105, 'sell': 106, 'take': 107, 'ekdam': 108, 'network': 109, 'memory': 110, 'rm': 111, 'featurs': 112, 'phone😍😍': 113, 'superb': 114, 'value': 115, 'breakup': 116, 'choice': 117, 'standby': 118, 'apps.👌👌': 119, 'jet': 120, 'speed': 121, 'ok': 122, 'charging': 123, 'contact': 124, 'file': 125, 'google': 126, 'miracast': 127, 'total': 128, 'tv': 129, 'con': 130, 'depth': 131, 'device': 132, 'focus': 133, 'mah': 134, 'mode': 135, 'usage': 136, 'area.lenovo': 137, 'coverage': 138, 'india': 139, 'ka': 140, 'offer': 141, 'people': 142, '....': 143, 'mark': 144, 'weight': 145, 'point': 146, 'mo': 147, 'system': 148, 'brand': 149, 'delivery': 150, 'gesture': 151, 'rs.10000': 152, '.camera': 153, 'buy': 154, 'guy': 155, 'mobile.great': 156, 'thanks': 157, 'verigood': 158, 'verigood.best': 159, 'availability': 160, 'center': 161, 'cost': 162, 'customer.fifthly': 163, 'expectations.camera': 164, 'feel': 165, 'fix': 166, 'hardware': 167, 'location': 168, 'matter': 169, 'naugat': 170, 'need': 171, 'nerve': 172, 'radiation': 173, 'recording': 174, 'safety': 175, 'security': 176, 'snap': 177, 'data': 178, 'etc': 179, 'good.cameradesignperformance': 180, 'hello': 181, 'performanc': 182, 'picture': 183, 'request.pros': 184, 'rest': 185, 'return': 186, 'turbo': 187, 'use': 188, 'waste': 189, '☺️🙂': 190, 'donot': 191, 'malfunction': 192, 'controler': 193, 'look': 194, 'recorder': 195, 'shortcut': 196, 'shutter': 197, 'sleekness': 198, 'sound': 199, 'voice': 200, 'android': 201, 'apps': 202, 'charger.gallery': 203, 'class': 204, 'defuces': 205, 'kind': 206, 'load': 207, 'othet': 208, 'process.android.com': 209, 'stock': 210, 'thinking': 211, 'centre': 212, 'handset': 213, 'u': 214, 'gift': 215, 'poorwords': 216, 'raping': 217, 'work': 218, 'anyone': 219, 'casting': 220, 'chromecast': 221, 'model': 222, 'arises': 223, 'bcz': 224, 'fan': 225, 'guess': 226, 'slot': 227, 'star': 228, 'buyer': 229, 'core': 230, 'deca': 231, 'gaming': 232, 'hole': 233, 'keep': 234, 'music': 235, 'processor': 236, 'quad': 237, 'back.lol': 238, 'fool': 239, 'way': 240, '.but': 241, 'popularity': 242, 'greatsound': 243, 'productcamera': 244, 'segment': 245, 'drawback': 246, 'process': 247, 'experience': 248, 'plz': 249, 'expectation': 250, '😪': 251, 'dolby': 252, 'k6': 253, 'please': 254, 'sale': 255, 'sofwares': 256, 'switch': 257, 'shadow': 258, 'add': 259, 'mi': 260, 'drain': 261, 'joke': 262, 'story': 263, 'phn': 264, 'disadvantage': 265, 'description': 266, 'm2cb2': 267, 'support': 268, 'type': 269, 'whereas': 270, 'effect': 271, 'phone.no': 272, 'backlogs1': 273, 'contact.5': 274, 'delay': 275, 'mah.3': 276, 'operating': 277, 'ram': 278, 'range.friends': 279, 'responding.2': 280, 'response.4': 281, 'searching': 282, 'channel': 283, 'earphone': 284, 'jbl': 285, 'wakeup': 286, 'hai': 287, 'hang': 288, 'hota': 289, 'connection': 290, 'connectivity': 291, 'glass': 292, 'gorilla': 293, 'grasp': 294, 'hand': 295, 'information': 296, 'mine': 297, 'rating': 298, 'sofa': 299, 'talk': 300, 'twin': 301, 'bit': 302, 'clarity': 303, 'district': 304, 'notification': 305, 'photo': 306, 'august.this': 307, 'mobile.so': 308, 'batterybattery': 309, 'hrsit': 310, '😎😎': 311, 'auto': 312, 'configuration': 313, 'touch': 314, 'average': 315, 'course': 316, 'jan': 317, 'name': 318, 'alongwith': 319, 'pocket': 320, 'rom': 321, 'term': 322, 'lack': 323, 'pc': 324, 'gb': 325, 'mid': 326, 'b.c': 327, 'behanchod': 328, 'bhej': 329, 'bhi': 330, 'bhosdi': 331, 'bhot': 332, 'bolte': 333, 'diya': 334, 'game': 335, 'inka': 336, 'jane': 337, 'kaharidna': 338, 'ke': 339, 'kenya': 340, 'kharida': 341, 'khelke': 342, 'koi': 343, 'ly': 344, 'mat': 345, 'nai': 346, 'par': 347, 'se': 348, 'ye': 349, 'sm': 350, 'volta': 351, 'running': 352, 'till': 353, 'a1': 354, 'compare': 355, 'efficient': 356, 'holic': 357, 'hrs.on': 358, 'mind': 359, 'nm': 360, 'selfie': 361, 'selfiein': 362, 'snapdragon': 363, 'technology': 364, 'top': 365, 'youif': 366, '.......': 367, 'condition.camera': 368, 'parfomce': 369, '👌👌👌': 370, 'facilities.no': 371, 'instruction': 372, 'record': 373, 'bu': 374, 'decide': 375, 'kaji': 376, 'opinion': 377, 'temple': 378, 'key': 379, 'thanx': 380, 'chrger': 381, 'tym': 382, 'accessory': 383, 'quality.charger': 384, '.please': 385, 'something': 386, 'this.they': 387, 'super': 388, 'software': 389, 'bakwas': 390, 'ekdum': 391, 'mistake': 392, 'button': 393, 'deapth': 394, 'finger': 395, 'print': 396, 'senser': 397, 'side': 398, 'age': 399, 'group': 400, 'thank': 401, 'internet': 402, 'lte': 403, 'product.it': 404, 'system.it': 405, 'bug': 406, 'care': 407, 'crap': 408, 'response': 409, 'trap': 410, 'variant': 411, 'variant.its': 412, 'touchscreen': 413, 'r': 414, 'handy': 415, 'purchase': 416, 'amount': 417, 'technician': 418, '.i': 419, 'headphone': 420, 'jack': 421, 'piece': 422, 'g5': 423, 'moto': 424, 'image': 425, 'tap': 426, 'menu': 427, 'opetion': 428, 'anything': 429, 'complaint': 430, 'flactuating': 431, 'forum': 432, 'future': 433, 'provider': 434, 'reception': 435, 'asome': 436, 'express': 437, 'anytime': 438, 'exchange': 439, 'resolution': 440, 'invoice': 441, 'operator': 442, 'singal': 443, 'upto': 444, 'garbage': 445, 'period': 446, 'policy': 447, 'site': 448, 'threat': 449, 'inspite': 450, 'k5': 451, 'navigation': 452, 'vain': 453, 'warranty': 454, 'apple': 455, 'logo': 456, 'night': 457, 'phoen': 458, 'cameragreat': 459, 'peice': 460, 'peiceand': 461, 'requirementsgood': 462, 'speedgood': 463, 'bill': 464, 'bhangar': 465, 'demerit': 466, 'glass.it': 467, 'thickness': 468, 'view': 469, 'mishra7383506358': 470, 'raj': 471, 'budget': 472, 'series': 473, 'gimmickcamera': 474, 'marketing': 475, 'samsung': 476, 'pricebut': 477, 'k3': 478, 'mob': 479, 'try': 480, 'everbattery': 481, 'version': 482, 'box': 483, 'cast.further': 484, 'castthere': 485, 'chat': 486, 'chrome': 487, 'draw': 488, 'lover': 489, 'movie': 490, 'mr': 491, 'person': 492, 'post': 493, 'question': 494, 'saleem': 495, 'team': 496, 'tv.to': 497, 'user': 498, '......': 499, 'debit': 500, 'sw': 501, 'update.camera': 502, 'mobail': 503, 'wonderful': 504, 'volume': 505, 'build': 506, 'default': 507, 'disk': 508, 'flash': 509, 'light': 510, 'atmos': 511, 'smart': 512, 'excellent': 513, 'found': 514, 'stylist': 515, 'pro': 516, 'jio': 517, 'friendhe': 518, 'phoneall': 519, 'requirementsbuta': 520, 'spec': 521, 'tech': 522, 'lenevo': 523, 'part': 524, 'box.product': 525, 'defect': 526, 'front': 527, 'everytime': 528, 'clearity': 529, 'everything': 530, 'gallery': 531, 'play': 532, 'store': 533, 'airtel': 534, 'end': 535, 'morning': 536, 'online': 537, 'fone': 538, 'font': 539, 'ia': 540, 'indicator': 541, 'predecessor': 542, 'size': 543, 'board': 544, 'change': 545, 'dimage': 546, 'expertise': 547, 'fault': 548, 'faulty': 549, 'goa': 550, 'km': 551, 'mapusa': 552, 'margao': 553, 'mother': 554, 'probleam': 555, 'upgrade': 556, 'water': 557, 'weast': 558, '.if': 559, '.this': 560, 'all.1': 561, 'browsing': 562, 'company': 563, 'dayi': 564, 'difference': 565, 'disaster': 566, 'facebook': 567, 'factors.lost': 568, 'father': 569, 'g3': 570, 'gmail': 571, 'highlight': 572, 'honor': 573, 'htc': 574, 'improvement.other': 575, 'insta': 576, 'interest': 577, 'iso': 578, 'it.with': 579, 'j7': 580, 'lapse': 581, 'lens': 582, 'lesser': 583, 'log': 584, 'regret': 585, 's3': 586, 'satisfaction': 587, 'sensor': 588, 'slowmo': 589, 'smooth': 590, 'song': 591, 'start': 592, 'thought': 593, 'whatsapp': 594, 'youtube': 595, 'camera.after': 596, 'range.phone': 597, 'smartphones': 598, 'buying': 599, 'backupoverall': 600, 'spending': 601, 'doulby': 602, 'audio': 603, 'date': 604, 'killer': 605, 'video': 606, 'co': 607, 'bettry': 608, 'adagond': 609, 'air': 610, 'akash': 611, 'gap': 612, 'pls': 613, 'sir': 614, 'sufficient': 615, 'tell': 616, 'complain': 617, 'nothing': 618, 'afterwords': 619, 'flickering': 620, 'decision': 621, 'product.phone': 622, 'androidfast': 623, 'camerano': 624, 'chargecons': 625, 'custom': 626, 'keystock': 627, 'performance.money': 628, 'phone.prospicture': 629, 'qualitydolby': 630, 'worth': 631, 'application': 632, 'crash': 633, 'goodness': 634, 'week': 635, 'khas': 636, 'nahi': 637, 'interface': 638, 'relationship': 639, 'though': 640, 'bt': 641, 'body': 642, 'decrease': 643, 'area': 644, 'bonus': 645, 'chipset': 646, 'doesnt': 647, 'due': 648, 'order.thanks': 649, 'previledge': 650, 'satisfactory.apart': 651, 'show': 652, 'situation': 653, '’': 654, 'feeling': 655, 'gud': 656, 'tht': 657, 'app': 658, 'phon': 659, 'money.got': 660, 'bet': 661, 'k3note': 662, 'cam': 663, 'dabba': 664, 'dis': 665, 'dnt': 666, 'god': 667, 'power': 668, 'wit': 669, 'head': 670, 'package': 671, 'pricing': 672, 'chargre': 673, 'brightness': 674, 'eye': 675, 'illuminating': 676, 'irritating': 677, 'ignore': 678, 'phone.dolby': 679, 'years.but': 680, 'awesome': 681, 'flaw': 682, 'installation': 683, 'case': 684, 'cover': 685, 'fine': 686, 'run': 687, 'review': 688, 'disconnect': 689, 'drop': 690, 'gesture.lack': 691, 'management': 692, 'modification': 693, 'combination': 694, 'gameplay': 695, 'minute': 696, 'replacement': 697, 'back': 698, 'brother': 699, 'alerts4': 700, 'brick': 701, 'latch': 702, 'mins2': 703, 'percent': 704, 'think': 705, 'trucaller': 706, 'wellthis': 707, 'im': 708, 'password': 709, 'swipe': 710, 'competitor': 711, 'g5s': 712, 'hope': 713, 'k': 714, 'motion': 715, 'natura': 716, 'probs': 717, 'features.but': 718, 'noise': 719, 'ear': 720, 'mail': 721, 'flas': 722, 'agar': 723, 'bahar': 724, 'bhul': 725, 'bilkul': 726, 'ghanta': 727, 'ho': 728, 'jayega': 729, 'kahi': 730, 'kharab': 731, 'lena': 732, 'nikle': 733, 'reboot': 734, 'batterylow': 735, 'turbocharger': 736, 'mobil': 737, 'book': 738, 'eg': 739, 'monthsafter': 740, 'page': 741, 'second': 742, 'surethe': 743, 'awsome': 744, 'mobilecamera': 745, 'parformence': 746, 'advantage': 747, 'colour': 748, 'struggle': 749, 'selfi': 750, 'scratch': 751, 'y1': 752, 'decent': 753, 'perfomance': 754, 'andreas': 755, 'bluetooth': 756, 'bokeh': 757, 'conclusion': 758, 'failure': 759, 'field': 760, 'juice': 761, 'lag': 762, 'mediatek': 763, 'musoc': 764, 'regretting': 765, 'hold': 766, 'penny': 767, 'rear': 768, 'condition': 769, 'net': 770, 'redmi': 771, 'e': 772, 'explore': 773, 'tone': 774, ',dollby': 775, 'aa': 776, 'achha': 777, 'discharge': 778, 'hi': 779, 'horhe': 780, 'isse': 781, 'kaam': 782, 'ki': 783, 'kisi': 784, 'krdlo': 785, 'krna': 786, 'maja': 787, 'padta': 788, 'raha': 789, 'rahi': 790, 'restart': 791, 'toh': 792, 'centre.lenovo': 793, 'glassbut': 794, 'performancebutlow': 795, 'effort': 796, 'setsfid': 797, 'number': 798, 'request': 799, 'badit': 800, 'magzineee': 801, 'facility': 802, 'line': 803, 'proof': 804, 'stone': 805, 'appointing': 806, 'didnt': 807, 'feed': 808, 'good': 809, 'it.but': 810, 'reply': 811, 'tag': 812, 'pe': 813, 'v.nice': 814, 'tnx': 815, 'stand': 816, 'mast': 817, 'replacement/return': 818, 'decacore': 819, 'standard': 820, '.it': 821, 'n': 822, 'portrait': 823, 'alternate': 824, 'breaking': 825, 'help': 826, 'solution.please': 827, 'vedio': 828, 'voltee': 829, 'wast': 830, 'lead': 831, 'beast': 832, 'manufacturing': 833, 'heats-up': 834, 'cabledont': 835, 'cableservice': 836, 'fingerprint': 837, 'scanner': 838, 'want': 839, 'phonewaste': 840, 'quality.': 841, 'detail': 842, 'supar': 843, 'gold': 844, 'range.you': 845, 'capacity': 846, 'guard': 847, 'smooththanks': 848, 'medium': 849, 'medium.camera': 850, 'feb': 851, 'quicker': 852, 'relay': 853, 'someone': 854, 'mths': 855, 'oly': 856, 'planning': 857, 'ti': 858, '❤️😄😍': 859, 'helios': 860, 'worry': 861, 'curve': 862, 'folder': 863, 'lcd': 864, 'link': 865, 'march': 866, 'k8performance': 867, 'percentage': 868, 'premium.battery': 869, 'purpose': 870, 'screen.camera': 871, 'overheating': 872, 'trouble': 873, 'occurs': 874, 'cpu': 875, 'background': 876, 'edge': 877, 'g5+': 878, 'ghz': 879, 'helio': 880, 'market': 881, 'miui': 882, 'object': 883, 'phone.camera': 884, 'verdict': 885, 'x23': 886, 'graphic': 887, 'bekar': 888, 'ha': 889, 'lo': 890, 'booklet': 891, 'pack': 892, 'bettery': 893, 'simple': 894, 'arebeautiful_': 895, 'grip': 896, 'k4': 897, 'mirror': 898, 'processer': 899, 'regard': 900, 'heat': 901, 'order': 902, 'sbi': 903, 'steps.but': 904, 'connector': 905, 'go': 906, 'duel': 907, 'split': 908, 'transparent': 909, 'window': 910, 'get': 911, 'needfull': 912, 'dec2018': 913, 'nokia': 914, 'refund.consider': 915, 'seller': 916, 'good.after': 917, 'ware': 918, 'alternative': 919, 'excitement': 920, 'response2': 921, 'synergy': 922, 'grade': 923, 'opening': 924, 'problemkeyboard': 925, 'data/internet': 926, 'excuse': 927, 'nightmare': 928, 'problemgood': 929, 'action': 930, 'corn': 931, 'phonegreat': 932, 'bugging': 933, 'mobile.pros': 934, 'mp': 935, 'onwards': 936, 'screen.cons': 937, 'mention': 938, 'phone.lenovo': 939, 'recorder.else': 940, 'apn': 941, 'band': 942, 'copy': 943, 'omlet': 944, 'dslr': 945, 'mh': 946, 'hence': 947, 'pixel': 948, 'totaly': 949, 'satisfactory': 950, 'pic': 951, 'dot': 952, 'suoerrr': 953, '.performance': 954, 'gamingbarry': 955, 'bezel': 956, 'games3': 957, 'gaming4': 958, 'phone1': 959, 'plastic6.big': 960, 'space7': 961, 'browsing.also': 962, 'disappointment.other': 963, 'specs.storage': 964, 'feature.i': 965, 'osm': 966, 'note4': 967, 'costnew': 968, 'effectsnice': 969, 'facing': 970, 'capture': 971, 'crazy.i': 972, 'liar': 973, 'antenna': 974, 'besides': 975, 'properly': 976, 'amp': 977, 'coverd': 978, 'dust': 979, 'lence': 980, 'msg': 981, 'trade': 982, 'hoid': 983, '-1': 984, 'consumption': 985, 'phone.explanation': 986, 'problem.i': 987, 'signal.2': 988, 'ramthe': 989, 'though:1.': 990, 'employee': 991, 'lame': 992, 'shamelenovo': 993, 'visit': 994, 'worstphone': 995, 'configruation': 996, 'customization': 997, 'cyanogenmod': 998, 'saver': 999, 'somethings': 1000, '.so': 1001, 'gpu': 1002, 'nov': 1003, 'phone.i': 1004, 'storage': 1005, 'view.thank': 1006, 'claim': 1007, 'cons:1': 1008, 'neighbour': 1009, 'plus': 1010, 'purchase.so': 1011, 'this.3': 1012, 'vivo': 1013, 'battery3.earphone': 1014, \"phone's1.camera\": 1015, 'phone.you': 1016, 'quality2.turbo': 1017, 'playing': 1018, 'assure': 1019, 'foulty': 1020, 'possible.after': 1021, 'output': 1022, 'baking.this': 1023, 'phone.it': 1024, 'properly.it': 1025, 'akdom': 1026, 'aur': 1027, 'baker': 1028, 'faltu': 1029, 'ghatiya': 1030, 'phonekoi': 1031, 'pura': 1032, 'bulky': 1033, 'design': 1034, 'mbl': 1035, 'instumet': 1036, 'occasion': 1037, 'hotport': 1038, 'set': 1039, 'strength': 1040, 'transfer': 1041, 'vice-versa': 1042, 'working': 1043, 'friend': 1044, 'phone.fetures': 1045, 'suggestion': 1046, 'upadatons': 1047, 'updation': 1048, 'manner': 1049, 'share': 1050, 'all.if': 1051, 'grt': 1052, 'connections.camera': 1053, 'everyone': 1054, 'official': 1055, 'thankx': 1056, 'chargerthe': 1057, 'setting': 1058, 'dial': 1059, 'discharging': 1060, 'screenshot': 1061, 'prdt': 1062, 'backup.wothy': 1063, 'standardsvery': 1064, 'powerfull': 1065, 'sensing': 1066, 'yes': 1067, 'delicate': 1068, 'perfect': 1069, \"'with\": 1070, 'competiror': 1071, 'edition': 1072, 'equilizer': 1073, 'manufacturer': 1074, 'player': 1075, 'promise': 1076, 'surround': 1077, 'account': 1078, 'blur': 1079, 'today': 1080, 'trader': 1081, 'batry': 1082, 'bckup': 1083, 'pm': 1084, 'tommorow': 1085, 'unables': 1086, 'android.in': 1087, 'bottom': 1088, 'cant': 1089, 'gimmick': 1090, 'hd': 1091, 'let': 1092, 'minus': 1093, 'pure': 1094, 'setup': 1095, 'ui': 1096, 'vibe': 1097, 'problemslet': 1098, 'reviewthnks': 1099, 'issue.very': 1100, 'feedback': 1101, 'shot': 1102, 'wholeso': 1103, 'chargeweight': 1104, 'fastits': 1105, 'handfree': 1106, 'battrey': 1107, '😑': 1108, '.im': 1109, '/moto': 1110, 'oppo': 1111, 'recipient': 1112, 'dijiye': 1113, 'email': 1114, 'mera': 1115, 'ray': 1116, 'port': 1117, 'stablity': 1118, 'wow': 1119, 'mediatek😭': 1120, 'prospect': 1121, 'listening': 1122, 'credential': 1123, 'pixels.lenovo': 1124, 'rank': 1125, 'calling.i': 1126, \"video's.it\": 1127, 'commitment': 1128, 'idea': 1129, 'photoholics': 1130, 'resonde': 1131, 'phone/charger': 1132, 'exlent': 1133, 'exp': 1134, 'qualiy': 1135, 'reviewer': 1136, 'id.need': 1137, 'urgent': 1138, 'check': 1139, 'address': 1140, 'break': 1141, 'enhancement': 1142, 'minute-': 1143, 'options.looks': 1144, 'primary': 1145, 'problem-': 1146, \"tv's-\": 1147, 'superbbb': 1148, 'respect': 1149, 'lock': 1150, 'prob': 1151, 'refund': 1152, 'divice': 1153, 'manager': 1154, 'task': 1155, 'deliver': 1156, 'jio4gvoice': 1157, 'make': 1158, 'reality': 1159, 'rounder': 1160, 'smoothest': 1161, 'varient': 1162, 'mp.mobile': 1163, 'shops.charging': 1164, 'sims': 1165, 'bo': 1166, 'good.brought': 1167, 'price.later': 1168, 'product.the': 1169, 'a2': 1170, 'balance': 1171, 'doubt': 1172, 'eluga': 1173, 'faster': 1174, 'lt': 1175, 'suck': 1176, 'buying.also': 1177, 'cheating': 1178, 'draining': 1179, 'lot😂😂': 1180, '........': 1181, 'gamer': 1182, 'jhakass': 1183, 'writingit': 1184, 'chance': 1185, 'months.': 1186, 'september': 1187, 'instagram': 1188, 'evening': 1189, 'gameing.cons-': 1190, 'qualitysupereb': 1191, 'quit': 1192, 'query': 1193, '♥️': 1194, 'utilization': 1195, 'heat.video': 1196, 'play.battery': 1197, 'temperature': 1198, 'multi': 1199, 'tasking': 1200, 'builth': 1201, 'ejector': 1202, 'exception': 1203, 'iphone': 1204, 'kcharger': 1205, 'makan': 1206, 'p1': 1207, 'photos.battery': 1208, 'style': 1209, 'connectivity.otherwise': 1210, 'cool': 1211, 'product.turbo': 1212, 'sort': 1213, 'tweak': 1214, 'bass': 1215, 'cx': 1216, 'flagship': 1217, 'g6': 1218, 'ii': 1219, 'loudness': 1220, 'motorola': 1221, 'ummaah': 1222, 'happen': 1223, 'home': 1224, 'list': 1225, 'too.please': 1226, 'twice/thrice': 1227, 'yesterday': 1228, 'sim.turbo': 1229, 'v': 1230, 'rupee': 1231, '.not': 1232, 'dislike': 1233, 'come': 1234, 'cover.how': 1235, 'boy': 1236, 'charged.it': 1237, 'disappointed.this': 1238, 'hour.soyou': 1239, 'software.i': 1240, 'nonsense': 1241, 'rain': 1242, 'wet': 1243, 'companyanyways': 1244, 'flashlight': 1245, 'glet': 1246, 'itemnow': 1247, 'lenovoi': 1248, 'phonethe': 1249, 'picturesi': 1250, 'sucksthe': 1251, 'updatetheir': 1252, 'videoand': 1253, 'okk': 1254, 'all.battery': 1255, 'cheak': 1256, 'plea': 1257, 'mirroring': 1258, 'drainage': 1259, 'none': 1260, 'ok.': 1261, '..........': 1262, 'whatsup': 1263, 'advertisement': 1264, 'rs.12000': 1265, 'rs13999': 1266, 'upgradation': 1267, 'packaging': 1268, 'feeld': 1269, 'excelant': 1270, 'elapses': 1271, 'range.stock': 1272, 'veraions': 1273, 'productsome': 1274, '🔋': 1275, 'category': 1276, 'hours.plz': 1277, 'it.camera': 1278, 'wise': 1279, 'face': 1280, 'iam': 1281, 'price.it': 1282, 'recognition': 1283, 'sd': 1284, 'television': 1285, 'unlocks': 1286, 'ssue': 1287, 'quick': 1288, 'allure': 1289, 'fast': 1290, 'processing': 1291, '👍': 1292, 'house': 1293, 'router': 1294, 'rs.11650': 1295, 'tablet': 1296, 'deleting.over': 1297, 'disappoint': 1298, 'heat.cast': 1299, 'improve': 1300, 'selection': 1301, 'trasparent': 1302, 'cost.not': 1303, 'cloth': 1304, 'laptop': 1305, 'offline': 1306, 'surf': 1307, 'mire': 1308, 'earplug': 1309, 'dhaka': 1310, 'greeting': 1311, 'handset.currently': 1312, 'mobile.looks': 1313, 'model.let': 1314, 'price.thankssriram': 1315, 'prompt': 1316, 'problem.over': 1317, 'problem.wht': 1318, 'bedluk': 1319, 'competition': 1320, 'corner': 1321, 'finish': 1322, 'life.cons': 1323, 'paper': 1324, 'pre': 1325, 'tad': 1326, 'taste': 1327, 'recoder': 1328, 'love': 1329, 'q6': 1330, 'space': 1331, 'waist': 1332, 'hammer': 1333, 'weapon': 1334, 'backlight': 1335, 'worthfull': 1336, '.4-': 1337, '.6-': 1338, 'funtation': 1339, 'verry': 1340, 'changer': 1341, 'increase': 1342, 'cell': 1343, 'good.but': 1344, 'superb.perparmence': 1345, 'generation': 1346, 'feachers': 1347, 'car': 1348, 'interface4': 1349, 'letv2': 1350, 'printer': 1351, 'problems1': 1352, 'times.3': 1353, 'degree': 1354, 'camerabattery': 1355, 'full100': 1356, 'hours.lemovo': 1357, 'pocketvery': 1358, 'prey': 1359, 'proplem': 1360, 'scrathes': 1361, 'hours.camera': 1362, 'avarge': 1363, 'fase': 1364, 'fuction': 1365, 'miter': 1366, 'option.need': 1367, 'r/sir': 1368, 'phone.works': 1369, 'expections': 1370, 'lip': 1371, 'okay': 1372, 'decade': 1373, 'network.no': 1374, 'all.please': 1375, 'kow': 1376, 'moneyafter': 1377, 'pixelsi': 1378, 'wt': 1379, 'vth': 1380, 'networking': 1381, 'singtone': 1382, 'comapre': 1383, 'others': 1384, 'enjoy': 1385, 'chip': 1386, 'doubts.and': 1387, 'flipkart': 1388, 'i.e': 1389, 'sony': 1390, 'world': 1391, 'guarantee': 1392, 'pick': 1393, 'exceptional': 1394, 'nuisance': 1395, 'p.m.': 1396, 'whole': 1397, 'earth': 1398, 'performancene': 1399, 'phonemoney': 1400, 'stuff': 1401, 'ad': 1402, 'desire': 1403, 'fake': 1404, 'lenonvo': 1405, 'phone.amazon': 1406, 'repellent': 1407, 'unlock': 1408, 'apps.but': 1409, 'assistant': 1410, 'bell': 1411, 'camera.9': 1412, 'casting.overall': 1413, 'click': 1414, 'customizations': 1415, 'feature.4': 1416, 'hand.3': 1417, 'hdr': 1418, 'issues.6': 1419, 'it.13': 1420, 'killer.15': 1421, 'left': 1422, 'month.pros': 1423, 'nano': 1424, 'outcome': 1425, 'silent.there': 1426, 'speeds.5': 1427, 'symbol': 1428, 'usage.note': 1429, 'use.2': 1430, 'vibrate': 1431, 'waiting': 1432, 'worthy': 1433, 'kiya': 1434, 'ringtone': 1435, 'wonderfull': 1436, 'bar': 1437, 'status': 1438, 'blurring': 1439, 'enough': 1440, 'letter': 1441, 'step': 1442, 'goodbut': 1443, 'calls.all': 1444, 'driver': 1445, 'gps': 1446, 'phone.adieu': 1447, 'plug': 1448, 'real-life.this': 1449, 'stability': 1450, 'myth': 1451, 'reae': 1452, 'mnt': 1453, 'deurability': 1454, 'bos': 1455, 'ppi': 1456, 'stop': 1457, '.nice': 1458, 'asphalt': 1459, 'dark.the': 1460, 'dept': 1461, 'mobile.solid': 1462, 'multitasking': 1463, 'popup': 1464, 'robot': 1465, 'store.mobile': 1466, 'war': 1467, 'x': 1468, 'charge.also': 1469, 'featurewe': 1470, 'on-off': 1471, 'ring': 1472, 'routine': 1473, 'schedule': 1474, 'properly.sound': 1475, 'fit': 1476, 'follows:1': 1477, 'functionality': 1478, 'has.functions': 1479, 'lounching': 1480, 'low': 1481, 'office': 1482, 'powwr': 1483, 'profile': 1484, 'scene': 1485, 'secure': 1486, 'whatsapp/fb': 1487, 'zone': 1488, 'error': 1489, 'hangout': 1490, 'phone.process': 1491, 'prise': 1492, 'range.i': 1493, 'negativity': 1494, 'verygood': 1495, 'month.i': 1496, 'otps': 1497, 'shape': 1498, 'journalist': 1499, 'men': 1500, 'callin': 1501, 'manageri': 1502, 'pice': 1503, 'problembattery': 1504, 'problemssensor': 1505, 'g2': 1506, 'priority': 1507, 'cheater': 1508, 'ask': 1509, 'managementuser': 1510, 'ram/battery': 1511, 'drops.2': 1512, 'issues:1.': 1513, 'vodafone': 1514, 'on/off': 1515, 'call.4': 1516, 'either.3': 1517, 'either.i': 1518, 'months.things': 1519, 'promotion': 1520, 'scrach': 1521, 'acha': 1522, 'galti': 1523, 'leta': 1524, 'maine': 1525, 'this.it': 1526, 'box.but': 1527, 'executive': 1528, 'touchpad': 1529, 'dress': 1530, 'micro': 1531, 'mobilepeople': 1532, 'oven': 1533, 'butterfly.so': 1534, 'lenovo.specialy': 1535, 'worste': 1536, 'reare': 1537, 'message': 1538, 'thru': 1539, 'department': 1540, 'competent': 1541, 'recharge': 1542, 'attempt': 1543, 'couple': 1544, 'piece.not': 1545, 'vcard': 1546, 'mic': 1547, 'biswajit': 1548, 'dey': 1549, 'lekin': 1550, 'mai': 1551, 'muje': 1552, 'paas': 1553, 'poucha': 1554, 'missing': 1555, 'thats': 1556, 'range.no': 1557, 'soo': 1558, 'downwhile': 1559, 'lenova': 1560, 'swiftness': 1561, 'yesi': 1562, 'apps.cons': 1563, 'lasting': 1564, 'display.fast': 1565, 'it.': 1566, 'lagging.good': 1567, 'range.nice': 1568, 'delivers': 1569, 'camera.not': 1570, 'lenovo.battery': 1571, 'inbuilt': 1572, 'k8+': 1573, 'dikhavati': 1574, 'camera.but': 1575, 'camerai': 1576, 'moneyi': 1577, 'returnablepls': 1578, 'reminder': 1579, 'approach': 1580, 'date.i': 1581, 'product.i': 1582, 'quality.i': 1583, 'thay': 1584, 'fluctuate': 1585, 'audio.turbo': 1586, 'performance.killer': 1587, 'comapints': 1588, 'consume': 1589, 'fullday': 1590, 'heatup': 1591, 'perfamenc': 1592, 'v.good': 1593, 'courier': 1594, 'backup.i': 1595, 'phone.not': 1596, 'ideal': 1597, 'job': 1598, 'denniscnlew': 1599, 'durability': 1600, 'test': 1601, 'flipcard': 1602, 'mano': 1603, 'meri': 1604, 'mgao': 1605, 'mt': 1606, 'saman': 1607, 'sarvis': 1608, '.while': 1609, 'heat.battery': 1610, 'mnts': 1611, 'android.i': 1612, 'huwai': 1613, 'idiot': 1614, 'iron': 1615, 'timing': 1616, 'photography': 1617, 'cheat': 1618, 'degrades': 1619, 'files.2': 1620, 'prone': 1621, 'risk': 1622, 'word': 1623, 'batery': 1624, 'charger8': 1625, 'guard5': 1626, 'mobile2': 1627, 'needful': 1628, 'side7': 1629, 'pathetic': 1630, 'eco': 1631, 'le': 1632, 'phine': 1633, 'testing': 1634, 'be-aware': 1635, 'computer': 1636, 'control': 1637, 'download': 1638, 'drive': 1639, 'messenger': 1640, 'reproduction': 1641, 'sharpness': 1642, 'stream': 1643, 'blaster': 1644, 'c': 1645, 'remote': 1646, 'off.thanks': 1647, 'whats': 1648, 'concern': 1649, 'lot.turbo': 1650, 'phone.and': 1651, 'access': 1652, 'expetions': 1653, 'particular': 1654, 'between.overall': 1655, 'day.selfie': 1656, 'light.apps': 1657, 'moon': 1658, 'particular.sound': 1659, 'foot': 1660, 'issue.otherwise': 1661, 'owner': 1662, 'performance.another': 1663, 'procedure': 1664, 'g5.4.processor': 1665, 'month1': 1666, 'perc': 1667, 'amazon.in': 1668, 'tray': 1669, 'goof': 1670, \"does't\": 1671, 'jus': 1672, 'packup': 1673, 'shopping': 1674, 'hate': 1675, '3products': 1676, 'portion': 1677, 'remain': 1678, 'fasterheadphones': 1679, 'dectection': 1680, 'good.camera': 1681, 'gomora': 1682, 'section': 1683, 'g': 1684, 'amazing': 1685, 'bakwaas': 1686, 'h': 1687, 'august,2017': 1688, 'chennai': 1689, 'december': 1690, 'properly.hence': 1691, 'allah': 1692, 'damn': 1693, 'masha': 1694, 'lenov': 1695, 'atleast': 1696, 'mint': 1697, 'report': 1698, 'smarttest': 1699, 'sure': 1700, 'game😥': 1701, 'costumer': 1702, 'a6000': 1703, 'a7000': 1704, 'electronics': 1705, 'family': 1706, 'hangup': 1707, 'news': 1708, 'aap': 1709, 'chehre': 1710, 'eska': 1711, 'spouse': 1712, 'worst': 1713, 'bateery': 1714, 'draining.4000mah': 1715, 'caller': 1716, 'region': 1717, 'desplay': 1718, 'etna': 1719, 'ga.': 1720, 'jaga': 1721, 'kehi': 1722, 'ko': 1723, 'mele': 1724, 'mila': 1725, 'mujhko': 1726, 'peppar': 1727, 'pi': 1728, 'tha': 1729, 'darling': 1730, 'fall': 1731, 'surley': 1732, \"'cast\": 1733, 'box.6': 1734, 'mark.3': 1735, 'funny': 1736, 'hight': 1737, 'meter': 1738, 'rumour': 1739, 'displaynice': 1740, 'mobilegood': 1741, 'performanceaverage': 1742, 'p2': 1743, 'beset': 1744, 'this.hope': 1745, 'sometimes': 1746, 'mark.not': 1747, 'andi': 1748, 'rite': 1749, 'addition': 1750, 'brighter': 1751, 'catcher': 1752, 'dataverdict': 1753, 'day2': 1754, 'display6': 1755, 'either4': 1756, 'fine7': 1757, 'hype': 1758, 'issue4': 1759, 'issue5': 1760, 'optimization': 1761, 'patience': 1762, 'rangeverdict': 1763, 'review.1': 1764, 's/w': 1765, 'shot3': 1766, 'stabilization': 1767, '.graphics': 1768, 'adreno.so': 1769, 'company.battery': 1770, 'so.it': 1771, 'tq': 1772, 'esasyly': 1773, 'pressure': 1774, 'hesitation': 1775, 'turn-offs': 1776, 'problem.camera': 1777, 'saturation': 1778, 'microphone': 1779, 'apeksha': 1780, 'bahut': 1781, 'garam': 1782, 'ja': 1783, 'jaldi': 1784, 'jyada': 1785, 'yeh': 1786, 'chagre': 1787, 'lenovo.it': 1788, 'android2': 1789, 'atmos7': 1790, 'avg': 1791, 'installation4': 1792, 'performance,4.os': 1793, 'pros1.stock': 1794, 'responsivesmooth.5': 1795, 'camerakiller': 1796, 'hanged.😎': 1797, 'lookkiller': 1798, 'performancei': 1799, 'pubg': 1800, 'b': 1801, 'baat': 1802, 'badiyaa': 1803, 'chalta': 1804, 'chlta.ply': 1805, 'ek': 1806, 'har': 1807, 'hu': 1808, 'karbaya': 1809, 'kyu': 1810, 'nhi': 1811, 'acoumnt': 1812, 'casback': 1813, 'mony': 1814, 'mobile.display': 1815, 'visibility': 1816, 'problem3': 1817, 'problem4': 1818, '⚠️': 1819, '👍5': 1820, 'apps.good': 1821, 'camera.super': 1822, 'display.no': 1823, 'lag.no': 1824, 'payment': 1825, 'heeting': 1826, 'thak': 1827, 'recorderdump': 1828, 'amazon.but': 1829, 'box.pls': 1830, 'charger.when': 1831, 'intake': 1832, 'today.thank': 1833, 'xiaomi': 1834, 'quatlity': 1835, '15-days': 1836, 'assist': 1837, 'ease': 1838, 'hoping': 1839, 'incoming': 1840, 'irla': 1841, 'mall': 1842, 'oct': 1843, 'operation': 1844, 'parle': 1845, 'receipt': 1846, 'reload': 1847, 'representative': 1848, 'right': 1849, 'w': 1850, 'yr': 1851, 'good.sound': 1852, '.4': 1853, 'attention': 1854, 'back.6': 1855, 'handling': 1856, 'kit': 1857, 'launching.1': 1858, 'minutes.hope': 1859, 'network.2': 1860, 'outgo': 1861, 'pages.7': 1862, 'palm': 1863, 'portal': 1864, 'quickly.5': 1865, 'way.8': 1866, 'arrange': 1867, 'mood': 1868, 'anroid': 1869, 'adapter': 1870, 'better': 1871, 'notk8': 1872, 'buttry': 1873, 'recommend': 1874, ',64': 1875, 'good.5': 1876, 'good9': 1877, 'gp': 1878, 'it,3': 1879, 'mobi8': 1880, 'only6': 1881, 'ph': 1882, 'reciving': 1883, 'romin': 1884, 'time2': 1885, 'rock': 1886, 'guyz': 1887, 'wasteage': 1888, 'camera.it': 1889, 'experience.please': 1890, 'factory': 1891, 'models.camera': 1892, 'name.motorola': 1893, 's.i': 1894, 'micromax': 1895, 'sorry': 1896, 'urself': 1897, 'stay': 1898, 'west': 1899, 'all.stock': 1900, 'altogether.charge': 1901, 'display.good': 1902, 'earphones.has': 1903, 'enthusiast': 1904, 'quality.great': 1905, 'speed/power': 1906, 'through.overall': 1907, 'x3': 1908, 'fasst': 1909, 'beauty': 1910, 'discount': 1911, 'sale.the': 1912, 'hit': 1913, 'jata': 1914, 'issuehow': 1915, 'answer': 1916, 'avrg': 1917, 'fasti': 1918, 'form': 1919, 'tooth': 1920, 'bed': 1921, 'bhai': 1922, 'hbe': 1923, 'katha': 1924, 'proportion': 1925, 'it.by.akash': 1926, ',or': 1927, 'ander': 1928, 'bich': 1929, 'bnd': 1930, 'chalna': 1931, 'gya': 1932, 'iska': 1933, 'iske': 1934, 'ji': 1935, 'maha': 1936, 'pr': 1937, 'road': 1938, 'sbse': 1939, 'sirf': 1940, 'tkm': 1941, 'mnth': 1942, 'camera.cons': 1943, 'launch': 1944, 'mirroring/cat': 1945, 'dad': 1946, 'blank': 1947, 'display.when': 1948, '💰💰': 1949, 'nowadays': 1950, 'quantity': 1951, 'shareit': 1952, 'smartv': 1953, 'annoying': 1954, 'andoid': 1955, 'android2.good': 1956, 'costo': 1957, 'design4.nice': 1958, 'dirty': 1959, 'phone.plus': 1960, 'pros-1.stock': 1961, 'resource': 1962, 'skin': 1963, 'speakers5.decent': 1964, 'updates.i': 1965, 'variant.8': 1966, 'whenever': 1967, 'pin': 1968, '.my': 1969, 'verson': 1970, 'clarity.awesome': 1971, 'performance.super': 1972, 'phones.i': 1973, 'problems.i': 1974, 'bactory.need': 1975, 'consumes': 1976, 'smoother': 1977, 'police': 1978, 'attractive.buttons': 1979, 'enoughspeaker': 1980, 'boke': 1981, 'past': 1982, 'problems,1': 1983, 'strategy.2.bluetooth': 1984, 'avoid': 1985, 'chipset.still': 1986, 'exciting': 1987, 'gaming-': 1988, 'provision': 1989, 'tag.overall': 1990, 'gr8': 1991, 'cooker': 1992, 'complaints.i': 1993, 'price.no': 1994, 'side.but': 1995, 'product.value': 1996, 'universe': 1997, 'bada': 1998, 'shandaar': 1999, 'absolute': 2000, 'grms': 2001, 'heavy': 2002, 'pad': 2003, 'brain': 2004, 'loss': 2005, \"'killer\": 2006, 'last': 2007, '😡': 2008, '😍😍': 2009, 'perfm': 2010, 'surfing': 2011, 'f1s': 2012, 'jiffy': 2013, 'alarm': 2014, 'ringtones': 2015, 'calling.1': 2016, 'configuration.5': 2017, 'down.2': 2018, 'times.4': 2019, 'airtel4g': 2020, 'missig': 2021, 'olx': 2022, 'restarting/aeroplane': 2023, 'soon.back': 2024, 'timecons': 2025, 'bugs.this': 2026, 'buyers.rajiv': 2027, 'fraternity': 2028, 'gmail.com': 2029, 'half': 2030, 'hurry': 2031, 'pathakrajivpathak27': 2032, 'repent': 2033, 'understood': 2034, 'lacking': 2035, 'asseseris': 2036, '👎': 2037, 'atom': 2038, 'placement': 2039, 'recording,3': 2040, 'vibration': 2041, '-4': 2042, 'chutia': 2043, 'qulaity': 2044, 'stellar': 2045, 'strucks': 2046, 'definition': 2047, 'execellent': 2048, 'price.the': 2049, 'shop': 2050, 'wala': 2051, 'socket': 2052, 'persist': 2053, 'other.unless': 2054, 'recommendation': 2055, 'send': 2056, 'relative': 2057, 'sensor.and': 2058, 'betteryy': 2059, 'versatile': 2060, 'baecap': 2061, 'aug': 2062, 'jat': 2063, 'turo': 2064, 'chargingphone': 2065, 'ironboxdata': 2066, 'netbattery': 2067, 'onebattery': 2068, 'satisfiedtouch': 2069, 'same.this': 2070, '.excellent': 2071, 'traveller': 2072, 'problems.3': 2073, 'problems.this': 2074, 'product.1': 2075, 'demo': 2076, 'amazon.battery': 2077, 'struggle.i': 2078, 'signale': 2079, 'party': 2080, 'mobile.at': 2081, 'example': 2082, 'orrio': 2083, '.left': 2084, 'all.amazon': 2085, 'hipper': 2086, 'kommerce': 2087, 'llp': 2088, \"side.dont't\": 2089, 'thread': 2090, 'whatsoever.rocket': 2091, '.far': 2092, 'desply': 2093, 'thn': 2094, 'handset.also': 2095, 'place': 2096, 'jio4g': 2097, 'minets': 2098, 'problembaiterry': 2099, 'mm': 2100, 'enable': 2101, 'massage': 2102, 'sim2': 2103, 'afternoon': 2104, 'state2': 2105, 'timer': 2106, 'working3': 2107, 'condition5': 2108, 'heats4': 2109, 'worst2': 2110, 'camra': 2111, 'screen.i': 2112, 'shade': 2113, 'androidvery': 2114, 'batterystock': 2115, 'overheats': 2116, 'smoothcons': 2117, 'goodcons': 2118, 'impact': 2119, 'satisfying': 2120, 'bank': 2121, 'blair': 2122, 'flip': 2123, 'leg': 2124, 'light5': 2125, 'like1': 2126, 'note10': 2127, 'one8': 2128, 'sleep': 2129, 'strep': 2130, 'ft': 2131, 'gen': 2132, 'digit': 2133, 'operation.poor': 2134, 'goog': 2135, 'monile': 2136, 'geting': 2137, 'getng': 2138, 'sheet': 2139, 'th': 2140, 'bangalore': 2141, 'ground': 2142, 'qulality': 2143, 'twice': 2144, 'discrb': 2145, 'ambition': 2146, 'deleting': 2147, 'edit': 2148, 'fast8': 2149, 'hyderabad': 2150, 'id': 2151, 'immediate': 2152, 'kopilla': 2153, 'list5': 2154, 'list7': 2155, 'option.3': 2156, 'outlook': 2157, 'quality,2': 2158, 'receiving': 2159, 'sent': 2160, 'thissrinivas': 2161, 'frnd': 2162, 'pricerear': 2163, 'ramfinger': 2164, '👌👌👌👍': 2165, 'toggle': 2166, 'bliss': 2167, 'hum': 2168, 'dhasu': 2169, 'hadephone': 2170, 'sine': 2171, 'ac.of': 2172, 'cashmemo': 2173, 'issue.and': 2174, 'work.how': 2175, 'flicker': 2176, 'disgusting': 2177, 'today.and': 2178, 'lagging': 2179, 'cheapest': 2180, 'longtime': 2181, 'warm': 2182, 'adaptor': 2183, 'failed.is': 2184, 'money.better': 2185, 'charging6': 2186, 'night4': 2187, 'tasking2': 2188, 'goos.few': 2189, 'performer': 2190, '-_-again': 2191, 'august': 2192, 'bam': 2193, 'cord': 2194, 'imagine': 2195, 'look.5': 2196, 'problem.then': 2197, 'stupid.4': 2198, 'theme': 2199, 'variety': 2200, 'wallpaper': 2201, 'session': 2202, 'act': 2203, 'connect': 2204, 'problem.battery': 2205, 'but.we': 2206, 'chahiye': 2207, 'honi': 2208, 'isme': 2209, 'heee': 2210, 'hojata': 2211, 'bhtar': 2212, 'bhut': 2213, 'bura': 2214, 'china': 2215, 'dûñïâ': 2216, 'ghatia': 2217, 'ghatiaa': 2218, 'haii': 2219, 'kha': 2220, 'lelo': 2221, 'lobhut': 2222, 'rhegayeh': 2223, 'sabse': 2224, 'rangeone': 2225, 'supernot': 2226, 'sunshine': 2227, 'transportation': 2228, 'dattry': 2229, 'pak': 2230, 'deseises': 2231, 'woow': 2232, 'phone.speed': 2233, 'protection': 2234, 'functioning': 2235, 'retailer': 2236, 'pronlem': 2237, 'k8note': 2238, 'reset': 2239, '.one': 2240, 'good.i': 2241, 'heater': 2242, '.2': 2243, '.otherwise': 2244, 'energy': 2245, 'mff': 2246, 'sometime': 2247, 'aspect': 2248, 'bacup': 2249, 'excellentsound': 2250, 'productbattery': 2251, 'property': 2252, 'icon': 2253, 'everybody': 2254, 'premium': 2255, 'pacup': 2256, 'delivery.lenovo': 2257, 'spcl': 2258, 'thankxx': 2259, 'better.i': 2260, 'beware': 2261, 'cab': 2262, 'color.go': 2263, 'like.but': 2264, 'limit': 2265, 'multimedia': 2266, 'plus.aman': 2267, 'price.phone': 2268, '.7': 2269, 'expectations9': 2270, 'hot.4': 2271, 'incorrect': 2272, 'mistake6': 2273, 'mobiles.2': 2274, 'pain': 2275, 'panel': 2276, 'phone.1': 2277, 'phones.8': 2278, 'strength.i': 2279, 'x20': 2280, 'camera.frequent': 2281, 'drainage.not': 2282, 'wr': 2283, 'wort': 2284, 'backcharger': 2285, 'greate': 2286, 'applocker': 2287, 'properlyi': 2288, 'advantage.speakers': 2289, 'approx.': 2290, 'boost': 2291, 'frequently.camera': 2292, 'huawei': 2293, 'june/july.the': 2294, 'laptop.the': 2295, 'only.lenovo': 2296, 'photograph': 2297, 'usability': 2298, 'vaio': 2299, 'wife': 2300, 'charger.phone': 2301, 'experience.sock': 2302, 'image.the': 2303, 'chaiye': 2304, 'haur': 2305, 'karta': 2306, 'kharidna': 2307, 'mahanamazon': 2308, 'nikala': 2309, 'rhi': 2310, 'casting/mirroring': 2311, 'caution': 2312, 'refrain': 2313, 'substandard': 2314, 'non': 2315, 'tab': 2316, 'dosa': 2317, 'pan': 2318, 'snail': 2319, 'ovearl': 2320, 'availablespeakers': 2321, 'result': 2322, 'zoom': 2323, 'boom': 2324, 'power.recommendation': 2325, 'surprise': 2326, 'become': 2327, 'history': 2328, 'bless': 2329, 'consumer': 2330, 'luck': 2331, 'maintenance': 2332, '😘😘😘': 2333, 'emi': 2334, 'showcase': 2335, 'fhd': 2336, 'point.battery': 2337, 'researches.camera': 2338, 'device.im': 2339, 'folk': 2340, 'ill': 2341, 'moreover': 2342, 'effect.': 2343, 'open': 2344, 'requirement': 2345, 'turbocharging': 2346, 'broke': 2347, 'protector': 2348, 'devicefound': 2349, 'drizzle': 2350, 'cheatedprocessor': 2351, 'paisa': 2352, 'vashul': 2353, 'karthik': 2354, 'duty': 2355, 'haha': 2356, 'sofware': 2357, 'volcano': 2358, 'pickup': 2359, 'capability': 2360, 'holding': 2361, 'interferes': 2362, 'nice': 2363, 'camera.5.worth': 2364, 'gaming3.battery': 2365, 'good.stands': 2366, 'good2.performance': 2367, 'satisfactory.good': 2368, 'use4.camera': 2369, 'vr': 2370, 'phone.': 2371, 'fvvg': 2372, 'prafomens': 2373, '.you': 2374, 'hear': 2375, 'wen': 2376, 'yeah': 2377, '😍': 2378, 'happens': 2379, 'bulb': 2380, 'battery,4000': 2381, 'betry': 2382, 'hai.battery': 2383, 'kam': 2384, 'phonenice': 2385, 'productfullfill': 2386, 'earphone.it': 2387, 'torch': 2388, 'superrrr': 2389, 'performance.battery': 2390, 'scratch.and': 2391, 'purchase.also': 2392, 'charger3': 2393, 'average.phone': 2394, 'cover.camera': 2395, 'vfm.good': 2396, 'pl': 2397, '😒😏': 2398, 'professional': 2399, 'othervise': 2400, 'semma': 2401, 'dueto': 2402, 'jan2018': 2403, 'mono': 2404, '-this': 2405, '.-hotspot': 2406, 'this.glass': 2407, 'cake': 2408, 'cherry': 2409, 'sestem': 2410, 'watt': 2411, 'riajiaconsultants': 2412, 'proc': 2413, 'console': 2414, 'widget': 2415, 'it.thank': 2416, 'mujhe': 2417, 'lotheatingperformance': 2418, '😕': 2419, 'poduct': 2420, 'state': 2421, 'charge.all': 2422, 'basic': 2423, 'plenty': 2424, '😒😒😒😢😢😢😢': 2425, 'quicklyi': 2426, 'connects': 2427, 'menu.looks': 2428, 'height': 2429, 'motog5': 2430, 'resistance': 2431, 'dash': 2432, 'motog2': 2433, 'nooo': 2434, '.........': 2435, 'winter': 2436, 'i.': 2437, 'photoes': 2438, 'bougt': 2439, 'contact.3.torch/': 2440, 'suggest': 2441, 'wont': 2442, 'arm': 2443, 'fps': 2444, 'vasool': 2445, 'applications.product': 2446, 'lenovo.wastage': 2447, 'patch': 2448, 'product.no': 2449, '.6.': 2450, 'average.4': 2451, 'lil': 2452, 'mah3': 2453, 'reach': 2454, 'stars2': 2455, 'goodcamera': 2456, '.hope': 2457, 'superfast': 2458, 'ase': 2459, 'bhoir': 2460, 'karna': 2461, 'ker': 2462, 'leye': 2463, 'ne': 2464, 'oppction': 2465, 'suppppeeeerrr': 2466, 'issueotherwise': 2467, 'rumor': 2468, 'certification': 2469, 'selfy': 2470, 'charging3': 2471, 'lot.screen': 2472, 'minstoo': 2473, 'operations1': 2474, 'waste.if': 2475, 'arrival': 2476, 'shame': 2477, 'business': 2478, 'contender': 2479, 'crisp': 2480, 'dac': 2481, 'indoor': 2482, 'indoors': 2483, 'mtk': 2484, 'nougat': 2485, 'preference': 2486, 'ranger': 2487, 'slippery': 2488, 'subject': 2489, 'worse': 2490, 'indore': 2491, 'rs.2000': 2492, 'empty': 2493, 'futurecons': 2494, 'ir': 2495, 'nfc': 2496, 'duak': 2497, 'rang': 2498, 'stage': 2499, 'coz': 2500, 'welll': 2501, 'yeaahhh': 2502, 'sec': 2503, 'jhakas': 2504, 'benefit': 2505, 'buyback': 2506, 'flash.and': 2507, 'tasking.thanks': 2508, 'clock': 2509, 'hanging.camera': 2510, 'slotsgood': 2511, 'goodnice': 2512, 'max': 2513, 'omg': 2514, 'p': 2515, 'il': 2516, 'camera.pics': 2517, 'dullbattery': 2518, 'issue.bad': 2519, 'consuntil': 2520, 'engineer': 2521, 'foolit': 2522, 'numberit': 2523, 'temperaturei': 2524, 'available.': 2525, 'conversation': 2526, 'utility': 2527, '😢😢': 2528, 'desk': 2529, 'signals.guys': 2530, 'achcha': 2531, 'avrage': 2532, 'sala': 2533, '.gets': 2534, 'mobilesimply': 2535, 'towards': 2536, 'track': 2537, 'year.still': 2538, 'aspects.1': 2539, 'mode5': 2540, 'processor4': 2541, 'quality.6': 2542, 'range.k8note': 2543, 'resolution2': 2544, 'hands-free': 2545, 'subpar': 2546, 'comment': 2547, 'fact': 2548, 'dono': 2549, '☺️☺️☺️': 2550, 'bujet': 2551, 'plzzz': 2552, 'beaware': 2553, 'didnot': 2554, 'fraud': 2555, 'processar': 2556, 'gorrila': 2557, 'april': 2558, 'mode.and': 2559, 'duriation': 2560, 'frist': 2561, 'one.battery': 2562, 'that.this': 2563, 'boardthat': 2564, 'defective.it': 2565, 'இயலாது': 2566, 'என்று': 2567, 'ஒன்று': 2568, 'சொல்ல': 2569, 'now.hilights': 2570, 'etc.cons': 2571, 'expected.camera': 2572, 'goodpros': 2573, 'lovin': 2574, 'backup3.excellent': 2575, 'camera4': 2576, 'look2.great': 2577, 'kill': 2578, 'proper': 2579, 'bukeh': 2580, 'poor.only': 2581, 'phone😂😂': 2582, 'thanku': 2583, '.taken': 2584, 'document': 2585, 'fastexpectation': 2586, 'goodphone': 2587, 'meet': 2588, 'phonecamera': 2589, 'bcoz': 2590, 'method': 2591, 'sttill': 2592, 'problem.do': 2593, 'victim': 2594, 'handseti': 2595, 'backupdue': 2596, 'gaming.buy': 2597, 'stutter': 2598, 'good.2': 2599, 'ever👍👍👍👍👍😍😍😍': 2600, 'mobile.10': 2601, 'advertising': 2602, 'race': 2603, 'crowd6': 2604, 'device1': 2605, 'music.5': 2606, 'quality2': 2607, 'signal4': 2608, 'थोड़ा': 2609, 'महँगा': 2610, '।।।।।।।': 2611, 'bye': 2612, 'tower': 2613, 'fabules': 2614, 'feature.it': 2615, 'dry': 2616, 'servies': 2617, 'staff': 2618, 'nicephone': 2619, 'problem🔥': 2620, 'scretch': 2621, 'confirm': 2622, 'nyc': 2623, 'fischer': 2624, 'bast': 2625, 'ex': 2626, 'reboots': 2627, 'giver': 2628, 'goodbattery': 2629, 'goodit': 2630, 'hange': 2631, 'accidental': 2632, 'liquid': 2633, 'cutter': 2634, 'good.better': 2635, 'prashant': 2636, 'distance': 2637, 'phone.sound': 2638, 'owsm': 2639, 'dark': 2640, 'lit': 2641, 'gu': 2642, 'perfect.fingerprint': 2643, 'apk': 2644, 'good.re': 2645, 'helpline': 2646, 'iphone6': 2647, 'substitute': 2648, 'asap': 2649, 'crack': 2650, 'peace': 2651, 'sep': 2652, 'tho': 2653, 'well': 2654, 'iruku': 2655, 'semmaya': 2656, 'finebattery': 2657, 'thisbut': 2658, 'bana': 2659, 'dam': 2660, 'devise': 2661, 'etc.camera': 2662, 'interval': 2663, 'issues.turbo': 2664, 'mamu': 2665, 'music/voice': 2666, 'playback': 2667, 'sister': 2668, 'wireless': 2669, 'soon.most': 2670, 'dealing': 2671, 'drail': 2672, 'leeco': 2673, 'maga': 2674, 'methis': 2675, 'perfermance': 2676, 'pixal': 2677, 'problem.please': 2678, 'productnotification': 2679, 'properly6-': 2680, 'tempreture': 2681, 'software.focus': 2682, 'lap': 2683, 'backupnice': 2684, 'cameracould': 2685, 'compatibility': 2686, 'designfinger': 2687, 'effectsi': 2688, 'helpful': 2689, 'lookpros': 2690, 'unlockcons': 2691, 'urge': 2692, 'flashconsdifficult': 2693, 'moment': 2694, 'pros4gb': 2695, 'screenbrightness': 2696, 'stucks': 2697, 'feast': 2698, 'grabbing': 2699, 'loadedvalue': 2700, 'properly.after': 2701, 'charge.sound': 2702, 'worst.phone': 2703, 'fire': 2704, 'purchase.the': 2705, 'leneovo': 2706, 'wich': 2707, 'comparing': 2708, 'downloading': 2709, 'uploading': 2710, 'blur.processor': 2711, 'advance': 2712, 'charge.battery': 2713, 'commitment.this': 2714, 'editor': 2715, 'it.selfie': 2716, 'qualify': 2717, 'vga': 2718, 'option.have': 2719, 'product.found': 2720, 'record.good.but': 2721, 'browsingbattery': 2722, 'carelessness': 2723, 'hands.i': 2724, 'mom': 2725, 'overnight': 2726, 'too.you': 2727, 'yeari': 2728, 'hourand': 2729, 'vry': 2730, 'home.while': 2731, 'netwrk': 2732, 'packing': 2733, 'backlit': 2734, 'kenobi': 2735, 'z2': 2736, 'backupfront': 2737, 'cardandroid': 2738, 'charmfree': 2739, 'coverseparate': 2740, 'devicetouch': 2741, 'jio4gphone': 2742, 'sooncons': 2743, 'cover.mobile': 2744, 'guard.no': 2745, 'broken': 2746, 'broken.many': 2747, 'corilla': 2748, 'display.it': 2749, 'worthless': 2750, 'wd': 2751, 'watevr': 2752, 'cameraheatingbattery': 2753, 'xiomi': 2754, 'isey': 2755, 'wapas': 2756, 'yaar': 2757, '😠': 2758, 'wi-fi': 2759, '10-15k': 2760, 'makkhan': 2761, 'prove': 2762, 'mobile.it': 2763, 'apps.camera': 2764, 'closing': 2765, 'look-': 2766, 'cals': 2767, 'hearing': 2768, 'product0': 2769, 'candy': 2770, 'crush': 2771, 'sencer': 2772, 'problem2': 2773, 'battey': 2774, 'performance.2': 2775, 'sake': 2776, 'workingotg': 2777, 'culprit.when': 2778, 'lumia': 2779, 'mb': 2780, 'testing.because': 2781, 'this.camera': 2782, 'lenovo.i': 2783, 'brandambassador': 2784, 'kept': 2785, 'betterment': 2786, 'charm': 2787, 'compromise': 2788, 'heck': 2789, 'innovation': 2790, 'july': 2791, 'now,10': 2792, 'optimisation': 2793, 'pics.now': 2794, 'replacement.i': 2795, 'sincei': 2796, 'sleek': 2797, 'slr': 2798, 'usage.looks': 2799, 'utelisation': 2800, 'variant.battery': 2801, 'telecom': 2802, 'phonebattery': 2803, 'goodcarmera': 2804, 'pricedont': 2805, 'factor': 2806, 'production': 2807, 'tint': 2808, 'devices.battery': 2809, 'performance.waste': 2810, 'product.really': 2811, 'supet': 2812, 'googel': 2813, 'browser': 2814, 'disappointing': 2815, 'flipkarts': 2816, 'reviews.i': 2817, 'seeing': 2818, 'plas': 2819, 'samasung': 2820, 'willbe': 2821, 'superstar': 2822, 'fastlyi': 2823, 'sad': 2824, 'rectification': 2825, 'behaviour': 2826, 'man': 2827, 'kya': 2828, 'basis': 2829, 'ft.': 2830, 'jabalpur': 2831, 'screen.mobile': 2832, 'spare': 2833, 'packagingnot': 2834, 'problempoor': 2835, 'qualityno': 2836, 'backi': 2837, 'deviceit': 2838, 'markand': 2839, 'slow.contacts': 2840, 'dat': 2841, 'gamesapart': 2842, 'also.good': 2843, 'dsplay': 2844, 'gd': 2845, 'operationsbttry': 2846, 'mobile.but': 2847, '😢😢😢😢': 2848, 'luks': 2849, 'patent': 2850, 'charging.apart': 2851, 'headfone': 2852, 'packet': 2853, 'amazon.dolby': 2854, 'headpones': 2855, 'on5': 2856, 'this.i': 2857, 'usp': 2858, 'speedbattery': 2859, 'algorithm': 2860, 'automaticaly': 2861, 'buying.please': 2862, 'release': 2863, 'segment.front': 2864, 'jayanagar': 2865, 'alert': 2866, 'apearence': 2867, 'phonethankyou': 2868, 'charge.the': 2869, 'device.after': 2870, 'mode.need': 2871, 'pop-up': 2872, 'started.in': 2873, 'warmerbut': 2874, 'boxgood': 2875, 'cashback': 2876, 'hdfc': 2877, 'gio': 2878, 'offthis': 2879, '.company': 2880, 'cemera': 2881, 'overnight.the': 2882, 'dustbin': 2883, 'product.do': 2884, 'product.so': 2885, 'quality.but': 2886, 'temp': 2887, 'density': 2888, 'priceeverything': 2889, 'future4+642.3ghz4000mhz': 2890, 'wastage': 2891, 'fun': 2892, 'complet': 2893, 'heting': 2894, 'camera.when': 2895, 'resultspoor': 2896, 'mobile.i': 2897, 'bez': 2898, 'material': 2899, 'self': 2900, 'customar': 2901, 'earsets': 2902, '.weights': 2903, 'gm': 2904, 'meமிகவும்': 2905, 'tek': 2906, 'ஆடம்பரம்': 2907, 'இல்லாத': 2908, 'திரண்பேசி_smart': 2909, 'பலம்': 2910, 'பொருந்திய': 2911, 'grate': 2912, 'border': 2913, 'costlier': 2914, 'phns': 2915, 'trace': 2916, 'copmare': 2917, 'goodvery': 2918, 'performancebattery': 2919, 'immediately.this': 2920, 'g8': 2921, 'lightcamera': 2922, 'negativescamera': 2923, 'weeksound': 2924, 'servicesonline': 2925, '😡😡🤬🤬': 2926, 'angle': 2927, 'pro-mode': 2928, 'leatel': 2929, 'fluctuation': 2930, 'shipping': 2931, 'yo': 2932, '.aur': 2933, 'aapse': 2934, 'baad': 2935, 'chahte': 2936, 'complains': 2937, 'deta': 2938, 'dosto': 2939, 'fasata': 2940, 'hai.bahut': 2941, 'jaagta': 2942, 'kabhi': 2943, 'kar': 2944, 'kharaab': 2945, 'kharidne': 2946, 'paaoge': 2947, 'rupaye': 2948, 'vo': 2949, '.why': 2950, 'levono': 2951, 'fetures': 2952, 'bother': 2953, '/poor': 2954, '.6': 2955, 'attractive.4': 2956, 'c7': 2957, 'note.following': 2958, 'reputation': 2959, '.and': 2960, '.waste': 2961, 'bakwasssss': 2962, 'lagta': 2963, 'bad.it': 2964, 'continue': 2965, 'fastback': 2966, 'patriod': 2967, 'comfort': 2968, 'score': 2969, 'phone.phone': 2970, \"'cons\": 2971, \"'pro\": 2972, 'animation': 2973, 'caller.6': 2974, 'facility.2': 2975, 'forums.i': 2976, 'instead.4': 2977, 'it.5': 2978, 'lenovo.please': 2979, 'malfunctioning': 2980, 'option.': 2981, 'reasons1': 2982, 'shoot': 2983, 'software/system': 2984, 'themes.8': 2985, 'this.amazon': 2986, 'fab👍': 2987, 'camera.images': 2988, 'moblie': 2989, 'gamers': 2990, 'bomb': 2991, 'versioncharger': 2992, 'product.battery': 2993, 'one.no': 2994, 'one.the': 2995, 'supply': 2996, 'accha': 2997, 'chal': 2998, 'kaisa': 2999, 'ptaa': 3000, 'dose': 3001, 'dovice': 3002, 'hv': 3003, 'select': 3004, 'batary': 3005, 'lrnovo': 3006, '.pros': 3007, 'chargingcons': 3008, 'aavdla': 3009, 'ahe': 3010, 'clearrity': 3011, 'ghya': 3012, 'mala': 3013, 'pn': 3014, 'tumi': 3015, 'king': 3016, 'loan': 3017, 'oneplus': 3018, 'loot': 3019, 'attach': 3020, 'draines': 3021, 'handle': 3022, 'multiple': 3023, '😙😞😞🤑': 3024, 'brokaw': 3025, 'officer': 3026, 'remarkable': 3027, 'for14hrs': 3028, 'fastbut': 3029, 'good2': 3030, 'week1': 3031, 'thik': 3032, 'rich': 3033, 'sunlight': 3034, 'website': 3035, 'zuk': 3036, 'atmos.4/64': 3037, 'average.back': 3038, 'battery.while': 3039, 'cancellation': 3040, 'processor.and': 3041, 'slide': 3042, 'issues.all': 3043, 'mode.no': 3044, 'price.only': 3045, 'mobile.in': 3046, 'performance.so': 3047, 'bylenovothanku': 3048, 'cameradolby': 3049, 'musicbattery': 3050, 'food': 3051, '-all': 3052, 'clueless': 3053, 'maneuver': 3054, 'speech': 3055, 'rance': 3056, 'attch': 3057, 'canno': 3058, 'evercamera': 3059, '.go': 3060, 'mike': 3061, 'phone.excellent': 3062, 'reliability': 3063, 'role': 3064, 'thankyou': 3065, 'detectes': 3066, 'supper': 3067, 'mahoverall': 3068, 'a2dp': 3069, 'all.4': 3070, 'app.6': 3071, 'boldbeast': 3072, 'games.2': 3073, 'it.if': 3074, 'jio/volte/4g': 3075, 'myth.1': 3076, 'neck.5': 3077, 'press': 3078, 'vibe.update': 3079, 'duplicate': 3080, '.havy': 3081, '.jio': 3082, 'it.1.camera': 3083, 'it.main': 3084, 'laga': 3085, 'lunchar': 3086, 'problem.week': 3087, 'radmi': 3088, 'signal.5': 3089, 'use.3': 3090, 'vary': 3091, '=k3': 3092, 'autorotate': 3093, 'child': 3094, 'k32': 3095, 'k33': 3096, 'spent': 3097, 'great2': 3098, 'issue.4': 3099, 'osum': 3100, 'segment.1': 3101, 'aaguthu': 3102, 'chargeaga': 3103, 'gues': 3104, 'vangathinga': 3105, 'yarum': 3106, 'diwali': 3107, 'diye': 3108, 'insertion': 3109, 'isgoodsound': 3110, 'yupprocessing': 3111, 'bekarga': 3112, 'edi': 3113, 'ga': 3114, 'lanjodukuam': 3115, 'mari': 3116, 'nee': 3117, 'ra': 3118, 'undi': 3119, 'worast': 3120, 'things.thanks': 3121, 'phonevalue': 3122, 'spekar': 3123, 'helps.performace': 3124, 'reaer': 3125, 'handset.it': 3126, 'impression': 3127, 'purchasing': 3128, 'phonr': 3129, 'rhe': 3130, 'quite': 3131, 'confirmation': 3132, 'distence': 3133, 'pay': 3134, 'selficamer': 3135, '.sajad': 3136, 'lenovo.phone': 3137, 'segment.some': 3138, 'issue.2': 3139, 'call.all': 3140, 'condition.so': 3141, 'device.when': 3142, 'lifetill': 3143, 'okgood': 3144, 'downside': 3145, 'screencast': 3146, 'worsttttt': 3147, 'package.worth': 3148, 'amazone': 3149, 'wrk': 3150, 'hifi': 3151, 'prodect': 3152, 'notethanks': 3153, '📱': 3154, '👍👍': 3155, 'product.when': 3156, 'resolve': 3157, 'agent': 3158, 'append': 3159, 'camera-': 3160, 'cromecast': 3161, 'darn': 3162, 'dongle': 3163, 'member': 3164, 'rep': 3165, 'research': 3166, 'sire': 3167, 'supervisor': 3168, 'woman': 3169, 'flawlesscamera': 3170, 'lagg': 3171, 'til': 3172, 'h.': 3173, 'yrr': 3174, 'buletooth': 3175, 'belt': 3176, 'der': 3177, 'shake': 3178, '...........': 3179, 'specifc': 3180, 'andriod': 3181, 'defecult': 3182, 'k8note😢😡': 3183, 'dialers': 3184, 'death': 3185, 'servise': 3186, 'issue.9718180091satbir': 3187, 'singh': 3188, 'charging.i': 3189, 'heatingupdate': 3190, 'problem.pls': 3191, 'vidieo': 3192, 'qualitynetwork': 3193, 'life.not': 3194, 'guide': 3195, 'are:1': 3196, 'disappear.it': 3197, 'mobile.they': 3198, 'specification.2': 3199, 'thing.3': 3200, 'usecharging': 3201, 'charging.2': 3202, 'issues1': 3203, 'oohhh': 3204, 'hantset': 3205, 'hy': 3206, 'jati': 3207, 'wasool': 3208, 'aqua': 3209, 'geoni': 3210, 'redme': 3211, 'watching.price': 3212, '.as': 3213, 'kidar': 3214, 'milega': 3215, 'paysa': 3216, 'aate': 3217, 'sath': 3218, 'clearty': 3219, 'suberb': 3220, 'soundspiker': 3221, 'dule': 3222, 'charging.performance': 3223, 'real.battery': 3224, 'chargingmobile': 3225, 'phonemobile': 3226, 'mess': 3227, 'delivery.battery': 3228, 'aluminum': 3229, 'metal': 3230, 'oneperformance': 3231, 'belong': 3232, 'bitch': 3233, 'category.2.lenovo': 3234, 'display.nothing': 3235, 'entrant': 3236, 'hav': 3237, 'hone': 3238, 'motive': 3239, 'patch.as': 3240, 'patch.last': 3241, 'perspective': 3242, 'purchasing.6.i': 3243, 'thief': 3244, 'why.1.phone': 3245, 'wud': 3246, 'youtubers': 3247, 'impossible': 3248, 'sham': 3249, '₹': 3250, 'qulity.hanging': 3251, 'panorama': 3252, 'advice': 3253, 'replace.pls': 3254, 'game.hence': 3255, 'text': 3256, 'tick': 3257, 'picture.ami': 3258, 'tu': 3259, 'chargingnot': 3260, 'back.it': 3261, 'aftr': 3262, 'asus': 3263, 'chargingtouch': 3264, 'experiance': 3265, 'likemoto': 3266, 'mahdisplay': 3267, 'noteaftr': 3268, 'notice': 3269, 'plushonor': 3270, 'plusmoto': 3271, 'slowperformance': 3272, 'zenfone': 3273, 'features.amazon': 3274, 'amount.i': 3275, 'analog': 3276, 'inbuild.so': 3277, 'lenovo.call': 3278, 'playstore': 3279, 'bekaar': 3280, 'fack': 3281, 'varry': 3282, 'repair': 3283, 'reduces': 3284, 'phoneplease': 3285, 'useand': 3286, 'brand.lenovo': 3287, 'k8plus': 3288, 'lenovo.but': 3289, 'me.lenovo': 3290, 'note.1': 3291, 'note.i': 3292, 'centric': 3293, 'ctions': 3294, 'import': 3295, 'merging': 3296, 'phone.very': 3297, 'phoneno': 3298, 'scale': 3299, 'bindas': 3300, 'launcher': 3301, 'batter': 3302, 'stander': 3303, '📷': 3304, 'project': 3305, 'mob.but': 3306, 'pc.other': 3307, 'wifi.how': 3308, 'fill': 3309, 'jack.not': 3310, 'caste': 3311, 'dollby': 3312, 'bty': 3313, 'hunting': 3314, 'chipset.why': 3315, 'snepdragun': 3316, 'cause': 3317, 'detect': 3318, 'extra': 3319, 'mouth': 3320, 'observed.cons': 3321, 'phone.but': 3322, 'phone.pros': 3323, 'soemtimes': 3324, 'update.dont': 3325, '🤞': 3326, 'loophole': 3327, 'mobile.and': 3328, 'servicewaste': 3329, 'supplier': 3330, 'featurescamera': 3331, 'charging.contacts': 3332, 'cloudspoor': 3333, 'crop': 3334, 'dependencypoor': 3335, 'butmicrophone': 3336, 'fon👍👍': 3337, 'whichbis': 3338, 'highnetwork': 3339, 'timetoo': 3340, 'd_atoms.it': 3341, 'lookn': 3342, 'screeni': 3343, 'boaring': 3344, 'desktop': 3345, 'wi': 3346, 'perform': 3347, 'hoti': 3348, 'hou': 3349, 'magavali': 3350, 'milali': 3351, 'shakala': 3352, 'shi': 3353, 'tar': 3354, 'tumchya': 3355, 'broken/dent': 3356, 'shirt': 3357, 'itit': 3358, 'note.everything': 3359, 'kharido': 3360, 'missing√product': 3361, 'telise': 3362, 'wire': 3363, '√after': 3364, '√turbo': 3365, 'days1': 3366, 'outlet': 3367, 'productissues': 3368, 'videos3': 3369, 'canot': 3370, 'times.plz': 3371, 'voltebekaar': 3372, 'bday': 3373, 'sept': 3374, 'son': 3375, 'awesom': 3376, 'attachment': 3377, 'awesomecons:1': 3378, 'back2': 3379, 'design3': 3380, 'gaming2': 3381, 'injustice': 3382, 'processoe3': 3383, 'pros:1': 3384, 'use.till': 3385, 'vibrant.4': 3386, 'phone.at': 3387, '😔': 3388, 'cache': 3389, 'freeze': 3390, 'mean': 3391, 'scenario': 3392, 'screelock': 3393, 'ltd': 3394, 'noteplease': 3395, 'bang': 3396, 'buck': 3397, 'price.overall': 3398, 'prblems': 3399, 'amazon.they': 3400, 'friday': 3401, 'jan-18': 3402, 'nobody': 3403, '.no': 3404, 'withthismob': 3405, '👌👌': 3406, 'pakiging': 3407, 'quility': 3408, 'qulity': 3409, 'hase': 3410, 'minut': 3411, 'tack': 3412, 'amezon': 3413, 'smartphonene': 3414, 'lookperformance': 3415, 'life.amazon': 3416, 'period.they': 3417, 'support.worst': 3418, 'wastege': 3419, 'very.good': 3420, 'charging.it': 3421, ',awesome': 3422, 'time.not': 3423, 'lennovo': 3424, 'hai.13999': 3425, 'day.3': 3426, 'hardy': 3427, 'processor.no': 3428, 'nightsound': 3429, 'lover.i': 3430, 'notifications.3': 3431, 'one.10': 3432, 'options.11': 3433, 'percentage.12': 3434, 'signals.13': 3435, 'theme.6': 3436, 'time.7': 3437, 'compass': 3438, 'cut': 3439, 'range.pros': 3440, 'vrcons': 3441, 'cameraa': 3442, 'chargingawesome': 3443, 'camera.may': 3444, 'killerbettery': 3445, 'riception': 3446, 'badhiya': 3447, 'sabase': 3448, 'also.memory': 3449, 'it.3': 3450, 'looking2': 3451, 'things.after': 3452, 'detector': 3453, 'frequency': 3454, 'blutooth': 3455, 'carhotspot': 3456, 'featuresbattery': 3457, 'freezesno': 3458, 'luckbattery': 3459, 'product.but': 3460, 'needs.battery': 3461, 'enough.i': 3462, 'just.wow': 3463, 'vd': 3464, 'xcellent': 3465, 'feeling.back': 3466, 'figerprint': 3467, 'speaker.yet': 3468, 'midiatech': 3469, '👍bcz': 3470, 'attchment': 3471, 'microsoft': 3472, 'student': 3473, 'aapko': 3474, 'chalane': 3475, 'dega': 3476, 'samasya': 3477, 'sub': 3478, 'bjp': 3479, 'receiver': 3480, 'folt': 3481, 'resistant': 3482, 'splash': 3483, 'upadation': 3484, 'inconsistent': 3485, '////': 3486, 'luk': 3487, 'nd': 3488, 'difficulty': 3489, 'dilling': 3490, 'apk70': 3491, 'overall': 3492, 'issuegreat': 3493, 'phoneit': 3494, 'good.1': 3495, 'heating2': 3496, 'insert': 3497, 'me3.at': 3498, 'expense': 3499, 'etc.': 3500, 'experiencebattery:4000': 3501, 'handgs': 3502, 'mark.os': 3503, 'max.phone': 3504, 'plastic': 3505, 'toolcamera': 3506, 'traffic': 3507, 'present': 3508, 'hmmm': 3509, 'finishing': 3510, 'grill': 3511, 'instrument': 3512, 'fine.camera': 3513, 'itself.finger': 3514, 'phone.battery': 3515, 'thisin': 3516, 'poorcamera': 3517, 'changeran': 3518, 'deg2': 3519, 'enabling': 3520, 'free4': 3521, 'keeeeeeee': 3522, 'morningafter': 3523, 'optimzation': 3524, 'performs': 3525, 'protection3': 3526, 'salefirst': 3527, 'slot2': 3528, 'soundcons1': 3529, 'time4': 3530, 'wellif': 3531, '.display': 3532, 'keypad': 3533, 'screen.which': 3534, '.mobile': 3535, 'wall': 3536, 'itcamera': 3537, 'properlyit': 3538, 'capacitydescent': 3539, 'handedstock': 3540, 'pros-plenty': 3541, 'ramgood': 3542, 'resolutiongood': 3543, 'speakersturbo': 3544, 'broken.gorilla': 3545, '👍👍👍': 3546, 'kinda': 3547, 'so.then': 3548, 'total.would': 3549, 'ooosm': 3550, 'gallery2': 3551, 'option5': 3552, 'percentage3': 3553, 'qaleti': 3554, '😘': 3555, 'equipment': 3556, 'bro/sis': 3557, 'conditioni': 3558, 'specific': 3559, 'box.seller': 3560, 'pictures.great': 3561, 'price.great': 3562, 'quality.it': 3563, 'branding': 3564, 'easily.4': 3565, 'jack.3': 3566, 'lookwise': 3567, 'phone.5': 3568, 'side.2': 3569, 'slab': 3570, 'camerawith': 3571, '😙😀😀😀😀😎😎😎😎': 3572, 'toy': 3573, 'bracket': 3574, '.7.': 3575, 'amazon.3': 3576, 'condition.4': 3577, 'scope': 3578, 'time.2': 3579, 'time.5': 3580, 'action.i': 3581, 'android.3': 3582, 'case2': 3583, 'inclusioncons1': 3584, 'longevity.2': 3585, 'pale': 3586, 'parameter': 3587, 'phone4': 3588, 'pros1': 3589, 'beacuse': 3590, 'dare': 3591, 'extent': 3592, 'parfomus': 3593, 'amazing.display': 3594, 'disaplay': 3595, 'good.turbo': 3596, 'smooth.camera': 3597, 'infront': 3598, 'hereafter': 3599, 'explanation': 3600, 'thrdclass': 3601, 'phones.sound': 3602, 'bakbas': 3603, 'hay': 3604, 'battert': 3605, 'maniac': 3606, '-5': 3607, '.amazon': 3608, 'cardbuy': 3609, 'cc': 3610, 'coordination': 3611, 'device.pros': 3612, 'mia1': 3613, 'mobile.got': 3614, 'unit': 3615, 'lime': 3616, 'thnx': 3617, 'discount.the': 3618, 'horsepower': 3619, 'http': 3620, 'saver.the': 3621, 'wonder': 3622, 'karo': 3623, 'lagti': 3624, 'formatting': 3625, 'mansoor': 3626, 'becoz': 3627, 'hidden': 3628, 'scolding': 3629, 'camrera': 3630, 'v.': 3631, '.when': 3632, 'resistency': 3633, 'k8.so': 3634, 'hazzles': 3635, 'potrait': 3636, 'pbm': 3637, 'musicmobile': 3638, 'hagaging': 3639, 'hitter': 3640, 'killernote': 3641, 'chalti': 3642, 'charging.': 3643, 'good.phone': 3644, '-print': 3645, 'moment.very': 3646, 'performance.i': 3647, 'ram.camera': 3648, 'sturdy': 3649, 'brands.very': 3650, 'ota': 3651, 'smoothly.would': 3652, 'centreguys': 3653, 'discus': 3654, 'buying✌️': 3655, 'hestitate': 3656, 'purchase.but': 3657, 'range.it': 3658, 'alphabet': 3659, 'contract': 3660, 'k4note': 3661, 'call.a': 3662, '.3rd': 3663, 'application5': 3664, 'expected6': 3665, 'gallery4': 3666, 'light2': 3667, 'screen3': 3668, 'seller.8': 3669, 'starting': 3670, 'v.fast': 3671, 'op': 3672, 'handsetsbecouse': 3673, 'down.battery': 3674, 'problem.display': 3675, '❤️❤️': 3676, 'blowing': 3677, 'prblm': 3678, 'n8': 3679, 'fesilite': 3680, 'conflict': 3681, 'alldrains': 3682, 'phonenever': 3683, 'zenfone2': 3684, 'frome': 3685, 'source': 3686, 'series.🤘': 3687, '-1.': 3688, 'processing3': 3689, 'game-play': 3690, 'drawbackphone': 3691, 'spot': 3692, 'douplicate': 3693, 'put': 3694, 'da': 3695, 'valueless': 3696, 'blacklist': 3697, 'carrier': 3698, 'in-bound': 3699, 'cameraeverything': 3700, 'goodwants': 3701, 'lifegood': 3702, 'phonegood': 3703, 'processorgood': 3704, 'master': 3705, 'ten': 3706, 'up.it': 3707, 'back.i': 3708, 'expected.battery': 3709, 'rs.it': 3710, 'problemit': 3711, '😤😤😤': 3712, 'funtoosh': 3713, 'it.network': 3714, 'issue.on': 3715, 'firmware': 3716, 'liers.i': 3717, 'second.also': 3718, 'configuration.why': 3719, 'customer.why': 3720, 'smartphone.i': 3721, 'garila': 3722, 'it.battery': 3723, '/sysem': 3724, 'launcher/': 3725, 'yet.and': 3726, 'ati': 3727, 'otg': 3728, 'input': 3729, 'charging.but': 3730, 'phone.value': 3731, 'screenshots': 3732, 'sahara': 3733, 'speker': 3734, 'anything.please': 3735, 'kumar': 3736, 'rahul': 3737, 'same.regards': 3738, 'singhmobile': 3739, 'christmas': 3740, 'glass.drawback-': 3741, 'place.-': 3742, 'room': 3743, 'blackwhite': 3744, 'approx': 3745, 'min.other': 3746, 'bottun': 3747, 'court': 3748, 'yar': 3749, 'resell': 3750, 'dilevrry': 3751, 'k8i': 3752, 'blow': 3753, 'notification/indication': 3754, 'performing': 3755, 'disppointment': 3756, 'maximum': 3757, 'sense': 3758, 'cell-phone': 3759, 'phone.-thank': 3760, 'mobile.quality': 3761, 'bindis': 3762, 'forehead': 3763, 'cycle': 3764, 'phonego': 3765, 'smuth': 3766, 'mobilei': 3767, 'backupso': 3768, 'capturing': 3769, '😅😄😄😄😄😄': 3770, 'draning': 3771, 'bat': 3772, 'charging.still': 3773, 'jil': 3774, 'hopeless': 3775, 'mobile.3': 3776, 'customize': 3777, 'decentcamera': 3778, 'lenovobattery': 3779, 's1': 3780, 'mobiles.please': 3781, 'otherwise': 3782, 'notecamera': 3783, 'proposition': 3784, 'vfm': 3785, 'productafter': 3786, 'sexy': 3787, 'smoothness': 3788, ',cons': 3789, 'avrge': 3790, 'chrge': 3791, 'experince2.64': 3792, 'hand9.no': 3793, 'iin': 3794, 'mintues': 3795, 'mode.2.turbo': 3796, 'processor.opens': 3797, 'quality.2nd': 3798, 'resatring': 3799, 'resolution.5.battery': 3800, 'stop6.while': 3801, 'stops.7.sound': 3802, 'too4.wide': 3803, 'venom': 3804, 'backupb': 3805, 'phonee': 3806, 'processorc': 3807, 'product.a': 3808, 'speakerd': 3809, 'xi': 3810, 'batterydoes': 3811, 'lenovothey': 3812, 'softwarecast': 3813, 'bad': 3814, 'lenovo.everythings': 3815, 'machine': 3816, 'cellphone': 3817, 'dec': 3818, 'trend': 3819, '⭐⭐⭐⭐⭐': 3820, 'web': 3821, 'shameful': 3822, 'soap': 3823, 'boxpros': 3824, 'complaints.no': 3825, 'impossibleif': 3826, 'marketplace': 3827, 'one.cons': 3828, 'rangebattery': 3829, 'responce': 3830, 'sounddisplay': 3831, 'satisfy': 3832, 'insane': 3833, 'worstpurchaseever': 3834, 'cons:1.': 3835, 'plus.2': 3836, 'plus.3': 3837, 'speakers.3': 3838, 'wifi.2': 3839, 'mobile.price': 3840, 'item.awesome': 3841, 'bit.otherwise': 3842, 'detection': 3843, 'backup.mi': 3844, 'atmos.is': 3845, 'er': 3846, 'sooper': 3847, 'tooo': 3848, 'leaflet': 3849, 'wave': 3850, 'featureszijn': 3851, 'mp3': 3852, 'note.its': 3853, 'frequent': 3854, 'streaming': 3855, 'bauth': 3856, 'bitter…casting': 3857, 'glitter': 3858, 'jaw': 3859, 'warning': 3860, 'willa': 3861, 'backupit': 3862, 'itcons': 3863, 'modeno': 3864, 'cerema': 3865, 'transit': 3866, 'battery.too': 3867, 'blurr': 3868, 'expected.it': 3869, 'sucks.it': 3870, 'time.camera': 3871, 'idle.charger': 3872, 'overnight.no': 3873, 'burning': 3874, 'fasna': 3875, 'heatervery': 3876, 'issu': 3877, 'art': 3878, 'properly.please': 3879, 'features.very': 3880, 'camara': 3881, 'bck': 3882, 'attn': 3883, 'absence': 3884, 'heavier': 3885, 'suffers': 3886, 'owesome': 3887, 'advocate': 3888, 'minnatullah': 3889, 'naiyara': 3890, 'patna': 3891, 'phone.touch': 3892, 'osem': 3893, 'produce': 3894, 'click.need': 3895, 'gadget': 3896, 'shortcuts.otherwise': 3897, 'minutes.battery': 3898, '.the': 3899, 'scrap': 3900, 'used/phone': 3901, 'found1': 3902, 'issues2': 3903, 'issues3': 3904, 'naugout': 3905, 'eseilyhangs': 3906, 'potentiality': 3907, 'backupmediatek': 3908, 'issuesand': 3909, 'cod': 3910, 'soc': 3911, 'parfomance': 3912, 'lekar': 3913, 'phas': 3914, 'phone.poor': 3915, 'lanch': 3916, 'lite': 3917, 'te': 3918, 'aside': 3919, 'bitter': 3920, 'pillar': 3921, 'stupid': 3922, 'monthi': 3923, 'nowit': 3924, 'apps.picture': 3925, 'birthday': 3926, 'blowing👌👌👌👌👌by': 3927, 'monhhs': 3928, '.cons': 3929, '.stock': 3930, 'pro:13+5mp': 3931, 'lowlight': 3932, 'whn': 3933, 'criterion': 3934, 'processers': 3935, 'wat': 3936, 'jahnu': 3937, 'shukla': 3938, 'box.camera': 3939, 'issue.please': 3940, 'behave': 3941, 'lotbattery': 3942, 'minutehangs': 3943, 'phone.heating': 3944, 'amazon.amazon': 3945, 'best.but': 3946, 'me.do': 3947, 'proffessional.plz': 3948, 'displaycameras': 3949, 'price10': 3950, 'pros.good': 3951, 'wind': 3952, 'latebuilt': 3953, 'notenot': 3954, 'camar': 3955, '11999/-': 3956, 'bought': 3957, 'oct.': 3958, 'earliestafter': 3959, 'fail': 3960, 'lenovowould': 3961, 'promblem.please': 3962, 'fingre': 3963, 'madeup': 3964, 'format': 3965, 'hours/minutes.6': 3966, 'issue.7': 3967, 'issue.if': 3968, 'itself.5': 3969, 'pixal.camera': 3970, 'start.4': 3971, 'banane': 3972, 'chutiya': 3973, 'airte': 3974, 'screen.looks': 3975, 'greet': 3976, 'mistakesbad': 3977, 'block': 3978, 'k-5': 3979, 'notesum': 3980, 'light.no': 3981, 'phones.very': 3982, 'clicksi': 3983, 'comparong': 3984, 'cool.i': 3985, 'coolpad': 3986, 'expected.i': 3987, 'phone.update': 3988, 'all.camera': 3989, 'z': 3990, 'it.do': 3991, 'phne': 3992, 'daysbut': 3993, 'provide': 3994, 'fo': 3995, 'quality.after': 3996, 'blast': 3997, 'hso': 3998, 'jay': 3999, 'khatam': 4000, 'kiab': 4001, 'orbattery': 4002, 'film': 4003, 'uality': 4004, 'benchmark': 4005, 'shud': 4006, 'bro': 4007, 'errorwaste': 4008, 'recordinggoogle': 4009, 'qualityscreen': 4010, 'smoothlywater': 4011, 'timeprocessing': 4012, 'noon': 4013, 'gorilaglass': 4014, 'quality,64': 4015, 'insurance': 4016, 'cons1': 4017, 'levels.2': 4018, 'life2': 4019, 'randomly': 4020, '.battery': 4021, '.build': 4022, 'doesnot': 4023, 'frint': 4024, 'ghe': 4025, 'instagra': 4026, 'mi.a1': 4027, 'work.fingerprint': 4028, 'deewali': 4029, 'month.phone': 4030, 'quality.bty': 4031, 'front.i': 4032, 'ui.performance': 4033, 'account.5.screen': 4034, 'account.lacks': 4035, 'details.very': 4036, 'fb': 4037, 'frequently.2.applications': 4038, 'gorrilla': 4039, 'guard.this': 4040, 'lags.4.no': 4041, 'personalisation': 4042, 'ringtone.transfer': 4043, 'save': 4044, 'saver.it': 4045, 'specified.6': 4046, 'usage.1.gets': 4047, 'day.camera': 4048, 'specifications.battery': 4049, 'wash.network': 4050, 'pricethe': 4051, 'tocuh': 4052, 'showing': 4053, '.ex': 4054, 'ball': 4055, 'cameras.buy': 4056, 'extrac': 4057, 'wait': 4058, 'buget': 4059, 'product👎👎👎👎👎': 4060, 'anycast': 4061, 'sharing': 4062, 'chocolate': 4063, 'mobile.after': 4064, 'in.performance': 4065, 'louder': 4066, 'phonelenovo': 4067, 'gaya': 4068, 'hua': 4069, 'receive': 4070, 'mah.bigger': 4071, 'product.and': 4072, 'coffee': 4073, 'cup': 4074, 'dia': 4075, 'maal': 4076, 'awe': 4077, 'effectiveness': 4078, 'cross': 4079, 'day.so': 4080, 'icone': 4081, 'proofs.i': 4082, 'sign': 4083, 'lol': 4084, 'casing': 4085, 'dunt': 4086, 'performance.but': 4087, 'speeker': 4088, 'duration': 4089, 'lakh': 4090, 'performancebut': 4091, 'problemcamera': 4092, 'blink': 4093, 'day6': 4094, 'differentiation': 4095, 'fastly7': 4096, 'geekyranjit': 4097, 'issue2': 4098, 'menu4': 4099, 'results5': 4100, 'spelling8': 4101, 'dint': 4102, 'probe': 4103, 'year.if': 4104, 'aapki': 4105, 'andere/black': 4106, 'bahiyo': 4107, 'baki': 4108, 'bi': 4109, 'contacts5': 4110, 'dekhne': 4111, 'farak': 4112, 'fir': 4113, 'gallery6': 4114, 'hote': 4115, 'kali': 4116, 'khass': 4117, 'krne': 4118, 'liye': 4119, 'loge': 4120, 'marji': 4121, 'ni': 4122, 'padte': 4123, 'raat': 4124, 'sahi': 4125, 'sari': 4126, 'trick': 4127, 'kishor': 4128, 'wth': 4129, 'alot': 4130, 'potential': 4131, 'everrrrrrrrr': 4132, 'dexacore': 4133, 'manufacture': 4134, 'diflections': 4135, 'rapid': 4136, 'activity': 4137, 'brought': 4138, 'ever.i': 4139, 'wil': 4140, 'follows1.battery': 4141, 'modarate': 4142, 'observation': 4143, 'okothers': 4144, 'reviewes': 4145, 'camerabut': 4146, '😎😎😎': 4147, 'assistantgreat': 4148, 'lightstock': 4149, 'touchcamera': 4150, 'oem': 4151, 'mobiiiiiiiiil': 4152, 'awsm': 4153, 'described': 4154, 'giving': 4155, 'ram.but': 4156, 'worm': 4157, 'average.design': 4158, 'game6.battery': 4159, 'honest': 4160, 'problem1.vedeo': 4161, 'ya': 4162, 'hood': 4163, 'excilent': 4164, 'charger.it': 4165, 'dolbey': 4166, 'option.how': 4167, 'controller': 4168, 'slot.overall': 4169, 'creation': 4170, 'bandwidth': 4171, 'battery.overall': 4172, 'hors': 4173, 'hours.network': 4174, 'issue.this': 4175, 'it😍': 4176, 'mark.phonen': 4177, 'scheme': 4178, 'moviles': 4179, 'copying': 4180, 'memory.the': 4181, 'photos.you': 4182, 'them.you': 4183, 'button4.no': 4184, 'export6': 4185, 'featuure5.not': 4186, 'phone2': 4187, 'player3.no': 4188, 'phone.dont': 4189, 'coustome': 4190, 'missingoverall': 4191, 'solve': 4192, 'everythings': 4193, 'headphones/speakers': 4194, 'noticeable': 4195, 'tonne': 4196, 'nahhi': 4197, 'saath': 4198, 'proceccor': 4199, 'camer': 4200, 'rule': 4201, 'kseries': 4202, 'prdkt': 4203, 'ty': 4204, 'cameraover': 4205, 'heating\\\\2': 4206, 'mark,3': 4207, 'direction': 4208, 'mee': 4209, 'aaps': 4210, 'adwans': 4211, 'fechars': 4212, 'lee': 4213, 'marks.option': 4214, 'qaulity': 4215, '.4.': 4216, ':1.': 4217, 'effects.desadvantage': 4218, 'slot.5': 4219, 'sotware': 4220, 'displayi': 4221, 'charginggood': 4222, 'missing.1': 4223, 'outside3': 4224, 'ramhd': 4225, 'seller.i': 4226, 'mrp.the': 4227, 'mobilenot': 4228, 'yup': 4229, 'toolbar': 4230, 'display.thank': 4231, 'phonehappy': 4232, 'servicefeatures': 4233, 'wellall': 4234, 'scraches': 4235, 'frill': 4236, 'claraty': 4237, 'procesar': 4238, 'becomes': 4239, 'centreplease': 4240, 'noone': 4241, 'avarage': 4242, 'selectiom': 4243, 'waste/': 4244, 'backlite': 4245, 'lightno': 4246, 'outdoors': 4247, 'starsbattery': 4248, 'starscamera': 4249, 'starsperformance': 4250, 'starsturbo': 4251, 'superman': 4252, '.plz': 4253, 'backregardsrgkolhe': 4254, 'megapixel': 4255, 'camera.the': 4256, 'phone.my': 4257, 'rush': 4258, 'blunder': 4259, 'minimum': 4260, 'wicket': 4261, '-comes': 4262, 'band.it': 4263, 'bloatware.it': 4264, 'body.comes': 4265, 'button.supports': 4266, 'card.no': 4267, 'charger.web': 4268, 'cheap': 4269, 'earphones.sim': 4270, 'go.cons': 4271, 'hellios': 4272, 'hours.video': 4273, 'hrs.verdict.k8': 4274, 'it.does': 4275, 'key.audio': 4276, 'lineup': 4277, 'mechanism': 4278, 'money.i': 4279, 'nonetheless': 4280, 'performance.does': 4281, 'phase': 4282, 'present.no': 4283, 'provider.full': 4284, 'rival': 4285, 'shortcomings.prosit': 4286, 'slot.support': 4287, 'soc.it': 4288, 'support.it': 4289, 'therm': 4290, '😢😢😢': 4291, 'launchr': 4292, 'parfamence': 4293, '.was': 4294, 'kg': 4295, 'lenovothis': 4296, 'noteinstructions': 4297, 'rice': 4298, 'survival': 4299, 'turn': 4300, 'varianti': 4301, 'dowanloads': 4302, 'kid': 4303, 'uploads': 4304, 'adobe': 4305, 'daylight': 4306, 'lightroom': 4307, 'overheat': 4308, 'photoshop': 4309, 'snapseed': 4310, 'street': 4311, 'prefer': 4312, 'wish': 4313, 'range.decacore': 4314, '☠️☠️': 4315, '😈😈😈😈my': 4316, 'phonecharging': 4317, 'chromcast': 4318, 'received.i': 4319, 'speaker.i': 4320, 'time.once': 4321, 'competitors.big': 4322, 'price.specifications': 4323, 'heandset.front': 4324, 'practice': 4325, 'trai': 4326, 'disign': 4327, 'tv.common': 4328, 'fulfill': 4329, 'aayi': 4330, 'amazon5': 4331, 'baar': 4332, 'badi': 4333, 'cleartity': 4334, 'di': 4335, 'gaye': 4336, 'hamaray': 4337, 'hamari': 4338, 'jayada': 4339, 'karay': 4340, 'kare': 4341, 'karte': 4342, 'pai': 4343, 'sabhi': 4344, 'sakte': 4345, 'soch': 4346, 'ta': 4347, 'yaha': 4348, 'account-fake': 4349, 'modal': 4350, 'broblam': 4351, 'cel': 4352, 'dsp': 4353, 'ect': 4354, 'inbild': 4355, 'ofter': 4356, 'pandiyanthis': 4357, 'parches': 4358, 'recarder': 4359, 'secwhat': 4360, 'disply': 4361, \"'smart\": 4362, 'chk': 4363, 'credibility': 4364, 'custolers': 4365, 'loudspeaker': 4366, 'trustworth': 4367, 'price.you': 4368, 'value.it': 4369, '/camera': 4370, 'proccesor': 4371, 'average2': 4372, 'expectations.1': 4373, 'ok4': 4374, 'performance.softwares': 4375, 'watch': 4376, 'dream': 4377, 'performancelook': 4378, 'potato': 4379, 'favourite': 4380, 'hoopla': 4381, 'tip': 4382, 'side.lot': 4383, 'updates.so': 4384, 'youtube.those': 4385, 'camare': 4386, 'haaammmm': 4387, 'gliches': 4388, 'propery': 4389, 'tatch': 4390, 'celsius': 4391, 'bakvas': 4392, 'beat': 4393, 'cameraandvery': 4394, 'prime': 4395, 'product.': 4396, 'rbt': 4397, 'force': 4398, 'behavior': 4399, 'lfeworth': 4400, 'looksgood': 4401, 'performancegood': 4402, 'pour': 4403, 'class.dolby': 4404, 'fond': 4405, 'however.turbo': 4406, 'intermittently.call': 4407, 'issues.cons': 4408, 'lowheadset': 4409, 'amateur': 4410, 'picasa': 4411, 'device.if': 4412, 'jack.very': 4413, 'minor': 4414, 'match': 4415, 'sustainability': 4416, 'futurea': 4417, 'back.last': 4418, 'bulk': 4419, 'investment': 4420, 'sustain': 4421, 'update.one': 4422, 'good.no': 4423, 'limitation': 4424, 'excellant': 4425, 'burns.i': 4426, 'forget': 4427, 'health': 4428, 'cemara': 4429, 'camerafull': 4430, 'glassfull': 4431, 'lookfull': 4432, 'processorfull': 4433, 'slow': 4434, 'gas': 4435, 'stove': 4436, 'amozon': 4437, 'callimg': 4438, 'hourbattery': 4439, 'hoursbattery': 4440, '😂😂😂😁😀': 4441, 'heat/temperature': 4442, 'phone.bettery': 4443, 'amlets': 4444, 'egg': 4445, 'bzo': 4446, 'contact.3': 4447, 'recording.2': 4448, 'sellec': 4449, 'vise': 4450, 'one.along': 4451, 'lighe': 4452, 'beginning': 4453, 'daywhich': 4454, 'itselfbattery': 4455, 'promisedcamera': 4456, 'phablet': 4457, 'chargeit': 4458, 'costone': 4459, 'missing.compare': 4460, 'use.its': 4461, 'rha': 4462, 'clue': 4463, 'lab': 4464, 'mirroring.4': 4465, 'ringtone.2': 4466, 'somehow': 4467, 'tune': 4468, 'volte.3': 4469, 'hoursits': 4470, 'kumawatbikaner': 4471, 'performancesuresh': 4472, 'rajasthan': 4473, 'help.phone': 4474, 'authorization': 4475, 'itno': 4476, 'onethink': 4477, 'rs.12999': 4478, 'rs.8000mobile': 4479, 'itand': 4480, 'tax': 4481, 'taxi': 4482, 'upar': 4483, 'chromecast.3': 4484, 'cracks.2': 4485, 'drain.4': 4486, 'remedy': 4487, 'taking': 4488, 'dell': 4489, 'monitor': 4490, 'pas': 4491, 'product.hope': 4492, 'product.last': 4493, 'sir/madam': 4494, 'treatment': 4495, 'good-': 4496, 'liner': 4497, 'phenomenal': 4498, 'awesome.cons': 4499, 'awasam': 4500, 'frustrating': 4501, 'kab': 4502, 'tak': 4503, 'problemfront': 4504, 'terbo': 4505, 'sencor': 4506, 'stabilitybogus': 4507, 'moble': 4508, 'inbuilt.you': 4509, 'lone': 4510, 'chargring': 4511, 'draining.100': 4512, 'ie': 4513, 'skullcandy': 4514, 'system.my': 4515, 'games.i': 4516, 'hungs': 4517, 'movement': 4518, 'esse': 4519, 'loghatiya': 4520, 'issues.rest': 4521, 'well.i': 4522, 'krta': 4523, 'sum': 4524, 'mobilelooks': 4525, 'speed.cool': 4526, 'cameraslow': 4527, 'zero': 4528, 'lump': 4529, 'inprovement': 4530, 'features.there': 4531, 'chargingphotos': 4532, 'dull': 4533, 'dosti': 4534, 'kyoki': 4535, 'lene': 4536, 'warms': 4537, '😐': 4538, 'bottons': 4539, 'door': 4540, 'automatically.im': 4541, 'caz': 4542, 'dis.it': 4543, 'fa': 4544, 'gt': 4545, 'mobileif': 4546, 'nt': 4547, 'prblmif': 4548, 'prblmpls': 4549, 'vll': 4550, 'also.please': 4551, 'mobile.some': 4552, 'scratchees': 4553, 'sendor': 4554, 'hike': 4555, 'mazor': 4556, 'brigtness': 4557, 'hrs.verdict.k6': 4558, 'sector': 4559, 'temprature': 4560, 'showoff': 4561, 'uoper': 4562, 'dear': 4563, 'fluid': 4564, 'masking': 4565, 'problem.best': 4566, 'fabulus': 4567, 'mechine': 4568, 'vanishes': 4569, 'eyephone': 4570, 'phone.so': 4571, 'update.lenovo': 4572, 'breeze': 4573, 'gui': 4574, 'selfies': 4575, 'city': 4576, 'issue.not': 4577, 'productno': 4578, 'october': 4579, 'working.it': 4580, 'days.now': 4581, 'appear': 4582, 'permission': 4583, 'sun': 4584, '🔥🔥🔥🔥🔥🔥': 4585, 'centre.i': 4586, 'nothing.bought': 4587, 'rangeit': 4588, 'k5note': 4589, 'screenguard': 4590, 'avaragewarm': 4591, 'concamera': 4592, 'quicklybattery': 4593, 'audio.battery': 4594, 'continus': 4595, 'correct.it': 4596, 'picture.sound': 4597, 'phone.go': 4598, 'volte.superb': 4599, 'reviewing': 4600, 'attend': 4601, 'aug.': 4602, 'gf': 4603, 'carbon': 4604, 'heal': 4605, 'qa': 4606, 'tester': 4607, 'background.the': 4608, 'close': 4609, 'dd': 4610, 'hack': 4611, 'set.4': 4612, 'work.3': 4613, 'bilinking': 4614, '.worst': 4615, '.problem': 4616, 'charginghang.guys': 4617, 'dost': 4618, 'heating.i': 4619, 'lyf': 4620, 'charger.if': 4621, 'eclips.very': 4622, 'hours.5': 4623, 'option.it': 4624, 'peopal': 4625, 'sharp.2': 4626, 'soler': 4627, 'vedio.4': 4628, 'phonebut': 4629, 'earphones/headphones': 4630, 'support.i': 4631, 'brightnessit': 4632, 'browseralso': 4633, 'lighti': 4634, 'performance.poor': 4635, '.also': 4636, 'isnt': 4637, 'back,2mp': 4638, 'looking:3': 4639, 'usingcamera': 4640, 'booting': 4641, 'mager': 4642, 'over.and': 4643, 'fr': 4644, 'charging.good': 4645, 'checking': 4646, 'hassle': 4647, 'flight': 4648, 'backside': 4649, 'camera.at': 4650, 'dummy': 4651, 'obstruction': 4652, 'port.but': 4653, 'side.no': 4654, 'speakers.this': 4655, 'probelm': 4656, 'bsttery': 4657, 'drainning': 4658, 'described.i': 4659, 'marging': 4660, 'bastard': 4661, 'bench': 4662, 'airplane': 4663, 'cable.1': 4664, 'charging.5': 4665, 'enough.12': 4666, 'great.7': 4667, 'in.8': 4668, 'mi3': 4669, 'miui.10': 4670, 'mode.9': 4671, 'piss': 4672, 'selfies.4': 4673, 'through.but': 4674, 'videos.6': 4675, 'dust-bin': 4676, 'puchase': 4677, 'raha.very': 4678, 'good.its': 4679, 'no1': 4680, 'november': 4681, 'selling': 4682, '-100': 4683, 'value_of_money': 4684, 'phone.price': 4685, 'content': 4686, 'platform': 4687, 'laeat': 4688, 'down.want': 4689, 'workingbattery': 4690, 'features.camera': 4691, 'issue.bt': 4692, 'phones.bt': 4693, 'price.battery': 4694, 'that.best': 4695, 'backup-': 4696, 'booth': 4697, 'camera.k8': 4698, 'charging-': 4699, 'circuit': 4700, 'clan': 4701, 'clash': 4702, 'hance': 4703, 'k8.after': 4704, 'online.charging-': 4705, 'resulation': 4706, 'qualty': 4707, '.takes': 4708, 'sake.no': 4709, 'cliarity': 4710, 'badcamera': 4711, 'itbattery': 4712, 'rangesuperb': 4713, 'fails': 4714, 'sleeknegatives': 4715, 'experience.i': 4716, 'hazzy': 4717, 'mobile😏😏no': 4718, 'picupvery': 4719, 'charging.camera': 4720, 'proxy': 4721, 'restarted.phone': 4722, 'burnt': 4723, 'explosion': 4724, 'literarry': 4725, 'phone.-anup': 4726, 'phone.hope': 4727, 'phone.if': 4728, 'search': 4729, 'self.after': 4730, 'life.otherwise': 4731, 'phone.fast': 4732, 'awful': 4733, 'acceptance': 4734, '.pedda': 4735, 'bokka': 4736, 'pedda': 4737, 'telugu': 4738, 'colety': 4739, 'backup👌': 4740, 'clans.charger': 4741, 'okie': 4742, 'producti': 4743, 'b.t': 4744, 'drain.lenovo': 4745, 'soon.rest': 4746, '-camera': 4747, 'hanging.one': 4748, 'a+++++': 4749, 'so.many': 4750, 'software.camera': 4751, 'tool': 4752, 'useless': 4753, 'problematic': 4754, 'good.speakers': 4755, 'note.it': 4756, 'catch': 4757, 'ticket': 4758, '.thanks': 4759, 'phone-': 4760, 'too.also': 4761, 'turbocharge': 4762, 'penny.i': 4763, 'battary': 4764, 'cemra': 4765, 'fuddu': 4766, 'clarity.3': 4767, 'glass.5': 4768, 'good.4': 4769, 'good.7': 4770, 'junk': 4771, 'memory.3': 4772, 'this.6': 4773, 'version.good:1.': 4774, 'kyon': 4775, 'liya': 4776, 'goon': 4777, 'rangeeee': 4778, 'expectedbattery': 4779, 'mahcamera': 4780, 'image.plz': 4781, 'bloat': 4782, 'dr': 4783, 'flash+': 4784, 'launcher.+': 4785, 'led.+': 4786, 'light.+': 4787, 'machinery': 4788, 'maker': 4789, 'royale': 4790, 'slot.cons': 4791, 'stopgap': 4792, 'thinkpros': 4793, 'tl': 4794, 'e4plus': 4795, 'delivery.value': 4796, 'setback': 4797, 'side.i': 4798, 'button3': 4799, 'hardwareupdate': 4800, 'independence': 4801, 'january': 4802, 'label': 4803, 'lenovonote': 4804, 'pointsnote': 4805, 'random': 4806, 'saledespite': 4807, 'seconds6': 4808, 'setup.as': 4809, 'smartphone.4': 4810, 'transactions.2': 4811, 'ever,1': 4812, 'show0': 4813, '-battery': 4814, '-no': 4815, 'bloatwares': 4816, 'button-camera': 4817, 'charge-takes': 4818, 'experiencepros': 4819, 'featurecons': 4820, 'jio-no': 4821, 'key-speakers': 4822, 'lightning': 4823, 'scanner-camera': 4824, 'legging': 4825, 'secondary.other': 4826, 'pictures.no': 4827, 'product.lenovo': 4828, 'camera.lost': 4829, 'drying': 4830, 'smoothly': 4831, 'gallary.no': 4832, 'issuefingerprint': 4833, 'defective': 4834, 'degrade': 4835, 'repeating': 4836, 'heatedcamera': 4837, 'dolby.except': 4838, 'easlyy': 4839, 'apps2': 4840, 'issuesso': 4841, 'levelnormal': 4842, 'luv': 4843, 'canera': 4844, '😆': 4845, 'brightnessand': 4846, 'correct': 4847, 'issuei': 4848, 'setit': 4849, 'timealso': 4850, 'asap.if': 4851, 'lit.camera': 4852, 'review.the': 4853, 'thinner': 4854, '.lill': 4855, 'ability': 4856, 'camera.stock': 4857, 'drawer': 4858, 'good.stock': 4859, 'it.processor': 4860, 'sub15k': 4861, 'wuth': 4862, 'expected.heat': 4863, 'cost3': 4864, 'deisgn': 4865, 'hill': 4866, 'ic': 4867, 'lenovo2': 4868, 'merit': 4869, 'so5': 4870, 'use3': 4871, 'warm2': 4872, '.note': 4873, 'saturday': 4874, 'weather': 4875, 'camerathe': 4876, 'phone.which': 4877, 'charging2': 4878, 'low4': 4879, 'simultaneously3': 4880, 'boot': 4881, 'imaging': 4882, 'purecel': 4883, 'texture': 4884, 'v7.1.1': 4885, 'requirement.camera': 4886, 'ok.3': 4887, 'phonedo': 4888, 'space.': 4889, 'this.1': 4890, 'double': 4891, 'aswm': 4892, 'thislot': 4893, 'hrs3': 4894, 'purpose4': 4895, 'pleace': 4896, 'discusion': 4897, 'topic': 4898, 'blinking3': 4899, 'bugs6': 4900, 'cover11': 4901, 'defects1': 4902, 'design10': 4903, 'design9': 4904, 'hundred': 4905, 'quality12': 4906, 'required4': 4907, 'required5': 4908, 'usage2': 4909, 'back👎': 4910, 'consideration': 4911, 'crashes.scratches': 4912, 'dog': 4913, 'tiger': 4914, 'apps.sometimes': 4915, 'days.i': 4916, 'dialogue': 4917, 'pity': 4918, 'autofocus': 4919, 'mechanish': 4920, 'dailer': 4921, 'price.camera': 4922, 'environment': 4923, 'buttons,2': 4924, 'features:1.': 4925, 'options,4': 4926, 'recorder,3': 4927, 'screen,5': 4928, '👌': 4929, 'camerais': 4930, 'acc': 4931, 'gali': 4932, 'automatically.mobile': 4933, 'feelsis': 4934, 'heavy2~it': 4935, 'tendsis': 4936, 'usage.3~its': 4937, 'null': 4938, 'browse': 4939, 'parfom': 4940, 'differs': 4941, 'inch': 4942, 'phone.best': 4943, 'code': 4944, 'jazab': 4945, 'warast': 4946, '.highlights': 4947, 'incomplete': 4948, 'enabled.but': 4949, 'product.batery': 4950, 'othrr': 4951, 'zerostar': 4952, 'price.and': 4953, 'time.everything': 4954, 'out.so': 4955, 'almostlenovo': 4956, 'pry': 4957, 'interruption': 4958, 'hung': 4959, 'vebrate': 4960, 'phonemy': 4961, 'dena': 4962, 'ghtiya': 4963, 'isko': 4964, 'jruri': 4965, 'scam': 4966, '.all': 4967, 'fiture': 4968, 'bloatware': 4969, 'transport': 4970, '😭😭': 4971, 'hitting': 4972, 'gazzets': 4973, 'harassment': 4974, 'presence': 4975, 'rs.12000/-': 4976, 'parform': 4977, 'poor.lot': 4978, '.often': 4979, 'buzz': 4980, 'mpbattery': 4981, 'goodonly': 4982, '.back': 4983, 'camera.phone': 4984, 'games.software': 4985, 'mirror.camera': 4986, 'ospros': 4987, 'paper.amazon': 4988, 'service.lenovo': 4989, 'camera.any': 4990, 'ikon': 4991, 'money.very': 4992, 'note.please': 4993, 'sapce.guys': 4994, 'optioni': 4995, 'disturbance': 4996, 'backupearley': 4997, 'clarify': 4998, 'note.service': 4999, 'witch': 5000, 'discrepancy': 5001, 'expert': 5002, 'properly.i': 5003, 'exilent': 5004, 'concentration': 5005, 'cousin': 5006, 'deca-core': 5007, 'human': 5008, 'kudos': 5009, 'rant': 5010, 'senor': 5011, 'buyersound': 5012, 'mobile.no': 5013, 'snapshot': 5014, 'assistance': 5015, 'guerd': 5016, 'gurd': 5017, 'heng': 5018, 'hogaya': 5019, 'crach': 5020, 'manual': 5021, 'time.is': 5022, 'paid.after': 5023, 'rs.battery': 5024, 'bluttooth': 5025, 'piecesbut': 5026, 'notso': 5027, 'time.great': 5028, 'mibile': 5029, '.4stars': 5030, 'meaningful': 5031, 'communication': 5032, 'friends.': 5033, 'vvvvvvvvery': 5034, 'charity': 5035, 'k6power': 5036, '05-may-18product': 5037, \"'ok\": 5038, 'mode2': 5039, 'heavy.camera': 5040, 'monybut': 5041, 'imei': 5042, 'week.with': 5043, 'department.very': 5044, 'whatever': 5045, 'dim': 5046, 'gatiya': 5047, 'marksoftware': 5048, 'phcamera': 5049, '😏and': 5050, 'bugs.as': 5051, 'ribbon': 5052, 'peak': 5053, 'marknetwork': 5054, 'cameraquality': 5055, 'inbult': 5056, 'mobile.front': 5057, 'chl': 5058, 'mistakethe': 5059, 'vasul': 5060, 'anythingfinger': 5061, 'cameragood': 5062, 'buying.data': 5063, 'connecting': 5064, 'loda': 5065, 'fal2': 5066, 'device.please': 5067, '✌️': 5068, 'covercamera': 5069, 'cooler': 5070, 'law': 5071, 'punch': 5072, 'affect': 5073, 'che': 5074, 'comara': 5075, '📸back': 5076, 'back-lit': 5077, 'noisy': 5078, 'depawali': 5079, 'bocke': 5080, 'f1.8': 5081, 'frame': 5082, 'remaining': 5083, 'phone.the': 5084, 'moneycons': 5085, 'obtion': 5086, 'mute': 5087, 'sept.': 5088, 'cl': 5089, 'dn': 5090, 'haimobile': 5091, 'kewal': 5092, 'phone.processing': 5093, 'callee': 5094, 'voic': 5095, 'dicijn': 5096, 'galat': 5097, 'gide': 5098, 'leonvo': 5099, 'oder': 5100, 'it.please': 5101, 'price.lot': 5102, 'camera.and': 5103, 'fakeif': 5104, 'as.photo': 5105, 'well.overall': 5106, 'bil': 5107, 'dusra': 5108, 'gum': 5109, 'kyuki': 5110, 'evidence': 5111, 'injection': 5112, 'vehicle': 5113, 'ver7': 5114, 'coating': 5115, 'rainy': 5116, 'season': 5117, 'disappointed.battery': 5118, 'modem': 5119, 'option.i': 5120, 'wtf': 5121, 'fingureprint': 5122, 'doun': 5123, 'hoga': 5124, 'letea': 5125, 'matt': 5126, 'vi': 5127, 'earpiece': 5128, 'g4+.audio': 5129, 'mode.i': 5130, 'weird': 5131, 'chose': 5132, 'last.i': 5133, 'pool': 5134, 'reviews.2': 5135, 'worst.i': 5136, 'fid': 5137, 'messanger': 5138, '🤗': 5139, 'kachra': 5140, 'sooperb': 5141, 'ekdin': 5142, 'hai.baki': 5143, 'hai.duel': 5144, 'hai.jada': 5145, 'nehi': 5146, 'sab': 5147, 'charging.no': 5148, 'phone.its': 5149, 'protect': 5150, 'oclock': 5151, 'twodays': 5152, 'camera.very': 5153, 'model.😖': 5154, 'iron.': 5155, 'performancecons:1.': 5156, 'reviewpros:1.': 5157, 'yellowish5': 5158, 'blures': 5159, 'reset/boot': 5160, 'earphonesproduct': 5161, 'expectedbatterybattery': 5162, 'net.cameracamera': 5163, 'problemheat': 5164, 'charing': 5165, 'defect.i': 5166, 'dhayan': 5167, 'ford': 5168, 'krupiya': 5169, 'expection': 5170, 'lag.camera': 5171, 'mobilecharger': 5172, 'hansdet': 5173, 'ringer': 5174, 'detected.4': 5175, 'fastly2': 5176, 'focusing': 5177, 'timeswhen': 5178, 'heaphones': 5179, 'heat.overall': 5180, 'perfomence.good': 5181, 'goal': 5182, 'overtime': 5183, 'alonepros': 5184, 'atmosstock': 5185, 'camerathose': 5186, 'chargingdisplay': 5187, 'fluidity': 5188, 'hollywood': 5189, 'rn4': 5190, 'slower.if': 5191, 'sot': 5192, 'theatre': 5193, 'usage.first': 5194, 'afterwards': 5195, 'batterry': 5196, 'warrenty': 5197, 'kbhi': 5198, 'leti': 5199, 'tk': 5200, 'yr.': 5201, 'money.go': 5202, 'range.value': 5203, 'hardley': 5204, 'fastcamera': 5205, 'recorderno': 5206, '.video': 5207, 'itisnot': 5208, 'morveles': 5209, 'super.display': 5210, 'tvand': 5211, 'minits': 5212, 'volet': 5213, '-turbo': 5214, 'processor-better': 5215, 'useage': 5216, 'max2': 5217, 'sensers': 5218, 'dy': 5219, 'hrs.battery': 5220, 'quality.later': 5221, 'octcore': 5222, 'product.good': 5223, 'rs.1000': 5224, 'phone.thank': 5225, 'experiencebut': 5226, 'loactions': 5227, 'markbattery': 5228, 'reliance': 5229, 'amazon.inbut': 5230, 'customers.thanks': 5231, 'needful.i': 5232, '-the': 5233, 'appthe': 5234, 'anyphone': 5235, 'burner': 5236, 'icicibank': 5237, 'lesson': 5238, 'plzzzz': 5239, 'tempature': 5240, 'yet.note': 5241, 'description.do': 5242, 'prie': 5243, 'features.5': 5244, 'heavyin': 5245, 'k8.4': 5246, 'set.2': 5247, 'blunt': 5248, 'multipurpose': 5249, 'blurry': 5250, 'it.4': 5251, 'locations.3': 5252, 'models.1': 5253, 'parking': 5254, 'support.2': 5255, 'backupscamera': 5256, 'satisfiedhangs': 5257, 'average.do': 5258, 'camera.go': 5259, 'contact.2': 5260, 'device4': 5261, 'possible3': 5262, 'problems.1': 5263, 'projector': 5264, 'result.5': 5265, 'sensorts': 5266, 'why.6': 5267, 'diva': 5268, 'camera.split': 5269, 'it.cons': 5270, 'mins.good': 5271, 'revert': 5272, 'snapdel': 5273, 'respond': 5274, 'virus': 5275, 'product.just': 5276, 'hun': 5277, 'pachta': 5278, 'productthis': 5279, 'quality.phone': 5280, 'reviewi': 5281, 'thismy': 5282, 'charging.plzzzz': 5283, 'houre': 5284, 'heading': 5285, 'charging.battery': 5286, 'days.it': 5287, 'mobileit': 5288, 'survice': 5289, 'virsion': 5290, 'quality.overall': 5291, 'mobile.amazon': 5292, 'puffing': 5293, 'j': 5294, 'offcameras': 5295, 'portait': 5296, 'startup': 5297, 'consumtion': 5298, 'poorsound/speaker': 5299, 'camers': 5300, 'time.upto': 5301, '.sound': 5302, 'problem.guys': 5303, 'productvery': 5304, 'chala': 5305, 'screch': 5306, 'avoids': 5307, 'softwares.performance': 5308, 'excellent.thanks': 5309, 'processor.support': 5310, 'clear': 5311, 'anybody': 5312, 'aka': 5313, 'generation/world/planet': 5314, 'button.6': 5315, 'conference.9': 5316, 'conversion': 5317, 'deletion': 5318, 'lenovo4': 5319, 'mobiles.8': 5320, 'paste.5': 5321, 'person.2': 5322, 'person.3': 5323, 'watsapp': 5324, '.5': 5325, 'available.think': 5326, 'bend': 5327, 'bull': 5328, 'experiance.more': 5329, 'occur': 5330, 'shit': 5331, 'vol': 5332, 'warrenty.after': 5333, 'warrenty.bad': 5334, 'oreio': 5335, 'amazon.after': 5336, 'item.too': 5337, 'them.they': 5338, 'motoz': 5339, 'brock': 5340, 'fate': 5341, 'vaat': 5342, 'result.not': 5343, 'anad': 5344, 'mi4a': 5345, 'qualcomm': 5346, 'amazonplease': 5347, 'issue2.average': 5348, 'backup.performance': 5349, 'it.good': 5350, 'distributor': 5351, 'rajkot': 5352, 'aso': 5353, 'therefore': 5354, 'goood': 5355, 'spr': 5356, '😀': 5357, 'purchase.camara': 5358, 'restore': 5359, 'cat44g': 5360, 'dl': 5361, 'fdd': 5362, 'gprs': 5363, 'gsm': 5364, 'hspa+': 5365, 'ltespeed': 5366, 'mbps': 5367, 'mpbs': 5368, 'supportconnectivity/radiosdata': 5369, 'tdd': 5370, 'wcdma': 5371, 'product.camera': 5372, 'also.4': 5373, 'clicked.3': 5374, 'fuctions': 5375, 'pc.9': 5376, 'removable.8': 5377, 'simultaneously.5': 5378, 'secondhand': 5379, 'smartphonegreat': 5380, 'day.waiting': 5381, 'time3': 5382, 'knowledge': 5383, 'suppppeeerrrr': 5384, 'features.i.e': 5385, 'easy': 5386, 'chaina': 5387, 'restarting': 5388, 'effectthe': 5389, 'dafault': 5390, 'submission': 5391, 'android5': 5392, 'atmos3': 5393, 'cameracons:1': 5394, 'daylight4': 5395, 'display2': 5396, 'mah2': 5397, 'range.front': 5398, 'it.i': 5399, 'mobile.dont': 5400, 'paytm': 5401, 'developer': 5402, '.auto': 5403, 'devicepros': 5404, 'lightgame': 5405, 'managementdisply': 5406, 'soundcamera': 5407, 'update1': 5408, 'kyun': 5409, 'engine': 5410, 'chargerear': 5411, 'yrand': 5412, 'ever.battery': 5413, '😑😑': 5414, 'issues.1': 5415, 'properly.thanks': 5416, 'care.very': 5417, 'china.please': 5418, 'gallry': 5419, 'gvn': 5420, 'left.camera': 5421, 'result.lenovo': 5422, 'rude': 5423, 'sale.battery': 5424, 'sale.i': 5425, 'switc': 5426, 'sameas': 5427, 'example:1': 5428, 'gestures7': 5429, 'knote': 5430, 'paper4': 5431, 'pull': 5432, 'ringer3': 5433, 'too.its': 5434, 'vibration/ringing': 5435, 'confidence': 5436, 'tethering': 5437, 'mobile.not': 5438, 'optionupdate': 5439, 'mobile.camera': 5440, 'goodafter': 5441, 'heatbettry': 5442, 'itph': 5443, 'itpls': 5444, 'tourbo': 5445, 'cellphone.pure': 5446, 'days.': 5447, 'got': 5448, 'pricetq': 5449, 'sleeker': 5450, 'replacement/refund': 5451, 'adichaalum': 5452, 'thaanguraan': 5453, 'mnthhsnot': 5454, 'data.battery': 5455, 'bogas': 5456, 'ptoduct': 5457, 'properlyall': 5458, 'deepth': 5459, 'booster': 5460, 'acchaa': 5461, 'denet': 5462, 'it😪': 5463, 'agency': 5464, 'autocall': 5465, 'beekar': 5466, 'bekarr': 5467, 'chlune': 5468, 'kuj': 5469, 'laina': 5470, 'nalo': 5471, 'osday': 5472, 'osdey': 5473, 'tra': 5474, 'lifefast': 5475, 'processingbut': 5476, 'haih': 5477, 'acessories': 5478, 'jionet': 5479, 'provided3': 5480, 'use.recommendation': 5481, 'bakwass': 5482, 'in14000': 5483, 'lost': 5484, 'ib': 5485, 'ward': 5486, 'grunion': 5487, ',camera': 5488, 'lenovo.': 5489, 'advise': 5490, 'suplier': 5491, 'ache': 5492, 'brokeh': 5493, 'miss': 5494, 'delivery.thank': 5495, 'mobile.screen': 5496, 'player.my': 5497, 'decca': 5498, 'functional4': 5499, 'issue3': 5500, 'summer': 5501, 'remark': 5502, 'daysi': 5503, 'mobile.network': 5504, 'velocity': 5505, 'mobilelenovo': 5506, 'bugdet': 5507, 'thi': 5508, '❤️': 5509, 'enough.rest': 5510, 'galary': 5511, 'inr.its': 5512, 'music/': 5513, 'badge': 5514, 'card5': 5515, 'counter': 5516, 'excellent4': 5517, 'favour': 5518, 'finish3': 5519, 'hogging': 5520, 'life10': 5521, 'management6': 5522, 'manufaturer': 5523, 'me.3': 5524, 'mph': 5525, 'myside.cons': 5526, 'options7': 5527, 'pocket.pros': 5528, 'rod': 5529, 'silent': 5530, 'speed8': 5531, 'then.4': 5532, 'time9': 5533, 'typing': 5534, 'wht': 5535, 'proximity': 5536, 'study': 5537, 'back.overall': 5538, 'scratches.i': 5539, 'repeat': 5540, 'case/service': 5541, 'customeri': 5542, 'dwon': 5543, 'floor': 5544, 'height.what': 5545, 'lenovodull': 5546, 'mrp': 5547, 'networkdolby': 5548, 'strategy': 5549, 'earfone': 5550, 'time.i': 5551, 'atomos': 5552, 'dialing': 5553, 'batrry': 5554, 'chargingno': 5555, 'mobileheating': 5556, 'phone.need': 5557, 'phone.super': 5558, 'priduct': 5559, 'suppeer': 5560, 'confuse': 5561, 'forfomans': 5562, 'apps.plz': 5563, 'mobile.all': 5564, 'vorstions': 5565, 'specifications.1-': 5566, 'abhi': 5567, 'bol': 5568, 'btata': 5569, 'hai.if': 5570, 'hai.nd': 5571, 'jb': 5572, 'jo': 5573, 'sare': 5574, 'sbhi': 5575, 'dialer': 5576, 'productso': 5577, 'refundthank': 5578, 'videos.images': 5579, 'trubble': 5580, 'fight': 5581, 'jpeg': 5582, 'beautiful': 5583, 'directly.not': 5584, 'tv2.it': 5585, 'assories': 5586, '🤔': 5587, 'problam2.tarbo': 5588, 'profomence': 5589, 'prominence': 5590, 'blancco': 5591, 'signal.it': 5592, 'strength.amazon': 5593, 'avareage': 5594, 'advt': 5595, 'al': 5596, 'aug17': 5597, 'inspection': 5598, 'keya': 5599, 'mad': 5600, 'note.1.phone': 5601, 'own.4.the': 5602, 'pagal': 5603, 'phonecall': 5604, 'returning': 5605, 'shipper': 5606, 'stops/': 5607, 'table': 5608, 'tamilnadu': 5609, 'truth': 5610, 'useles': 5611, 'vdo': 5612, 'wwww': 5613, 'earphone.camera': 5614, 'issue.battery': 5615, 'mobile.do': 5616, 'l': 5617, 'tamil': 5618, 'vundi': 5619, 'cahrger': 5620, 'iz': 5621, '😞all': 5622, 'apse': 5623, 'aya': 5624, 'neeraj.raikwar94': 5625, 'nibedan': 5626, 'batata': 5627, 'bechne': 5628, 'chutne': 5629, 'hai.jo': 5630, 'hath': 5631, 'khubi': 5632, 'lenvo': 5633, 'mahina': 5634, 'par.company': 5635, 'rahta': 5636, 'toot': 5637, 'wahi': 5638, 'disliked': 5639, 'superrrrrrrr': 5640, 'loving': 5641, 'utube': 5642, 'perfomence': 5643, 'signaljio': 5644, 'sucks.otherwise': 5645, 'doubtphone': 5646, 'hadbattery': 5647, 'personnel.4': 5648, 'ranchi': 5649, 'ge': 5650, 'hanging.took': 5651, 'resolution.i': 5652, 'then.today,12th': 5653, 'theflagshipkiller': 5654, 'dilevery': 5655, 'appliations': 5656, 'app😍': 5657, 'selfiees': 5658, 'alreadyp.s': 5659, 'experince': 5660, 'g4': 5661, 'neat': 5662, 'properly.you': 5663, '☺️': 5664, 'firm': 5665, 'lenovo.thanx': 5666, 'config': 5667, 'hedset': 5668, 'pover': 5669, 'hittingcamera': 5670, 'aftersells-service': 5671, 'fai': 5672, 'backup😙': 5673, 's8': 5674, '.require': 5675, 'fact.it': 5676, 'memory.2': 5677, 'vendor': 5678, '😎😍😘': 5679, 'conditionturbo': 5680, 'packuo': 5681, 'dispoint': 5682, 'scolling': 5683, 'october2017': 5684, 'train': 5685, 'spellbound': 5686, 'backupbut': 5687, 'performancequick': 5688, 'killerturbo': 5689, 'mobilereview': 5690, 'budjet': 5691, 'smartphine': 5692, 'built': 5693, 'concept': 5694, 'experience.it': 5695, 'drasticallyi': 5696, 'arrive': 5697, 'loook': 5698, 'massenger': 5699, 'thinga': 5700, 'radio': 5701, 'awasome': 5702, 'esha': 5703, 'andaman': 5704, 'island': 5705, 'advertisement.autofocus': 5706, 'multitask': 5707, 'modeflash': 5708, 'mx': 5709, 'powercall': 5710, 'videobattery': 5711, 'vlc': 5712, 'sensitivity': 5713, 'deliverymy': 5714, 'productfast': 5715, '👍🏻': 5716, 'promblems': 5717, 'effectsinstead': 5718, 'issue2.display': 5719, 'sound.but': 5720, 'displace': 5721, 'notelenovo': 5722, '😟': 5723, 'q': 5724, 'deg': 5725, '~40': 5726, 'camera.ringtone': 5727, 'ab': 5728, 'bandha': 5729, 'bandhe': 5730, 'bhukate': 5731, 'chalu': 5732, 'galati': 5733, 'ham': 5734, 'jake': 5735, 'kr': 5736, 'minit': 5737, 'rahe': 5738, 'samne': 5739, 'tarfse': 5740, 'vo.log': 5741, '15mins': 5742, 'bankcoz': 5743, 'emergency': 5744, 'ik': 5745, 'imp': 5746, 'rn': 5747, 'ryt': 5748, 'time.it': 5749, 'woooww': 5750, 'plasticy': 5751, 'thisi': 5752, 'bade': 5753, 'hoa': 5754, 'bow': 5755, 'cheer': 5756, 'complaintsabout': 5757, 'product.k8note': 5758, 'canada': 5759, 'baddo': 5760, 'heat.my': 5761, 'this.figure': 5762, 'timephone': 5763, 'awsme': 5764, 'resemblance': 5765, 'boat': 5766, 'heed': 5767, 'magic': 5768, '💀': 5769, 'rangeoverall': 5770, 'backup.day': 5771, 'omelette': 5772, 'speedapps': 5773, 'surfinggood': 5774, 'sim.also': 5775, 'android.cons': 5776, 'drag': 5777, 'enthupros:1.': 5778, 'top4': 5779, 'xoami': 5780, 'corn.i': 5781, 'crystal': 5782, 'director': 5783, 'display.camera': 5784, 'fearures': 5785, 'hitension': 5786, 'lipped': 5787, 'responds': 5788, 'slap': 5789, 'ton': 5790, 'dhundli': 5791, 'dusre': 5792, 'joom': 5793, 'karne': 5794, 'karvana': 5795, 'varna': 5796, 'recorder2': 5797, 'copy/cut': 5798, 'cut/': 5799, 'paste': 5800, 'supob': 5801, 'problem.mobile': 5802, '.every': 5803, '.very': 5804, '.proceceer': 5805, 'rare': 5806, 'nxt': 5807, 'cameravalue': 5808, 'connectivitysoftware': 5809, 'issuesperfect': 5810, 'inconsistency': 5811, 'position': 5812, 'cable.rest': 5813, 'febulus': 5814, 'rrfund': 5815, 'gai': 5816, 'kiyakya': 5817, 'fastertherebis': 5818, 'likegood': 5819, 'forte': 5820, '.phone': 5821, 'aunt': 5822, '😢should': 5823, 'betery': 5824, 'issuedin': 5825, 'pdta': 5826, 'ruff': 5827, \"'slow-motion\": 5828, 'amazon.positives': 5829, 'battery.negatives': 5830, 'customisation': 5831, 'layer': 5832, 'negative': 5833, 'novelty': 5834, 'possibility': 5835, 'quality.-': 5836, 'separation': 5837, 'stick': 5838, 'turbo-charging': 5839, 'uis': 5840, 'blureness': 5841, 'intensity': 5842, 'ghnte': 5843, 'h.fir': 5844, 'hwill': 5845, 'khtm': 5846, 'krenge': 5847, 'krenge.itni': 5848, 'krwane': 5849, 'product.charger': 5850, 'sara': 5851, 'tak.jisme': 5852, 'awhile': 5853, 'productbut': 5854, 'heated.finger': 5855, 'mobile.good': 5856, 'hangeg': 5857, 'favt': 5858, 'hidingheat': 5859, 'heatset': 5860, 'lenevo.good': 5861, 'prodact': 5862, 'mobilepls': 5863, 'shocksphone': 5864, 'purchase1': 5865, 'solo': 5866, 'disappointed.2': 5867, 'well.4': 5868, 'also.3': 5869, 'frames.2': 5870, 'months.1': 5871, 'problemin': 5872, 'struck': 5873, 'subway': 5874, 'surfer': 5875, 'chargeing': 5876, 'properlycamera': 5877, 'bahute': 5878, 'aajata': 5879, 'beatry': 5880, 'hotehi': 5881, 'kaan': 5882, 'niche': 5883, 'also.i': 5884, 'structure': 5885, 'doc': 5886, 'mailing': 5887, 'costumising': 5888, 'lenovoit': 5889, 'sloteit': 5890, 'starfront': 5891, 'starsbattery-3': 5892, 'starsit': 5893, 'slote': 5894, 'biig': 5895, 'dosent': 5896, 'falleb': 5897, 'here4.music': 5898, 'isuue': 5899, 'mobile.overall': 5900, 'peices': 5901, 'always.phone': 5902, 'accesscustomer': 5903, 'batteryvery': 5904, 'problemnot': 5905, 'cliche': 5906, 'phn😀': 5907, 'dislpay': 5908, 'wasol': 5909, 'raju': 5910, 'custmer': 5911, 'isne': 5912, 'thnkful': 5913, 'zabardastt': 5914, 'service.you': 5915, 'better.volte': 5916, 'headgear': 5917, 'aps.guys': 5918, 'frequently.i': 5919, 'mark.it': 5920, 'charginga': 5921, 'aram': 5922, 'ba': 5923, 'gira': 5924, 'tut': 5925, 'batrey': 5926, 'package.amazon': 5927, 'problem.it': 5928, 'batteryhanging': 5929, 'bhar': 5930, 'diya.over': 5931, 'heated.drain': 5932, 'trash': 5933, 'theek': 5934, 'और': 5935, 'का': 5936, 'क्वालिटी': 5937, 'ठीक': 5938, 'डिस्प्ले': 5939, 'थोड़ी': 5940, 'नहीं': 5941, 'फोन': 5942, 'बेकार': 5943, 'भी': 5944, 'मेगापिक्सल': 5945, 'लेकिन': 5946, 'है': 5947, 'dikhata': 5948, 'faet': 5949, 'hey': 5950, 'honey': 5951, 'karu': 5952, 'mey': 5953, 'suru': 5954, 'problm': 5955, 'definatio': 5956, '7200/-': 5957, 'rs.12,000/-': 5958, 'sh': 5959, 'smartchk': 5960, 'voice.i': 5961, 'wasting': 5962, 'backupall': 5963, 'handsetexcellent': 5964, 'performancevery': 5965, 'qualityexcellent': 5966, 'performanceand': 5967, 'phoneso': 5968, 'quality4': 5969, 'recording2': 5970, 'smartphone1': 5971, 'avrege': 5972, 'intex': 5973, 'photos/videos': 5974, 'storage.dont': 5975, 'experience.good': 5976, 'lighter': 5977, 'phonethank': 5978, 'fund': 5979, 'phone.bokeh': 5980, 'sale.after': 5981, 'fitting': 5982, 'hellothis': 5983, 'needfulit': 5984, 'dout': 5985, 'parcel': 5986, 'waight': 5987, '😡😡😡': 5988, 'dukhi': 5989, 'gye': 5990, 'itna': 5991, 'jha2': 5992, 'katai': 5993, 'tatti': 5994, 'stolen😓': 5995, 'hating': 5996, 'signel': 5997, 'hpy': 5998, 'width': 5999, 'het': 6000, 'issueit': 6001, 'packet.why': 6002, 'mathav': 6003, 'shots.purushoth': 6004, 'camera2.battery': 6005, 'shander': 6006, 'for3': 6007, 'price2': 6008, 'productcons1.camera': 6009, 'properly4': 6010, 'sometimei': 6011, 'well5': 6012, 'lac': 6013, 'advertised.it': 6014, 'advertised.speed': 6015, 'compression': 6016, 'camera.i': 6017, 'flop': 6018, 'adopter': 6019, 'printing': 6020, 'weat': 6021, 'more5': 6022, 'killer🤔': 6023, 'issue.rest': 6024, 'baground': 6025, 'musik': 6026, 'sumsung': 6027, 'bkvas': 6028, 'bhaut': 6029, 'buri': 6030, 'faida': 6031, 'girti': 6032, 'hei': 6033, 'keemat': 6034, 'lagai': 6035, 'matlab': 6036, 'tarah': 6037, 'superbok': 6038, 'goodprocessor': 6039, 'lotcamera': 6040, 'octa': 6041, 'resale': 6042, 'costomization': 6043, 'regarding': 6044, 'slowmotion': 6045, 'issues.it': 6046, 'smoothly.camera': 6047, 'whilei': 6048, 'issues.the': 6049, 'qwality': 6050, 'smm': 6051, 'callservice': 6052, 'helpdesk': 6053, 'mannerno': 6054, 'existent': 6055, 'sensation': 6056, '.casting': 6057, 'hater': 6058, 'play-store': 6059, 'money.it': 6060, 'bigbillionday': 6061, 'fyi': 6062, 'regardless': 6063, 'valu': 6064, 'awsmm': 6065, 'qualitybattery': 6066, 'heard': 6067, 'atiganum': 6068, 'ella': 6069, 'ennai': 6070, 'nabi': 6071, 'perform.cell': 6072, 'seruppala': 6073, 'vaguna': 6074, 'prbl': 6075, 'colity': 6076, 'mediate': 6077, 'deosnt': 6078, 'mi4': 6079, 'decoder': 6080, 'hotstar': 6081, 'alsovery': 6082, 'pluse': 6083, 'it.excellent': 6084, 'dou': 6085, 'आहे': 6086, 'बकवास': 6087, '।।': 6088, 'averagespeakers': 6089, 'customerssanjay': 6090, 'goenka': 6091, 'hours2': 6092, 'malfunctioning3': 6093, 'malfunctioning4': 6094, 'mobile5': 6095, 'papers6': 6096, 'time.performance1': 6097, 'bravia': 6098, 'rchennai9840835042': 6099, 'good.please': 6100, 'invoce': 6101, 'dooes': 6102, 'fast.phone': 6103, 'hours.further': 6104, 'afterall': 6105, 'phone😇': 6106, 'government': 6107, 'irony': 6108, 'hours.if': 6109, 'kind.but': 6110, 'changing': 6111, '24hours': 6112, 'expect': 6113, 'to10': 6114, 'indorelenevo': 6115, 'plaza': 6116, 'problemcity': 6117, 'problemphone': 6118, 'yashwant': 6119, 'issue.1': 6120, 'month.it': 6121, 'cmara': 6122, 'dula': 6123, 'kadhu': 6124, 'camerapowerful': 6125, 'phoneawesome': 6126, 'pocket😎': 6127, 'apne': 6128, 'dekha': 6129, 'h.or': 6130, 'jae': 6131, 'woh': 6132, 'performancesometimes': 6133, 'sluggs': 6134, 'corve': 6135, '5-6hours': 6136, 'featuresdrainage': 6137, 'q8': 6138, 'privacy': 6139, 'lpove': 6140, 'jiovoice': 6141, 'money.battery': 6142, 'product.waste': 6143, 'sirmy': 6144, 'addressbest': 6145, 'complety': 6146, 'days.why': 6147, 'meaning': 6148, 'speakers.so': 6149, 'aay.2': 6150, 'drr': 6151, 'dwnldng': 6152, 'huye': 6153, 'jaye': 6154, 'jitna': 6155, 'lagne': 6156, 'maah': 6157, 'maza': 6158, 'socha': 6159, 'networknetwork': 6160, 'number.regardsyasir': 6161, 'siddique9711193815': 6162, 'mobile.cant': 6163, 'name/number': 6164, 'batterybackup': 6165, 'everyphone': 6166, 'gamer/user': 6167, 'mark.battery': 6168, 'devicenetwork': 6169, 'sportearphone': 6170, 'mobiles.pls': 6171, 'properly.battery': 6172, 'segment.camera': 6173, 'aati': 6174, 'aavashyakta': 6175, 'abhav': 6176, 'achchha': 6177, 'asardar': 6178, 'babjood': 6179, 'badiya': 6180, 'contrast': 6181, 'dhik': 6182, 'dikhti': 6183, 'dolbi': 6184, 'eski': 6185, 'fechers': 6186, 'hai.defth': 6187, 'hai.jaruri': 6188, 'hai.jio': 6189, 'hai.mobile': 6190, 'hai.photo': 6191, 'hai.processor': 6192, 'hai.storage': 6193, 'jaise': 6194, 'jalta': 6195, 'jisse': 6196, 'kami': 6197, 'keval': 6198, 'lagi.rear': 6199, 'metre': 6200, 'neeche': 6201, 'pata': 6202, 'thodi': 6203, 'scratches.heats': 6204, 'this.yes': 6205, 'atall': 6206, 'phone.2': 6207, 'voice.3': 6208, 'also.other': 6209, 'nahiye': 6210, 'sarkha': 6211, 'mobile.very': 6212, 'dhoka': 6213, 'camera4.very': 6214, 'galaxy': 6215, 'model.i': 6216, 'review.1.bad': 6217, 'pbone': 6218, 'iiam': 6219, 'degine': 6220, 'degnie': 6221, 'expected.1': 6222, 'option3': 6223, 'stereo': 6224, 'enovo': 6225, 'itam': 6226, 'moneybattery': 6227, 'condition.fingerprint': 6228, 'e4': 6229, 'issue.better': 6230, 'case.camera': 6231, 'cast.also': 6232, 'nature': 6233, 'same.torch': 6234, 'whiter': 6235, 'image.i': 6236, 'cover.back': 6237, 'charging.turbo': 6238, 'anythingwent': 6239, 'issuethey': 6240, 'stuffplease': 6241, 'buyers:1.': 6242, 'charge3': 6243, 'charge4': 6244, 'forum.over': 6245, 'hang-up': 6246, 'hangs-up': 6247, 'number.5': 6248, 'opener': 6249, 'queries/issues': 6250, 'sms2': 6251, 'vrygood': 6252, 'statement': 6253, 'achaa': 6254, 'kmi': 6255, 'a/c': 6256, 'buylt': 6257, 'connect-': 6258, 'coordinationi': 6259, 'k3/k4': 6260, 'loud': 6261, 'shortcoming': 6262, 'betterbut': 6263, 'gaminga': 6264, 'cameragorilla': 6265, 'frant': 6266, 'gal': 6267, 'featurestoo': 6268, 'productbest': 6269, 'parent': 6270, 'batt': 6271, 'm2': 6272, 'me🤔': 6273, 'vetnom': 6274, 'yesit': 6275, 'lenovo.cast': 6276, 'working.heat': 6277, 'seriesnot': 6278, 'vibebut': 6279, 'vibei': 6280, 'voltecamera': 6281, 'androidmetal': 6282, 'damge': 6283, 'heatingcamerabattery': 6284, 'performancestock': 6285, 'qualitycons': 6286, 'memo': 6287, 'p70': 6288, 'displaycons.camera': 6289, 'heatingstylishmetallicbatteryfhd': 6290, 'money.pros.no': 6291, 'issueand': 6292, 'productsince': 6293, 'more.i': 6294, 'phonei': 6295, '😀😀😀😀😀': 6296, 'ghatya': 6297, 'k5vibejust': 6298, 'lookinghaving': 6299, 'hower': 6300, 'amz': 6301, 'draine': 6302, 'returnd': 6303, 'works.so': 6304, 'alright': 6305, 'armour': 6306, 'cent': 6307, 'champion': 6308, 'combat': 6309, 'days.performance': 6310, 'dozen': 6311, 'either.point': 6312, 'fairness': 6313, 'gun': 6314, 'industry': 6315, 'matte': 6316, 'multi-tasking': 6317, 'night.the': 6318, 'pleasure': 6319, 'push': 6320, 's7': 6321, 'sheer': 6322, 'smudge': 6323, 'tuneups': 6324, 'use.camera': 6325, 'aaj': 6326, 'behtar': 6327, 'promo': 6328, 'paformans': 6329, 'faith': 6330, 'vudeo': 6331, 'worl': 6332, 'good.': 6333, 'plze': 6334, 'always.it': 6335, 'function.very': 6336, 'refuse': 6337, 'markoptions/features': 6338, 'verient': 6339, 'excellent.packing': 6340, 'rec': 6341, 'mobiledo': 6342, 'productbutifull': 6343, 'prosising': 6344, 'tempure': 6345, 'performance.excellent': 6346, 'phone.top': 6347, 'quality.bokeh': 6348, 'mobike': 6349, 'cavreg': 6350, 'problemover': 6351, 'pairing': 6352, 'amaxon': 6353, 'jhakass.i': 6354, '👌👍': 6355, 'mid-range': 6356, 'pea': 6357, 'battery3': 6358, 'bestif': 6359, 'configerations': 6360, 'consadv1': 6361, 'desire2': 6362, 'hanged2': 6363, 'it.everything': 6364, 'okdisadvantages1': 6365, 'pg': 6366, 'phones5': 6367, 'efficient.camera': 6368, 'bay': 6369, 'valuation': 6370, 'point.real': 6371, 'worksno': 6372, 'att': 6373, 'tmobile': 6374, 'exposer': 6375, 'copyi': 6376, 'gst': 6377, 'amplifier': 6378, 'irritation': 6379, 'netflix': 6380, 'visuals.the': 6381, 'custmore': 6382, 'product.in': 6383, 'servicing.battery': 6384, 'mobiles.two': 6385, 'connet': 6386, 'banking': 6387, 'chargingbut': 6388, 'choise': 6389, 'disadvateage': 6390, 'focus.and': 6391, 'grmperformance': 6392, 'performance.hanging': 6393, 'properly.mobile': 6394, 'kb': 6395, 'tovvery': 6396, 'call.sometimes': 6397, 'working.clock': 6398, 'satisfied': 6399, 'a1.bad': 6400, 'camerabad': 6401, 'nope': 6402, 'youtubebad': 6403, 'g5splus': 6404, 'halpy': 6405, 'jada': 6406, 'toda': 6407, 'battery.gaming': 6408, 'butter.no': 6409, 'good.amazon': 6410, 'lag.sound': 6411, 'aspection': 6412, 'mode.3': 6413, 'quality.1': 6414, 'thw': 6415, 'again.the': 6416, 'situationis': 6417, 'vist': 6418, 'dum': 6419, 'jabrdast': 6420, 'konsa': 6421, 'bc': 6422, 'mc': 6423, 'sal': 6424, 'clrearity': 6425, 'fone.otherwise': 6426, 'quality.its': 6427, 'plan': 6428, '😎': 6429, 'gehdjdid': 6430, 'applications.the': 6431, 'battety': 6432, 'imprints.3': 6433, 'look3': 6434, 'work.5': 6435, 'spoke': 6436, 'volty': 6437, 'temperaturegoes': 6438, 'gadgetbut': 6439, '👌👌👌👌': 6440, 'heat-': 6441, 'latency': 6442, 'hoto': 6443, 'century': 6444, 'note.company': 6445, 'show/told': 6446, 'skinny': 6447, 'keyboard': 6448, 'months.i': 6449, 'backupsingle': 6450, 'phonesecond': 6451, 'spicer': 6452, '.bokeh': 6453, 'phone.fake': 6454, 'table.not': 6455, 'product.everything': 6456, 'one.but': 6457, 'letdown': 6458, 'disease': 6459, 'k-series': 6460, 'legacy': 6461, 'mobility': 6462, 'oblivion': 6463, 'only.battery': 6464, 'rs.14000': 6465, 'range.awesome': 6466, 'phone.better': 6467, 'return.simply': 6468, 'amazon.com': 6469, 'emi.so': 6470, 'give': 6471, 'problum': 6472, 'excellentbattery': 6473, 'k8…and': 6474, 'wormly': 6475, 'karain': 6476, 'trouser': 6477, 'mode.finger': 6478, 'taggicharu': 6479, 'percent2': 6480, 'muh': 6481, 'sooo': 6482, \"'lock\": 6483, 'nop': 6484, 'basics.4': 6485, 'clothes': 6486, 'enough.2': 6487, 'failures/set': 6488, 'spec.': 6489, '👎😕🙁😏😓': 6490, 'cameraphone': 6491, 'chargingspeakerconsvery': 6492, 'timesvery': 6493, 'batati': 6494, 'bikhar': 6495, 'din': 6496, 'hoshiyari': 6497, 'jbki': 6498, 'jiska': 6499, 'kaach': 6500, 'kre': 6501, 'thaa': 6502, 'move': 6503, 'worthwhile': 6504, 'aisa': 6505, 'auro': 6506, 'haa': 6507, 'hide': 6508, 'thoda': 6509, 'owsome': 6510, 'this.very': 6511, 'smar': 6512, 'charge.camera': 6513, 'e.g': 6514, 'precaution': 6515, 'reviewmeet': 6516, '💀killer': 6517, 'praise': 6518, '👌👌👌👌👌👌💗💗': 6519, 'byjuly': 6520, 'u.': 6521, 'v.nice.and': 6522, 'performnce': 6523, 'costing': 6524, 'call.drains': 6525, 'device.notification': 6526, 'etc.fast': 6527, 'expectation.battery': 6528, 'good.good': 6529, 'qualitybut': 6530, 'winner': 6531, 'wifegreat': 6532, 'amazoncamera': 6533, 'lenovogood': 6534, 'butone': 6535, 'ringtoneand': 6536, 'hez': 6537, 'lostthis': 6538, 'manger': 6539, '.more': 6540, 'glove': 6541, 'pair': 6542, 'it.so': 6543, 'missd': 6544, 'hcl': 6545, 'numbers.do': 6546, 'salai': 6547, 'utmost': 6548, 'normalcamera': 6549, 'awosame': 6550, '😎😍': 6551, 'dual': 6552, 'noughgat': 6553, 'originality': 6554, 'providing': 6555, 'embarrassing': 6556, 'irrespective': 6557, 'chrom': 6558, 'grab': 6559, 'mali': 6560, 'runnung': 6561, 'khelte': 6562, 'paid.over': 6563, 'performence': 6564, 'bax': 6565, 'ghhh': 6566, '.3': 6567, 'heart': 6568, 'you.2': 6569, 'pdoduct': 6570, 'ossam': 6571, '😍😍😍😍': 6572, 'responsibility': 6573, 'orange': 6574, 'breaker': 6575, 'tension': 6576, 'pakka': 6577, 'strenth': 6578, 'traveling': 6579, 'pictures.please': 6580, 'irritant': 6581, 'workhorse': 6582, 'similer': 6583, 'fone.fingerprint': 6584, 'apps.amazon': 6585, 'booking': 6586, 'deliver.overall': 6587, 'hours.do': 6588, 'phone.after': 6589, 'service.both': 6590, 'good.charge': 6591, 'torrent': 6592, 'stylish': 6593, 'gta': 6594, 'hat': 6595, 'bluetooth.network': 6596, 'nadu': 6597, 'rupees.also': 6598, 'soliciting': 6599, 'w/o': 6600, 'wark': 6601, 'ane': 6602, 'garm': 6603, 'jal': 6604, 'kan': 6605, 'pa': 6606, 'app/site': 6607, 'certificate': 6608, 'days.so': 6609, 'department.they': 6610, \"didn't.anyways\": 6611, 'hot-spot': 6612, 'it.and': 6613, 'minutes.they': 6614, 'return/replace': 6615, 'service.its': 6616, 'processor.best': 6617, 'butwat': 6618, 'supprab': 6619, 'earphone.you': 6620, 'beginning.but': 6621, 'down.but': 6622, 'j7pro': 6623, '😇😇😇😇': 6624, 'hur': 6625, 't.': 6626, 'condition.but': 6627, 'bda': 6628, 'hiii': 6629, 'hutiyaap': 6630, 'lgaaa': 6631, 'mn': 6632, 'rhii': 6633, 'sasta': 6634, 'atmis': 6635, 'vthis': 6636, 'see': 6637, 'bitmine': 6638, 'heatfingerprint': 6639, 'gaurd': 6640, 'o/s': 6641, 'camerafront': 6642, 'keyno': 6643, 'amazing.camera': 6644, 'good.overall': 6645, 'use.charging': 6646, 'charginh': 6647, 'v7': 6648, 'wierdos': 6649, 'blue': 6650, 'helluva': 6651, 'aminities': 6652, 'delivery.overall': 6653, 'hourhs': 6654, ':1.camera': 6655, 'apps.con': 6656, 'everyone.i': 6657, 'wifi/bluetooth': 6658, 'evren': 6659, 'usimg': 6660, 'becouse': 6661, 'decreasing': 6662, 'andbattery': 6663, 'menu.charging': 6664, 'picture.overall': 6665, 'side.camera': 6666, 'camerathough': 6667, 'productexcellent': 6668, \"doesn'tget\": 6669, 'gallery.i': 6670, 'passage': 6671, 'fraction': 6672, 'it👍': 6673, 'games.but': 6674, 'upset': 6675, 'week.fast': 6676, 'apps.3': 6677, 'disappears': 6678, 'properly.1': 6679, 'jalandhar': 6680, 'issue.network': 6681, 'issues.battery': 6682, 'flashwith': 6683, 'n7': 6684, 'rangegood': 6685, 'range.problem': 6686, 'horrible': 6687, 'antivirus': 6688, 'consgallery': 6689, 'expectedin': 6690, 'missingcamera': 6691, 'missingspeed': 6692, 'defination': 6693, 'aaya': 6694, 'lid': 6695, 'budget.battery': 6696, 'theresend': 6697, '-20': 6698, '-4/5': 6699, '-cons1': 6700, 'area.battery': 6701, 'battery-when': 6702, 'chrome.will': 6703, 'disruption': 6704, 'exists': 6705, 'lags.5': 6706, 'magnet': 6707, 'mode.6': 6708, 'monochrome': 6709, 'pocket.2': 6710, 'rain.so': 6711, 'squinting': 6712, 'sweaty': 6713, 'treat': 6714, 'warmer': 6715, 'atmos.camera': 6716, 'model.better': 6717, 'noteit': 6718, 'phones.battery': 6719, 'weeks.🔈speaker': 6720, ',02may': 6721, 'oct2017': 6722, 'workingbut': 6723, 'and.it': 6724, 'heting.i': 6725, \"'jugaad\": 6726, 'dude': 6727, 'ejecting': 6728, 'inserting': 6729, 'navs': 6730, 'plzzzzzz': 6731, 'issue.but': 6732, 'agr': 6733, 'bachti': 6734, 'bs': 6735, 'chlta': 6736, 'ghante': 6737, 'han': 6738, 'isliye': 6739, 'khrab': 6740, 'kro': 6741, 'lgatar': 6742, 'mahine': 6743, 'mrzi': 6744, 'pahle': 6745, 'pta': 6746, 'sawal': 6747, 'sb': 6748, 'required.deca': 6749, 'properlypls': 6750, '😞': 6751, 'mediateck': 6752, 'mortification': 6753, 'gallary': 6754, 'speedeter': 6755, 'exec': 6756, 'reimbursement': 6757, 'btry': 6758, 'wid': 6759, 'phonenot': 6760, 'rijalt': 6761, 'tracking': 6762, 'averagebatery': 6763, 'bakra': 6764, 'bulit': 6765, 'charging.thanks': 6766, 'issue.mobile': 6767, 'product.please': 6768, 'refund.i': 6769, '😪😪': 6770, 'sweet': 6771, 'superbb': 6772, 'issues:1': 6773, 'time.3': 6774, 'con.fits': 6775, 'managment': 6776, 'set.however': 6777, 'sets.i': 6778, 'wats': 6779, 'shuts': 6780, 'rs.5500': 6781, 'crashed': 6782, 'processor.go': 6783, 'phoch': 6784, 'problem.there': 6785, 'rateing': 6786, 'even15': 6787, 'charge.4.it': 6788, 'command': 6789, 'day.the': 6790, \"is't\": 6791, 'center.6': 6792, 'problemi': 6793, 'quarlity': 6794, 'manish': 6795, 'bjt': 6796, 'concernproduct': 6797, 'requestthank': 6798, 'glue': 6799, 'buyingpoor': 6800, 'offf': 6801, 'screecast': 6802, 'vibek5': 6803, 'aswome': 6804, 'pricepoint': 6805, 'only.and': 6806, 'oki': 6807, 'averagebattery': 6808, 'drowns': 6809, 'goodfront': 6810, ',battery': 6811, 'budget.speed': 6812, 'superrr': 6813, 'squek': 6814, 'celcius': 6815, 'bkwas': 6816, 'jordar': 6817, 'btw': 6818, 'curiour': 6819, '-cheatinggggg': 6820, 'hereand': 6821, 'pkys': 6822, 'sohnd': 6823, 'condion': 6824, 'amazonnot': 6825, 'lanovo': 6826, 'voltevery': 6827, 'lenovo.issues': 6828, 'microtec': 6829, 'khtam': 6830, 'claimed': 6831, 'making': 6832, 'pastic.4.body': 6833, 'interference': 6834, 'bhari': 6835, 'rapchik': 6836, 'bot': 6837, 'charge.i': 6838, 'problem.hoping': 6839, 'teami': 6840, 'rs.2000/-': 6841, 'positive': 6842, 'it.ca': 6843, 'amazon.i': 6844, 'lonovo': 6845, 'shutdown': 6846, 'ismore': 6847, '🎥': 6848, 'lenevok8': 6849, 'fleaker': 6850, 'reply.worst': 6851, 'broke.customer': 6852, 'perfect.if': 6853, 'doot': 6854, 'box.2': 6855, '❤❤': 6856, 'viewer': 6857, 'per': 6858, 'cameravery': 6859, 'iron.probably': 6860, 'displayconsthe': 6861, 'ram5.5': 6862, 'right.call': 6863, 'sound4gb': 6864, 'works.the': 6865, 'rohil7736832940': 6866, 'aloneam': 6867, 'model.but': 6868, 'saving': 6869, 'steal': 6870, 'mirroringno': 6871, 'nice.i': 6872, 'offer.mobile': 6873, '.how': 6874, 'bettary': 6875, 'mineus': 6876, 'day.overall': 6877, 'fast.battery': 6878, 'perfmance': 6879, 'clearance': 6880, 'data.2': 6881, 'forum.3': 6882, 'malfunction.5': 6883, 'while.4': 6884, 'yaaaa': 6885, 'baught': 6886, 'moving': 6887, 'cameperformance': 6888, 'fastlysystem': 6889, 'storageneeds': 6890, 'cutso': 6891, 'dayradmi': 6892, 'deda': 6893, 'jim': 6894, 'device.front': 6895, 'shifting': 6896, 'charger.take': 6897, 'mobile.dolby': 6898, 'dissapoints': 6899, 'body.it': 6900, 'me.i': 6901, 'rupees.the': 6902, 'stars.it': 6903, 'notch': 6904, 'quality.lenevo': 6905, 'productdo': 6906, 'butter': 6907, 'crime': 6908, 'language': 6909, 'rotation': 6910, 'sync': 6911, 'media.please': 6912, 'effect.3': 6913, 'penny.pros:1.': 6914, 'display/sound': 6915, 'issues.4': 6916, 'mouse': 6917, 'overall.but': 6918, 'august.which': 6919, 'importance': 6920, 'problem.as': 6921, '₹1000': 6922, '₹12,999': 6923, 'money.feels': 6924, 'bla': 6925, 'phone.also': 6926, 'product.thanks': 6927, 'reosnabel': 6928, 'guna': 6929, 'it.k5': 6930, 'location.it': 6931, 'speaking': 6932, 'rahega': 6933, 'sudhaar': 6934, 'glassi': 6935, 'miner': 6936, 'screenin': 6937, 'drive.nitin': 6938, 'joshi9873551974': 6939, 'rs.343': 6940, 'averageselfie': 6941, 'glide': 6942, 'rail': 6943, 'phonein': 6944, 'prosesar': 6945, 'worth-full': 6946, 'somebody': 6947, 'lighting': 6948, 'viz': 6949, 'rectify': 6950, 'yesterday-21-04-2018': 6951, 'recording.sould': 6952, 'reverse': 6953, 'phone.waste': 6954, '😊': 6955, 'blip': 6956, 'gamin': 6957, 'allrounder': 6958, 'mark.yet': 6959, 'connectivityin': 6960, 'questions.when': 6961, 'recovery': 6962, 'jst': 6963, 'properly.call': 6964, 'phone.this': 6965, 'downbest': 6966, 'showroom': 6967, '😊😊': 6968, 'enhancer': 6969, 'mpxl': 6970, 'mod.😢': 6971, '☺️but': 6972, 'montgs': 6973, 'advantages.1': 6974, 'atmos8': 6975, 'camera2': 6976, 'further5': 6977, 'mode3': 6978, 'sd625': 6979, 'selfies6': 6980, 'sound4': 6981, 'support9': 6982, 'updates7': 6983, 'suresh': 6984, 'bachwa': 6985, 'bahout': 6986, 'batwa': 6987, 'grmavat': 6988, 'hka': 6989, 'krat': 6990, 'kri': 6991, 'va': 6992, 'disconnecting': 6993, 'exercise': 6994, 'festival': 6995, 'bitting': 6996, 'climax': 6997, 'corporation': 6998, 'monsoon': 6999, 'android13': 7000, 'atmosless': 7001, 'blasterbattery': 7002, 'buspros': 7003, 'heatingvr': 7004, 'modecons': 7005, 'month.no': 7006, 'attitude': 7007, 'servicing': 7008, 'facility.shame': 7009, 'failed.waste': 7010, 'lenovo.after': 7011, 'case.depth': 7012, 'minutes.mobile': 7013, 'too.dolby': 7014, 'good.waste': 7015, 'excitement.i': 7016, 'phones.1': 7017, 'screen.4': 7018, 'stain': 7019, 'user.3': 7020, 'bichme': 7021, 'bola': 7022, 'gir': 7023, 'patthar': 7024, 'pee': 7025, 'tuta': 7026, 'adapter.in': 7027, 'manufacturer.also': 7028, '.try': 7029, 'cameraand': 7030, 'features.and': 7031, 'befor': 7032, 'gash': 7033, 'amazonpolicy': 7034, 'battery.charging': 7035, 'feautres': 7036, 'feel4': 7037, 'piece.1': 7038, 'switchi': 7039, 'hart': 7040, 'cameranot': 7041, 'chargingfront': 7042, 'lifeturbo': 7043, 'fineconscall': 7044, 'chargingheating': 7045, 'leno': 7046, 'needsthanks': 7047, 'rangewith': 7048, 'styling': 7049, 'day.how': 7050, 'nat': 7051, 'reject': 7052, 'work.camera': 7053, 'ok.perfomence': 7054, 'baterry': 7055, 'littlebit': 7056, 'catching': 7057, 'palace': 7058, 'handsfree': 7059, '🤗🤗': 7060, 'gnetwork': 7061, 'issues.please': 7062, 'side.it': 7063, 'atmos.good': 7064, 'backup.otherwise': 7065, 'gaming.so': 7066, 'ata': 7067, 'bdhiya': 7068, 'prect': 7069, 'tarbo': 7070, 'dissplay': 7071, 'rong': 7072, 'cammand': 7073, 'brand.just': 7074, 'mode.2.one': 7075, 'phone1.battery': 7076, 'use.3.it': 7077, 'dislike.they': 7078, 'one.pls': 7079, 'issue.4g': 7080, 'lenvovo': 7081, 'reboot.camera': 7082, 'signal.and': 7083, 'minuts': 7084, 'purfect.these': 7085, 'slip': 7086, 'chargin': 7087, 'coting': 7088, 'happily.thanks': 7089, 'time.and': 7090, 'nownorefundoptionforme': 7091, 'sethu': 7092, 'samecontact': 7093, 'candidate': 7094, 'product.volte': 7095, 'vest': 7096, 'snapper': 7097, '-1.speaker': 7098, 'actually.7': 7099, 'backdraws1': 7100, 'class4': 7101, 'draining.2': 7102, 'game.8': 7103, 'option.6.charger': 7104, 'radio.3': 7105, 'set.4.flash': 7106, 'hangand': 7107, 'ntg': 7108, 'moneybrought': 7109, 'too.sound': 7110, 'guidance': 7111, 'gmail.comthank': 7112, 'mail.kishorekhatua890': 7113, 'smartphonevery': 7114, '😘😘': 7115, 'feture': 7116, 'problam': 7117, 'returnble.so': 7118, 'waw': 7119, 'headphone2': 7120, 'bettrylife': 7121, 'day.all': 7122, 'reveiew': 7123, 'displayvery': 7124, 'fear': 7125, 'phoneyou': 7126, 'camera+': 7127, '😇': 7128, 'issue.turbo': 7129, 'day.i': 7130, 'network.i': 7131, 'sim1': 7132, 'haryana': 7133, 'servicevery': 7134, 'batteryfast': 7135, 'cameraseparate': 7136, 'cardhuge': 7137, 'mult': 7138, 'phone.please': 7139, 'player.4': 7140, 'category.5.front': 7141, 'equalizer': 7142, 'features.i': 7143, 'issue.2.no': 7144, 'issue.3.battery': 7145, 'mah.4.camera': 7146, 'megapixels': 7147, 'phone.overall': 7148, 'voice.7.turbo': 7149, 'same.please': 7150, 'product.thank': 7151, 'commerce': 7152, 'netpack': 7153, 'dikhta': 7154, 'jaisa': 7155, 'jao': 7156, 'waisa': 7157, 'intermedent': 7158, 'diffculty': 7159, 'leveno': 7160, 'sice': 7161, 'thumb': 7162, 'averagecons': 7163, 'gooddesign': 7164, 'issues.not': 7165, 'taskingfinger': 7166, 'delevard': 7167, 'worstttt': 7168, 'partiallity': 7169, 'connection.plz': 7170, 'smrt': 7171, 'wellbut': 7172, 'price.built': 7173, 'namesake': 7174, 'tuesday': 7175, 'gard': 7176, 'goodpice': 7177, 'speekar': 7178, 'note.camera': 7179, 'bharilenovo': 7180, 'lay': 7181, 'delivering': 7182, 'missbhaveing': 7183, 'backup.2': 7184, 'keys.5': 7185, 'problem.4': 7186, 'recordings.3': 7187, 'song.6': 7188, 'checked.not': 7189, 'spacebut': 7190, 'pace': 7191, 'awsmmeee': 7192, 'hardcore': 7193, 'weard': 7194, 'k5plus': 7195, 'exllent': 7196, 'core.decent': 7197, 'displaydolby': 7198, 'hour.at': 7199, 'mah.5v': 7200, 'ok.nice': 7201, 'bullet': 7202, 'burnt.phone': 7203, 'immediately.please': 7204, 'heatinggood': 7205, 'price.display': 7206, 'ever.just': 7207, 'truth.the': 7208, '3-4hours': 7209, 'wrt': 7210, 'fooling': 7211, 'spite': 7212, 'box.i': 7213, 'moth': 7214, 'stuck': 7215, 'usage.thanks': 7216, 'alone.better': 7217, 'award': 7218, 'beta': 7219, 'distracts': 7220, 'engineering': 7221, 'failed.this': 7222, 'info': 7223, 'lenovo.this': 7224, 'million': 7225, 'more.it': 7226, 'processor😘😘': 7227, 'expectationslet': 7228, 'amd': 7229, 'durabilty': 7230, 'supercast': 7231, 'working.also': 7232, 'mobile.please': 7233, 'cameraselfie': 7234, 'chargingcamera': 7235, 'gon': 7236, 'okish': 7237, 'trapit': 7238, 'cherge': 7239, 'goodest': 7240, 'screen2': 7241, 'notvolte': 7242, 'sup': 7243, 'issuelenovo': 7244, '💰': 7245, 'aluminium': 7246, 'find': 7247, 'flaws.build': 7248, 'punda': 7249, 'shaking': 7250, 'recordingand': 7251, 'thisor': 7252, 'cleaner': 7253, 'compass3': 7254, 'gold.after': 7255, 'bug.2': 7256, 'charging.3': 7257, 'crap.i': 7258, 'headphones.8': 7259, 'k4note.6': 7260, 'phone.9': 7261, 'plant': 7262, 'sits': 7263, 'zombie': 7264, 'heatingfast': 7265, 'hoursi': 7266, 'cameraspeedy': 7267, 'markdrains': 7268, 'processorstock': 7269, 'prosgood': 7270, 'uiconsbattery': 7271, 'heavyweight': 7272, 'bezels.heats': 7273, 'charging.finger': 7274, 'feel.cons': 7275, 'usage.camera': 7276, 'weeks.pros': 7277, 'performing2.software': 7278, 'processorpoor': 7279, 'ramsound': 7280, 'lund': 7281, 'barsound': 7282, 'daysbattery': 7283, 'givenno': 7284, 'phoneperformance': 7285, 'movement.reg': 7286, 'sasikumar': 7287, 'availablebut': 7288, 'dut': 7289, 'feild.phone': 7290, 'inc.': 7291, 'video.it': 7292, 'wheater': 7293, 'ok.go': 7294, 'device.but': 7295, '.photographs': 7296, 'cahrging': 7297, 'multitasks': 7298, 'dranage': 7299, 'beytary': 7300, 'redmi4': 7301, 'calculator': 7302, 'package.so': 7303, '/an': 7304, 'battery10': 7305, 'hourwhile': 7306, 'effectdisplay': 7307, 'impression.camera': 7308, 'nfs': 7309, 'whatsoever': 7310, 'lenovo.seal': 7311, 'thisfrom': 7312, 'exhaust': 7313, 'mau': 7314, 'certificate/': 7315, 'good.device': 7316, 'preforms': 7317, 'hoax': 7318, \"one's.\": 7319, '-when': 7320, 'issuemay': 7321, 'pop': 7322, 'previoue': 7323, 'reply.issue': 7324, 'worst.speakers': 7325, 'exellent': 7326, 'kundos': 7327, 'tavar': 7328, 'else': 7329, 'failsand': 7330, 'sharpeness': 7331, '“': 7332, 'properlywaste': 7333, 'screencamera': 7334, 'bttry': 7335, 'butcash': 7336, 'frod': 7337, 'hoon': 7338, 'mangalthakur': 7339, 'mein': 7340, 'naam': 7341, 'rehta': 7342, 'hets': 7343, 'cz': 7344, 'and/or': 7345, 'correction': 7346, 'duar': 7347, 'camera.volte': 7348, 'phone.awesome': 7349, 'supported.nice': 7350, 'amazonproduct': 7351, 'procudre': 7352, 'waht': 7353, 'budget.processor': 7354, 'marketed.bokeh': 7355, 'buggy': 7356, 'dbm': 7357, 'issue.i': 7358, 'aircel': 7359, 'guyslisten': 7360, 'happened.lenovo': 7361, 'lotta': 7362, 'lotz': 7363, 'stand-by': 7364, 'ion': 7365, 'camre': 7366, 'phoneearphones': 7367, 'operationbut': 7368, 'slimhandylooks': 7369, 'carmera': 7370, 'stretch': 7371, 'charginggo': 7372, 'power.camera': 7373, 'helpless': 7374, 'tolrate': 7375, 'camchalu': 7376, 'hourcamera': 7377, 'properlyturbo': 7378, 'qualityfinger': 7379, 'problem.phone': 7380, 'all.5': 7381, 'missingi': 7382, 'ringtones4': 7383, 'amazon.superfast': 7384, 'backup.one': 7385, 'camera.awesome': 7386, 'delivery.about': 7387, 'available.4': 7388, 'charger.7': 7389, 'deficiency': 7390, 'flexibility': 7391, 'light.6': 7392, 'meeting/conferences.a': 7393, 'noooo': 7394, 'settings.5': 7395, 'bike': 7396, 'rate.-ve': 7397, 'ride': 7398, 'plss': 7399, 'plsssss': 7400, 'clarity.phone': 7401, 'business.64': 7402, 'kannada': 7403, 'skype': 7404, 'thoo': 7405, 'thousands.well': 7406, 'gaming.heats': 7407, 'time.battery': 7408, 'it.its': 7409, 'shopping.but': 7410, 'audiophiles': 7411, 'good.battery': 7412, 'oknot': 7413, 'workingsuggestion': 7414, 'amazonvery': 7415, 'spectacular.so': 7416, 'lollipop': 7417, 'cantacts': 7418, 'backend': 7419, 'castle': 7420, 'cleaning': 7421, 'program': 7422, 'price😃': 7423, 'karke': 7424, 'owsame': 7425, 'extend': 7426, 'whr': 7427, 'frnds': 7428, 'boxheadfone': 7429, 'jump': 7430, 'mumbai': 7431, 'naw': 7432, 'regular': 7433, 'features.nice': 7434, 'miss-calls': 7435, 'chalne': 7436, 'cheep': 7437, 'exange': 7438, 'porfomence': 7439, 'proccer': 7440, 'issuecall': 7441, 'outputno': 7442, 'goodcam': 7443, 'extranery': 7444, 'diliver': 7445, 'customisationbluetooth': 7446, 'problem.no': 7447, 'rangerare': 7448, 'masterpiece': 7449, 'using.apps': 7450, 'durability.when': 7451, 'glass.other': 7452, 'mobile.its': 7453, 'surface': 7454, '.pr': 7455, 'jldi': 7456, 'lega': 7457, 'opt': 7458, 'realy': 7459, 'likly': 7460, 'delight': 7461, 'dains': 7462, 'use.it': 7463, 'blasting': 7464, 'cammera': 7465, 'selife': 7466, 'keyword': 7467, 'phoneca': 7468, 'phonehitting': 7469, 'dete': 7470, 'mode.overall': 7471, 'performance.great': 7472, 'processing.great': 7473, 'ranhe.best': 7474, 'camera.no': 7475, 'tomorrow': 7476, '+64gb': 7477, \"jan'18\": 7478, 'prblmguys': 7479, 'gsv': 7480, 'rs,14k': 7481, 'inr.thanks': 7482, 'k8.the': 7483, 'registered.this': 7484, 'also.it': 7485, 'back.will': 7486, 'backup.this': 7487, 'life.i': 7488, 'elder': 7489, 'problemoverall': 7490, 'capacity.is': 7491, 'verr': 7492, 'bakp': 7493, 'kiler': 7494, 'nise': 7495, 'simcards': 7496, 'dought': 7497, 'camerahanging': 7498, 'haining': 7499, 'divais': 7500, 'batraye': 7501, 'capcity': 7502, 'differentlast': 7503, 'feautures': 7504, 'performancecamera': 7505, 'anti': 7506, 'od': 7507, 'consumptiom': 7508, 'practicality': 7509, 'boton': 7510, 'figer': 7511, 'exalent': 7512, 'wastephone': 7513, 'amazon.do': 7514, 'hoursand': 7515, 'well.not': 7516, 'simcamera': 7517, 'pattern': 7518, 'recharging': 7519, 'xpectation': 7520, 'vision': 7521, 'prosser': 7522, 'puja': 7523, 'experience.with': 7524, 'usage.design': 7525, 'on28th': 7526, 'reshmi': 7527, 'conference': 7528, 'jabra': 7529, 'measurement': 7530, 'phone.hey': 7531, 'chutiye': 7532, 'motherboards': 7533, 'dmg': 7534, 'buttongood': 7535, 'displayfast': 7536, 'flashgood': 7537, 'graph': 7538, 'nokiai': 7539, 'scannerconsheavy': 7540, 'perfection': 7541, 'cymerabattery': 7542, 'features.good': 7543, 'issue.3': 7544, 'mobile.there': 7545, 'opition': 7546, 'powerbank': 7547, 'yourself.2': 7548, 'spl': 7549, 'drawaback': 7550, 'month.still': 7551, 'segment.using': 7552, '6x.its': 7553, 'both.bokeh': 7554, 'sock': 7555, 'recieved': 7556, 'issuecharge': 7557, 'contest': 7558, 'tweaking': 7559, 'rate3-fingerprint': 7560, 'camera.2': 7561, 'volte.perfamance': 7562, 'missing.lenovo': 7563, 'contain': 7564, 'log.3': 7565, 'mi/redmi': 7566, 'other.1': 7567, 'outdoor': 7568, 'condition.i': 7569, 'prblm.so': 7570, 'seller.camera': 7571, '64-bit': 7572, 'computer.but': 7573, 'device2': 7574, 'files3': 7575, 'files5': 7576, 'options1': 7577, 'use.please': 7578, 'videos4': 7579, 'whichever': 7580, 'wordi': 7581, 'nought': 7582, 'performace': 7583, 'android.camera': 7584, 'mark.even': 7585, 'peaople': 7586, 'android.but': 7587, 'cheera': 7588, 'hasdolby': 7589, 'hasnt': 7590, 'laggs': 7591, 'range.lenovo': 7592, 'settingsbattery': 7593, 'soltion': 7594, 'updatesthough': 7595, 'fellow': 7596, 'yellowliesh': 7597, 'moneydo': 7598, 'papersnot': 7599, 'dealer': 7600, 'tuffon': 7601, 'wantsnot': 7602, 'amazonproducts': 7603, 'featureall': 7604, 'marketexcellent': 7605, 'iski': 7606, 'phoneper': 7607, 'purane': 7608, 'vali': 7609, 'review2': 7610, 'ever.reason': 7611, 'reading': 7612, 'charge.3': 7613, 'mobile.becoz': 7614, 'results.it': 7615, 'faster.camera': 7616, 'karenge': 7617, 'sove': 7618, 'uthata.this': 7619, 'demond': 7620, 'aal': 7621, 'warmth.3': 7622, 'atmosvr': 7623, 'backupdisappointments': 7624, 'cameralots': 7625, 'experiencefinger': 7626, 'issuebattery': 7627, 'keydolby': 7628, 'sensorgoogle': 7629, 'slotscons': 7630, 'weightpoor': 7631, 'phone😡😡😡': 7632, 'procceser': 7633, 'issue.performance': 7634, '👎👎👎👎': 7635, 'itmob': 7636, 'pritam': 7637, 'there.reagrds': 7638, 'k8.camera': 7639, 'switching': 7640, 'enough.cust': 7641, 'side.pics': 7642, '-deca': 7643, 'bubblesheet': 7644, 'cardboard': 7645, 'classy': 7646, 'damage.so': 7647, 'five.5': 7648, 'mark.2': 7649, 'stars.this': 7650, 'technique': 7651, 'videos.4': 7652, 'prossecer': 7653, 'described.3': 7654, 'greatcamera': 7655, 'okuser': 7656, 'vlogingsome': 7657, 'yesbattery': 7658, 'print.battery': 7659, 'enhanced.performance': 7660, 'here.this': 7661, 'time.forget': 7662, 'us.but': 7663, 'wifi.if': 7664, 'works.release': 7665, 'nil': 7666, 'mobile.image': 7667, 'mobile.memory': 7668, 'mobile.sound': 7669, 'pink': 7670, 'aachha': 7671, 'connevtity': 7672, 'snart': 7673, 'na': 7674, 'wan': 7675, 'centeralso': 7676, '.after': 7677, 'prof': 7678, 'rudeness': 7679, 'features.however': 7680, 'ejuct': 7681, 'headseat': 7682, 'allows': 7683, 'cool1': 7684, 'your.kumaresan': 7685, 'note5': 7686, 'richness': 7687, 'sense.i': 7688, 'disgrace': 7689, 'event': 7690, 'screen.battery': 7691, 'rate.good': 7692, 'craft': 7693, 'efficiency': 7694, 'stars.the': 7695, 'bdiya': 7696, 'faddu': 7697, 'gazab': 7698, '💯': 7699, 'hrs2': 7700, 'product1': 7701, 'properly5': 7702, 'whatsapp4': 7703, 'indication': 7704, 'krao': 7705, 'walo': 7706, 'continuing.both': 7707, 'problem.ram': 7708, 'bus': 7709, 'speedy': 7710, 'install': 7711, 'quickly3': 7712, 'goooooood': 7713, 'phoneeven': 7714, 'turbochargerapart': 7715, 'screen.games': 7716, 'charging.its': 7717, 'good.thanks': 7718, 'aashiyana': 7719, 'signes': 7720, 'appearance': 7721, 'speed.screen': 7722, 'interuption': 7723, 'itthanks': 7724, 'unibody': 7725, 'beahaviour': 7726, 'expected7': 7727, 'friendly.5': 7728, 'handlingpros:1.': 7729, 'offer.3': 7730, 'package.2': 7731, 'promotional': 7732, 'resistancecons:1.': 7733, 'sport': 7734, 'darkness': 7735, 'feature-wise': 7736, 'goury': 7737, 'manohar': 7738, 'note.4': 7739, 'operation.2': 7740, 'reddy': 7741, 'them.3': 7742, 'spendin14thousand': 7743, 'qha5': 7744, 'shot.i': 7745, 'ohone': 7746, 'everage': 7747, 'evertime': 7748, 'wrap': 7749, 'ant+': 7750, 'garmin': 7751, 'naysayer': 7752, '😔😔': 7753, 'hours.no': 7754, 'whaste': 7755, 'customer.customers': 7756, 'discharge.this': 7757, 'effect.lenovo': 7758, 'rubbish.after': 7759, 'worse.functionality': 7760, 'worse.headphones': 7761, 'mst': 7762, 'problemturbo': 7763, 'again.my': 7764, 'character': 7765, 'fluctuates': 7766, 'headphones3': 7767, 'talking2': 7768, 'chor': 7769, 'barbadi': 7770, 'bharne': 7771, 'client': 7772, 'fast,4000': 7773, 'fluke': 7774, 'k4.lenovo': 7775, 'mmmm': 7776, 'issues.a': 7777, 'newtwork.do': 7778, 'moneycamera': 7779, 'problemfinger': 7780, '👌👌👌👌👌👌👌👌👌👌👌👌👌': 7781, 'backuplooks': 7782, 'barno': 7783, 'galleryno': 7784, 'loverotherwise': 7785, 'minutesno': 7786, 'note9': 7787, 'sakta': 7788, 'ever.and': 7789, 'fire.the': 7790, 'standby.killer': 7791, 'hanging.when': 7792, 'fingure': 7793, 'scenser': 7794, 'months.going': 7795, 'prosidure': 7796, 'phohe': 7797, 'range.there': 7798, 'offamazon': 7799, 'markturbo': 7800, 'lick': 7801, 'specifications.go': 7802, 'time.will': 7803, 'diagnosis': 7804, 'cera': 7805, 'goodno': 7806, 'goodnoise': 7807, 'reduction': 7808, ',service': 7809, 'mark.1': 7810, 'sharp6': 7811, 'peach': 7812, 'esme': 7813, 'chiefer': 7814, 'hospot': 7815, 'flawless': 7816, 'killar': 7817, 'processors.if': 7818, 'camera.finaly': 7819, 'camera.poor': 7820, 'paper.it': 7821, 'performance.wtf': 7822, '✌️✌️✌️': 7823, 'atmos.battery': 7824, 'get.performance': 7825, 'it.it': 7826, 'multitaskingcons': 7827, 'phones.dolby': 7828, 'siliguri': 7829, 'resistance.': 7830, 'show7': 7831, 'xender': 7832, 'reconnects': 7833, 'sa': 7834, 'product.pls': 7835, 'frm': 7836, 'improvemnts': 7837, 'layrs': 7838, 'rep.': 7839, 'totay': 7840, '.3.': 7841, 'body.but': 7842, 'slow.4': 7843, 'volume.2': 7844, 'his/her': 7845, 'improvisation': 7846, 'amzone': 7847, 'dr.': 7848, 'gujarat': 7849, 'mechanic': 7850, 'middle': 7851, 'prajith': 7852, 'veraval': 7853, 'vereval': 7854, 'justice': 7855, 'badupdate': 7856, 'charging.now': 7857, 'complaint.every': 7858, 'hour.but': 7859, 'leave': 7860, 'mare.you': 7861, 'pm.this': 7862, 'travel': 7863, 'app4': 7864, 'issue1': 7865, 'preventionwaste': 7866, 'shift2': 7867, 'sound3': 7868, 'use4': 7869, 'lowest3': 7870, 'mode6': 7871, 'night5': 7872, 'video.4': 7873, 'zooming': 7874, 'plsa': 7875, 'expirience': 7876, 'dark.at': 7877, 'preety': 7878, 'avi': 7879, 'boli': 7880, 'gae': 7881, 'millano': 7882, 'becasue': 7883, 'lvd': 7884, 'september.this': 7885, 'experiencescons1': 7886, 'headset.3': 7887, 'player.5': 7888, 'prosmobile': 7889, 'screen.7': 7890, 'that.2': 7891, 'too.8': 7892, 'cricket': 7893, 'speed.you': 7894, 'super.i': 7895, 'x-play': 7896, 'tilt': 7897, 'bunch': 7898, 'pircjase': 7899, 'apps.4': 7900, 'audio,4': 7901, 'build,2': 7902, 'finding': 7903, 'footprint': 7904, 'idea/jio/vodafone': 7905, 'installed.5': 7906, 'locations.6': 7907, 'offering': 7908, 'operation,3': 7909, 'par,2': 7910, 'worse.3': 7911, 'contraption': 7912, 'piece.case': 7913, 'sequence': 7914, 'teamthis': 7915, 'asks': 7916, 'note.alarm': 7917, 'minnor': 7918, 'scrapproduct': 7919, '💗': 7920, 'product.return': 7921, 'well.purchasers': 7922, 'prodict': 7923, 'bent': 7924, 'protection.all': 7925, 'resistivity': 7926, '.fucher': 7927, 'spend': 7928, 'thanmoto': 7929, '.there': 7930, 'satisfactory.camera': 7931, '🙁': 7932, 'end.but': 7933, 'experience.the': 7934, 'itself.earlier': 7935, 'problem.hence': 7936, 'display.if': 7937, \"i'am\": 7938, 'id.camera': 7939, 'months.the': 7940, 'twice.the': 7941, 'wow.overall': 7942, 'f': 7943, 'money.thanks': 7944, 'timing.5': 7945, 'udpate.and': 7946, 'specvolume': 7947, 'zeroneed': 7948, '…my': 7949, 'care.i': 7950, 'issuecamera': 7951, 'monthsthere': 7952, 'scratched.when': 7953, 'lady': 7954, 'waooo': 7955, 'die.lenovo': 7956, 'screen.after': 7957, 'proceser': 7958, 'starhuge': 7959, 'rs.10800': 7960, 'speed.but': 7961, 'recommend.update': 7962, 'dsle': 7963, 'accuracy': 7964, 'ringet': 7965, 'timeframe': 7966, '😗': 7967, 'hai.custemer': 7968, 'inkar': 7969, 'krte': 7970, 'vyawastha': 7971, 'deep': 7972, 'cheatedi': 7973, 'long.i': 7974, 'adjustment': 7975, 'all.i': 7976, 'etc.5.no': 7977, 'hd.4.video': 7978, 'images.2.battery': 7979, 'look2': 7980, 'mobile.4.it': 7981, 'phones.it': 7982, 'time.3.turbo': 7983, '.redmi': 7984, 'bag': 7985, 'carbage': 7986, 'occupies': 7987, '☹️nice': 7988, '😒battery': 7989, 'keys.user': 7990, 'pert': 7991, 'charged.6': 7992, 'market.overall': 7993, 'me.5': 7994, 'points:1.': 7995, 'usage4': 7996, 'rs15000': 7997, 'fancy': 7998, 'atmosphere': 7999, 'thankyu': 8000, 'expirence': 8001, 'noye': 8002, 'purcahse': 8003, 'beutifull': 8004, 'scrinquality': 8005, 'spark': 8006, 'button.cons': 8007, 'pause': 8008, '.pictures': 8009, 'quailty': 8010, 'compair': 8011, 'excellentcamera': 8012, 'gooddisplay': 8013, 'issue.look': 8014, 'normalprocessor': 8015, 'phonememory': 8016, 'daily': 8017, 'camera3': 8018, 'ever.dont': 8019, 'that.4': 8020, 'this.2': 8021, 'rs.11k': 8022, 'excellent.value': 8023, 'mene': 8024, 'intl': 8025, 'mobaile': 8026, 'moneybeats': 8027, 'fluent': 8028, 'gurrilla': 8029, 'sucksphone': 8030, 'box.this': 8031, \"'wow\": 8032, 'properly.not': 8033, 'broblem': 8034, 'superrrbut': 8035, 'lifw': 8036, 'endgraphics': 8037, 'life-issues': 8038, 'phonepros': 8039, 'sdcard': 8040, 'separate': 8041, 'slotsand': 8042, 'average.let': 8043, 'darkness.all': 8044, 'earlier.9': 8045, 'flickering.5': 8046, 'it.1': 8047, 'output.10': 8048, 'output.7': 8049, 'phone.6': 8050, 'quality.3': 8051, 'usage.8': 8052, 'lenova.issue': 8053, 'money.issue': 8054, 'restarting.please': 8055, 'suganthan.please': 8056, 'mobis': 8057, 'terriblealso': 8058, 'hard': 8059, 'fudu': 8060, 'phone🤔🤔🤔': 8061, 'sparate': 8062, 'niceorder': 8063, 'device.battery': 8064, 'issues.while': 8065, 'mah.performance': 8066, 'segment.the': 8067, 'glow': 8068, 'bachap': 8069, 'funtion': 8070, 'y😭😭😭😭😭': 8071, 'continuo': 8072, 'inglenovo': 8073, '😏nobody': 8074, '😣': 8075, 'only.amazon': 8076, 'handphotos': 8077, 'heavyand': 8078, 'performancebit': 8079, 'batey': 8080, 'problam.heating': 8081, 'problamcamera': 8082, 'chaeges': 8083, 'empoley': 8084, 'problem.so': 8085, 'meant': 8086, 'brick.it': 8087, 'dirt': 8088, 'wellit': 8089, 'metel': 8090, 'reseption': 8091, 'inr': 8092, 'shocker': 8093, 'brightnesscons': 8094, 'budget.pros': 8095, 'now.update': 8096, 'crome': 8097, 'instud': 8098, 'one.phone': 8099, 'quilt': 8100, 'recourse': 8101, 'resultwhat': 8102, '-phone': 8103, 'before.my': 8104, 'speed3': 8105, 'storagenegatives:1.': 8106, 'working.waste': 8107, 'chavhan': 8108, 'also.this': 8109, '-1.depth': 8110, 'clear.2.update': 8111, 'day2.scrath': 8112, 'difference.3.overheat': 8113, 'excel': 8114, 'indepth': 8115, 'powerpoint': 8116, 'bubble': 8117, 'vimbar': 8118, '/motos': 8119, 'angles.10': 8120, 'areas.2': 8121, 'damage.9': 8122, 'flash.5': 8123, 'june': 8124, 'key.cons:1.camera': 8125, 'loundness': 8126, 'mi4i': 8127, 'months.7': 8128, 'one.3': 8129, 'pros:1.performance': 8130, 'sweat': 8131, 'tea': 8132, 'users.6': 8133, 'videos.8': 8134, 'probelom': 8135, 'sentence': 8136, 'bulb.•major': 8137, 'halogen': 8138, 'range.the': 8139, 'thing.•battery': 8140, 'paste3.not': 8141, 'rs.amazon': 8142, 'drawbacks.1': 8143, 'everywhere.2': 8144, 'daysdisplay': 8145, 'serampore': 8146, 'rcvd': 8147, 'note.hope': 8148, 'jean': 8149, 'plus.i': 8150, 'pokemon': 8151, 'smartcheck': 8152, 'cos': 8153, 'fsb': 8154, 'clarity4': 8155, 'con.5': 8156, 'dark.pro1': 8157, 'filter': 8158, 'firstcons': 8159, 'good3': 8160, 'headphone/earphone': 8161, 'less6': 8162, 'output.2': 8163, 'perfectly.verdictfine': 8164, 'readings2': 8165, 'brosing': 8166, 'front4.heating': 8167, 'internet2.sometime': 8168, 'ram.3.camera': 8169, 'afrer': 8170, 'mamy': 8171, 'sancer': 8172, 'mi.dolby': 8173, 'coming': 8174, 'okbattry': 8175, 'catalog': 8176, 'induction': 8177, 'omlets': 8178, 'shoe': 8179, 'apps.5': 8180, 'gamer.3.sound': 8181, 'price.1': 8182, 'show.4': 8183, 'sturdy.7': 8184, 'ui.2': 8185, 'kurear': 8186, 'farod': 8187, 'phones.no': 8188, 'warmth': 8189, 'rainbow': 8190, 'resume': 8191, 'signal.battery': 8192, 'camera.consfirst': 8193, 'centre.system': 8194, 'luking': 8195, 'screenshot.easiness': 8196, 'scrrenshot': 8197, 'youoption': 8198, 'service.but': 8199, 'sensor/phone': 8200, 'lifeit': 8201, 'membership': 8202, 'interfacer': 8203, 'fast.4': 8204, 'gaming.3': 8205, 'package.cons-1': 8206, 'pros-1': 8207, 'sofar': 8208, '😣😣😣': 8209, '🙏🙏': 8210, 'burst': 8211, 'bursting': 8212, 'difficult.would': 8213, '.best': 8214, 'camerafast': 8215, 'future.and': 8216, 'issues.8668434994': 8217, 'pune': 8218, 'rs8000performance': 8219, 'illumination': 8220, 'keysvery': 8221, 'vey': 8222, 'draing': 8223, 'gha': 8224, 'beck': 8225, 'frone': 8226, 'supb': 8227, 'dayplease': 8228, 'hrs.and': 8229, 'wroth': 8230, 'review.excellent': 8231, 'phone.do': 8232, 'letv': 8233, 'productfront': 8234, 'gbno': 8235, 'backcover': 8236, 'delivery.i': 8237, 'hai.otherwise': 8238, 'jerk': 8239, 'accesorios': 8240, 'absent': 8241, 'change.turbo': 8242, 'mishap': 8243, 'parfons': 8244, 'aayega': 8245, 'apko': 8246, 'hopless': 8247, 'kon': 8248, 'kyo': 8249, 'lte.battery': 8250, 'mko': 8251, 'paynge': 8252, 'phle': 8253, 'prblms': 8254, 'smjh': 8255, 'bekup': 8256, 'this.worst': 8257, 'frds': 8258, 'keytheatermax': 8259, 'microsd': 8260, 'pros.better': 8261, 'quicklyaverage': 8262, 'rangeandroid': 8263, 'supportcons': 8264, 'hrs.how': 8265, 'tyms': 8266, 'arrives': 8267, 'songs.anyway': 8268, '®': 8269, '✌️❤️': 8270, 'display.the': 8271, 'compliant': 8272, 'reciver': 8273, '.before': 8274, 'index': 8275, 'heatingbudget': 8276, 'qty': 8277, 'directory': 8278, 'bata': 8279, 'hue': 8280, 'kahte': 8281, 'karoye': 8282, 'khabi': 8283, 'yah': 8284, 'mode.4': 8285, 'phone.3': 8286, 'place.6': 8287, 'play/call/': 8288, 'tapping.7': 8289, 'video.2': 8290, 'superb.function': 8291, 'department.6.phone': 8292, 'mobile.7.navigation': 8293, 'password/pattern.4.camera': 8294, 'review.after': 8295, 'phones.in': 8296, 'battery.it': 8297, 'evn': 8298, 'glss': 8299, 'tmprd': 8300, 'thnxx': 8301, 'relief': 8302, 'do.so': 8303, 'problems.thanks': 8304, 'renge': 8305, 'aata': 8306, 'aone': 8307, 'awaz': 8308, 'distrut': 8309, 'jda': 8310, 'jdaa': 8311, 'tik': 8312, 'mobile.signal': 8313, 'problem.yesterday': 8314, 'houa': 8315, 'range.simply': 8316, 'intarnet': 8317, 'trigger': 8318, 'me.earphone': 8319, 'recorderscreen': 8320, 'full.day': 8321, 'phone.selfie': 8322, 'retain': 8323, 'delhi': 8324, 'rs.i': 8325, 'sit.first': 8326, 'ok.p': 8327, 'phonefront': 8328, 'working.top': 8329, 'expdctation': 8330, 'may2018': 8331, 'deacaaaa': 8332, 'dual2sim': 8333, 'glasstheatermax': 8334, 'hero': 8335, 'inbuild10': 8336, 'savage': 8337, 'strg.5.5': 8338, 'problemscharging': 8339, 'dueal': 8340, 'mark.see': 8341, 'foe': 8342, 'tinge': 8343, 'charg': 8344, 'henge': 8345, 'coustomers': 8346, '☹️☹️': 8347, 'defect.if': 8348, 'earphones.the': 8349, 'sellfies': 8350, 'it.back': 8351, 'datecons:1': 8352, 'flash4': 8353, 'management5': 8354, 'mediocre': 8355, 'quality3': 8356, 'reproduction2': 8357, 'hander': 8358, 'it.average': 8359, 'pecentage': 8360, 'tirbo': 8361, 'voice.not': 8362, 'substance': 8363, 'goodi': 8364, 'expierence': 8365, 'wieght.camera': 8366, 'element': 8367, 'sombody': 8368, '🔥': 8369, 'slate': 8370, 'lock.also': 8371, 'money.bcoz': 8372, 'awesomeness': 8373, 'extra.pls': 8374, 'only.you': 8375, 'that.also': 8376, 'belongs': 8377, 'models.advance': 8378, 'tv.but': 8379, 'supprot': 8380, 'nougut': 8381, 'amazon.overall': 8382, 'smartphone.but': 8383, 'prod': 8384, 'touch.jio': 8385, 'edges.3': 8386, 'guard.u': 8387, 'set.6': 8388, 'store.5': 8389, 'white.4': 8390, 'addverties': 8391, 'good.go': 8392, 'pouch': 8393, 'phone.worst': 8394, 'reflection': 8395, 'conferene': 8396, 'class.number': 8397, 'mobile.mobile': 8398, 'haour': 8399, 'calrity': 8400, 'follows:1.battery': 8401, 'hair': 8402, 'soreturn': 8403, 'rs.11,000/-': 8404, 'probalem': 8405, '.everything': 8406, 'automus': 8407, 'onlycamera': 8408, 'mobile.jbl': 8409, 'suit': 8410, 'lenovoall': 8411, 'dayservices': 8412, 'performancemany': 8413, 'add-on.-': 8414, 'count': 8415, 'honor6x': 8416, 'night-mode': 8417, 'provides.-': 8418, \"does'nt\": 8419, 'speaker/mike': 8420, 'sharing/transfer': 8421, 'bekr': 8422, 'deepak': 8423, 'lenov0': 8424, 'bcs': 8425, 'bluetoothvery': 8426, 'problemheavy': 8427, 'truly': 8428, 'acceserie': 8429, 'glass.if': 8430, 'good.processor': 8431, 'headsetearphone': 8432, 'backup.5': 8433, 'bottom10': 8434, 'charged.3': 8435, 'emails.8': 8436, 'fones': 8437, 'keys.9': 8438, 'network.7': 8439, 'sucks.8': 8440, 'day1': 8441, 'muchbetter': 8442, 'performance.since': 8443, 'problems.': 8444, 'shiwn': 8445, '🔊': 8446, 'chargingnetwork': 8447, 'awesomecamera': 8448, 'phoneaffordablequite': 8449, 'dislikeas': 8450, 'backupmobile': 8451, 'phonegud': 8452, '😒camera': 8453, 'bulkysmart': 8454, 'it.very': 8455, ',2.5': 8456, '-thank': 8457, 'androidoleophobic': 8458, 'arrive.i': 8459, 'glasslet': 8460, 'ppl': 8461, 'procccessor': 8462, 'tooks': 8463, '👍lasts': 8464, 'button/option': 8465, 'filemanager': 8466, 'handset.': 8467, 'bettey': 8468, 'hanngs': 8469, 'hadfone': 8470, 'applock': 8471, 'music5-lot': 8472, 'reason1-it': 8473, 'slot.2-deca': 8474, 'aperture': 8475, 'device.good': 8476, 'fingerprintbaker': 8477, 'appliance': 8478, 'satisfied.but': 8479, 'coinscamera': 8480, 'cover4/5': 8481, 'good.performance': 8482, 'reviewappearance': 8483, 'path': 8484, 'camcustomer': 8485, 'carre': 8486, 'part.camera': 8487, 'speccs': 8488, 'thry': 8489, 'warrantee': 8490, 'backupon': 8491, 'good.rear': 8492, 'poor.features': 8493, 'poor.sametimes': 8494, 'problem.looking': 8495, 'notofication': 8496, 'gudet': 8497, 'ama': 8498, 'amount.😋': 8499, 'appreciation': 8500, 'details:1.': 8501, 'lagging6': 8502, 'performance.sometimes': 8503, 'phone.4': 8504, 'point.5': 8505, 'hot': 8506, 'someother': 8507, 'xaiomi': 8508, 'eveythings': 8509, 'nit': 8510, 'problem.kudos': 8511, 'problem.replacement': 8512, 'product.1st': 8513, 'reception.pros': 8514, 'butt': 8515, 'battery.battery': 8516, 'map': 8517, 'darshita': 8518, 'lemon': 8519, 'time.have': 8520, 'cameradislike': 8521, 'abhitak': 8522, 'joldi': 8523, 'rehe': 8524, 'glad': 8525, 'camera📷': 8526, 'mobileandgood': 8527, 'qualitygood': 8528, 'p1m': 8529, 'as1.we': 8530, 'phonewaist': 8531, 'tv.feature': 8532, 'also.don': 8533, 'f9.in': 8534, 'phoneeverything': 8535, 'plugin': 8536, 'mark5': 8537, 'prperly4': 8538, 'tv2': 8539, 'गया': 8540, 'तो': 8541, 'भाई': 8542, 'मे': 8543, 'लूट': 8544, 'compas': 8545, 'phone.inbuilt': 8546, 'burger': 8547, 'lagginess': 8548, 'lifeexcellent': 8549, '-a': 8550, '-notification': 8551, '-stock': 8552, 'app-battery': 8553, 'flash-compass': 8554, 'kernel': 8555, 'lense': 8556, 'months.-lenovo': 8557, 'readymade': 8558, 'root': 8559, 'sensorcons': 8560, 'slot+compass': 8561, 'battery.cemara': 8562, 'everywhere.i': 8563, 'mhv': 8564, 'type.conracts': 8565, 'hrs.no': 8566, 'mark.sometimes': 8567, 'shooping': 8568, 'them.waste': 8569, 'garda': 8570, 'problame': 8571, 'problameand': 8572, 'card.good': 8573, 'circle': 8574, 'beard': 8575, 'inlet': 8576, 'maggi': 8577, 'fucntions': 8578, 'plight': 8579, 'beautiful.heating': 8580, 'lot.it': 8581, 'batrery': 8582, 'publicity': 8583, 'battery.after': 8584, 'bucks.after': 8585, 'enlagrment': 8586, 'examination': 8587, 'alternative.the': 8588, 'bharat': 8589, 'games.battery': 8590, 'igyaan': 8591, 'knife': 8592, 'wrongmobile': 8593, 'asom': 8594, 'sound/mute/vibrate': 8595, 'chair': 8596, 'mapsa-goa': 8597, 'fullfill': 8598, 'decisio': 8599, 'honour': 8600, 'support.poor': 8601, 'ful': 8602, 'vand': 8603, 'phoneheatinghotspot': 8604, 'atmos.3': 8605, 'atmos.5': 8606, 'blurred.3': 8607, 'camera.photos': 8608, 'card.5': 8609, 'conditions.3': 8610, 'do.4': 8611, 'drop.6': 8612, 'drops.7': 8613, 'greenify': 8614, 'it.2': 8615, 'outdoors.reply': 8616, 'slider': 8617, 'too.it': 8618, 'week.here': 8619, 'chargerthis': 8620, 'maney': 8621, 'bhaivery': 8622, 'heset': 8623, 'idle.3.design': 8624, 'one.6.overall': 8625, 'picturesso': 8626, 'reviews.1': 8627, 'whatsapp.5.bought': 8628, 'chalana': 8629, 'fhoto': 8630, 'fhotos': 8631, 'lagega': 8632, 'padega': 8633, 'entry': 8634, 'escalation': 8635, 'society': 8636, 'visitor': 8637, 'deliverycamera': 8638, 'endbackup': 8639, 'setfast': 8640, 'sumsungprice': 8641, 'centresi': 8642, 'phoneand': 8643, '............': 8644, 'tome': 8645, 'katil': 8646, 'gs+': 8647, 'nokia6': 8648, 'tc': 8649, 'connecting.wifi': 8650, 'laptops.otherwise': 8651, \"'mobile\": 8652, 'fi': 8653, 'me.thus': 8654, 'amaezon': 8655, 'mark.if': 8656, 'product.charging': 8657, 'significance': 8658, 'cameraspecialy': 8659, 'camerawhich': 8660, 'onlythanks': 8661, 'phonebefore': 8662, 'camm': 8663, '.touch': 8664, 'bekhar': 8665, 'bhaiyo': 8666, 'isphone': 8667, 'karidne': 8668, 'karido': 8669, 'kerta': 8670, 'komat': 8671, 'kuchh': 8672, 'mobole': 8673, 'fair': 8674, 'money.amazon': 8675, 'repleasement': 8676, 'pricebattery': 8677, 'camera.check': 8678, 'phones.its': 8679, 'duap': 8680, 'enough.but': 8681, 'phonephones': 8682, 'spiker': 8683, \"phone'sno\": 8684, 'recordingspeaker': 8685, 'datajio': 8686, 'featuresdisplay': 8687, 'introduction': 8688, 'edges.heats': 8689, 'life.earpiece': 8690, 'properly.camera': 8691, 'repleshment.battery': 8692, 'hand.10': 8693, 'rangelast': 8694, 'volt': 8695, 'area.4': 8696, 'beautification': 8697, 'card.cons1': 8698, 'days.pros:1': 8699, 'golf': 8700, 'guard.6': 8701, 'heavier.5': 8702, 'hours.4': 8703, 'price.2': 8704, 'buke': 8705, 'camera.7': 8706, 'games.5': 8707, 'solid.1': 8708, 'speaker.4': 8709, 'sunlight.3': 8710, 'smother': 8711, 'kadak': 8712, 'powerbanks': 8713, 'gay': 8714, 'workingphone': 8715, 'down.4.for': 8716, 'mode.awesome': 8717, 'note1.camera': 8718, 'simwell': 8719, 'shiva': 8720, '😥': 8721, 'dupalicate': 8722, 'juz': 8723, 'toher': 8724, 'uhll': 8725, \"'phenomenon\": 8726, 'frying': 8727, '😃': 8728, 'hank': 8729, 'orio': 8730, 'toll': 8731, 'charging.always': 8732, 'quality.nice': 8733, 'dealspower': 8734, 'timesafter': 8735, 'awam': 8736, 'ntwork': 8737, 'receptor': 8738, 'displaysome': 8739, 'hasgood': 8740, 'lifeno': 8741, 'priceafter': 8742, 'probalm': 8743, 'further.and': 8744, 'models.and': 8745, 'ugrade': 8746, '2.0🤣applications': 8747, '😀camera': 8748, '😫phone': 8749, '/mi': 8750, 'ua': 8751, 'version.5': 8752, 'camera.battery': 8753, 'product.wonderful': 8754, 'usage.more': 8755, 'brandsnd': 8756, 'arcade': 8757, 'authority': 8758, 'dibrugarh': 8759, 'development': 8760, 'processor.battery': 8761, 'hrs.dosent': 8762, 'motog4': 8763, 'thousand': 8764, 'sometimes.otherwise': 8765, 'inconvenience.display': 8766, 'cemeraturbo': 8767, 'lifehighspeed': 8768, 'good4': 8769, 'worst6': 8770, 'producr': 8771, 'thiski': 8772, 'charging.-': 8773, 'expectations.-': 8774, 'loud.i': 8775, 'eating': 8776, 'phonebest': 8777, 'truecaller': 8778, 'perfarmece': 8779, 'hrs.camera': 8780, 'software.device': 8781, 'inspire': 8782, 'models-': 8783, 'rangeturbo': 8784, 'moneyuseless': 8785, 'lotsince': 8786, 'use.thanks': 8787, 'charger.i': 8788, 'thnxxx': 8789, \"y'day\": 8790, 'keys.while': 8791, 'setting/option': 8792, 'silent/vibrate': 8793, 'trash/memory': 8794, 'hotshot': 8795, 'handset.my': 8796, 'saperate': 8797, 'scren': 8798, 'are1': 8799, 'heavy.2': 8800, 'ratio.and': 8801, 'painful': 8802, 'nd.4': 8803, 'problem.2': 8804, 'problem.3': 8805, 'snapedragon': 8806, 'sterio': 8807, 'scraths': 8808, 'stupidity': 8809, 'duringcall': 8810, 'prolblem': 8811, 'blocked3.back': 8812, 'that2': 8813, 'fine.3': 8814, 'is1': 8815, 'precossor.4': 8816, 'usage.i': 8817, 'mption': 8818, 'recordingjust': 8819, 'recordingno': 8820, 'motorolla': 8821, 'edges.7': 8822, 'lag5': 8823, 'premium.6': 8824, 'slutter': 8825, 'fedex': 8826, 'fluctuating': 8827, 'कडक': 8828, 'mate': 8829, 'charching': 8830, 'systen': 8831, 'rn3': 8832, '😀😂': 8833, '.its': 8834, 'alwas': 8835, 'implementation': 8836, 'automatically.it': 8837, 'issue.the': 8838, 'wifi.i': 8839, 'thise': 8840, 'hour.this': 8841, 'note.but': 8842, 'phone.full': 8843, 'buffer': 8844, 'loading': 8845, 'pricein': 8846, 'apps.the': 8847, 'backupand': 8848, 'camera.weight': 8849, 'expectations.weight': 8850, '.great': 8851, 'lgq6': 8852, 'iii': 8853, '.people': 8854, 'continuously': 8855, 'campare': 8856, 'apps.if': 8857, 'cm': 8858, 'rs.5000': 8859, 'pride': 8860, 'problem.plz': 8861, 'photo.battery': 8862, 'box.cheating': 8863, 'coustomer': 8864, 'use.earphone': 8865, 'multitasking.4': 8866, 'sim.cons': 8867, 'camerasignals': 8868, 'cameraturbo': 8869, 'chargerdesigncons': 8870, 'hatsoff': 8871, 'mode.2': 8872, 'guerilla': 8873, 'phoneg': 8874, 'money.this': 8875, '............................................': 8876, 'connectingi': 8877, 'issueso': 8878, 'onlywhen': 8879, 'return.before': 8880, 'sell.after': 8881, 'youcamera': 8882, 'kahe': 8883, 'lga': 8884, 'amoson': 8885, 'comany': 8886, 'loss.frequent': 8887, 'systemperformance': 8888, 'adds.camara': 8889, 'framedrops': 8890, 'september,2017': 8891, 'coat': 8892, 'effect.wrost': 8893, 'mobilno': 8894, 'productinternet': 8895, 'hangwaste': 8896, 'ovar': 8897, 'mespeaker': 8898, 'venovo': 8899, 'tion': 8900, 'gaming.it': 8901, '.fast': 8902, 'hanges': 8903, 'jio.internet': 8904, 'creepsmake': 8905, 'mobileplease': 8906, 'sometimeotherwise': 8907, \"'ease\": 8908, 'anyday': 8909, 'bouquet': 8910, 'devoid': 8911, 'dslrs': 8912, 'eui': 8913, 'facie': 8914, 'infact': 8915, 'intelligence': 8916, 'lag/slowness': 8917, 'logic': 8918, 'mentioning': 8919, 'touchwiz': 8920, 'tread': 8921, 'good.it': 8922, 'sone': 8923, 'say': 8924, 'goodpls': 8925, '👎👎👎👎👎': 8926, 'inspiet': 8927, 'songs.i': 8928, 'becausei': 8929, 'offerand': 8930, 'performancetanks': 8931, 'tank': 8932, 'granny': 8933, 'z90': 8934, 'thnks': 8935, 'banaya': 8936, 'bewkoif': 8937, 'k.is': 8938, 'krke': 8939, 'mann': 8940, 'milta': 8941, 'money.maine': 8942, 'pahli': 8943, 'midiatek': 8944, 'inany': 8945, 'marketgets': 8946, 'rs11999': 8947, 'minif': 8948, 'phonethen': 8949, 'recordingif': 8950, 'soonit': 8951, 'expecatations': 8952, 'camera😍😍': 8953, 'games.performance': 8954, '👌👌photo': 8955, 'crispy': 8956, 'display.5': 8957, 'lag.4': 8958, 'mediatake': 8959, 'optimised.3': 8960, 'pros.1': 8961, 'snapdragon.4': 8962, 'update.3': 8963, 'thk': 8964, 'minuet': 8965, 'comar': 8966, '-veheats': 8967, 'brands.pls': 8968, 'cost.this': 8969, 'mmc': 8970, 'mobiles.now': 8971, 'note.pls': 8972, 'points-': 8973, 'times.auto': 8974, 'etho': 8975, 'paravala': 8976, 'company.company': 8977, 'essential': 8978, 'forwarding': 8979, 'browsing.it': 8980, 'design.front': 8981, 'blure': 8982, 'max.everything': 8983, 'theater': 8984, 'properly.2.alarm': 8985, 'durafec': 8986, 'earliest': 8987, 'deception': 8988, 'peroblam': 8989, 'thrice': 8990, 'vedios': 8991, 'generates': 8992, 'summery': 8993, 'problems:1.': 8994, 'strength.the': 8995, 'too.2': 8996, 'height4': 8997, 'lenovo5': 8998, 'mobile.2': 8999, 'monitor.same': 9000, \"has'nt\": 9001, 'lennvo': 9002, 'blabber': 9003, 'bki': 9004, 'rkhii': 9005, 'valoo': 9006, 'whaat': 9007, 'money.camera': 9008, 'vibrant': 9009, 'coverbad': 9010, 'reviewgood': 9011, 'cuxgf': 9012, 'barcode': 9013, 'bit-': 9014, 'games.pros': 9015, 'gif': 9016, 'guest': 9017, 'hindi-': 9018, 'key-': 9019, 'mode-': 9020, 'mutli': 9021, 'part-': 9022, 'qr': 9023, 'rom-': 9024, 'speciality': 9025, 'trafficcons': 9026, 'macbook': 9027, 'gbcamera': 9028, 'phone.features': 9029, 'range.ram': 9030, 'marvellousdont': 9031, 'calls.whereas': 9032, 'location.if': 9033, 'time.after': 9034, 'time.if': 9035, 'backup.but': 9036, 'ap': 9037, 'kark': 9038, 'ku6': 9039, 'nikalo': 9040, 'subhame': 9041, '😡🤔': 9042, '.they': 9043, '/network': 9044, 'amazon.before': 9045, 'apps.friends': 9046, 'e-commerce': 9047, 'issue.no': 9048, 'lot.camera': 9049, 'poor.u': 9050, 'refund.do': 9051, 'cameraoverall': 9052, 'performance.and': 9053, 'caneea': 9054, 'chuka': 9055, 'galdi': 9056, 'buttons3.poor': 9057, 'lifeoverall': 9058, 'notifications2.no': 9059, 'comfortable': 9060, 'battery.3': 9061, 'handneed': 9062, 'min2': 9063, '=11700/-': 9064, 'rairaisahab': 9065, 'featurenot': 9066, 'basool': 9067, 'associate': 9068, 'place.and': 9069, 'thye': 9070, 'problemand': 9071, 'botb': 9072, 'aab': 9073, 'bakhwas': 9074, 'jyasa': 9075, 'kuchi': 9076, 'lenovoworth': 9077, 'appeared.i': 9078, 'drawback/loophole.other': 9079, 'time.big': 9080, 'right-hander': 9081, 'pricey': 9082, 'paya': 9083, 'sctrach': 9084, 'displaygood': 9085, 'phonelarge': 9086, 'qualitygreat': 9087, \"'number\": 9088, 'team.i': 9089, 'battery.turbo': 9090, 'bekaaar': 9091, 'bekaarpehle': 9092, 'kiyaa': 9093, 'lg': 9094, 'pehla': 9095, 'cons.1': 9096, 'cover6': 9097, 'door2': 9098, 'feature7': 9099, 'hangs5': 9100, 'list6': 9101, 'ok.5': 9102, 'separately8': 9103, 'steaming': 9104, 'boxi': 9105, 'superfast.': 9106, 'products.i': 9107, 'experencie': 9108, 'backuptoo': 9109, 'template': 9110, '.customer': 9111, 'bargain': 9112, 'predessors': 9113, 'gautam': 9114, 'sealand': 9115, 'mobileturbo': 9116, 'mobilebatry': 9117, 'spk': 9118, 'card.save': 9119, 'idbattery': 9120, 'heit': 9121, 'zabardast': 9122, 'trial': 9123, 't.v': 9124, 'believe': 9125, 'wellll': 9126, 'owsum': 9127, 'android5.good': 9128, 'averagebut': 9129, 'camera2.avereg': 9130, 'cameracons1.avereg': 9131, 'display2.frist': 9132, 'parfoamce': 9133, 'price.pros1.good': 9134, 'processor4.stock': 9135, 'sensor3.good': 9136, 'marathalli': 9137, 'phone.just': 9138, 'hours.but': 9139, 'usefull': 9140, 'aligarhthis': 9141, 'moneypost': 9142, 'dyjddhndjjccbnnxcnnxfj': 9143, 'rough': 9144, 'asin': 9145, 'b01lzksuxf': 9146, 'happened.the': 9147, 'mobilewith': 9148, 'coler': 9149, 'backupfast': 9150, 'chargingsmooth': 9151, 'toucheverything': 9152, 'itekdum': 9153, 'designbig': 9154, 'thr': 9155, 'chori': 9156, 'glass.the': 9157, 'frame.overall': 9158, 'it.😉': 9159, 'off.but': 9160, 'problem.one': 9161, 'choose': 9162, 'x22': 9163, 'surfingi': 9164, 'bodykiller': 9165, 'priceprosstock': 9166, 'processerkiller': 9167, 'betterit': 9168, 'bok': 9169, 'chalaya': 9170, 'fatjaata': 9171, 'kwalityi': 9172, 'mane': 9173, '15-16hours': 9174, '.regardhemal': 9175, 'day.my': 9176, 'whattsapp.very': 9177, 'awesome.faster.all': 9178, 'inversion': 9179, 'hppn': 9180, 'phonecam': 9181, 'given.it': 9182, 'product.naam': 9183, 'thoda.over': 9184, 'appbattery': 9185, 'now.you': 9186, 'pannel': 9187, 'eventhough': 9188, 'headphoesetc': 9189, 'rebooted.radio': 9190, 'lteit': 9191, 'range.gets': 9192, 'serf': 9193, 'aapne': 9194, 'be.not': 9195, 'br': 9196, 'this.please': 9197, 'frontimages': 9198, 'heavy-duty': 9199, 'manages': 9200, 'hng': 9201, 'amazon/lenovo': 9202, 'nogaut': 9203, 'fro': 9204, 'raghavendari': 9205, 'goat': 9206, 'lenovoso': 9207, 'sunny': 9208, 'bugsboot': 9209, 'bugui': 9210, 'hardwarepoor': 9211, 'loop': 9212, 'poorui': 9213, 'publicitydevelopers': 9214, 'flashing.amazon': 9215, 'good☺️☺️👌🏻': 9216, 'specialnot': 9217, 'product😄': 9218, 'longer': 9219, 'camerawell': 9220, 'myself.overheating': 9221, 'optimizationdepth': 9222, 'returnable': 9223, 'attraction': 9224, 'usage.but': 9225, 'idk': 9226, 'speedometer': 9227, '📞': 9228, 'slot.10': 9229, 'specifications.4/64': 9230, 'peranoma': 9231, 'connectedit': 9232, 'lifebattery': 9233, 'ate': 9234, 'gimmickotherwise': 9235, 'earn': 9236, 'jaa': 9237, 'jab': 9238, 'lagaya': 9239, 'screenshort': 9240, 'lenovok8note': 9241, 'atmosamazon': 9242, 'modelscast': 9243, 'replacementissues': 9244, 'voltepower': 9245, 'hitch': 9246, 'android.turbo': 9247, 'exel': 9248, 'expression': 9249, 'killer8': 9250, 'day.its': 9251, 'takcall': 9252, 'mobilemobile': 9253, 'connection.when': 9254, 'single': 9255, 'parformance': 9256, 'prosecer': 9257, 'whater': 9258, 'gaget': 9259, 'mod': 9260, 'pakeging': 9261}\n"
     ]
    }
   ],
   "source": [
    "# Create a Dictionary\n",
    "id2word = corpora.Dictionary(reviews_sw_removed)\n",
    "print(len(id2word))\n",
    "\n",
    "# get the words in Dictionary\n",
    "print(id2word)\n",
    "\n",
    "# get the integer id\n",
    "print(id2word.token2id)"
   ]
  },
  {
   "cell_type": "code",
   "execution_count": 23,
   "metadata": {
    "colab": {
     "base_uri": "https://localhost:8080/"
    },
    "executionInfo": {
     "elapsed": 78,
     "status": "ok",
     "timestamp": 1686987694381,
     "user": {
      "displayName": "Nisarg Gandhewar",
      "userId": "00173707501276252012"
     },
     "user_tz": -330
    },
    "id": "LWs76MoOX2Ir",
    "outputId": "635d0d79-f937-4241-929c-a25cb9f2bf81"
   },
   "outputs": [
    {
     "name": "stdout",
     "output_type": "stream",
     "text": [
      "[(36, 1), (143, 1), (314, 1), (415, 1), (416, 1)]\n"
     ]
    }
   ],
   "source": [
    "# Convert document (a list of words) into the bag-of-words format\n",
    "# It contains the word id and its frequency in each document.\n",
    "\n",
    "texts = reviews_sw_removed\n",
    "corpus = [id2word.doc2bow(text) for text in texts]\n",
    "print(corpus[200])"
   ]
  },
  {
   "cell_type": "code",
   "execution_count": 24,
   "metadata": {
    "collapsed": true,
    "executionInfo": {
     "elapsed": 26327,
     "status": "ok",
     "timestamp": 1686987720705,
     "user": {
      "displayName": "Nisarg Gandhewar",
      "userId": "00173707501276252012"
     },
     "user_tz": -330
    },
    "id": "PAWw1hnfKGgy"
   },
   "outputs": [],
   "source": [
    "# Apply the LDA model\n",
    "lda_model = gensim.models.ldamodel.LdaModel(corpus=corpus,\n",
    "                                           id2word=id2word,\n",
    "                                           num_topics=10,\n",
    "                                           passes=10) # Number of passes through the corpus during training.\n",
    "#  alpha= 0.2,\n",
    "#  eta= 0.1\n",
    "#  chunksize=100, #chunksize controls how many documents are processed at a time in the training algorithm"
   ]
  },
  {
   "cell_type": "code",
   "execution_count": 25,
   "metadata": {
    "colab": {
     "base_uri": "https://localhost:8080/"
    },
    "executionInfo": {
     "elapsed": 17,
     "status": "ok",
     "timestamp": 1686987720705,
     "user": {
      "displayName": "Nisarg Gandhewar",
      "userId": "00173707501276252012"
     },
     "user_tz": -330
    },
    "id": "mTAXw9n0KGgy",
    "outputId": "5afe7cfd-07ce-47c7-c5f5-016f59574ec0"
   },
   "outputs": [
    {
     "name": "stdout",
     "output_type": "stream",
     "text": [
      "Topic: 0 \n",
      "Words: ['....', 'money', 'waste', '.....', 'value', 'buy', '......', 'thanks', 'plz', 'dont']\n",
      "\n",
      "\n",
      "Topic: 1 \n",
      "Words: ['speaker', 'screen', 'option', 'display', 'processor', 'sound', 'dolby', 'cast', 'music', 'expectation']\n",
      "\n",
      "\n",
      "Topic: 2 \n",
      "Words: ['note', 'lenovo', 'k8', 'charger', 'handset', 'everything', 'model', 'piece', 'system', 'please']\n",
      "\n",
      "\n",
      "Topic: 3 \n",
      "Words: ['mobile', 'battery', 'performance', 'camera', 'price', 'backup', 'feature', 'range', 'superb', 'mark']\n",
      "\n",
      "\n",
      "Topic: 4 \n",
      "Words: ['product', 'amazon', 'delivery', 'service', 'return', 'price', 'customer', 'class', 'policy', 'time']\n",
      "\n",
      "\n",
      "Topic: 5 \n",
      "Words: ['battery', 'problem', 'phone', 'issue', 'heating', 'day', 'time', 'hour', 'heat', 'month']\n",
      "\n",
      "\n",
      "Topic: 6 \n",
      "Words: ['camera', 'phone', 'battery', 'quality', 'mode', 'feature', 'call', 'price', 'issue', 'ram']\n",
      "\n",
      "\n",
      "Topic: 7 \n",
      "Words: ['phone', 'device', 'amazon', 'time', 'day', 'feature', 'month', 'budget', 'care', 'customer']\n",
      "\n",
      "\n",
      "Topic: 8 \n",
      "Words: ['camera', 'quality', 'network', 'sim', 'problem', 'issue', 'jio', 'volta', 'speed', 'signal']\n",
      "\n",
      "\n",
      "Topic: 9 \n",
      "Words: ['hai', 'glass', 'h', 'gorilla', 'ho', 'box', 'k', 'bill', 'earphone', 'bhi']\n",
      "\n",
      "\n"
     ]
    }
   ],
   "source": [
    "# show the first 10 words belonging to each topic\n",
    "for idx, topic in lda_model.show_topics(formatted=False,num_words= 10):\n",
    "  print('Topic: {} \\nWords: {}'.format(idx, [w[0] for w in topic]))\n",
    "  print(\"\\n\")"
   ]
  },
  {
   "cell_type": "code",
   "execution_count": 26,
   "metadata": {
    "colab": {
     "base_uri": "https://localhost:8080/"
    },
    "executionInfo": {
     "elapsed": 840,
     "status": "ok",
     "timestamp": 1686987721530,
     "user": {
      "displayName": "Nisarg Gandhewar",
      "userId": "00173707501276252012"
     },
     "user_tz": -330
    },
    "id": "crbq9dRYKGgz",
    "outputId": "190655f4-fa46-467d-e3df-047cc02f7d7b"
   },
   "outputs": [
    {
     "name": "stdout",
     "output_type": "stream",
     "text": [
      "\n",
      "Coherence Score:  0.5470073894172673\n"
     ]
    }
   ],
   "source": [
    "# Compute Coherence Score\n",
    "coherence_model_lda = CoherenceModel(model=lda_model, texts=reviews_sw_removed, dictionary=id2word, coherence='c_v') #Tokenized texts, needed for coherence models\n",
    "coherence_lda = coherence_model_lda.get_coherence()\n",
    "print('\\nCoherence Score: ', coherence_lda)"
   ]
  },
  {
   "cell_type": "code",
   "execution_count": null,
   "metadata": {
    "id": "SWbqcCYGi9jD"
   },
   "outputs": [],
   "source": [
    "!pip install pyLDAvis==3.4.1 # To visualize lda model"
   ]
  },
  {
   "cell_type": "code",
   "execution_count": 28,
   "metadata": {
    "colab": {
     "base_uri": "https://localhost:8080/",
     "height": 881
    },
    "executionInfo": {
     "elapsed": 10084,
     "status": "ok",
     "timestamp": 1686987736480,
     "user": {
      "displayName": "Nisarg Gandhewar",
      "userId": "00173707501276252012"
     },
     "user_tz": -330
    },
    "id": "EdeIFpcZi9kq",
    "outputId": "1184d8c7-3a61-409b-e292-4f0651d1fd27"
   },
   "outputs": [
    {
     "data": {
      "text/html": [
       "\n",
       "<link rel=\"stylesheet\" type=\"text/css\" href=\"https://cdn.jsdelivr.net/gh/bmabey/pyLDAvis@3.4.0/pyLDAvis/js/ldavis.v1.0.0.css\">\n",
       "\n",
       "\n",
       "<div id=\"ldavis_el775581396682746023686598401554\" style=\"background-color:white;\"></div>\n",
       "<script type=\"text/javascript\">\n",
       "\n",
       "var ldavis_el775581396682746023686598401554_data = {\"mdsDat\": {\"x\": [-0.2250425826355166, -0.1931221580254478, -0.14357809745035344, -0.08862599589950444, -0.07299855741304502, 0.09522278675276716, 0.04810491808523582, 0.10677262491530906, 0.24122242119417453, 0.2320446404763806], \"y\": [0.08370983744759423, -0.15439897610784753, -0.2363441425739669, 0.17863967876681758, 0.23671276152688006, -0.10121967020819249, 0.10789920915642662, -0.1547951729057052, -0.006576051259818376, 0.04637252615781216], \"topics\": [1, 2, 3, 4, 5, 6, 7, 8, 9, 10], \"cluster\": [1, 1, 1, 1, 1, 1, 1, 1, 1, 1], \"Freq\": [19.810875722275014, 16.86853301941104, 12.440987153858147, 9.141143712725395, 8.681647645559158, 8.565363441444001, 8.18749191120449, 6.201383424295237, 5.207764192818709, 4.894809776408807]}, \"tinfo\": {\"Term\": [\"phone\", \"product\", \"camera\", \"battery\", \"mobile\", \"note\", \"quality\", \"problem\", \"....\", \"lenovo\", \"money\", \"performance\", \"k8\", \"price\", \"backup\", \"network\", \"amazon\", \"heating\", \"issue\", \"speaker\", \"service\", \"waste\", \"screen\", \"hour\", \".....\", \"charger\", \"day\", \"feature\", \"value\", \"time\", \"mode\", \"ram\", \"depth\", \"bit\", \"android\", \"stock\", \"sensor\", \"memory\", \"notification\", \"contact\", \"specification\", \"touch\", \"gb\", \"ok\", \"etc\", \"design\", \"fingerprint\", \"recorder\", \"gaming\", \"brightness\", \"resolution\", \"storage\", \"nothing\", \"management\", \"interface\", \"player\", \"finger\", \"print\", \"rest\", \"body\", \"application\", \"apps\", \"light\", \"con\", \"video\", \"lag\", \"look\", \"camera\", \"call\", \"game\", \"gallery\", \"app\", \"thing\", \"phone\", \"quality\", \"feature\", \"price\", \"battery\", \"photo\", \"performance\", \"issue\", \"time\", \"update\", \"screen\", \"option\", \"lenovo\", \"day\", \"heating\", \"hour\", \"center\", \"min\", \"set\", \"color\", \"oreo\", \"suggestion\", \"top\", \"accessory\", \"i.e\", \"lenevo\", \"heat\", \"blur\", \"bekar\", \"aspect\", \"right\", \"processer\", \"k8note\", \"bed\", \"guard\", \"mistake\", \"loss\", \"iron\", \"clearity\", \"hang\", \"amazone\", \"standard\", \"repair\", \"matter\", \"charging\", \"drain\", \"charge\", \"hr\", \"problem\", \"condition\", \"life\", \"use\", \"issue\", \"day\", \"rate\", \"month\", \"time\", \"battery\", \"turbo\", \"till\", \"update\", \"replacement\", \"service\", \"charger\", \"lot\", \"usage\", \"phone\", \"software\", \"star\", \"care\", \"cam\", \"cell\", \"head\", \"exchange\", \"complain\", \"lte\", \"mail\", \"yesterday\", \"audio\", \"net\", \"functionality\", \"restart\", \"fall\", \"damage\", \"icon\", \"ear\", \"protection\", \"bt\", \"phon\", \"office\", \"smart\", \"second\", \"tone\", \"temperature\", \"bettery\", \"gr8\", \"access\", \"upgrade\", \"phone.it\", \"request\", \"phone\", \"hanging\", \"anyone\", \"pls\", \"device\", \"refund\", \"budget\", \"bluetooth\", \"amazon\", \"customer\", \"anything\", \"brand\", \"complaint\", \"time\", \"replacement\", \"month\", \"day\", \"feature\", \"internet\", \"week\", \"call\", \"return\", \"response\", \"issue\", \"please\", \"lot\", \"review\", \"purchase\", \"app\", \"mobile\", \"backup\", \"super\", \"worth\", \"result\", \"capacity\", \"deal\", \"v\", \"caller\", \"max\", \"comparison\", \"list\", \"nd\", \".........\", \"packing\", \"benefit\", \"warm\", \"hv\", \"discount\", \"decacore\", \"overheat\", \"launch\", \"surprise\", \"daylight\", \"cashback\", \"example\", \"basis\", \"vasool\", \"activity\", \"\\ud83d\\ude0e\", \"superb\", \"performance\", \"range\", \"price\", \"weight\", \"battery\", \"mark\", \"feature\", \"mah\", \"camera\", \"cost\", \"amount\", \"buying\", \"look\", \"smartphone\", \"display\", \"power\", \"budget\", \"turbo\", \"network\", \"sim\", \"jio\", \"volta\", \"signal\", \"mp\", \"excellent\", \"awesome\", \"phn\", \"package\", \"reception\", \"ko\", \".......\", \"fone\", \"tha\", \"face\", \"zoom\", \"nhi\", \"idea\", \"camara\", \"rom\", \"tray\", \"coverage\", \"pin\", \"wastage\", \"kiya\", \"copy\", \"airtel\", \"b\", \"ek\", \"quality\", \"strength\", \"camera\", \"slot\", \"connectivity\", \"clarity\", \"connection\", \"card\", \"speed\", \"picture\", \"front\", \"process\", \"problem\", \"image\", \"sound\", \"photo\", \"issue\", \"call\", \"work\", \"note\", \"k8\", \"handset\", \"piece\", \"mi\", \"cable\", \"headset\", \"k5\", \"hope\", \"motorola\", \"vibe\", \"k6\", \"change\", \"half\", \"china\", \"place\", \"lenova\", \"job\", \"test\", \"mera\", \"wire\", \"everyone\", \"rupee\", \"limit\", \"rock\", \"dust\", \"bhai\", \"fan\", \"a1\", \"multimedia\", \"one\", \"model\", \"lenovo\", \"way\", \"version\", \"k4\", \"system\", \"charger\", \"team\", \"everything\", \"u\", \"smartphone\", \"please\", \"box\", \"sale\", \"wise\", \"item\", \"data\", \"issue\", \"turbo\", \"update\", \"month\", \"speaker\", \"dolby\", \"cast\", \"expectation\", \"core\", \"killer\", \"side\", \"volume\", \"atmos\", \"headphone\", \"deca\", \"tv\", \"shot\", \"someone\", \"jack\", \"hotspot\", \"lover\", \"hd\", \"graphic\", \"mediatek\", \"home\", \"bottom\", \"series\", \"output\", \"beast\", \"g5s\", \"setup\", \"phone-\", \"battry\", \"x23\", \"processor\", \"screen\", \"option\", \"display\", \"sound\", \"button\", \"music\", \"key\", \"voice\", \"hardware\", \"experience\", \"feature\", \"software\", \"bug\", \"effect\", \"call\", \"device\", \"power\", \"product\", \"delivery\", \"class\", \"future\", \"pc\", \"batter\", \"lack\", \"atom\", \"fraud\", \"alarm\", \"ad\", \"pack\", \"gesture\", \"navigation\", \"provide\", \"okay\", \"october\", \"requirement\", \"chromecast\", \"fake\", \"hype\", \"packaging\", \"man\", \"warning\", \"everytime\", \"behavior\", \"this.2\", \"monitor\", \"prise\", \"whereas\", \"friend\", \"return\", \"ringtone\", \"warranty\", \"amazon\", \"policy\", \"service\", \"customer\", \"date\", \"star\", \"support\", \"centre\", \"price\", \"company\", \"time\", \"day\", \"experience\", \"hand\", \"everything\", \"rating\", \"purchase\", \"hai\", \"glass\", \"h\", \"gorilla\", \"ho\", \"bill\", \"bhi\", \"improvement\", \"ye\", \"sir\", \"invoice\", \"ka\", \"ki\", \"se\", \"scratch\", \"raha\", \"cash\", \"par\", \"bahut\", \"nahi\", \"working\", \"switch\", \"rha\", \"ke\", \"mob\", \"ph\", \"din\", \"kar\", \"toh\", \"koi\", \"k\", \"box\", \"hi\", \"earphone\", \"offer\", \"screen\", \"purchase\", \"....\", \"money\", \"waste\", \".....\", \"value\", \"buy\", \"......\", \"nice\", \"concern\", \"processing\", \"drainage\", \"seller\", \"jata\", \"couple\", \"category\", \"manager\", \"wrost\", \"gd\", \"im\", \"location\", \"\\ud83d\\udc4d\", \"car\", \"bye\", \"prblm\", \"material\", \"amazing\", \"manner\", \"jhakas\", \"brother\", \"fair\", \"thanks\", \"plz\", \"dont\", \"cover\", \"facility\", \"function\", \"pic\", \"doesnt\", \"work\", \"superb\"], \"Freq\": [6695.0, 2069.0, 3071.0, 2930.0, 1413.0, 1127.0, 1287.0, 1470.0, 600.0, 884.0, 579.0, 837.0, 587.0, 864.0, 529.0, 506.0, 518.0, 563.0, 1393.0, 370.0, 480.0, 273.0, 556.0, 453.0, 248.0, 446.0, 884.0, 823.0, 216.0, 928.0, 364.1947226579494, 210.15192414155396, 178.24436617164488, 171.2862108910299, 170.04599230872338, 158.90819421044102, 148.77044497056943, 118.7932697730254, 112.10788746677298, 110.04730214053268, 109.14285332960547, 108.97120061544207, 104.87070243110753, 88.55067918668838, 77.83945107421853, 74.1711240299475, 72.65853718095553, 61.46249355378555, 60.707685406464506, 59.39989278331332, 56.10297002138987, 55.39499464646236, 113.35085806128373, 52.60638877404799, 52.60588288945162, 52.56810342779473, 49.79671381996402, 47.30232638172152, 47.047490051607845, 46.30433748538716, 102.386493390944, 164.2457542572007, 141.30187236760125, 72.14310957755988, 176.46303723675422, 88.89404936824354, 121.35852557260414, 1165.4504901703783, 277.29692628359504, 139.91197669799763, 93.49801199703877, 140.54693066674676, 143.33976978146356, 1151.7683920360373, 379.83764567612667, 286.5448852246038, 245.9062447705656, 392.9933648173299, 112.89054354935499, 193.85025034321433, 211.0350448578982, 182.76883611850496, 128.59346043358494, 133.393293483941, 125.85655191984277, 136.23303821843317, 124.31891366563858, 562.255842840259, 452.19594360993307, 140.02659170302744, 114.18216805122093, 87.52440604801662, 57.5463796862286, 45.87986214795098, 43.668216860753624, 32.73578660023111, 32.53874095965524, 29.99881951677368, 27.25920935246209, 330.40468004144225, 25.305874390280852, 25.114845463096593, 22.079130985153505, 21.876745769892477, 21.720337066699496, 21.2286999058363, 21.122644132814088, 20.527490899827658, 19.649910521280344, 19.393488603445554, 19.240284678863222, 19.021984119501887, 127.69650580042303, 18.528217331561937, 18.52257450900824, 18.484554807490717, 18.259844690908082, 197.63015084246732, 198.78389871028924, 272.68006986648095, 179.78998224861934, 1239.3777879472366, 80.78038021171774, 252.85342097382107, 223.75714637177197, 888.2880470012772, 560.9009864996225, 45.87247737315246, 297.02348548901136, 502.1192542549497, 1315.3356448736367, 136.51626329684115, 72.80449261346125, 205.09359089488242, 114.4339533780658, 224.26188866495374, 205.25972937485733, 145.58961871531835, 117.22043601405701, 929.3413574916569, 143.93639404003193, 73.9670553454617, 96.31296324031489, 69.0130553027333, 60.98574748114964, 37.90823821547491, 36.11194143520869, 34.827249004757284, 32.19096385473144, 31.998515285306475, 30.44179437990945, 30.275996132702463, 29.64139772477044, 29.50603411503822, 27.74192561732882, 25.88887173275476, 22.4273618713485, 21.860161889403383, 21.64729733310286, 21.444253189261833, 21.167888890388703, 21.164216401774837, 21.122829107081078, 20.143927902434033, 20.038245371094217, 18.75366222577111, 18.692124532478715, 18.200715057768246, 17.788910903724545, 17.378630387690542, 16.58052999100318, 16.043969238459063, 56.08508718028226, 4613.718096187773, 40.46280858770629, 30.60915820011722, 57.81402874030996, 239.65179499366837, 71.23864948211536, 108.74267758920624, 30.097218370373675, 229.39397770344368, 96.0756976022277, 33.8646274719553, 50.18558622188196, 39.53305646337705, 178.05005553305875, 71.86135614317938, 110.67039609004198, 138.5950439003769, 125.79168623933609, 48.28109716459691, 51.01857271888643, 77.76607228956281, 53.287545469660486, 37.31674643687144, 85.38756122401328, 47.59986958808455, 51.146644723197774, 40.974468850842555, 39.382840242254225, 37.75986459244554, 1412.389960522707, 528.6227782400173, 91.95003629326177, 94.8528263180852, 50.324336728803615, 38.74135575725045, 34.72018862645874, 27.279119266848884, 24.837869367661536, 24.746174224557144, 23.52859501103669, 21.820818488692158, 21.3847030697617, 20.92863817292186, 19.696252312359988, 16.3338904058129, 15.638317862410945, 12.957550979641018, 12.875109757512002, 10.977754371799497, 10.57353234734758, 10.408124228837794, 10.31320687997354, 9.712965315442103, 9.581597172414027, 9.579724166110264, 9.221064000384544, 9.013402129496635, 8.504612945537694, 8.489726000120344, 155.52878149532225, 618.6192857650905, 232.8324238966821, 537.8248077904973, 35.01389020715997, 1221.7544751020696, 96.9725615200327, 256.46237599959255, 57.2169327001063, 540.3725445405977, 41.407153528823, 23.39318393815054, 25.069464823088015, 32.064105090970116, 29.996130595630525, 35.370041515488765, 28.81746621597261, 29.875281539849805, 22.152981124061693, 505.26050226641286, 252.42639385047337, 132.73187689712924, 120.36336690917085, 97.40784931395321, 89.93086417847802, 84.44763817131376, 63.54018536627094, 36.243126967491406, 34.657554165131735, 34.57165119197561, 32.62040371339943, 30.95096395681962, 28.918538204081617, 28.56970679601409, 26.321842572692898, 25.588192944510787, 24.230049487321562, 23.23404604978141, 22.327960870128273, 22.03765436525628, 21.940971842367663, 20.19517605508154, 19.544948223669284, 18.989483949563127, 18.023123387019492, 16.74308111962456, 16.60559486184035, 15.41971847023459, 14.534016535904836, 907.0259764726981, 33.055388163150944, 1330.2685418551152, 67.24561213519107, 59.22582577021156, 93.0907797554076, 47.85563191029203, 86.6826336198967, 113.96352092054184, 83.1561424106361, 64.51345207666886, 27.56680075769097, 229.88603257634497, 57.8091999746826, 95.14815915486099, 64.10604255933603, 148.8883894742685, 59.811858704927985, 45.42950607086158, 1126.4134780815007, 586.6041875535815, 214.0658329046439, 116.94869839997747, 78.462668928423, 59.460892926388, 51.03205342418286, 46.021525554277446, 39.413707083405356, 35.434622306741595, 34.99500746163322, 34.92580014451124, 34.44847403072839, 32.63017915736652, 25.947055384436922, 25.402626939436665, 23.49535047986919, 22.59187058212834, 20.049017863134008, 19.698088891331928, 15.947481699447758, 15.649814295350875, 15.603574596669002, 15.054663214106386, 13.820426688703844, 12.618884811370279, 12.511670512674508, 11.891788909167087, 24.709264180010983, 10.394214797585203, 55.86409318753628, 127.26126756597463, 713.1495429392224, 62.026994978478, 72.78656306316401, 61.91777368158394, 114.38204341725917, 240.24446648485204, 44.54980619891003, 135.33531458110147, 58.467539054402195, 72.26653530680822, 85.66425440418836, 69.47038611685765, 46.516853409528515, 36.221586072811846, 40.56347033198146, 44.06157545324246, 59.77970292789551, 44.26335313784092, 46.71098105391517, 46.44383857010533, 370.05363753146764, 171.0084811369383, 151.34316948861454, 135.91585815860222, 114.17388955739726, 107.1343131158044, 107.09305374574674, 99.84659839367504, 96.24777375838596, 133.93911484808214, 61.485566948209105, 60.20320806430081, 50.019171869600015, 48.31234391915881, 46.0886665905654, 38.71682409986297, 38.45644248428421, 36.493571608305174, 33.705352762844456, 31.386732719723998, 26.0530726687912, 24.90565139388128, 24.83310628858247, 24.240532217711333, 22.591555697931486, 19.888494934484545, 19.58890286762227, 18.928428464869302, 18.59337588622689, 18.004185458359913, 212.2256886276964, 317.7162570750888, 217.44038594572214, 214.31685025291182, 190.35537240930543, 80.53628324845323, 136.00826523160958, 69.94454734201919, 60.942310770378356, 41.97797688565224, 87.97889957508156, 134.95797441470148, 73.39409026430411, 46.39879093622016, 47.31421104760007, 60.62126777839084, 58.78234561643374, 47.999837809965776, 2069.0252591508283, 231.63329566580148, 68.44309147371158, 36.682530039031505, 24.538782682150977, 21.882989268825657, 21.324648980109988, 18.874446867023416, 15.946641030918654, 15.672950027415073, 14.790592984806175, 13.992038293066383, 13.773563093986537, 13.758886597617398, 13.433393959540306, 13.246576159490967, 13.1220748770418, 12.409053057883696, 12.375174864883823, 11.50545341785419, 10.909781493833746, 9.258126471366706, 8.641384241984886, 8.23596899150485, 7.120041558405963, 6.678087089408281, 6.649936340524496, 6.6263259941428245, 6.602006843296886, 6.377792798420561, 31.32669962505279, 121.97611935492672, 27.602292585115116, 48.6844962334046, 287.97873804330413, 64.41915468879903, 225.88822708553656, 77.95896939939615, 34.089628294739384, 58.275731665349156, 52.11574833455899, 30.06334783107993, 80.2792569655549, 30.695451924507687, 62.57591849758624, 58.12293901329139, 37.66287185606174, 23.153250481115073, 25.734362887883567, 17.89993890979292, 18.757397216136035, 210.5727551819226, 173.902218967831, 168.6147276954, 89.55308327862751, 88.31699252867658, 54.94135499966525, 47.02650596404543, 42.50772551569655, 36.50836393334011, 32.33486716080937, 31.85933798102052, 31.790533170573376, 31.28229420474983, 30.751243711177768, 30.540844018062906, 30.256839327335463, 29.998720752323763, 28.848497180231163, 28.685822752240753, 27.174678724419202, 26.71320328409299, 26.428243236966043, 24.60441680449162, 23.980179698730947, 23.687725742385616, 20.60197989329304, 19.667513670025663, 19.028027033496066, 18.645854685298858, 18.01037884345315, 63.512387067509344, 67.38620619777868, 35.71501385066943, 48.52263238503468, 28.95825677904725, 34.331891835866514, 29.028687184793327, 599.3853067857474, 579.0861893306543, 272.23288343193934, 247.79160189359004, 215.8576240435282, 126.25525745016195, 92.84729724426391, 43.60454807324219, 35.655623508266316, 35.223117812252454, 34.05865263230462, 31.05656121249218, 29.416246972572637, 23.832482564080827, 18.644954057447034, 18.190223713084375, 17.461380039654085, 15.623503814992967, 15.613513422585296, 14.903518602811754, 14.621910729544798, 11.201703738544719, 10.617453271293384, 9.140698084094312, 7.955636156792541, 7.777080016159924, 7.662811465706242, 7.353386284222993, 7.30048800137299, 7.118493069879602, 88.19226035273394, 58.64476136260242, 50.85463913963905, 39.4946140298303, 30.469220933156, 45.911887746233006, 31.75042101355987, 15.797029261580644, 38.5442038315585, 18.447124089003605], \"Total\": [6695.0, 2069.0, 3071.0, 2930.0, 1413.0, 1127.0, 1287.0, 1470.0, 600.0, 884.0, 579.0, 837.0, 587.0, 864.0, 529.0, 506.0, 518.0, 563.0, 1393.0, 370.0, 480.0, 273.0, 556.0, 453.0, 248.0, 446.0, 884.0, 823.0, 216.0, 928.0, 365.05651446077724, 211.01414401508765, 179.10615409230306, 172.14801286267232, 170.90782836887163, 159.7737737988142, 149.63224516835493, 119.655033930028, 112.96968446749918, 110.90913572280381, 110.00466958729554, 109.8329995894761, 105.73251258841789, 89.4124380906879, 78.70125579481103, 75.03560890835247, 73.52041002390837, 62.32425205961348, 61.56947281718139, 60.26312472658704, 56.964822949663066, 56.256761827430026, 115.14215758219817, 53.46818105215023, 53.46768604066375, 53.42985519849715, 50.6585067960591, 48.16408002584406, 47.90931309387876, 47.16617233206184, 109.25720529567599, 182.31914322126192, 157.56694823201062, 76.85201476832422, 233.31478513757318, 102.60199180620077, 154.19245188101374, 3071.732707959849, 480.9245472823253, 198.9073726720554, 115.07302339067628, 213.50325035041058, 229.63945601359362, 6695.505458239057, 1287.637012309431, 823.2906683864564, 864.6867425071845, 2930.7742643547103, 177.7667486372267, 837.5162191204066, 1393.856907717482, 928.4302851379558, 396.51419387409516, 556.0631761733556, 356.43561533850607, 884.9934089484152, 884.7538127213552, 563.1200733822129, 453.06021969837576, 140.89083613336268, 115.0464476744441, 88.38866502435671, 58.411016578736884, 46.74410993320971, 44.53269165597433, 33.600447909681, 33.403036256812705, 30.86368033384163, 28.123554354684515, 341.23525895338855, 26.17056565001678, 25.97968257857322, 22.94363863922381, 22.742196921028526, 22.584779566865627, 22.093178163372546, 21.986936730775657, 21.39178584222948, 20.514208775799304, 20.257787435542866, 20.10456519984372, 19.886282991878925, 133.51996310306964, 19.392611315329066, 19.387092374652227, 19.3487481307737, 19.12413389098659, 208.97746074607724, 213.4072725027816, 296.98261973018174, 194.26486373082577, 1470.0423473724134, 92.525645489148, 328.9769461853261, 298.57440999791044, 1393.856907717482, 884.7538127213552, 53.387588520392256, 481.21320130542915, 928.4302851379558, 2930.7742643547103, 203.60545742100757, 96.8657248228329, 396.51419387409516, 187.06586569904363, 480.2734258172372, 446.49106683949344, 287.5913713983522, 213.4516835501672, 6695.505458239057, 334.87123041072806, 157.81548042853473, 97.18163999340867, 69.88176208948086, 61.85440952142585, 38.777403314919674, 36.980571855192146, 35.69665537730932, 33.059601757504915, 32.8671596297571, 31.310470705928346, 31.144671346747224, 30.510060088313132, 30.374761409559728, 28.610873589493558, 26.757638623086695, 23.29599521321782, 22.728880658851807, 22.515925560125336, 22.313520331602238, 22.036525858960406, 22.03291961214912, 21.991966846467562, 21.012506222342097, 20.90695388004428, 19.62236350017623, 19.560723635221528, 19.069338945611506, 18.65751137986382, 18.24744724728618, 17.449302573744195, 16.912581421294423, 60.03865210272314, 6695.505458239057, 45.73819773228755, 35.20272411316574, 74.7494222375225, 431.55082893151234, 98.78478896582581, 179.31167865463493, 35.125617846804445, 518.1490186434394, 197.83998888885446, 44.31071507747254, 82.59603897808897, 59.464778997973305, 928.4302851379558, 187.06586569904363, 481.21320130542915, 884.7538127213552, 823.2906683864564, 100.96950090589459, 123.24441225932061, 480.9245472823253, 176.03881551153947, 61.95085645587255, 1393.856907717482, 185.57706357961126, 287.5913713983522, 181.9307337523929, 140.3573613751311, 213.50325035041058, 1413.2604633346323, 529.4939406640344, 92.82043272976159, 95.93384485102001, 51.194881248080826, 39.61183023049918, 35.59077960039141, 28.149875211394075, 25.708500196226296, 25.61697801435961, 24.39914934893058, 22.691409565449728, 22.25524928934701, 21.79911793544732, 20.56672648922007, 17.205239547077568, 16.508910232613314, 13.828241093534366, 13.745595486151238, 11.848258847218712, 11.444064622680996, 11.278645600532924, 11.183760799720167, 10.58360965452578, 10.452088602759003, 10.450544007490942, 10.092208672089049, 9.88382509377115, 9.375163533038569, 9.360163811935672, 174.75131567678105, 837.5162191204066, 341.21844080919396, 864.6867425071845, 43.4222349669596, 2930.7742643547103, 163.5245616637956, 823.2906683864564, 116.44805980930103, 3071.732707959849, 85.09285048138675, 36.41157078539143, 41.70379860812021, 154.19245188101374, 132.55277143511057, 359.4060326327188, 135.16203516982898, 179.31167865463493, 203.60545742100757, 506.1313166776696, 253.29720384174001, 133.60267327831184, 121.2341646241877, 98.2786726508345, 90.80172184258939, 85.31840086580954, 64.41094116386675, 37.114120203723644, 35.5283811959339, 35.442494023544164, 33.491579679573704, 31.821858676909393, 29.789340070973676, 29.440841102480043, 27.192700445110162, 26.459045869889657, 25.101455674898904, 24.104893433030274, 23.198833059167484, 22.90858535668067, 22.811799285246277, 21.06602284821673, 20.415833078727573, 19.860381341905512, 18.89417384621243, 17.613917923575894, 17.476380990555036, 16.290682387750643, 15.405571858335819, 1287.637012309431, 39.09716666923872, 3071.732707959849, 92.60417011863227, 79.81505947471116, 147.9032081803797, 63.79691779146727, 141.55195313533395, 247.23936835807987, 164.9902919748745, 130.22431162705362, 32.652677760325034, 1470.0423473724134, 122.62251636501443, 340.5503572599071, 177.7667486372267, 1393.856907717482, 480.9245472823253, 196.15274533893884, 1127.3003967253364, 587.4666438894573, 214.92827943935356, 117.81116699122344, 79.32510444038982, 60.32333482938877, 51.89447036033508, 46.883958968832815, 40.2761764904109, 36.297193458936405, 35.85743268740678, 35.78825014546113, 35.31098772442367, 33.4927078441474, 26.809566632627337, 26.265197285105103, 24.357862811119958, 23.454346915604706, 20.91161740288337, 20.560861126863323, 16.8098951689901, 16.51225202986768, 16.46606582471943, 15.917195153321147, 14.683035948581495, 13.481353830608692, 13.37502257391363, 12.754279372653512, 26.719534973252387, 11.257789041148015, 61.18891129459974, 142.44200236380266, 884.9934089484152, 71.37763610446848, 87.95827549479246, 75.37361618207532, 173.83873482028213, 446.49106683949344, 58.43373112268405, 242.06081030177495, 86.63351695042195, 132.55277143511057, 185.57706357961126, 137.62545555292877, 74.76050567678836, 49.490201871238575, 74.43473636034011, 178.14452416232209, 1393.856907717482, 203.60545742100757, 396.51419387409516, 481.21320130542915, 370.9122757848859, 171.86712892374982, 152.20176445210376, 136.77450517839262, 115.03252903532612, 107.99297874220746, 107.95167442716405, 100.70522745088165, 97.10639875305793, 135.51741607769202, 62.344173588845024, 61.06183409085448, 50.87787520879193, 49.17115281598194, 46.990437432991655, 39.57548520406461, 39.315072726129884, 37.3524107260618, 34.56409538784769, 32.24536038000821, 26.911726269486802, 25.76429510787024, 25.69174849897125, 25.099155358014002, 23.45029259553984, 20.747129142991177, 20.447540271591162, 19.78755435611927, 19.452202858537564, 18.862876004352284, 323.37612715039705, 556.0631761733556, 356.43561533850607, 359.4060326327188, 340.5503572599071, 117.5097381149816, 244.28357689180277, 110.99244439517753, 97.96053440691732, 57.20077105386763, 263.90886918417635, 823.2906683864564, 334.87123041072806, 89.37967200566654, 116.24983297271618, 480.9245472823253, 431.55082893151234, 135.16203516982898, 2069.8942239923626, 232.50225538355514, 69.31208068160717, 37.55159795741254, 25.407873299965686, 22.75194152473098, 22.193798541875303, 19.743557425889165, 16.81564539577236, 16.542145093704512, 15.659731574046154, 14.861065003371738, 14.643005402979162, 14.628081697917432, 14.302619531833058, 14.115578151909581, 13.99213610347616, 13.278036790712019, 13.244223730049846, 12.374433357939921, 11.778770956840859, 10.127075547698286, 9.510290576126065, 9.106059535136719, 7.989172953363925, 7.547021598139626, 7.519137174377197, 7.496067461894975, 7.470935272034849, 7.249105194829606, 37.9893065129843, 176.03881551153947, 36.66914096395566, 69.52009560452655, 518.1490186434394, 97.20412671288844, 480.2734258172372, 197.83998888885446, 65.6751916617341, 157.81548042853473, 154.75267618215636, 81.01609118194185, 864.6867425071845, 124.89490936557291, 928.4302851379558, 884.7538127213552, 263.90886918417635, 89.5352703097135, 242.06081030177495, 51.84850227009811, 140.3573613751311, 211.44154150466204, 174.77106168420778, 169.48351117908084, 90.42193250014645, 89.18577636070249, 55.81017793832105, 47.895288836284344, 43.376649013923995, 37.37714629039798, 33.20370904404575, 32.72814553798498, 32.65931894942106, 32.15108113791964, 31.620030998291515, 31.409701953500672, 31.125623662189366, 30.867518963752296, 29.71732905498635, 29.55460155746921, 28.043459307615667, 27.58211358570106, 27.29725544329799, 25.473200107589086, 24.84896451979503, 24.55655680905596, 21.47078802874027, 20.5363010839901, 19.89681430334123, 19.5146399294161, 18.879160714580774, 68.35301261059746, 137.62545555292877, 58.74746179198189, 109.50202621156905, 47.91900942609482, 556.0631761733556, 140.3573613751311, 600.2527133392806, 579.9535715028098, 273.10024583865084, 248.65901953011172, 216.72500168372017, 127.12268331574727, 93.7146820713145, 44.47200774316493, 36.52316149657271, 36.09052393474931, 34.92609541348985, 31.92397267628992, 30.284442574284075, 24.700298429854918, 19.512340189705235, 19.05773488795316, 18.328745017161065, 16.490845150125732, 16.48092625411055, 15.771271706273545, 15.489312285714218, 12.069193793836162, 11.484859808853383, 10.008099865804242, 8.823004512179963, 8.644434570952214, 8.53032794166815, 8.220720812595097, 8.16786573687069, 7.985946602930915, 110.51160257337952, 75.16853193018824, 69.33606813398012, 59.36752117535071, 49.65168188349359, 108.62696641924975, 72.49858995956677, 25.216073816028807, 196.15274533893884, 174.75131567678105], \"Category\": [\"Default\", \"Default\", \"Default\", \"Default\", \"Default\", \"Default\", \"Default\", \"Default\", \"Default\", \"Default\", \"Default\", \"Default\", \"Default\", \"Default\", \"Default\", \"Default\", \"Default\", \"Default\", \"Default\", \"Default\", \"Default\", \"Default\", \"Default\", \"Default\", \"Default\", \"Default\", \"Default\", \"Default\", \"Default\", \"Default\", \"Topic1\", \"Topic1\", \"Topic1\", \"Topic1\", \"Topic1\", \"Topic1\", \"Topic1\", \"Topic1\", \"Topic1\", \"Topic1\", \"Topic1\", \"Topic1\", \"Topic1\", \"Topic1\", \"Topic1\", \"Topic1\", \"Topic1\", \"Topic1\", \"Topic1\", \"Topic1\", \"Topic1\", \"Topic1\", \"Topic1\", \"Topic1\", \"Topic1\", \"Topic1\", \"Topic1\", \"Topic1\", \"Topic1\", \"Topic1\", \"Topic1\", \"Topic1\", \"Topic1\", \"Topic1\", \"Topic1\", \"Topic1\", \"Topic1\", \"Topic1\", \"Topic1\", \"Topic1\", \"Topic1\", \"Topic1\", \"Topic1\", \"Topic1\", \"Topic1\", \"Topic1\", \"Topic1\", \"Topic1\", \"Topic1\", \"Topic1\", \"Topic1\", \"Topic1\", \"Topic1\", \"Topic1\", \"Topic1\", \"Topic1\", \"Topic1\", \"Topic2\", \"Topic2\", \"Topic2\", \"Topic2\", \"Topic2\", \"Topic2\", \"Topic2\", \"Topic2\", \"Topic2\", \"Topic2\", \"Topic2\", \"Topic2\", \"Topic2\", \"Topic2\", \"Topic2\", \"Topic2\", \"Topic2\", \"Topic2\", \"Topic2\", \"Topic2\", \"Topic2\", \"Topic2\", \"Topic2\", \"Topic2\", \"Topic2\", \"Topic2\", \"Topic2\", \"Topic2\", \"Topic2\", \"Topic2\", \"Topic2\", \"Topic2\", \"Topic2\", \"Topic2\", \"Topic2\", \"Topic2\", \"Topic2\", \"Topic2\", \"Topic2\", \"Topic2\", \"Topic2\", \"Topic2\", \"Topic2\", \"Topic2\", \"Topic2\", \"Topic2\", \"Topic2\", \"Topic2\", \"Topic2\", \"Topic2\", \"Topic2\", \"Topic2\", \"Topic2\", \"Topic2\", \"Topic2\", \"Topic3\", \"Topic3\", \"Topic3\", \"Topic3\", \"Topic3\", \"Topic3\", \"Topic3\", \"Topic3\", \"Topic3\", \"Topic3\", \"Topic3\", \"Topic3\", \"Topic3\", \"Topic3\", \"Topic3\", \"Topic3\", \"Topic3\", \"Topic3\", \"Topic3\", \"Topic3\", \"Topic3\", \"Topic3\", \"Topic3\", \"Topic3\", \"Topic3\", \"Topic3\", \"Topic3\", \"Topic3\", \"Topic3\", \"Topic3\", \"Topic3\", \"Topic3\", \"Topic3\", \"Topic3\", \"Topic3\", \"Topic3\", \"Topic3\", \"Topic3\", \"Topic3\", \"Topic3\", \"Topic3\", \"Topic3\", \"Topic3\", \"Topic3\", \"Topic3\", \"Topic3\", \"Topic3\", \"Topic3\", \"Topic3\", \"Topic3\", \"Topic3\", \"Topic3\", \"Topic3\", \"Topic3\", \"Topic3\", \"Topic3\", \"Topic3\", \"Topic3\", \"Topic3\", \"Topic3\", \"Topic4\", \"Topic4\", \"Topic4\", \"Topic4\", \"Topic4\", \"Topic4\", \"Topic4\", \"Topic4\", \"Topic4\", \"Topic4\", \"Topic4\", \"Topic4\", \"Topic4\", \"Topic4\", \"Topic4\", \"Topic4\", \"Topic4\", \"Topic4\", \"Topic4\", \"Topic4\", \"Topic4\", \"Topic4\", \"Topic4\", \"Topic4\", \"Topic4\", \"Topic4\", \"Topic4\", \"Topic4\", \"Topic4\", \"Topic4\", \"Topic4\", \"Topic4\", \"Topic4\", \"Topic4\", \"Topic4\", \"Topic4\", \"Topic4\", \"Topic4\", \"Topic4\", \"Topic4\", \"Topic4\", \"Topic4\", \"Topic4\", \"Topic4\", \"Topic4\", \"Topic4\", \"Topic4\", \"Topic4\", \"Topic4\", \"Topic5\", \"Topic5\", \"Topic5\", \"Topic5\", \"Topic5\", \"Topic5\", \"Topic5\", \"Topic5\", \"Topic5\", \"Topic5\", \"Topic5\", \"Topic5\", \"Topic5\", \"Topic5\", \"Topic5\", \"Topic5\", \"Topic5\", \"Topic5\", \"Topic5\", \"Topic5\", \"Topic5\", \"Topic5\", \"Topic5\", \"Topic5\", \"Topic5\", \"Topic5\", \"Topic5\", \"Topic5\", \"Topic5\", \"Topic5\", \"Topic5\", \"Topic5\", \"Topic5\", \"Topic5\", \"Topic5\", \"Topic5\", \"Topic5\", \"Topic5\", \"Topic5\", \"Topic5\", \"Topic5\", \"Topic5\", \"Topic5\", \"Topic5\", \"Topic5\", \"Topic5\", \"Topic5\", \"Topic5\", \"Topic5\", \"Topic6\", \"Topic6\", \"Topic6\", \"Topic6\", \"Topic6\", \"Topic6\", \"Topic6\", \"Topic6\", \"Topic6\", \"Topic6\", \"Topic6\", \"Topic6\", \"Topic6\", \"Topic6\", \"Topic6\", \"Topic6\", \"Topic6\", \"Topic6\", \"Topic6\", \"Topic6\", \"Topic6\", \"Topic6\", \"Topic6\", \"Topic6\", \"Topic6\", \"Topic6\", \"Topic6\", \"Topic6\", \"Topic6\", \"Topic6\", \"Topic6\", \"Topic6\", \"Topic6\", \"Topic6\", \"Topic6\", \"Topic6\", \"Topic6\", \"Topic6\", \"Topic6\", \"Topic6\", \"Topic6\", \"Topic6\", \"Topic6\", \"Topic6\", \"Topic6\", \"Topic6\", \"Topic6\", \"Topic6\", \"Topic6\", \"Topic6\", \"Topic6\", \"Topic6\", \"Topic7\", \"Topic7\", \"Topic7\", \"Topic7\", \"Topic7\", \"Topic7\", \"Topic7\", \"Topic7\", \"Topic7\", \"Topic7\", \"Topic7\", \"Topic7\", \"Topic7\", \"Topic7\", \"Topic7\", \"Topic7\", \"Topic7\", \"Topic7\", \"Topic7\", \"Topic7\", \"Topic7\", \"Topic7\", \"Topic7\", \"Topic7\", \"Topic7\", \"Topic7\", \"Topic7\", \"Topic7\", \"Topic7\", \"Topic7\", \"Topic7\", \"Topic7\", \"Topic7\", \"Topic7\", \"Topic7\", \"Topic7\", \"Topic7\", \"Topic7\", \"Topic7\", \"Topic7\", \"Topic7\", \"Topic7\", \"Topic7\", \"Topic7\", \"Topic7\", \"Topic7\", \"Topic7\", \"Topic7\", \"Topic8\", \"Topic8\", \"Topic8\", \"Topic8\", \"Topic8\", \"Topic8\", \"Topic8\", \"Topic8\", \"Topic8\", \"Topic8\", \"Topic8\", \"Topic8\", \"Topic8\", \"Topic8\", \"Topic8\", \"Topic8\", \"Topic8\", \"Topic8\", \"Topic8\", \"Topic8\", \"Topic8\", \"Topic8\", \"Topic8\", \"Topic8\", \"Topic8\", \"Topic8\", \"Topic8\", \"Topic8\", \"Topic8\", \"Topic8\", \"Topic8\", \"Topic8\", \"Topic8\", \"Topic8\", \"Topic8\", \"Topic8\", \"Topic8\", \"Topic8\", \"Topic8\", \"Topic8\", \"Topic8\", \"Topic8\", \"Topic8\", \"Topic8\", \"Topic8\", \"Topic8\", \"Topic8\", \"Topic8\", \"Topic8\", \"Topic8\", \"Topic8\", \"Topic9\", \"Topic9\", \"Topic9\", \"Topic9\", \"Topic9\", \"Topic9\", \"Topic9\", \"Topic9\", \"Topic9\", \"Topic9\", \"Topic9\", \"Topic9\", \"Topic9\", \"Topic9\", \"Topic9\", \"Topic9\", \"Topic9\", \"Topic9\", \"Topic9\", \"Topic9\", \"Topic9\", \"Topic9\", \"Topic9\", \"Topic9\", \"Topic9\", \"Topic9\", \"Topic9\", \"Topic9\", \"Topic9\", \"Topic9\", \"Topic9\", \"Topic9\", \"Topic9\", \"Topic9\", \"Topic9\", \"Topic9\", \"Topic9\", \"Topic10\", \"Topic10\", \"Topic10\", \"Topic10\", \"Topic10\", \"Topic10\", \"Topic10\", \"Topic10\", \"Topic10\", \"Topic10\", \"Topic10\", \"Topic10\", \"Topic10\", \"Topic10\", \"Topic10\", \"Topic10\", \"Topic10\", \"Topic10\", \"Topic10\", \"Topic10\", \"Topic10\", \"Topic10\", \"Topic10\", \"Topic10\", \"Topic10\", \"Topic10\", \"Topic10\", \"Topic10\", \"Topic10\", \"Topic10\", \"Topic10\", \"Topic10\", \"Topic10\", \"Topic10\", \"Topic10\", \"Topic10\", \"Topic10\", \"Topic10\", \"Topic10\", \"Topic10\"], \"logprob\": [30.0, 29.0, 28.0, 27.0, 26.0, 25.0, 24.0, 23.0, 22.0, 21.0, 20.0, 19.0, 18.0, 17.0, 16.0, 15.0, 14.0, 13.0, 12.0, 11.0, 10.0, 9.0, 8.0, 7.0, 6.0, 5.0, 4.0, 3.0, 2.0, 1.0, -3.8655, -4.4154, -4.58, -4.6199, -4.6271, -4.6949, -4.7608, -4.9858, -5.0437, -5.0623, -5.0705, -5.0721, -5.1105, -5.2796, -5.4085, -5.4568, -5.4774, -5.6448, -5.6571, -5.6789, -5.736, -5.7487, -5.0327, -5.8004, -5.8004, -5.8011, -5.8552, -5.9066, -5.912, -5.928, -5.1344, -4.6618, -4.8123, -5.4845, -4.5901, -5.2757, -4.9644, -2.7023, -4.1381, -4.8222, -5.2253, -4.8177, -4.798, -2.7141, -3.8235, -4.1053, -4.2582, -3.7894, -5.0368, -4.4961, -4.4112, -4.555, -4.9065, -4.8699, -4.9281, -4.8488, -4.9403, -3.2705, -3.4883, -4.6606, -4.8646, -5.1305, -5.5498, -5.7764, -5.8258, -6.1139, -6.12, -6.2013, -6.297, -3.8021, -6.3714, -6.379, -6.5078, -6.517, -6.5242, -6.5471, -6.5521, -6.5806, -6.6243, -6.6375, -6.6454, -6.6568, -4.7528, -6.6831, -6.6834, -6.6855, -6.6977, -4.316, -4.3102, -3.9941, -4.4106, -2.48, -5.2107, -4.0696, -4.1919, -2.8131, -3.2729, -5.7765, -3.9086, -3.3836, -2.4206, -4.686, -5.3146, -4.2789, -4.8624, -4.1896, -4.2781, -4.6216, -4.8384, -2.7679, -4.633, -5.2988, -4.7304, -5.0637, -5.1873, -5.6628, -5.7113, -5.7476, -5.8263, -5.8323, -5.8821, -5.8876, -5.9088, -5.9134, -5.975, -6.0441, -6.1877, -6.2133, -6.2231, -6.2325, -6.2455, -6.2456, -6.2476, -6.2951, -6.3003, -6.3666, -6.3699, -6.3965, -6.4194, -6.4427, -6.4897, -6.5226, -5.2711, -0.8612, -5.5976, -5.8767, -5.2407, -3.8188, -5.0319, -4.609, -5.8935, -3.8625, -4.7328, -5.7756, -5.3822, -5.6208, -4.1159, -5.0232, -4.5914, -4.3664, -4.4633, -5.4209, -5.3658, -4.9443, -5.3223, -5.6785, -4.8508, -5.4351, -5.3633, -5.585, -5.6246, -5.6667, -1.7367, -2.7195, -4.4685, -4.4374, -5.0713, -5.3328, -5.4424, -5.6836, -5.7774, -5.7811, -5.8315, -5.9069, -5.9271, -5.9486, -6.0093, -6.1965, -6.24, -6.4281, -6.4345, -6.5939, -6.6314, -6.6472, -6.6563, -6.7163, -6.7299, -6.7301, -6.7683, -6.791, -6.8491, -6.8509, -3.9429, -2.5623, -3.5394, -2.7022, -5.434, -1.8817, -4.4153, -3.4428, -4.9429, -2.6975, -5.2663, -5.8373, -5.7681, -5.522, -5.5887, -5.4239, -5.6288, -5.5927, -5.8918, -2.7131, -3.4071, -4.0498, -4.1477, -4.3593, -4.4391, -4.502, -4.7865, -5.3479, -5.3927, -5.3951, -5.4532, -5.5058, -5.5737, -5.5858, -5.6678, -5.696, -5.7506, -5.7926, -5.8323, -5.8454, -5.8498, -5.9327, -5.9655, -5.9943, -6.0465, -6.1202, -6.1284, -6.2025, -6.2617, -2.128, -5.44, -1.745, -4.7298, -4.8568, -4.4046, -5.07, -4.4759, -4.2023, -4.5175, -4.7713, -5.6216, -3.5006, -4.881, -4.3827, -4.7776, -3.935, -4.847, -5.122, -1.8979, -2.5503, -3.5584, -4.163, -4.5621, -4.8394, -4.9922, -5.0956, -5.2506, -5.357, -5.3695, -5.3715, -5.3852, -5.4395, -5.6686, -5.6898, -5.7679, -5.8071, -5.9265, -5.9442, -6.1554, -6.1742, -6.1772, -6.213, -6.2985, -6.3895, -6.398, -6.4488, -5.7175, -6.5834, -4.9018, -4.0784, -2.355, -4.7971, -4.6372, -4.7989, -4.1851, -3.443, -5.1281, -4.0169, -4.8562, -4.6443, -4.4743, -4.6838, -5.0849, -5.335, -5.2218, -5.1391, -4.834, -5.1345, -5.0807, -5.0864, -2.9659, -3.7379, -3.86, -3.9675, -4.1418, -4.2055, -4.2059, -4.2759, -4.3126, -3.9822, -4.7608, -4.7818, -4.9672, -5.0019, -5.049, -5.2233, -5.23, -5.2824, -5.3619, -5.4332, -5.6194, -5.6645, -5.6674, -5.6915, -5.762, -5.8894, -5.9046, -5.9389, -5.9568, -5.989, -3.5219, -3.1184, -3.4976, -3.5121, -3.6307, -4.4909, -3.9669, -4.6319, -4.7696, -5.1424, -4.4025, -3.9746, -4.5837, -5.0423, -5.0228, -4.7749, -4.8057, -5.0084, -0.9669, -3.1566, -4.3757, -4.9994, -5.4015, -5.516, -5.5419, -5.6639, -5.8325, -5.8498, -5.9077, -5.9632, -5.979, -5.9801, -6.004, -6.018, -6.0274, -6.0833, -6.086, -6.1589, -6.2121, -6.3762, -6.4452, -6.4932, -6.6388, -6.7029, -6.7071, -6.7107, -6.7144, -6.7489, -5.1573, -3.7979, -5.2838, -4.7164, -2.9388, -4.4363, -3.1817, -4.2456, -5.0727, -4.5365, -4.6483, -5.1984, -4.2162, -5.1776, -4.4654, -4.5392, -4.9731, -5.4596, -5.3539, -5.7169, -5.6701, -3.0773, -3.2686, -3.2995, -3.9323, -3.9462, -4.4208, -4.5764, -4.6774, -4.8296, -4.951, -4.9658, -4.9679, -4.9841, -5.0012, -5.008, -5.0174, -5.026, -5.0651, -5.0707, -5.1248, -5.142, -5.1527, -5.2242, -5.2499, -5.2622, -5.4017, -5.4481, -5.4812, -5.5015, -5.5362, -4.2759, -4.2167, -4.8515, -4.5451, -5.0613, -4.891, -5.0588, -1.9692, -2.0037, -2.7585, -2.8526, -2.9905, -3.5268, -3.8342, -4.59, -4.7912, -4.8034, -4.8371, -4.9293, -4.9836, -5.1941, -5.4396, -5.4643, -5.5051, -5.6164, -5.617, -5.6635, -5.6826, -5.9491, -6.0026, -6.1524, -6.2913, -6.314, -6.3288, -6.37, -6.3772, -6.4024, -3.8856, -4.2936, -4.4362, -4.689, -4.9484, -4.5384, -4.9072, -5.6053, -4.7133, -5.4502], \"loglift\": [30.0, 29.0, 28.0, 27.0, 26.0, 25.0, 24.0, 23.0, 22.0, 21.0, 20.0, 19.0, 18.0, 17.0, 16.0, 15.0, 14.0, 13.0, 12.0, 11.0, 10.0, 9.0, 8.0, 7.0, 6.0, 5.0, 4.0, 3.0, 2.0, 1.0, 1.6166, 1.6148, 1.6141, 1.6139, 1.6139, 1.6135, 1.6132, 1.6117, 1.6113, 1.6111, 1.6111, 1.6111, 1.6108, 1.6093, 1.6079, 1.6074, 1.6071, 1.605, 1.6048, 1.6045, 1.6037, 1.6035, 1.6033, 1.6027, 1.6027, 1.6027, 1.6018, 1.6009, 1.6008, 1.6005, 1.554, 1.5145, 1.51, 1.5557, 1.3397, 1.4755, 1.3795, 0.6498, 1.0683, 1.2671, 1.4113, 1.2008, 1.1476, -0.1412, 0.3981, 0.5635, 0.3615, -0.3903, 1.1649, 0.1556, -0.2689, -0.0063, 0.4929, 0.1914, 0.5779, -0.2523, -0.3435, 1.7782, 1.7778, 1.7736, 1.7722, 1.7699, 1.7648, 1.7611, 1.7601, 1.7536, 1.7535, 1.7513, 1.7485, 1.7475, 1.7461, 1.7459, 1.7413, 1.7409, 1.7407, 1.7398, 1.7396, 1.7385, 1.7367, 1.7361, 1.7358, 1.7353, 1.7351, 1.7341, 1.7341, 1.734, 1.7335, 1.7239, 1.7087, 1.6943, 1.7023, 1.609, 1.644, 1.5165, 1.4913, 1.3292, 1.324, 1.628, 1.2972, 1.1651, 0.9785, 1.38, 1.4942, 1.1205, 1.2883, 1.0182, 1.0026, 1.099, 1.1804, -0.195, 0.9353, 1.0219, 2.0752, 2.0717, 2.07, 2.0615, 2.0604, 2.0595, 2.0575, 2.0574, 2.056, 2.0559, 2.0553, 2.0552, 2.0533, 2.0512, 2.0462, 2.0452, 2.0448, 2.0444, 2.044, 2.0439, 2.0439, 2.042, 2.0417, 2.0389, 2.0388, 2.0376, 2.0365, 2.0354, 2.0331, 2.0314, 2.0161, 1.7118, 1.9616, 1.9443, 1.8273, 1.496, 1.7573, 1.584, 1.9297, 1.2694, 1.3619, 1.8153, 1.5859, 1.6759, 0.4327, 1.1275, 0.6144, 0.2304, 0.2055, 1.3464, 1.2022, 0.2622, 0.8892, 1.5773, -0.7085, 0.7235, 0.3573, 0.5935, 0.8133, 0.3518, 2.3918, 2.3907, 2.383, 2.3811, 2.3752, 2.3702, 2.3676, 2.361, 2.3579, 2.3578, 2.3561, 2.3533, 2.3525, 2.3516, 2.3491, 2.3404, 2.3382, 2.3274, 2.327, 2.3161, 2.3133, 2.3121, 2.3113, 2.3065, 2.3054, 2.3054, 2.3021, 2.3002, 2.2949, 2.2948, 2.2759, 2.0894, 2.0102, 1.9176, 2.1772, 1.5174, 1.8698, 1.2261, 1.6818, 0.6546, 1.6721, 1.9499, 1.8834, 0.8219, 0.9065, 0.0738, 0.8469, 0.6003, 0.1742, 2.4422, 2.4405, 2.4374, 2.4368, 2.4351, 2.4343, 2.4337, 2.4303, 2.4202, 2.4191, 2.4191, 2.4176, 2.4162, 2.4143, 2.4139, 2.4114, 2.4105, 2.4086, 2.4072, 2.4057, 2.4052, 2.405, 2.4017, 2.4004, 2.3991, 2.3968, 2.3933, 2.3928, 2.389, 2.3857, 2.0936, 2.2761, 1.6071, 2.124, 2.1456, 1.981, 2.1564, 1.9535, 1.6695, 1.7588, 1.7416, 2.2746, 0.5885, 1.692, 1.1688, 1.424, 0.2073, 0.3595, 0.9812, 2.4567, 2.456, 2.4534, 2.4501, 2.4465, 2.443, 2.4407, 2.4389, 2.4358, 2.4334, 2.4331, 2.433, 2.4327, 2.4314, 2.4247, 2.4241, 2.4214, 2.42, 2.4153, 2.4146, 2.4048, 2.4038, 2.4036, 2.4017, 2.3969, 2.3913, 2.3907, 2.3874, 2.3792, 2.3776, 2.3664, 2.3448, 2.2416, 2.317, 2.2681, 2.2608, 2.0389, 1.8377, 2.1862, 1.876, 2.0642, 1.8508, 1.6844, 1.7738, 1.983, 2.1453, 1.8504, 1.0604, -0.6917, 0.9314, 0.3187, 0.1194, 2.5002, 2.4976, 2.4969, 2.4963, 2.4951, 2.4946, 2.4946, 2.494, 2.4937, 2.4908, 2.4887, 2.4884, 2.4855, 2.4849, 2.4832, 2.4806, 2.4805, 2.4793, 2.4774, 2.4756, 2.4701, 2.4687, 2.4686, 2.4678, 2.4653, 2.4603, 2.4597, 2.4582, 2.4574, 2.456, 2.0814, 1.9428, 2.0083, 1.9856, 1.9209, 2.1247, 1.9169, 2.0408, 2.0279, 2.1931, 1.4041, 0.6942, 0.9847, 1.8469, 1.6036, 0.4315, 0.509, 1.4673, 2.78, 2.7767, 2.7678, 2.757, 2.7456, 2.7415, 2.7404, 2.7354, 2.7273, 2.7264, 2.7233, 2.7201, 2.7192, 2.7191, 2.7177, 2.7169, 2.7162, 2.7127, 2.7125, 2.7076, 2.7038, 2.6907, 2.6846, 2.68, 2.6652, 2.6581, 2.6576, 2.6571, 2.6568, 2.6523, 2.5876, 2.4135, 2.4964, 2.4241, 2.193, 2.369, 2.0261, 1.8491, 2.1247, 1.7842, 1.692, 1.7891, 0.4035, 1.377, 0.0833, 0.0576, 0.8335, 1.4279, 0.539, 1.7169, 0.7678, 2.9509, 2.95, 2.9499, 2.9454, 2.9452, 2.9393, 2.9367, 2.9348, 2.9315, 2.9285, 2.9281, 2.9281, 2.9276, 2.9272, 2.927, 2.9267, 2.9265, 2.9253, 2.9252, 2.9235, 2.923, 2.9227, 2.9203, 2.9194, 2.919, 2.9137, 2.9118, 2.9104, 2.9095, 2.9079, 2.8816, 2.2409, 2.4573, 2.1411, 2.4514, 0.1702, 1.3791, 3.0155, 3.0155, 3.0138, 3.0135, 3.013, 3.0101, 3.0077, 2.9973, 2.993, 2.9927, 2.9918, 2.9894, 2.9879, 2.9812, 2.9715, 2.9704, 2.9685, 2.963, 2.9629, 2.9604, 2.9594, 2.9424, 2.9385, 2.9263, 2.9135, 2.9113, 2.9097, 2.9055, 2.9047, 2.902, 2.7914, 2.7688, 2.707, 2.6094, 2.5287, 2.1558, 2.1913, 2.5493, 1.3899, 0.7685]}, \"token.table\": {\"Topic\": [10, 10, 10, 5, 4, 1, 6, 3, 2, 4, 8, 5, 8, 10, 3, 8, 2, 2, 4, 1, 3, 6, 1, 3, 1, 3, 7, 1, 3, 1, 7, 2, 7, 8, 3, 5, 5, 4, 9, 4, 8, 1, 2, 4, 7, 7, 2, 8, 2, 4, 3, 6, 9, 9, 1, 3, 10, 2, 1, 7, 6, 9, 1, 3, 6, 1, 10, 3, 1, 3, 4, 1, 7, 1, 7, 10, 2, 4, 7, 10, 6, 1, 2, 3, 5, 7, 4, 3, 5, 1, 4, 5, 7, 4, 10, 1, 5, 3, 9, 4, 7, 10, 3, 2, 2, 8, 6, 2, 9, 2, 6, 2, 4, 6, 8, 1, 5, 7, 8, 2, 2, 1, 2, 6, 8, 9, 4, 3, 3, 7, 1, 6, 10, 2, 4, 2, 5, 7, 1, 5, 1, 5, 7, 1, 2, 4, 8, 10, 2, 7, 10, 5, 2, 3, 8, 3, 1, 2, 5, 6, 2, 7, 8, 1, 2, 3, 4, 6, 8, 4, 4, 7, 4, 8, 1, 1, 1, 2, 3, 7, 9, 4, 1, 2, 4, 7, 9, 10, 1, 10, 7, 3, 10, 1, 2, 10, 6, 3, 3, 7, 9, 1, 5, 7, 5, 1, 6, 1, 6, 8, 8, 4, 5, 3, 7, 1, 2, 5, 6, 7, 8, 5, 3, 10, 10, 8, 3, 6, 1, 3, 4, 6, 7, 1, 1, 5, 8, 2, 8, 1, 5, 1, 10, 3, 8, 7, 1, 7, 10, 1, 2, 1, 1, 10, 8, 9, 9, 3, 7, 2, 9, 9, 6, 1, 2, 8, 6, 2, 9, 3, 6, 6, 7, 7, 3, 7, 9, 6, 2, 9, 2, 1, 6, 9, 9, 7, 6, 7, 2, 2, 4, 4, 8, 2, 3, 5, 10, 1, 5, 9, 1, 1, 3, 5, 9, 2, 1, 2, 3, 5, 6, 2, 3, 6, 7, 10, 10, 5, 6, 7, 9, 6, 7, 6, 6, 6, 2, 9, 9, 9, 1, 7, 9, 7, 5, 5, 9, 8, 1, 2, 9, 4, 2, 6, 1, 2, 3, 6, 1, 2, 1, 5, 6, 4, 10, 1, 4, 2, 1, 2, 3, 5, 7, 3, 1, 2, 4, 3, 8, 1, 10, 10, 1, 4, 10, 2, 4, 7, 1, 6, 6, 2, 2, 9, 4, 1, 6, 7, 10, 8, 1, 2, 3, 6, 6, 5, 6, 1, 7, 9, 8, 4, 3, 5, 5, 10, 6, 1, 7, 1, 8, 5, 9, 3, 1, 8, 1, 6, 1, 3, 7, 2, 7, 4, 8, 5, 8, 4, 9, 8, 1, 2, 4, 5, 9, 5, 3, 1, 2, 3, 7, 3, 1, 5, 1, 10, 1, 5, 6, 5, 6, 1, 2, 3, 6, 2, 3, 3, 9, 10, 3, 8, 3, 4, 6, 7, 10, 1, 4, 8, 1, 8, 2, 5, 4, 5, 2, 10, 1, 7, 8, 3, 8, 2, 3, 6, 8, 9, 1, 5, 9, 1, 1, 4, 2, 6, 1, 2, 7, 8, 5, 1, 2, 3, 9, 2, 2, 3, 3, 6, 8, 1, 1, 3, 10, 1, 3, 4, 3, 8, 1, 2, 3, 6, 9, 2, 1, 8, 6, 5, 6, 4, 6, 8, 9, 1, 2, 7, 9, 9, 3, 10, 1, 7, 2, 3, 8, 2, 7, 7, 7, 5, 5, 9, 1, 5, 3, 1, 4, 6, 1, 2, 7, 7, 1, 5, 7, 7, 1, 1, 5, 7, 10, 2, 1, 2, 8, 1, 1, 1, 5, 2, 4, 4, 10, 1, 2, 5, 6, 7, 8, 4, 9, 1, 3, 6, 2, 6, 3, 6, 5, 1, 10, 1, 2, 3, 4, 7, 8, 2, 7, 1, 2, 3, 7, 8, 9, 3, 2, 1, 5, 2, 4, 6, 7, 2, 5, 6, 1, 2, 6, 7, 3, 1, 2, 3, 1, 2, 3, 4, 10, 4, 1, 6, 6, 1, 2, 5, 7, 1, 5, 7, 5, 7, 4, 8, 6, 8, 5, 10, 6, 7, 2, 3, 8, 2, 4, 8, 6, 1, 6, 1, 3, 5, 10, 9, 4, 10, 7, 9, 3, 5, 10, 4], \"Freq\": [0.997913023445889, 0.9973497059090917, 0.9923738516151541, 0.9741731403795797, 0.9633417307152652, 0.03742580104784948, 0.935645026196237, 0.9316371637971606, 0.9879341430607075, 0.959983254508951, 0.9578708248652507, 0.9727414393853915, 0.9672264334139569, 0.9254509284947683, 0.4419577993210188, 0.5558246559146437, 0.9797545926670163, 0.32956556778963464, 0.6316673382634663, 0.9946881990278862, 0.8806136678611775, 0.11362757004660354, 0.22567904811547437, 0.7673087635926128, 0.6604114914812061, 0.17798323883890663, 0.16393193050951926, 0.9335768723349983, 0.054916286607941074, 0.899521559296547, 0.09324308846366645, 0.9588714478090414, 0.9886063249459852, 0.9623392375624182, 0.9632466390798253, 0.9936200099479794, 0.9207717419669824, 0.9990671457667392, 0.9812346799400837, 0.891777042312883, 0.9669504457932246, 0.13409425788257687, 0.44868689342388945, 0.41695466445931023, 0.9767531285877428, 0.9807979967113296, 0.955112586038681, 0.9275182148313357, 0.9622904330870764, 0.929949272500406, 0.9439236489182234, 0.9719609763765882, 0.9813073716008975, 0.9854833299543244, 0.9933312453418319, 0.8540775035144116, 0.1138770004685882, 0.9552716717830656, 0.9752752391300339, 0.970335105048662, 0.5013607382644673, 0.48682854295245376, 0.12107118118161568, 0.6053559059080784, 0.2542494804813929, 0.9790398401623245, 0.8570170256841014, 0.9529632817080856, 0.22307526369792346, 0.6078800935768414, 0.16730644777344258, 0.46990550600070746, 0.5146584113341082, 0.30635758854959333, 0.689304574236585, 0.9911685052072198, 0.26376494149523766, 0.5994657761255401, 0.11989315522510802, 0.9577826967918567, 0.978062638063172, 0.5759739268151517, 0.010396641278251836, 0.16218760394072865, 0.12475969533902202, 0.1268390235946724, 0.9724410140296595, 0.9873820856384274, 0.9483235619606417, 0.3792647703301494, 0.1757965459041036, 0.4329803815786255, 0.011394220567858566, 0.984554355935109, 0.9114113326788896, 0.3814853755382102, 0.6146153272560053, 0.9878409132271403, 0.9718954100337308, 0.9567465776515072, 0.992104135872341, 0.9737427604928933, 0.9861867645647819, 0.9936771179885721, 0.6171613474625989, 0.3702968084775593, 0.9628730939316973, 0.9192457129243095, 0.07744560951376966, 0.4591357257181011, 0.5375247520602159, 0.9474705994278702, 0.04785205047615505, 0.969803069041702, 0.9060553675768234, 0.2366412495752947, 0.6287896060143545, 0.13522357118588268, 0.9810699567996759, 0.9554324459608232, 0.9929633722744263, 0.24020194379731424, 0.2241884808774933, 0.16814136065811996, 0.2482086752572247, 0.12010097189865712, 0.9836408498008528, 0.9804840153805515, 0.6726670925887623, 0.31951686897966214, 0.9368654838399363, 0.052048082435552014, 0.9856758978375461, 0.8754329631723584, 0.1188859579616783, 0.2037715997893981, 0.7523874453762391, 0.03134947689067663, 0.25057927829192256, 0.7392088709611716, 0.9918028779425707, 0.9651458621392702, 0.9910240256040181, 0.21153363529568597, 0.18802989804060974, 0.4818266137290625, 0.10576681764784299, 0.9716481793997891, 0.11790958863390084, 0.20213072337240146, 0.6569248509603047, 0.9493961031041525, 0.11625556657770178, 0.4852406257156248, 0.39425800839394515, 0.9443683259136965, 0.20208311296280682, 0.38171254670752397, 0.16278917433114992, 0.24699047139898608, 0.3045289932766664, 0.16749094630216652, 0.5176992885703329, 0.14015198150838895, 0.634074690533921, 0.15710585023924245, 0.0011302579153902336, 0.0011302579153902336, 0.06555495909263355, 0.9448572204024724, 0.9834007682038831, 0.9784394673717267, 0.9284064554837241, 0.997839782746509, 0.9938240307938665, 0.9861984340046157, 0.25952910408561525, 0.04634448287243129, 0.5561337944691755, 0.13671622447367232, 0.9738852151710906, 0.9457574983271966, 0.2058952640776107, 0.05008263180266206, 0.0973828951718429, 0.5954268447649823, 0.011129473733924903, 0.038953158068737156, 0.35691519883952255, 0.6345159090480401, 0.9949546552084749, 0.2596051446877269, 0.7355479099485596, 0.06560226292108916, 0.932489308664053, 0.9734841412266155, 0.9642948448162674, 0.9770861935589708, 0.13698376659276126, 0.41095129977828376, 0.44748030420302015, 0.4559146335499604, 0.13763460635470504, 0.404301656166946, 0.9736736901385217, 0.9910896492345772, 0.9689774581358674, 0.330495464756417, 0.5577110967764537, 0.10741102604583552, 0.876185813082514, 0.9568879852409604, 0.9845472857855934, 0.9734841348848836, 0.9943373571165003, 0.20461608648065008, 0.20461608648065008, 0.026524307506750937, 0.08715129609361022, 0.33344843722772605, 0.1439890978937908, 0.9561389481152235, 0.36252548387457534, 0.6042091397909589, 0.8765397952236416, 0.96974137343431, 0.9716851462956452, 0.9408606828645478, 0.3486010603794198, 0.1530443679714526, 0.3109472873070783, 0.023078118979822218, 0.16397610854084207, 0.9870010618609404, 0.992921557105855, 0.9735025996180829, 0.95149485038633, 0.1579391821208758, 0.8160191076245249, 0.49913874903905797, 0.49913874903905797, 0.5707606687708532, 0.4234675929590201, 0.9876620789046995, 0.9853109324924572, 0.9639887939270106, 0.8081824676167783, 0.1216618768455365, 0.06083093842276825, 0.7038452025145505, 0.2915930124703138, 0.9907507277369041, 0.9930720213632932, 0.9702352944523289, 0.9560878805078948, 0.9955881615824879, 0.9953337371976011, 0.9647588916615406, 0.9836797294557281, 0.981685220433721, 0.9971471491490995, 0.997911756121716, 0.9852891009457901, 0.29038835656677875, 0.4467513177950442, 0.2568820077321504, 0.9956809804564807, 0.9586581438851316, 0.037447583745512956, 0.8745425483121553, 0.10931781853901941, 0.24475194550814344, 0.7342558365244304, 0.9637932144198076, 0.9799521564503375, 0.9888027965584727, 0.0073791253474512885, 0.9827636672245766, 0.9670747419599941, 0.02930529521090891, 0.9980109510650446, 0.11915408404853656, 0.2723521921109407, 0.6127924322496165, 0.9867044229574596, 0.9661215984304753, 0.9683143584715711, 0.985458543310405, 0.9976598702506223, 0.9265700268341308, 0.07206655764265463, 0.9401051017311504, 0.9338835130002621, 0.9720162882553376, 0.9679315198230871, 0.9541631065036666, 0.9708192217660946, 0.5219269828837072, 0.4729963282383597, 0.9913167793620229, 0.9912529216187126, 0.3565433093856, 0.4753910791808001, 0.1584636930602667, 0.9777517019062422, 0.9450589859136916, 0.15137852302610044, 0.6370811774747733, 0.060981869465490696, 0.1068976300042131, 0.04304602550505226, 0.4164722213823443, 0.040303763359581704, 0.5508180992476167, 0.9789225747386578, 0.9575873793571239, 0.8515068397986694, 0.9954890627296327, 0.9806284559003253, 0.058519732301891836, 0.9363157168302694, 0.8225689988155866, 0.17247414491294558, 0.9811458121652984, 0.977974610598247, 0.9992056674292726, 0.9505196511208657, 0.9798122260160372, 0.9549267390413032, 0.9658350142067799, 0.3603848912236223, 0.630673559641339, 0.9641977470996448, 0.9908051546149327, 0.952674625866657, 0.9853222904301073, 0.9534322140760325, 0.9462102650151194, 0.8674295540783182, 0.058478396904156286, 0.06822479638818234, 0.8866312812885523, 0.9600493472299185, 0.9442536144632501, 0.15367346086972633, 0.033898557544792575, 0.005649759590798762, 0.8056557176479036, 0.22797950090323182, 0.7690508497135687, 0.8948577197318279, 0.0951976297587051, 0.9423770868870843, 0.9695298979353633, 0.9510964162790534, 0.7847336138955266, 0.207532856567412, 0.9379109174906218, 0.26426383945549575, 0.5076647442171366, 0.1773349448977669, 0.04868018095232817, 0.9665504185814249, 0.9679487440509058, 0.18892543195677014, 0.31773822647274974, 0.4894886191607226, 0.9736162284929546, 0.9463433244188079, 0.9912437445423178, 0.9444983942650089, 0.937830298519046, 0.40360909290003266, 0.5931830607773207, 0.9067206062238976, 0.9412190953381472, 0.9759152693961887, 0.9613786180296401, 0.9945256466985664, 0.9727219048169854, 0.9832952701450826, 0.99090412876193, 0.9749340185907673, 0.9773357147183309, 0.999108116750356, 0.9971058879408362, 0.8915909485436525, 0.09828561637489082, 0.9983557795836331, 0.9338229725897409, 0.056108186406263874, 0.6171900504689026, 0.2306669885590848, 0.09559172498844956, 0.9642618799052897, 0.9911706317201867, 0.8882738842813, 0.4421091314207954, 0.5567300173447053, 0.9627913483793243, 0.9570632902599354, 0.9435976082304383, 0.9832822325869981, 0.9977647763724724, 0.9561198486189649, 0.9893864080549079, 0.9988464505742091, 0.981395540719576, 0.00868491628955377, 0.991416418731539, 0.9290933066874845, 0.3756338082856509, 0.6051878022379932, 0.9548941277788942, 0.9953872403046478, 0.9209682990024278, 0.08171415202873984, 0.9151985027218863, 0.35350002799338137, 0.033666669332702986, 0.6088056037663789, 0.9840812043640808, 0.9562074762144118, 0.961196949045455, 0.942058997576797, 0.9851279124421696, 0.8887067107982174, 0.9724444972068299, 0.9758615906005863, 0.9839469720605764, 0.23163730513033723, 0.01671609418466351, 0.7390901643076224, 0.011940067274759651, 0.9780730903723662, 0.9699812309275254, 0.9531192583492404, 0.17205571815081164, 0.13874979354349307, 0.689118996135282, 0.9601995101594898, 0.9460412695991279, 0.6356644359322906, 0.3600223353952796, 0.5517348685306628, 0.4413878948245302, 0.49093797598912703, 0.5030599013221919, 0.9931146850341965, 0.9796318339239923, 0.9518298959885372, 0.9919547751551975, 0.28020704173763566, 0.2586526539116637, 0.46341933825839743, 0.21404847717964523, 0.775925729776214, 0.06651719638004482, 0.1463378320360986, 0.7849029172845288, 0.329204130340251, 0.658408260680502, 0.19976023567620096, 0.21455729017073435, 0.22195581741800105, 0.3551293078688017, 0.8992716020701665, 0.28449609310155005, 0.6221906426367233, 0.09251905466717075, 0.9758309506748716, 0.936964348520372, 0.8428328627502577, 0.15645807783095989, 0.12250143860667502, 0.8575100702467252, 0.9741073599972805, 0.9697836491173987, 0.3401611645526349, 0.6555833353196237, 0.9995679856574323, 0.9411334333587013, 0.9089244086417986, 0.2992361753492017, 0.27786216282425874, 0.07837137925812426, 0.13536874599130555, 0.20661545440778215, 0.29511422580068125, 0.7043910600032051, 0.9638361089754888, 0.9951939524252216, 0.3165127879486225, 0.6828470332595281, 0.8616234835635918, 0.13111661706402483, 0.23144352246642616, 0.3857392041107103, 0.019286960205535515, 0.3471652836996393, 0.987515155585546, 0.9787522189861689, 0.07086111205260175, 0.718734136533532, 0.20246032015029072, 0.9302927444371168, 0.609411019877919, 0.384891170449212, 0.9327324654821829, 0.049967810650831224, 0.9037480607369603, 0.9830628289582216, 0.24212740320522388, 0.5972475945728856, 0.14527644192313433, 0.9810201183202741, 0.9786489011744862, 0.9766601422065879, 0.30106996485968635, 0.6930289757147498, 0.4837005721076665, 0.15940132489911737, 0.22536049382289006, 0.1319183378475454, 0.9814236096921286, 0.967364765875268, 0.21816709608397122, 0.7635848362938993, 0.9534812860927796, 0.9603386528441528, 0.9716953746158505, 0.24076883692867584, 0.6286741853137647, 0.13376046496037547, 0.9869561973524231, 0.23918145581094288, 0.12588497674260152, 0.5718774657735326, 0.061144131560692164, 0.9803911957478784, 0.9566195111326108, 0.9710570897407089, 0.9957746729814582, 0.9730750712043227, 0.46640098735181895, 0.06038227068394085, 0.4705652818817459, 0.9956027729998003, 0.9781127575421406, 0.9827454427845244, 0.9911842550639994, 0.9869893170476837, 0.9948787281420188, 0.9637477535281075, 0.2699662441548074, 0.7235095343348839, 0.9518141143360841, 0.2263249547723421, 0.2263249547723421, 0.543179891453621, 0.34938803150242714, 0.43001603877221806, 0.21799424187758276, 0.9761821159580117, 0.15856685758455202, 0.27896021241726743, 0.5579204248345349, 0.9975404540522272, 0.9908670278174121, 0.3518857072713307, 0.4610916164245023, 0.1294292256630182, 0.05662528622757046, 0.9800335002706062, 0.1584128498174868, 0.46890203545976095, 0.3675178115765694, 0.9951570662667796, 0.977660252979274, 0.12788650498129198, 0.8440509328765271, 0.9880381886617251, 0.9911610762239149, 0.8926971416257411, 0.10300351634143166, 0.23909118028077278, 0.07754308549646685, 0.1744719423670504, 0.019385771374116713, 0.14862424720156145, 0.33602003715135637, 0.8941536017338831, 0.952476707924258, 0.18983111004642345, 0.1495639048850609, 0.65578019834219, 0.2224742413368395, 0.7701031430890598, 0.9713342079936207, 0.9564061743613542, 0.9850262055711816, 0.1990741197096661, 0.7962964788386644, 0.6227152880537004, 0.1437035280123924, 0.14805818037640428, 0.004354652364011891, 0.07838374255221403, 0.9309578795627975, 0.7536205415642815, 0.2374420884380613, 0.19710688344554375, 0.5406975709817649, 0.19172144947162179, 0.002154173589568784, 0.0678564680714167, 0.9736280079326323, 0.9682829491885296, 0.9821297647193566, 0.9924157621790389, 0.9644131848130316, 0.6728699796917361, 0.1080521135271401, 0.2161042270542802, 0.9826105110227352, 0.2077717797177843, 0.10388588985889215, 0.6694868457573049, 0.32533513804290515, 0.5170054519286477, 0.11853295727144605, 0.04035164502857738, 0.9742509723901369, 0.34668267201840974, 0.5481334138669451, 0.10306782141087857, 0.16746244261304888, 0.7502317429064589, 0.08038197245426346, 0.9591516764192032, 0.9966547390560033, 0.9105786387976308, 0.1591663765716833, 0.8299389635523486, 0.9760877278950338, 0.7543456789342444, 0.042860549939445707, 0.12429559482439255, 0.0728629348970577, 0.1633310812039648, 0.204163851504956, 0.6226997470901158, 0.9898199931676565, 0.9929971117812566, 0.969173602288541, 0.8785358770312375, 0.28768660091856624, 0.7048321722504873, 0.9566785084790843, 0.9959712748142275, 0.8686194077547854, 0.12608991402892047, 0.47872352927333633, 0.41381186428712124, 0.10548145560259953, 0.1842374075421792, 0.806038657997034, 0.8276883613552022, 0.9518203319623226, 0.26267825768467923, 0.7274167135883425, 0.42823769738656275, 0.13764783130282374, 0.2294130521713729, 0.19882464521518986, 0.9788952509425226, 0.9902657414338993, 0.9275048555742921, 0.954255331787518, 0.9899097087972479, 0.9581459276599051, 0.9826507020643533, 0.9684096829679448, 0.8546858966077868], \"Term\": [\"....\", \".....\", \"......\", \".......\", \".........\", \"a1\", \"a1\", \"access\", \"accessory\", \"activity\", \"ad\", \"airtel\", \"alarm\", \"amazing\", \"amazon\", \"amazon\", \"amazone\", \"amount\", \"amount\", \"android\", \"anyone\", \"anyone\", \"anything\", \"anything\", \"app\", \"app\", \"app\", \"application\", \"application\", \"apps\", \"apps\", \"aspect\", \"atmos\", \"atom\", \"audio\", \"awesome\", \"b\", \"backup\", \"bahut\", \"basis\", \"batter\", \"battery\", \"battery\", \"battery\", \"battry\", \"beast\", \"bed\", \"behavior\", \"bekar\", \"benefit\", \"bettery\", \"bhai\", \"bhi\", \"bill\", \"bit\", \"bluetooth\", \"bluetooth\", \"blur\", \"body\", \"bottom\", \"box\", \"box\", \"brand\", \"brand\", \"brand\", \"brightness\", \"brother\", \"bt\", \"budget\", \"budget\", \"budget\", \"bug\", \"bug\", \"button\", \"button\", \"buy\", \"buying\", \"buying\", \"buying\", \"bye\", \"cable\", \"call\", \"call\", \"call\", \"call\", \"call\", \"caller\", \"cam\", \"camara\", \"camera\", \"camera\", \"camera\", \"camera\", \"capacity\", \"car\", \"card\", \"card\", \"care\", \"cash\", \"cashback\", \"cast\", \"category\", \"cell\", \"center\", \"centre\", \"centre\", \"change\", \"charge\", \"charge\", \"charger\", \"charger\", \"charging\", \"charging\", \"china\", \"chromecast\", \"clarity\", \"clarity\", \"clarity\", \"class\", \"clearity\", \"color\", \"company\", \"company\", \"company\", \"company\", \"company\", \"comparison\", \"complain\", \"complaint\", \"complaint\", \"con\", \"con\", \"concern\", \"condition\", \"condition\", \"connection\", \"connection\", \"connection\", \"connectivity\", \"connectivity\", \"contact\", \"copy\", \"core\", \"cost\", \"cost\", \"cost\", \"cost\", \"couple\", \"cover\", \"cover\", \"cover\", \"coverage\", \"customer\", \"customer\", \"customer\", \"damage\", \"data\", \"data\", \"data\", \"data\", \"date\", \"date\", \"date\", \"day\", \"day\", \"day\", \"day\", \"day\", \"day\", \"daylight\", \"deal\", \"deca\", \"decacore\", \"delivery\", \"depth\", \"design\", \"device\", \"device\", \"device\", \"device\", \"din\", \"discount\", \"display\", \"display\", \"display\", \"display\", \"display\", \"display\", \"doesnt\", \"doesnt\", \"dolby\", \"dont\", \"dont\", \"drain\", \"drain\", \"drainage\", \"dust\", \"ear\", \"earphone\", \"earphone\", \"earphone\", \"effect\", \"effect\", \"effect\", \"ek\", \"etc\", \"everyone\", \"everything\", \"everything\", \"everything\", \"everytime\", \"example\", \"excellent\", \"exchange\", \"expectation\", \"experience\", \"experience\", \"experience\", \"experience\", \"experience\", \"experience\", \"face\", \"facility\", \"facility\", \"fair\", \"fake\", \"fall\", \"fan\", \"feature\", \"feature\", \"feature\", \"feature\", \"feature\", \"finger\", \"fingerprint\", \"fone\", \"fraud\", \"friend\", \"friend\", \"front\", \"front\", \"function\", \"function\", \"functionality\", \"future\", \"g5s\", \"gallery\", \"gallery\", \"gallery\", \"game\", \"game\", \"gaming\", \"gb\", \"gd\", \"gesture\", \"glass\", \"gorilla\", \"gr8\", \"graphic\", \"guard\", \"h\", \"hai\", \"half\", \"hand\", \"hand\", \"hand\", \"handset\", \"hang\", \"hang\", \"hanging\", \"hanging\", \"hardware\", \"hardware\", \"hd\", \"head\", \"headphone\", \"headphone\", \"headset\", \"heat\", \"heat\", \"heating\", \"hi\", \"hi\", \"hi\", \"ho\", \"home\", \"hope\", \"hotspot\", \"hour\", \"hr\", \"hr\", \"hv\", \"hype\", \"i.e\", \"icon\", \"idea\", \"im\", \"image\", \"image\", \"improvement\", \"interface\", \"internet\", \"internet\", \"internet\", \"invoice\", \"iron\", \"issue\", \"issue\", \"issue\", \"issue\", \"issue\", \"item\", \"item\", \"item\", \"jack\", \"jata\", \"jhakas\", \"jio\", \"job\", \"k\", \"k\", \"k4\", \"k4\", \"k5\", \"k6\", \"k8\", \"k8note\", \"ka\", \"kar\", \"ke\", \"key\", \"key\", \"ki\", \"killer\", \"kiya\", \"ko\", \"koi\", \"lack\", \"lag\", \"lag\", \"lag\", \"launch\", \"lenevo\", \"lenova\", \"lenovo\", \"lenovo\", \"lenovo\", \"lenovo\", \"life\", \"life\", \"light\", \"light\", \"limit\", \"list\", \"location\", \"look\", \"look\", \"loss\", \"lot\", \"lot\", \"lot\", \"lot\", \"lover\", \"lte\", \"mah\", \"mah\", \"mah\", \"mail\", \"man\", \"management\", \"manager\", \"manner\", \"mark\", \"mark\", \"material\", \"matter\", \"max\", \"mediatek\", \"memory\", \"mera\", \"mi\", \"min\", \"mistake\", \"mob\", \"mobile\", \"mode\", \"model\", \"model\", \"money\", \"monitor\", \"month\", \"month\", \"month\", \"month\", \"motorola\", \"mp\", \"multimedia\", \"music\", \"music\", \"nahi\", \"navigation\", \"nd\", \"net\", \"network\", \"nhi\", \"nice\", \"note\", \"nothing\", \"nothing\", \"notification\", \"october\", \"offer\", \"offer\", \"office\", \"ok\", \"okay\", \"one\", \"one\", \"option\", \"option\", \"option\", \"oreo\", \"output\", \"overheat\", \"pack\", \"package\", \"packaging\", \"packing\", \"par\", \"pc\", \"performance\", \"performance\", \"performance\", \"performance\", \"ph\", \"phn\", \"phon\", \"phone\", \"phone\", \"phone\", \"phone-\", \"phone.it\", \"photo\", \"photo\", \"pic\", \"pic\", \"picture\", \"picture\", \"piece\", \"pin\", \"place\", \"player\", \"please\", \"please\", \"please\", \"pls\", \"pls\", \"plz\", \"plz\", \"plz\", \"policy\", \"policy\", \"power\", \"power\", \"power\", \"power\", \"prblm\", \"price\", \"price\", \"price\", \"print\", \"prise\", \"problem\", \"problem\", \"process\", \"process\", \"processer\", \"processing\", \"processor\", \"processor\", \"product\", \"protection\", \"provide\", \"purchase\", \"purchase\", \"purchase\", \"purchase\", \"purchase\", \"quality\", \"quality\", \"raha\", \"ram\", \"range\", \"range\", \"rate\", \"rate\", \"rating\", \"rating\", \"rating\", \"rating\", \"reception\", \"recorder\", \"refund\", \"refund\", \"refund\", \"repair\", \"replacement\", \"replacement\", \"request\", \"request\", \"requirement\", \"resolution\", \"response\", \"response\", \"response\", \"rest\", \"restart\", \"result\", \"return\", \"return\", \"review\", \"review\", \"review\", \"review\", \"rha\", \"right\", \"ringtone\", \"ringtone\", \"rock\", \"rom\", \"rupee\", \"sale\", \"sale\", \"sale\", \"scratch\", \"screen\", \"screen\", \"screen\", \"screen\", \"se\", \"second\", \"seller\", \"sensor\", \"series\", \"service\", \"service\", \"service\", \"set\", \"setup\", \"shot\", \"side\", \"signal\", \"sim\", \"sir\", \"slot\", \"slot\", \"smart\", \"smartphone\", \"smartphone\", \"smartphone\", \"software\", \"software\", \"software\", \"someone\", \"sound\", \"sound\", \"sound\", \"speaker\", \"specification\", \"speed\", \"speed\", \"speed\", \"speed\", \"standard\", \"star\", \"star\", \"star\", \"stock\", \"storage\", \"strength\", \"strength\", \"suggestion\", \"super\", \"superb\", \"superb\", \"support\", \"support\", \"support\", \"support\", \"support\", \"support\", \"surprise\", \"switch\", \"system\", \"system\", \"system\", \"team\", \"team\", \"temperature\", \"test\", \"tha\", \"thanks\", \"thanks\", \"thing\", \"thing\", \"thing\", \"thing\", \"thing\", \"this.2\", \"till\", \"till\", \"time\", \"time\", \"time\", \"time\", \"time\", \"toh\", \"tone\", \"top\", \"touch\", \"tray\", \"turbo\", \"turbo\", \"turbo\", \"tv\", \"u\", \"u\", \"u\", \"update\", \"update\", \"update\", \"update\", \"upgrade\", \"usage\", \"usage\", \"usage\", \"use\", \"use\", \"use\", \"v\", \"value\", \"vasool\", \"version\", \"version\", \"vibe\", \"video\", \"video\", \"video\", \"video\", \"voice\", \"voice\", \"voice\", \"volta\", \"volume\", \"warm\", \"warning\", \"warranty\", \"warranty\", \"wastage\", \"waste\", \"way\", \"way\", \"week\", \"week\", \"week\", \"weight\", \"weight\", \"whereas\", \"wire\", \"wise\", \"wise\", \"work\", \"work\", \"work\", \"work\", \"working\", \"worth\", \"wrost\", \"x23\", \"ye\", \"yesterday\", \"zoom\", \"\\ud83d\\udc4d\", \"\\ud83d\\ude0e\"]}, \"R\": 30, \"lambda.step\": 0.01, \"plot.opts\": {\"xlab\": \"PC1\", \"ylab\": \"PC2\"}, \"topic.order\": [7, 6, 8, 4, 9, 3, 2, 5, 10, 1]};\n",
       "\n",
       "function LDAvis_load_lib(url, callback){\n",
       "  var s = document.createElement('script');\n",
       "  s.src = url;\n",
       "  s.async = true;\n",
       "  s.onreadystatechange = s.onload = callback;\n",
       "  s.onerror = function(){console.warn(\"failed to load library \" + url);};\n",
       "  document.getElementsByTagName(\"head\")[0].appendChild(s);\n",
       "}\n",
       "\n",
       "if(typeof(LDAvis) !== \"undefined\"){\n",
       "   // already loaded: just create the visualization\n",
       "   !function(LDAvis){\n",
       "       new LDAvis(\"#\" + \"ldavis_el775581396682746023686598401554\", ldavis_el775581396682746023686598401554_data);\n",
       "   }(LDAvis);\n",
       "}else if(typeof define === \"function\" && define.amd){\n",
       "   // require.js is available: use it to load d3/LDAvis\n",
       "   require.config({paths: {d3: \"https://d3js.org/d3.v5\"}});\n",
       "   require([\"d3\"], function(d3){\n",
       "      window.d3 = d3;\n",
       "      LDAvis_load_lib(\"https://cdn.jsdelivr.net/gh/bmabey/pyLDAvis@3.4.0/pyLDAvis/js/ldavis.v3.0.0.js\", function(){\n",
       "        new LDAvis(\"#\" + \"ldavis_el775581396682746023686598401554\", ldavis_el775581396682746023686598401554_data);\n",
       "      });\n",
       "    });\n",
       "}else{\n",
       "    // require.js not available: dynamically load d3 & LDAvis\n",
       "    LDAvis_load_lib(\"https://d3js.org/d3.v5.js\", function(){\n",
       "         LDAvis_load_lib(\"https://cdn.jsdelivr.net/gh/bmabey/pyLDAvis@3.4.0/pyLDAvis/js/ldavis.v3.0.0.js\", function(){\n",
       "                 new LDAvis(\"#\" + \"ldavis_el775581396682746023686598401554\", ldavis_el775581396682746023686598401554_data);\n",
       "            })\n",
       "         });\n",
       "}\n",
       "</script>"
      ],
      "text/plain": [
       "PreparedData(topic_coordinates=              x         y  topics  cluster       Freq\n",
       "topic                                                \n",
       "6     -0.225043  0.083710       1        1  19.810876\n",
       "5     -0.193122 -0.154399       2        1  16.868533\n",
       "7     -0.143578 -0.236344       3        1  12.440987\n",
       "3     -0.088626  0.178640       4        1   9.141144\n",
       "8     -0.072999  0.236713       5        1   8.681648\n",
       "2      0.095223 -0.101220       6        1   8.565363\n",
       "1      0.048105  0.107899       7        1   8.187492\n",
       "4      0.106773 -0.154795       8        1   6.201383\n",
       "9      0.241222 -0.006576       9        1   5.207764\n",
       "0      0.232045  0.046373      10        1   4.894810, topic_info=         Term         Freq        Total Category  logprob  loglift\n",
       "16      phone  6695.000000  6695.000000  Default  30.0000  30.0000\n",
       "50    product  2069.000000  2069.000000  Default  29.0000  29.0000\n",
       "58     camera  3071.000000  3071.000000  Default  28.0000  28.0000\n",
       "4     battery  2930.000000  2930.000000  Default  27.0000  27.0000\n",
       "12     mobile  1413.000000  1413.000000  Default  26.0000  26.0000\n",
       "..        ...          ...          ...      ...      ...      ...\n",
       "70   function    45.911888   108.626966  Topic10  -4.5384   2.1558\n",
       "951       pic    31.750421    72.498590  Topic10  -4.9072   2.1913\n",
       "647    doesnt    15.797029    25.216074  Topic10  -5.6053   2.5493\n",
       "218      work    38.544204   196.152745  Topic10  -4.7133   1.3899\n",
       "114    superb    18.447124   174.751316  Topic10  -5.4502   0.7685\n",
       "\n",
       "[528 rows x 6 columns], token_table=      Topic      Freq       Term\n",
       "term                            \n",
       "143      10  0.997913       ....\n",
       "103      10  0.997350      .....\n",
       "499      10  0.992374     ......\n",
       "367       5  0.974173    .......\n",
       "2435      4  0.963342  .........\n",
       "...     ...       ...        ...\n",
       "349       9  0.989910         ye\n",
       "1228      3  0.958146  yesterday\n",
       "2323      5  0.982651       zoom\n",
       "1292     10  0.968410          👍\n",
       "6429      4  0.854686          😎\n",
       "\n",
       "[684 rows x 3 columns], R=30, lambda_step=0.01, plot_opts={'xlab': 'PC1', 'ylab': 'PC2'}, topic_order=[7, 6, 8, 4, 9, 3, 2, 5, 10, 1])"
      ]
     },
     "execution_count": 28,
     "metadata": {},
     "output_type": "execute_result"
    }
   ],
   "source": [
    "# Visualization\n",
    "import pyLDAvis\n",
    "import pyLDAvis.gensim\n",
    "\n",
    "pyLDAvis.enable_notebook()\n",
    "# vis = pyLDAvis.gensim_models.prepare(lda_model,corpus,id2word)\n",
    "vis = pyLDAvis.gensim.prepare(lda_model,corpus,id2word)\n",
    "vis"
   ]
  },
  {
   "cell_type": "markdown",
   "metadata": {
    "id": "OHHqINvMKGgz"
   },
   "source": [
    "## Task 8. Analyze the topics, which pairs of topics can be combined?\n",
    " - you can assume that if a pair of topics has very similar top terms, they are very close and can be combined"
   ]
  },
  {
   "cell_type": "markdown",
   "metadata": {
    "id": "dPODBz_eKGg0"
   },
   "source": [
    "### Looking at the topics and each terms following can be combined -\n",
    "\n",
    "** Topic possibly talks about 'pricing'\n",
    " Topic closely talks about 'battery related issues'\n",
    " Topic talks about 'performance'**"
   ]
  },
  {
   "cell_type": "markdown",
   "metadata": {
    "id": "WVx3AmzoKGg0"
   },
   "source": [
    "## Task 9. Create topic model using LDA with what you think is the optimal number of topics\n",
    "\n",
    " - is the coherence better now?"
   ]
  },
  {
   "cell_type": "code",
   "execution_count": 29,
   "metadata": {
    "colab": {
     "base_uri": "https://localhost:8080/"
    },
    "collapsed": true,
    "executionInfo": {
     "elapsed": 51553,
     "status": "ok",
     "timestamp": 1686987788024,
     "user": {
      "displayName": "Nisarg Gandhewar",
      "userId": "00173707501276252012"
     },
     "user_tz": -330
    },
    "id": "lRQ_68unKGg1",
    "outputId": "bf6485da-72b2-42c4-a705-550e53e2219b"
   },
   "outputs": [
    {
     "name": "stderr",
     "output_type": "stream",
     "text": [
      "/usr/local/lib/python3.10/dist-packages/ipykernel/ipkernel.py:283: DeprecationWarning: `should_run_async` will not call `transform_cell` automatically in the future. Please pass the result to `transformed_cell` argument and any exception that happen during thetransform in `preprocessing_exc_tuple` in IPython 7.17 and above.\n",
      "  and should_run_async(code)\n"
     ]
    }
   ],
   "source": [
    "# Build LDA model\n",
    "lda_model6 = gensim.models.ldamodel.LdaModel(corpus=corpus,\n",
    "                                           id2word=id2word,\n",
    "                                           num_topics=6,\n",
    "                                           passes=10,\n",
    "                                           )"
   ]
  },
  {
   "cell_type": "markdown",
   "metadata": {
    "id": "eFz9KyUHKGg1"
   },
   "source": [
    "Printing the coherence of the model"
   ]
  },
  {
   "cell_type": "code",
   "execution_count": 30,
   "metadata": {
    "colab": {
     "base_uri": "https://localhost:8080/"
    },
    "executionInfo": {
     "elapsed": 1625,
     "status": "ok",
     "timestamp": 1686987789603,
     "user": {
      "displayName": "Nisarg Gandhewar",
      "userId": "00173707501276252012"
     },
     "user_tz": -330
    },
    "id": "Obd_V_GZKGg1",
    "outputId": "83e7e766-2057-4468-e96f-5e36926d85ee"
   },
   "outputs": [
    {
     "name": "stderr",
     "output_type": "stream",
     "text": [
      "/usr/local/lib/python3.10/dist-packages/ipykernel/ipkernel.py:283: DeprecationWarning: `should_run_async` will not call `transform_cell` automatically in the future. Please pass the result to `transformed_cell` argument and any exception that happen during thetransform in `preprocessing_exc_tuple` in IPython 7.17 and above.\n",
      "  and should_run_async(code)\n"
     ]
    },
    {
     "name": "stdout",
     "output_type": "stream",
     "text": [
      "\n",
      "Coherence Score:  0.5535012404948645\n"
     ]
    }
   ],
   "source": [
    "# Compute Coherence Score\n",
    "coherence_model_lda = CoherenceModel(model=lda_model6, texts=reviews_sw_removed, dictionary=id2word, coherence='c_v')\n",
    "coherence_lda = coherence_model_lda.get_coherence()\n",
    "print('\\nCoherence Score: ', coherence_lda)"
   ]
  },
  {
   "cell_type": "code",
   "execution_count": 31,
   "metadata": {
    "colab": {
     "base_uri": "https://localhost:8080/",
     "height": 916
    },
    "executionInfo": {
     "elapsed": 3238,
     "status": "ok",
     "timestamp": 1686987792838,
     "user": {
      "displayName": "Nisarg Gandhewar",
      "userId": "00173707501276252012"
     },
     "user_tz": -330
    },
    "id": "2nDRe0FLqMdU",
    "outputId": "10afaa40-50f5-46a1-a774-8b8f89ef3fda"
   },
   "outputs": [
    {
     "name": "stderr",
     "output_type": "stream",
     "text": [
      "/usr/local/lib/python3.10/dist-packages/ipykernel/ipkernel.py:283: DeprecationWarning: `should_run_async` will not call `transform_cell` automatically in the future. Please pass the result to `transformed_cell` argument and any exception that happen during thetransform in `preprocessing_exc_tuple` in IPython 7.17 and above.\n",
      "  and should_run_async(code)\n"
     ]
    },
    {
     "data": {
      "text/html": [
       "\n",
       "<link rel=\"stylesheet\" type=\"text/css\" href=\"https://cdn.jsdelivr.net/gh/bmabey/pyLDAvis@3.4.0/pyLDAvis/js/ldavis.v1.0.0.css\">\n",
       "\n",
       "\n",
       "<div id=\"ldavis_el775581396682735512163980865638\" style=\"background-color:white;\"></div>\n",
       "<script type=\"text/javascript\">\n",
       "\n",
       "var ldavis_el775581396682735512163980865638_data = {\"mdsDat\": {\"x\": [-0.21010368065951834, -0.17588542646378655, -0.15054597152644764, 0.11102924778755295, 0.22565782048275387, 0.19984801037944602], \"y\": [0.04008839245282432, 0.12767209459773707, -0.09905400477468396, -0.27195361248561434, 0.21474271399022363, -0.011495583780486486], \"topics\": [1, 2, 3, 4, 5, 6], \"cluster\": [1, 1, 1, 1, 1, 1], \"Freq\": [27.279401232400435, 26.338678143244653, 21.690321907755614, 9.00619549612449, 8.097437333146388, 7.58796588732842]}, \"tinfo\": {\"Term\": [\"product\", \"battery\", \"mobile\", \"phone\", \"problem\", \"price\", \"camera\", \"quality\", \"note\", \"network\", \"feature\", \"heating\", \"performance\", \"issue\", \"k8\", \"backup\", \"range\", \"service\", \"speaker\", \"money\", \"amazon\", \"day\", \"time\", \"hai\", \"sim\", \"sound\", \"lenovo\", \"screen\", \"h\", \"life\", \"battery\", \"backup\", \"life\", \"processor\", \"drain\", \"usage\", \"game\", \"bit\", \"mah\", \"core\", \"fast\", \"gaming\", \"deca\", \"hr\", \"storage\", \"management\", \"hanging\", \"improvement\", \"strength\", \"draining\", \"processing\", \"drainage\", \"word\", \"standby\", \"focus\", \"night\", \"bokeh\", \"mediatek\", \"max\", \"idea\", \"performance\", \"lag\", \"charge\", \"hour\", \"camera\", \"issue\", \"use\", \"gb\", \"mode\", \"charging\", \"turbo\", \"day\", \"depth\", \"mark\", \"ram\", \"phone\", \"device\", \"heating\", \"time\", \"update\", \"quality\", \"charger\", \"month\", \"problem\", \"service\", \"handset\", \"customer\", \"replacement\", \"return\", \"purchase\", \"center\", \"piece\", \"policy\", \"care\", \"refund\", \"message\", \"ok\", \"centre\", \"pls\", \"item\", \"warranty\", \"number\", \"date\", \"request\", \"help\", \"cable\", \"solution\", \"tv\", \"team\", \"someone\", \"order\", \"head\", \"future\", \"defect\", \"today\", \"amazon\", \"please\", \"phone\", \"support\", \"time\", \"month\", \"lenovo\", \"day\", \"software\", \"call\", \"superb\", \"issue\", \"charger\", \"lot\", \"experience\", \"problem\", \"update\", \"screen\", \"data\", \"network\", \"note\", \"option\", \"money\", \"device\", \"k8\", \"....\", \"music\", \"value\", \"glass\", \"dolby\", \"gallery\", \"key\", \"worth\", \"killer\", \"atmos\", \"stock\", \"cam\", \"pic\", \"recording\", \"recorder\", \"google\", \"gud\", \"player\", \"facility\", \"finger\", \"sound\", \"print\", \"k5\", \"android\", \"buying\", \"setting\", \"lock\", \"ui\", \"hd\", \".......\", \"file\", \"sensor\", \"feature\", \"video\", \"waste\", \"gorilla\", \"money\", \"photo\", \"....\", \"screen\", \"card\", \"memory\", \"cost\", \"note\", \"camera\", \".....\", \"quality\", \"display\", \"option\", \"phone\", \"call\", \"app\", \"speed\", \"k8\", \"speaker\", \"lenovo\", \"mode\", \"price\", \"result\", \"thanks\", \"accessory\", \"comparison\", \"product\", \"nd\", \".........\", \"love\", \"packing\", \"category\", \"wrost\", \"benefit\", \"wire\", \"buget\", \"........\", \"provide\", \"earphone\", \"bettry\", \"mia1\", \"stick\", \"website\", \"cashback\", \"eye\", \"example\", \"prize\", \"man\", \"gadget\", \"mi4\", \"band\", \"range\", \"fine\", \"speaker\", \"......\", \"everything\", \"segment\", \"specification\", \"delivery\", \"quality\", \"rest\", \"camera\", \"feature\", \"set\", \"r\", \"amazon\", \"build\", \"complaint\", \"work\", \"one\", \"mobile\", \"jio\", \"super\", \"plz\", \"awesome\", \"bill\", \"nice\", \"sir\", \"invoice\", \"ka\", \"ki\", \"net\", \"volta\", \"rha\", \"camara\", \"protection\", \"coverage\", \"bed\", \"copy\", \"thik\", \"phone.it\", \"mast\", \"msg\", \"india\", \"round\", \"position\", \"awsm\", \"maine\", \"awsome\", \"suggest\", \"sim\", \"network\", \"problem\", \"mob\", \"heating\", \"offer\", \"signal\", \"heat\", \"work\", \"slot\", \"mail\", \"par\", \"condition\", \"charger\", \"display\", \"hai\", \"h\", \"ho\", \"excellent\", \"class\", \"cell\", \"headset\", \"bhi\", \"weight\", \"ye\", \"package\", \"ko\", \"se\", \"half\", \"raha\", \"cash\", \"tha\", \"bahut\", \"jata\", \"v\", \"nahi\", \"nhi\", \"hota\", \"china\", \"a1\", \"cool\", \"ke\", \"bekar\", \"description\", \"icon\", \"hi\", \"k8\", \"k\", \"smartphone\", \"note\", \"complain\", \"headphone\", \"mi\", \"lenovo\", \"box\", \"charge\", \".....\"], \"Freq\": [1946.0, 2874.0, 1367.0, 6504.0, 1368.0, 803.0, 3019.0, 1259.0, 1037.0, 496.0, 790.0, 523.0, 837.0, 1330.0, 533.0, 540.0, 322.0, 461.0, 322.0, 571.0, 505.0, 843.0, 882.0, 199.0, 249.0, 321.0, 815.0, 510.0, 160.0, 313.0, 2873.8009907530777, 540.1795799275831, 312.28572247565324, 295.07561248560705, 203.1210938002602, 202.7494556455131, 186.32320301466825, 159.9789017113223, 113.86983476254163, 103.425213254717, 61.19014304550661, 56.74028215165384, 55.72539367768897, 183.99173755987988, 51.77548997875854, 49.173655091452915, 44.7335465784004, 42.73934074284097, 38.77467193937896, 36.89040608577807, 34.887356234030065, 33.72852819224246, 30.909886734169092, 30.651849883772393, 30.507737559489758, 56.721407115213566, 29.18783641001062, 28.47476740344657, 25.344464932547673, 23.870949853491936, 779.9814621407006, 88.8675948042475, 246.08823344022807, 359.8638546314502, 1730.1220186611356, 804.7172447643757, 207.08432761054732, 81.2732821281519, 225.93624812192198, 143.5886381520249, 138.04618738677985, 424.2797007232383, 121.59811171409856, 117.90046588334205, 135.72310340669068, 1625.9335116387333, 226.02853350823753, 253.30709060109186, 319.9730059911149, 186.5462817594878, 350.81556228823905, 156.97383095547673, 142.35258239987732, 158.18879927393962, 460.65970492377426, 196.79488161106696, 192.27043188465652, 177.43115363845857, 172.08711820275988, 134.3500824245584, 131.08493285009357, 107.54056555043988, 94.6532767922148, 94.39265066738382, 95.67610977098907, 83.76445525569001, 80.90536977116992, 76.48303869588396, 71.71628921198172, 68.33255631109651, 66.27900237512186, 62.90696154594188, 61.76945694628322, 57.8298098878092, 55.31568625380241, 54.70628880456614, 55.00267986295654, 53.35315076465962, 53.1888107066326, 42.828324996575994, 42.37707451998583, 37.18869483318752, 36.11997329779197, 36.48315928400044, 53.342943742098726, 445.2557421210554, 155.7684296944841, 3751.00927202092, 122.7246442287659, 548.8528995646449, 312.4603232097802, 491.5300456381769, 418.4448800937264, 198.58290230329888, 257.7242311906833, 127.26985235951999, 524.3699489220937, 231.97259660739056, 159.20636150852474, 146.85852223259255, 399.8900734557538, 183.52267457136537, 197.10889417651424, 111.46764887792831, 166.35482850562283, 215.26878535435029, 138.80539127595173, 147.66921916946615, 136.5187169079934, 134.12280533812088, 130.57704604273064, 224.14840406139496, 214.12626856733488, 175.20028459560848, 155.33426470291758, 106.971562812599, 101.20627333052381, 97.4524279114329, 97.34038512533805, 87.45408699782563, 148.23900439720978, 69.38511623791257, 68.89433639974649, 59.989398552640665, 57.61731815660746, 53.2524660182656, 50.56997490732732, 49.28889153362687, 48.67180102313538, 46.69049676205798, 316.55384637306963, 44.354843786118344, 43.43533612182734, 157.28421506245235, 40.61404329158107, 38.09103347294393, 36.803715653303605, 34.51217127161301, 33.19333338715873, 31.88298533811368, 28.753935974282864, 132.3264119520558, 680.2628263250092, 196.48201555993228, 221.84661294463973, 81.75550209938851, 423.040416260365, 142.8566171265402, 358.9075969602517, 312.99254652176194, 110.42709420293681, 91.42187981404557, 73.25951643361043, 488.2795018796901, 992.4928828273452, 158.2234850784788, 515.7070229243466, 195.70997226016064, 185.48728877517067, 1127.5640727464706, 194.62366325758936, 124.31983250806755, 132.17908051815346, 145.40118386024304, 122.48975897899274, 135.18767258782984, 114.66183828432607, 802.9666502216251, 48.07764787562552, 98.98899660945165, 29.128839086938722, 22.505427250477396, 1879.398650642224, 20.460890974685803, 20.02895633077255, 19.365754287810468, 18.850682969586796, 17.273645369718114, 16.179811286808782, 15.617982373681157, 14.048097136690773, 13.245514629530263, 12.848671179746354, 12.654481077907798, 92.52847098333233, 11.336235745214196, 10.794680906102633, 10.96219522417978, 10.114924937739262, 9.202936576287275, 9.222138945769156, 9.159537602202443, 8.550988810811123, 8.169090349750155, 7.784596799855786, 7.592597022906392, 7.399494724167977, 244.39189201878764, 29.00336962356932, 196.60412136133667, 61.30369243951987, 128.44908530917436, 27.66262953467468, 60.01878769689679, 109.40200535433486, 392.487556840285, 28.17687660632099, 295.93746169716843, 106.90843131814985, 30.385489466417873, 28.532033049520585, 59.87845971710162, 18.02598931205422, 20.249326380540822, 21.001307875163224, 18.180826239414216, 1366.7901507698587, 128.98532492922763, 89.0362551304227, 69.85180764342536, 61.77910950633179, 52.30960680295538, 40.88108670442311, 30.801882688593736, 30.3584704697857, 30.282917000403266, 29.768199271869804, 28.16081302324422, 114.34501649201945, 23.39585285564626, 21.743057440141992, 20.386888048693393, 19.6628855226969, 19.200865321730898, 16.323751028945072, 16.01864066490467, 15.253711826651951, 14.608524832515933, 12.51478855791062, 12.278539638021957, 11.29157054400591, 10.65190523574804, 10.426595473652126, 10.203400593340278, 9.224504773119408, 9.21834622413069, 190.54358023395267, 329.873017765969, 809.6391959175468, 19.666385788520195, 269.84603943268155, 31.390731283197706, 52.12556825170934, 98.45603950223722, 55.25379022513891, 35.80868541921905, 19.09385743144583, 17.923296417456086, 21.249910347873076, 26.7134497969315, 25.543136911426394, 199.1001950693191, 159.43992922160024, 83.53880866087589, 81.58501622381793, 64.83046714465824, 57.55394898997311, 45.19731008008527, 44.508957949561655, 40.51861568455249, 34.56759848425419, 33.51646739178581, 31.560359087079785, 29.12569083892384, 28.917613075959082, 28.657811168629948, 28.413597189727096, 27.648889631755004, 27.173243899267828, 27.422083413017937, 26.29885970169021, 25.742200454550805, 23.466863590558766, 23.22257520626963, 23.009937013170614, 22.921854986821504, 22.755771313852414, 22.72502793830762, 22.696927504088084, 21.470528323781302, 20.647466791504577, 47.7648446465716, 253.68712387362817, 48.4573448773805, 73.73905504656264, 296.2263201301009, 28.538173507935788, 55.53225543748308, 37.05160060374018, 91.13930646878366, 36.92822717260973, 35.982553314299736, 30.227327687556222], \"Total\": [1946.0, 2874.0, 1367.0, 6504.0, 1368.0, 803.0, 3019.0, 1259.0, 1037.0, 496.0, 790.0, 523.0, 837.0, 1330.0, 533.0, 540.0, 322.0, 461.0, 322.0, 571.0, 505.0, 843.0, 882.0, 199.0, 249.0, 321.0, 815.0, 510.0, 160.0, 313.0, 2874.557773527365, 540.9346269247288, 313.0419821041859, 295.9389744023258, 203.87744669956896, 203.50521175268358, 187.07988985927867, 160.7430143479224, 114.62497620813252, 104.18216405274889, 61.946318228457365, 57.49643017274961, 56.48022118267002, 186.64229450018004, 52.53336818082494, 49.93049496014606, 45.49442438550807, 43.49839316227078, 39.538429822119404, 37.645692213549765, 35.642634067018896, 34.4869925345845, 31.66963615480203, 31.40553937576012, 31.264883288044956, 58.184200277506086, 29.9443886788693, 29.23038739145201, 26.106939769938382, 24.63605544346663, 837.8449820353584, 96.04349426776056, 283.03564549329275, 431.9041302886129, 3019.004391227694, 1330.0170522532883, 283.91079702287163, 98.7787220486282, 341.1973990470864, 198.7568501616585, 194.2414134856408, 843.3281684820789, 167.37267651452132, 161.34344532597564, 197.20937457067905, 6504.954673428035, 414.49147576629537, 523.7642573316641, 882.6589912705069, 370.69042409644516, 1259.4619626284627, 416.40907550846595, 456.83644652355554, 1368.1878701005148, 461.41831851851776, 197.55691037661, 193.0291518274733, 178.19184934608398, 172.8465094142611, 135.11121226344406, 131.84268396584287, 108.30025159274003, 95.41472250286334, 95.15211048557354, 96.45075191078399, 84.52380184442258, 81.66437503812327, 77.24050505698774, 72.47707600661181, 69.0924733312044, 67.03745467148092, 63.665707842914365, 62.529488041722, 58.588715747549394, 56.07518522302736, 55.465071850558786, 55.76750957825068, 54.11320376241085, 53.948529441641384, 43.593839899240784, 43.137177083764946, 37.946794193788946, 36.88234241059018, 37.259143417205834, 55.30434630676906, 505.7469591493173, 173.75006987924237, 6504.954673428035, 147.67079958410784, 882.6589912705069, 456.83644652355554, 815.377014326687, 843.3281684820789, 309.44556627875653, 452.9558109608664, 174.98634865348623, 1330.0170522532883, 416.40907550846595, 273.14598270535726, 245.46118729489336, 1368.1878701005148, 370.69042409644516, 510.7041081734474, 168.34682201046866, 496.84978078924405, 1037.624965163946, 324.89959852209284, 571.311608968096, 414.49147576629537, 533.7303012579865, 591.579770056304, 224.9041247076086, 214.88046816448124, 175.95665272721837, 156.09224786747944, 107.72628971737767, 101.96193637246321, 98.20689672030602, 98.09567396209819, 88.2091989038197, 149.62397733265198, 70.14301151151506, 69.64918087662682, 60.74349452480807, 58.370873126089805, 54.00817995423008, 51.325364840079125, 50.04192798699794, 49.43031957506476, 47.44580557236987, 321.9344855331877, 45.10936108302285, 44.19203656213006, 160.04593623641762, 41.37113737924578, 38.8454383419943, 37.561778006262806, 35.267939686026885, 33.94961875952137, 32.64712361325879, 29.509123217887485, 140.106001754312, 790.5461764666569, 220.8351268689403, 269.5796724701246, 90.48266327900677, 571.311608968096, 172.29462886624538, 591.579770056304, 510.7041081734474, 140.17927799074764, 111.99700807192393, 84.12070996914795, 1037.624965163946, 3019.004391227694, 242.93249419846802, 1259.4619626284627, 332.80918935920346, 324.89959852209284, 6504.954673428035, 452.9558109608664, 199.6288046117869, 241.07112319924985, 533.7303012579865, 322.29033833548203, 815.377014326687, 341.1973990470864, 803.7375631909081, 48.846349661740966, 101.03460310305232, 29.89967603555909, 23.274594306696354, 1946.8546029154868, 21.229108572128048, 20.794400863602792, 20.13191321446754, 19.61738290715249, 18.03960747063513, 16.945333038381573, 16.410474634411173, 14.815537077991864, 14.010396345965198, 13.616505598496447, 13.431611730841768, 98.59632023224316, 12.104775490454392, 11.564655980771049, 11.782099749191632, 10.889827924955457, 9.967644627854982, 9.990191018335043, 9.95360194369553, 9.316372049811395, 8.933688704299762, 8.549557420749935, 8.359141823868079, 8.170365366265756, 322.06228690126056, 34.6067313325313, 322.29033833548203, 88.37190544243636, 219.63346887177394, 37.41912011398989, 98.10173764496014, 223.4267567596247, 1259.4619626284627, 42.76107411051035, 3019.004391227694, 790.5461764666569, 81.29030477613476, 71.98834387817693, 505.7469591493173, 29.326263247066535, 55.47051719486981, 185.96257863175228, 55.89948173031804, 1367.5582904602938, 129.75253861518456, 89.79789313539177, 70.61725501411698, 62.54135388930335, 53.07223214343031, 41.65051434938872, 31.568700600778204, 31.120139509912928, 31.05099799478674, 30.562047935731325, 28.932919091111003, 117.88865816267614, 24.207695884636944, 22.50838113368948, 21.16589897182975, 20.431611792712893, 19.96542414876263, 17.0862941092366, 16.80441524327989, 16.0278772700944, 15.37188039986345, 13.27882654749978, 13.045458366400593, 12.070422246239175, 11.415437831724486, 11.190926847205175, 10.995558837705751, 9.98564575454941, 9.985157787390136, 249.04885597670196, 496.84978078924405, 1368.1878701005148, 23.515034270541033, 523.7642573316641, 46.74668006532473, 96.8221129166618, 318.66709702457587, 185.96257863175228, 90.61876011987528, 31.538906678850175, 28.783651229218133, 87.4363230736194, 416.40907550846595, 332.80918935920346, 199.86271305117222, 160.20218546869742, 84.30117812874879, 82.34897231696216, 65.59678407175998, 58.319787079095065, 45.96536005279344, 45.27159166942654, 41.285448756646005, 35.329647398544076, 34.28129626068139, 32.323198881430464, 29.887920148766366, 29.68669814652336, 29.420168937981156, 29.176427550251557, 28.411784870447356, 27.93535890351821, 28.21847245505805, 27.06307205521085, 26.506364158806736, 24.22879576440104, 23.986232062232812, 23.776827678060137, 23.688130562027226, 23.519094000525467, 23.487509223605663, 23.459002339542046, 22.235572964019724, 21.422988700698298, 54.49983317960664, 533.7303012579865, 65.22191275561829, 122.26444020444328, 1037.624965163946, 33.9336576513372, 119.53126645510825, 71.81364033900863, 815.377014326687, 129.3150245420232, 283.03564549329275, 242.93249419846802], \"Category\": [\"Default\", \"Default\", \"Default\", \"Default\", \"Default\", \"Default\", \"Default\", \"Default\", \"Default\", \"Default\", \"Default\", \"Default\", \"Default\", \"Default\", \"Default\", \"Default\", \"Default\", \"Default\", \"Default\", \"Default\", \"Default\", \"Default\", \"Default\", \"Default\", \"Default\", \"Default\", \"Default\", \"Default\", \"Default\", \"Default\", \"Topic1\", \"Topic1\", \"Topic1\", \"Topic1\", \"Topic1\", \"Topic1\", \"Topic1\", \"Topic1\", \"Topic1\", \"Topic1\", \"Topic1\", \"Topic1\", \"Topic1\", \"Topic1\", \"Topic1\", \"Topic1\", \"Topic1\", \"Topic1\", \"Topic1\", \"Topic1\", \"Topic1\", \"Topic1\", \"Topic1\", \"Topic1\", \"Topic1\", \"Topic1\", \"Topic1\", \"Topic1\", \"Topic1\", \"Topic1\", \"Topic1\", \"Topic1\", \"Topic1\", \"Topic1\", \"Topic1\", \"Topic1\", \"Topic1\", \"Topic1\", \"Topic1\", \"Topic1\", \"Topic1\", \"Topic1\", \"Topic1\", \"Topic1\", \"Topic1\", \"Topic1\", \"Topic1\", \"Topic1\", \"Topic1\", \"Topic1\", \"Topic1\", \"Topic1\", \"Topic1\", \"Topic1\", \"Topic2\", \"Topic2\", \"Topic2\", \"Topic2\", \"Topic2\", \"Topic2\", \"Topic2\", \"Topic2\", \"Topic2\", \"Topic2\", \"Topic2\", \"Topic2\", \"Topic2\", \"Topic2\", \"Topic2\", \"Topic2\", \"Topic2\", \"Topic2\", \"Topic2\", \"Topic2\", \"Topic2\", \"Topic2\", \"Topic2\", \"Topic2\", \"Topic2\", \"Topic2\", \"Topic2\", \"Topic2\", \"Topic2\", \"Topic2\", \"Topic2\", \"Topic2\", \"Topic2\", \"Topic2\", \"Topic2\", \"Topic2\", \"Topic2\", \"Topic2\", \"Topic2\", \"Topic2\", \"Topic2\", \"Topic2\", \"Topic2\", \"Topic2\", \"Topic2\", \"Topic2\", \"Topic2\", \"Topic2\", \"Topic2\", \"Topic2\", \"Topic2\", \"Topic2\", \"Topic2\", \"Topic2\", \"Topic2\", \"Topic2\", \"Topic2\", \"Topic3\", \"Topic3\", \"Topic3\", \"Topic3\", \"Topic3\", \"Topic3\", \"Topic3\", \"Topic3\", \"Topic3\", \"Topic3\", \"Topic3\", \"Topic3\", \"Topic3\", \"Topic3\", \"Topic3\", \"Topic3\", \"Topic3\", \"Topic3\", \"Topic3\", \"Topic3\", \"Topic3\", \"Topic3\", \"Topic3\", \"Topic3\", \"Topic3\", \"Topic3\", \"Topic3\", \"Topic3\", \"Topic3\", \"Topic3\", \"Topic3\", \"Topic3\", \"Topic3\", \"Topic3\", \"Topic3\", \"Topic3\", \"Topic3\", \"Topic3\", \"Topic3\", \"Topic3\", \"Topic3\", \"Topic3\", \"Topic3\", \"Topic3\", \"Topic3\", \"Topic3\", \"Topic3\", \"Topic3\", \"Topic3\", \"Topic3\", \"Topic3\", \"Topic3\", \"Topic3\", \"Topic3\", \"Topic3\", \"Topic3\", \"Topic4\", \"Topic4\", \"Topic4\", \"Topic4\", \"Topic4\", \"Topic4\", \"Topic4\", \"Topic4\", \"Topic4\", \"Topic4\", \"Topic4\", \"Topic4\", \"Topic4\", \"Topic4\", \"Topic4\", \"Topic4\", \"Topic4\", \"Topic4\", \"Topic4\", \"Topic4\", \"Topic4\", \"Topic4\", \"Topic4\", \"Topic4\", \"Topic4\", \"Topic4\", \"Topic4\", \"Topic4\", \"Topic4\", \"Topic4\", \"Topic4\", \"Topic4\", \"Topic4\", \"Topic4\", \"Topic4\", \"Topic4\", \"Topic4\", \"Topic4\", \"Topic4\", \"Topic4\", \"Topic4\", \"Topic4\", \"Topic4\", \"Topic4\", \"Topic4\", \"Topic4\", \"Topic4\", \"Topic4\", \"Topic4\", \"Topic5\", \"Topic5\", \"Topic5\", \"Topic5\", \"Topic5\", \"Topic5\", \"Topic5\", \"Topic5\", \"Topic5\", \"Topic5\", \"Topic5\", \"Topic5\", \"Topic5\", \"Topic5\", \"Topic5\", \"Topic5\", \"Topic5\", \"Topic5\", \"Topic5\", \"Topic5\", \"Topic5\", \"Topic5\", \"Topic5\", \"Topic5\", \"Topic5\", \"Topic5\", \"Topic5\", \"Topic5\", \"Topic5\", \"Topic5\", \"Topic5\", \"Topic5\", \"Topic5\", \"Topic5\", \"Topic5\", \"Topic5\", \"Topic5\", \"Topic5\", \"Topic5\", \"Topic5\", \"Topic5\", \"Topic5\", \"Topic5\", \"Topic5\", \"Topic5\", \"Topic6\", \"Topic6\", \"Topic6\", \"Topic6\", \"Topic6\", \"Topic6\", \"Topic6\", \"Topic6\", \"Topic6\", \"Topic6\", \"Topic6\", \"Topic6\", \"Topic6\", \"Topic6\", \"Topic6\", \"Topic6\", \"Topic6\", \"Topic6\", \"Topic6\", \"Topic6\", \"Topic6\", \"Topic6\", \"Topic6\", \"Topic6\", \"Topic6\", \"Topic6\", \"Topic6\", \"Topic6\", \"Topic6\", \"Topic6\", \"Topic6\", \"Topic6\", \"Topic6\", \"Topic6\", \"Topic6\", \"Topic6\", \"Topic6\", \"Topic6\", \"Topic6\", \"Topic6\", \"Topic6\", \"Topic6\"], \"logprob\": [30.0, 29.0, 28.0, 27.0, 26.0, 25.0, 24.0, 23.0, 22.0, 21.0, 20.0, 19.0, 18.0, 17.0, 16.0, 15.0, 14.0, 13.0, 12.0, 11.0, 10.0, 9.0, 8.0, 7.0, 6.0, 5.0, 4.0, 3.0, 2.0, 1.0, -2.1197, -3.7912, -4.3392, -4.3959, -4.7693, -4.7711, -4.8556, -5.0081, -5.348, -5.4442, -5.9691, -6.0446, -6.0627, -4.8682, -6.1362, -6.1877, -6.2824, -6.328, -6.4253, -6.4751, -6.531, -6.5648, -6.652, -6.6604, -6.6651, -6.0449, -6.7093, -6.7341, -6.8505, -6.9104, -3.4238, -5.5959, -4.5774, -4.1974, -2.6271, -3.3926, -4.75, -5.6853, -4.6628, -5.1161, -5.1555, -4.0327, -5.2824, -5.3133, -5.1725, -2.6893, -4.6624, -4.5485, -4.3149, -4.8544, -4.2228, -5.027, -5.1248, -5.0193, -3.9153, -4.7658, -4.7891, -4.8694, -4.9, -5.1476, -5.1722, -5.3701, -5.4978, -5.5005, -5.487, -5.62, -5.6547, -5.7109, -5.7753, -5.8236, -5.8541, -5.9063, -5.9246, -5.9905, -6.0349, -6.046, -6.0406, -6.0711, -6.0742, -6.2908, -6.3014, -6.432, -6.4612, -6.4512, -6.0713, -3.9494, -4.9996, -1.8182, -5.2381, -3.7402, -4.3035, -3.8505, -4.0115, -4.7568, -4.4961, -5.2017, -3.7858, -4.6014, -4.9778, -5.0585, -4.0568, -4.8357, -4.7642, -5.3343, -4.9339, -4.6761, -5.1149, -5.053, -5.1315, -5.1492, -5.176, -4.4415, -4.4873, -4.6879, -4.8082, -5.1813, -5.2367, -5.2745, -5.2756, -5.3827, -4.855, -5.6142, -5.6213, -5.7597, -5.8, -5.8788, -5.9305, -5.9561, -5.9687, -6.0103, -4.0963, -6.0616, -6.0826, -4.7958, -6.1497, -6.2139, -6.2482, -6.3125, -6.3515, -6.3918, -6.4951, -4.9686, -3.3313, -4.5733, -4.4518, -5.4501, -3.8064, -4.892, -3.9708, -4.1076, -5.1495, -5.3383, -5.5598, -3.6629, -2.9536, -4.7898, -3.6083, -4.5772, -4.6308, -2.826, -4.5828, -5.031, -4.9697, -4.8743, -5.0458, -4.9472, -5.1118, -2.2866, -5.1021, -4.3799, -5.6031, -5.8611, -1.4362, -5.9564, -5.9777, -6.0114, -6.0383, -6.1257, -6.1911, -6.2265, -6.3324, -6.3912, -6.4216, -6.4369, -4.4474, -6.5469, -6.5958, -6.5804, -6.6609, -6.7554, -6.7533, -6.7601, -6.8288, -6.8745, -6.9227, -6.9477, -6.9735, -3.4761, -5.6075, -3.6937, -4.859, -4.1193, -5.6548, -4.8802, -4.2798, -3.0024, -5.6364, -3.2847, -4.3029, -5.5609, -5.6238, -4.8826, -6.0831, -5.9668, -5.9303, -6.0745, -1.6483, -4.0088, -4.3795, -4.6221, -4.7449, -4.9113, -5.1578, -5.4409, -5.4554, -5.4579, -5.4751, -5.5306, -4.1293, -5.716, -5.7892, -5.8536, -5.8898, -5.9136, -6.0759, -6.0948, -6.1437, -6.1869, -6.3416, -6.3607, -6.4445, -6.5028, -6.5242, -6.5458, -6.6466, -6.6473, -3.6186, -3.0698, -2.1719, -5.8896, -3.2707, -5.422, -4.9149, -4.2789, -4.8566, -5.2903, -5.9191, -5.9824, -5.8122, -5.5833, -5.6281, -3.5097, -3.7319, -4.3782, -4.4019, -4.6318, -4.7508, -4.9925, -5.0078, -5.1018, -5.2606, -5.2915, -5.3516, -5.4319, -5.4391, -5.4481, -5.4567, -5.4839, -5.5013, -5.4922, -5.534, -5.5554, -5.6479, -5.6584, -5.6676, -5.6714, -5.6787, -5.6801, -5.6813, -5.7368, -5.7759, -4.9372, -3.2674, -4.9228, -4.503, -3.1124, -5.4523, -4.7866, -5.1912, -4.2911, -5.1946, -5.2205, -5.3948], \"loglift\": [30.0, 29.0, 28.0, 27.0, 26.0, 25.0, 24.0, 23.0, 22.0, 21.0, 20.0, 19.0, 18.0, 17.0, 16.0, 15.0, 14.0, 13.0, 12.0, 11.0, 10.0, 9.0, 8.0, 7.0, 6.0, 5.0, 4.0, 3.0, 2.0, 1.0, 1.2988, 1.2976, 1.2966, 1.2961, 1.2953, 1.2953, 1.295, 1.2943, 1.2924, 1.2917, 1.2868, 1.2858, 1.2856, 1.2847, 1.2845, 1.2838, 1.2822, 1.2814, 1.2795, 1.2788, 1.2776, 1.2768, 1.2748, 1.2747, 1.2745, 1.2736, 1.2734, 1.2728, 1.2694, 1.2675, 1.2275, 1.2214, 1.1592, 1.1166, 0.7423, 0.7966, 0.9835, 1.104, 0.8868, 0.9739, 0.9575, 0.6121, 0.9795, 0.9853, 0.9254, -0.0874, 0.6926, 0.5726, 0.2843, 0.6124, 0.0209, 0.3234, 0.133, -0.8584, 1.3325, 1.3303, 1.3302, 1.3299, 1.3297, 1.3285, 1.3284, 1.3271, 1.3261, 1.3261, 1.3261, 1.3251, 1.3248, 1.3243, 1.3236, 1.3231, 1.3228, 1.3221, 1.3219, 1.3211, 1.3205, 1.3204, 1.3203, 1.32, 1.3199, 1.3164, 1.3164, 1.314, 1.3132, 1.3131, 1.298, 1.2067, 1.2249, 0.7836, 1.1491, 0.859, 0.9543, 0.828, 0.6333, 0.8906, 0.7702, 1.0157, 0.4034, 0.7491, 0.7943, 0.8205, 0.1041, 0.6311, 0.3821, 0.9218, 0.24, -0.2387, 0.4837, -0.0188, 0.2235, -0.047, -0.1767, 1.5249, 1.5248, 1.524, 1.5234, 1.5213, 1.5209, 1.5206, 1.5206, 1.5197, 1.519, 1.5174, 1.5174, 1.5158, 1.5153, 1.5142, 1.5135, 1.5131, 1.5128, 1.5123, 1.5114, 1.5114, 1.511, 1.5109, 1.5098, 1.5087, 1.5079, 1.5066, 1.5058, 1.5046, 1.5024, 1.4712, 1.3781, 1.4115, 1.3334, 1.4269, 1.2278, 1.3409, 1.0286, 1.0387, 1.2897, 1.3253, 1.3901, 0.7745, 0.4158, 1.0995, 0.6354, 0.9974, 0.9678, -0.2242, 0.6836, 1.0547, 0.9274, 0.2279, 0.5609, -0.2687, 0.4378, 2.4063, 2.3914, 2.3868, 2.3811, 2.3737, 2.372, 2.3704, 2.3698, 2.3685, 2.3674, 2.3639, 2.361, 2.3578, 2.3541, 2.3511, 2.3492, 2.3477, 2.3437, 2.3417, 2.3384, 2.3351, 2.3334, 2.3274, 2.3273, 2.3241, 2.3215, 2.3178, 2.3135, 2.3111, 2.3082, 2.1313, 2.2306, 1.913, 2.0415, 1.8708, 2.1052, 1.9159, 1.6932, 1.2413, 1.9901, 0.0847, 0.4065, 1.4232, 1.4818, 0.2735, 1.9206, 1.3995, 0.2263, 1.2841, 2.5131, 2.5077, 2.5051, 2.5027, 2.5014, 2.4991, 2.495, 2.489, 2.4888, 2.4886, 2.4873, 2.4866, 2.4831, 2.4795, 2.479, 2.4761, 2.4753, 2.4746, 2.468, 2.4657, 2.4641, 2.4627, 2.4544, 2.453, 2.4469, 2.4444, 2.4429, 2.4389, 2.4343, 2.4337, 2.2459, 2.104, 1.989, 2.3349, 1.8504, 2.1154, 1.8944, 1.3391, 1.3, 1.5852, 2.0118, 2.0399, 1.0991, -0.2329, -0.0536, 2.5748, 2.5738, 2.5695, 2.5693, 2.5669, 2.5654, 2.5618, 2.5616, 2.5599, 2.5568, 2.556, 2.5547, 2.5528, 2.5524, 2.5524, 2.5521, 2.5514, 2.5509, 2.55, 2.55, 2.5494, 2.5467, 2.5463, 2.5458, 2.5457, 2.5456, 2.5456, 2.5456, 2.5436, 2.5417, 2.4467, 1.8348, 2.2815, 2.073, 1.325, 2.4054, 1.812, 1.9168, 0.3873, 1.3253, 0.5161, 0.4946]}, \"token.table\": {\"Topic\": [1, 2, 3, 2, 3, 4, 6, 3, 4, 3, 4, 4, 6, 4, 2, 4, 1, 3, 1, 2, 3, 3, 5, 5, 5, 1, 6, 4, 1, 5, 6, 4, 4, 6, 5, 1, 1, 2, 6, 4, 1, 4, 3, 2, 2, 3, 3, 5, 1, 3, 4, 1, 2, 3, 5, 2, 6, 4, 4, 6, 2, 2, 1, 2, 6, 1, 2, 5, 1, 2, 5, 6, 6, 4, 1, 6, 2, 4, 1, 2, 5, 6, 5, 1, 2, 3, 5, 2, 1, 2, 3, 2, 1, 2, 1, 2, 2, 4, 1, 3, 6, 1, 2, 3, 4, 1, 2, 3, 5, 3, 1, 1, 1, 3, 4, 6, 1, 4, 4, 6, 1, 2, 3, 4, 3, 1, 1, 2, 3, 4, 3, 2, 4, 3, 1, 2, 4, 3, 1, 1, 1, 3, 3, 3, 3, 6, 3, 6, 6, 6, 2, 1, 3, 2, 3, 6, 6, 1, 2, 5, 6, 1, 5, 2, 1, 6, 6, 6, 1, 2, 1, 6, 6, 1, 1, 5, 5, 1, 2, 2, 6, 5, 3, 6, 3, 2, 3, 6, 5, 6, 3, 5, 3, 6, 1, 6, 1, 2, 3, 6, 1, 3, 1, 2, 3, 4, 1, 2, 5, 5, 4, 1, 1, 3, 5, 1, 1, 1, 3, 2, 2, 3, 6, 4, 4, 3, 5, 5, 1, 3, 2, 3, 1, 2, 4, 5, 3, 6, 4, 5, 2, 5, 6, 5, 1, 2, 1, 2, 3, 6, 2, 3, 5, 2, 1, 2, 3, 4, 2, 3, 2, 6, 4, 1, 5, 1, 3, 5, 1, 2, 3, 5, 1, 3, 3, 2, 3, 2, 5, 2, 5, 2, 5, 4, 3, 4, 1, 2, 5, 1, 1, 2, 4, 5, 4, 2, 1, 3, 4, 1, 2, 3, 4, 6, 1, 3, 3, 4, 3, 3, 2, 2, 2, 1, 4, 4, 2, 5, 5, 2, 3, 6, 1, 4, 1, 3, 2, 2, 4, 3, 2, 5, 2, 3, 5, 5, 1, 2, 3, 5, 1, 6, 1, 2, 2, 2, 3, 4, 1, 2, 3, 4, 1, 3, 4, 6, 1, 3, 6, 1, 4, 1, 3, 1, 1, 5, 5, 1, 2, 2, 3, 2, 6, 2, 4, 5, 1, 2, 3, 2, 6, 1, 2, 2, 3, 1, 2, 1, 1, 2, 6, 3, 1, 2, 3, 3, 5, 2, 2, 3, 4, 6, 4, 1, 1, 2, 3, 4, 5, 3, 4, 6], \"Freq\": [0.1724196890476699, 0.2214409731886741, 0.6068496898834657, 0.20170212371823992, 0.6503864397445287, 0.02469821923080489, 0.12349109615402444, 0.2942111508157518, 0.6902646230677254, 0.9801782349672, 0.9547236554902513, 0.9617973670502207, 0.9709504065664718, 0.9699101744617861, 0.8798866546790599, 0.1186364028780755, 0.012496412261574876, 0.9809683625336278, 0.005009297139982753, 0.37068798835872374, 0.6211528453578614, 0.986291691582664, 0.9913440650763408, 0.8935810354704805, 0.9012937391554918, 0.9982721998588956, 0.9665170257254003, 0.8567548311733986, 0.9998059619700457, 0.9516451971383507, 0.9804338508134951, 0.9749870345888444, 0.9087322609720768, 0.9940008367408483, 0.9797967392716298, 0.9953776258897685, 0.9684619148850508, 0.7114409197680118, 0.2861229786023526, 0.9278823866923523, 0.37509040641583663, 0.6137843014077327, 0.9910290747908719, 0.9916150500658893, 0.5695919861425294, 0.43050557092167924, 0.9837045560650413, 0.9774136962285325, 0.573036596113226, 0.3285851464418036, 0.098045567889893, 0.1355407180885471, 0.057069776037282985, 0.784709420512641, 0.014267444009320746, 0.9878919082330999, 0.9596788349695878, 0.9029214359076506, 0.9423708374848287, 0.9945166624380614, 0.9936084131444018, 0.9839397081094627, 0.8691484762325797, 0.0035331238871243076, 0.12719245993647507, 0.37703308893614174, 0.5571444371540438, 0.06484008535844475, 0.7245033309940154, 0.18112583274850386, 0.09559418950615482, 0.967328371615489, 0.9909022358305382, 0.9882019723704765, 0.14734633240466397, 0.854608727947051, 0.6309658133715216, 0.3605518933551552, 0.4346019899304876, 0.30879615074008326, 0.24017478390895367, 0.9779288266582944, 0.9364230708957909, 0.9886529132553789, 0.11887679031320102, 0.8678005692863675, 0.978875293976228, 0.9946684124251184, 0.26136519522336965, 0.6593531061316825, 0.0712814168791008, 0.991532186520243, 0.5027698775473906, 0.4956552094688898, 0.9914975336035445, 0.9662057873122124, 0.5057585834339969, 0.48785562472836874, 0.7289122844935519, 0.2688610885427036, 0.9444326005891975, 0.5452464362075967, 0.33052549451522456, 0.10374157857047195, 0.019300758803808736, 0.27643467470696464, 0.05708976977643834, 0.5889260461148377, 0.07812284285196826, 0.9930025489260251, 0.9956962051773095, 0.9858789503289934, 0.9828481779565376, 0.010142366344347384, 0.9432400700243067, 0.05071183172173692, 0.41432665279774583, 0.5827891380012249, 0.9041952903994189, 0.995762274778379, 0.21999404710417705, 0.5988726837835932, 0.17925440875155169, 0.9008836751451758, 0.9912944205345208, 0.9847235759037792, 0.0025298964937620623, 0.0012649482468810311, 0.8601648078791012, 0.13534946241627036, 0.9827469215493712, 0.14448056223385247, 0.8379872609563442, 0.99060389918578, 0.9915277698111145, 0.9760768337117106, 0.9357209509563444, 0.9932580086134675, 0.994227653971301, 0.9913658957389515, 0.8200146582188436, 0.17210184184839927, 0.9945631340879083, 0.9813328285625534, 0.9062509549166324, 0.08841472730893975, 0.9936607398487491, 0.9924958235421056, 0.9956834717291597, 0.9768684902869949, 0.9971810129266127, 0.9891321982377786, 0.9720285884136757, 0.9750494287092132, 0.5270587509725799, 0.4684966675311822, 0.9789980965734919, 0.3514639604959356, 0.30753096543394365, 0.30753096543394365, 0.031380710758565675, 0.483041743415096, 0.515499093763146, 0.9808260067487778, 0.11009208010282769, 0.8807366408226215, 0.9964273556380338, 0.958883410296623, 0.8335183082399231, 0.16438833301398484, 0.9858430024809972, 0.010715684809576057, 0.9802553832890502, 0.9741819283965238, 0.9885422626897613, 0.9198603577553673, 0.9640059611700609, 0.6052553977681603, 0.39397991109380864, 0.9841882439789429, 0.9568200420133074, 0.994200201219828, 0.2453163258175335, 0.7359489774526005, 0.9730259871491967, 0.2510631299818766, 0.27167278990576194, 0.47589578369698987, 0.9661525212502607, 0.9792438943199775, 0.9905657306374676, 0.9816096114725934, 0.9888305577825834, 0.9900010242607473, 0.9266634942693366, 0.07288364561668939, 0.11896337313371481, 0.603401851358636, 0.1655675811654794, 0.11160481397080463, 0.9966714301475414, 0.9850438920604574, 0.3441383214535425, 0.5821063096926943, 0.07322091945820054, 0.9437751791193841, 0.9945476437264623, 0.38048243467003684, 0.6024305215608916, 0.9094580955456488, 0.89548676529882, 0.9813641951499024, 0.731359118813874, 0.2665122212626829, 0.9758077482916955, 0.9575997884205103, 0.9579072499117197, 0.17857619899235253, 0.812521705415204, 0.9938029071930922, 0.29242355492446687, 0.18102410542943187, 0.5152224539145369, 0.9570360413263224, 0.9511739924032395, 0.12757795568081798, 0.8505197045387866, 0.9995917611233186, 0.6623731617860641, 0.3370482902893689, 0.2590530240884092, 0.7404015485770074, 0.3108333432688982, 0.6829577683091285, 0.004377934412238003, 0.9790021696192516, 0.9959799549751076, 0.9808965063720934, 0.942102676240407, 0.967755790966919, 0.334105008029408, 0.664184654516293, 0.9492836632761382, 0.9843816010546274, 0.9796473910123691, 0.017186796333550334, 0.036622094953156756, 0.20720395828759744, 0.4703047983458026, 0.2852668448982737, 0.9895436983979367, 0.3208784020392187, 0.6631486975477187, 0.9918645671651425, 0.035778507028899086, 0.2862280562311927, 0.33989581677454134, 0.3220065632600918, 0.42782447449084227, 0.5694066746820562, 0.9736381200476623, 0.9917944683730056, 0.9685287833716396, 0.34741944030537214, 0.6253549925496699, 0.9309598036920423, 0.06803167796211079, 0.0011935382098615928, 0.24996330975863926, 0.5766373769401327, 0.17340628130857633, 0.9358694072350888, 0.16831633226659137, 0.8299736384180195, 0.990679274781756, 0.9972276002287686, 0.979178899996246, 0.8978413655224495, 0.09784168726847206, 0.9934175599665709, 0.9912591474421714, 0.9956534747260739, 0.9636073676850179, 0.9990823333079272, 0.9754072978116207, 0.9660412821514787, 0.11548121676330343, 0.29235751079317324, 0.5920239593561758, 0.981970073653632, 0.9968271350395055, 0.0344144857554668, 0.9651465482764496, 0.9449161609728235, 0.9678659762141056, 0.991775573286417, 0.2786904332287039, 0.4096987565413425, 0.311244016597299, 0.08334682639947331, 0.1111291018659644, 0.41673413199736653, 0.402842994264121, 0.9857183370065995, 0.6896223888751198, 0.3093159244219288, 0.2390841869157038, 0.7576174234731393, 0.9936462638602533, 0.9877600962765746, 0.9953266107121598, 0.9933114261372911, 0.9899517212480627, 0.3274005691208516, 0.6548011382417032, 0.9826732259912582, 0.9951025368280231, 0.9501110766430526, 0.9113185749096151, 0.38574195281995666, 0.6128793463586113, 0.9702916715399812, 0.24051875010912319, 0.7482805558950499, 0.04996217087313009, 0.942143793607596, 0.9990934072148222, 0.615079499796377, 0.36904769987782615, 0.9782358398288343, 0.454441642250385, 0.5370673953868187, 0.03212221139754356, 0.20076382123464726, 0.7669177971163524, 0.9819853022153157, 0.011035242577554, 0.088281940620432, 0.507621158567484, 0.39726873279194397, 0.39259166377188065, 0.605245481648316, 0.3554744743083802, 0.6430856398851605, 0.9862373345330449, 0.9863778942021777, 0.9846723921949051, 0.015531110286985885, 0.0031027923615850653, 0.006205584723170131, 0.37854066811337794, 0.6112500952322578, 0.2956114814699191, 0.020386998722063388, 0.6116099616619016, 0.06116099616619016, 0.41481534027345157, 0.5475562491609561, 0.033185227221876126, 0.9870870112782355, 0.9336196632314803, 0.006683420784736572, 0.9891462761410127, 0.989847059130322, 0.9863821141977119, 0.9013377847033871, 0.9911145673074004, 0.26859238084378206, 0.725770901428943, 0.8329337983298705, 0.16252366796680398, 0.9824178814240442, 0.9855065469373001, 0.009897599132250062, 0.979862314092756, 0.9521307209067226, 0.36254091689406487, 0.6219842605463801, 0.014728224748821387, 0.9583333596606128, 0.01808176150303043, 0.7104561150148425, 0.2883010321799361, 0.9794282414454987, 0.9924027406076958, 0.5044640698658751, 0.49637106339743864, 0.997517450544227, 0.729102246799456, 0.26768971380076645, 0.9607187220637, 0.9959025211923529, 0.09962183241371925, 0.009056530219429022, 0.8875399615040442, 0.02544774066272143, 0.9670141451834143, 0.9845242532467112, 0.17434548966301844, 0.8235042277700019, 0.9182881555991991, 0.9930859718074385, 0.9449539308835907, 0.9788555778939539, 0.22585189078911108, 0.20971961287560315, 0.15594535316391003, 0.11292594539455554, 0.29575842841431216, 0.9877106724618, 0.944212779044214, 0.9906693832852218], \"Term\": [\"....\", \"....\", \"....\", \".....\", \".....\", \".....\", \".....\", \"......\", \"......\", \".......\", \"........\", \".........\", \"a1\", \"accessory\", \"amazon\", \"amazon\", \"android\", \"android\", \"app\", \"app\", \"app\", \"atmos\", \"awesome\", \"awsm\", \"awsome\", \"backup\", \"bahut\", \"band\", \"battery\", \"bed\", \"bekar\", \"benefit\", \"bettry\", \"bhi\", \"bill\", \"bit\", \"bokeh\", \"box\", \"box\", \"buget\", \"build\", \"build\", \"buying\", \"cable\", \"call\", \"call\", \"cam\", \"camara\", \"camera\", \"camera\", \"camera\", \"card\", \"card\", \"card\", \"card\", \"care\", \"cash\", \"cashback\", \"category\", \"cell\", \"center\", \"centre\", \"charge\", \"charge\", \"charge\", \"charger\", \"charger\", \"charger\", \"charging\", \"charging\", \"charging\", \"china\", \"class\", \"comparison\", \"complain\", \"complain\", \"complaint\", \"complaint\", \"condition\", \"condition\", \"condition\", \"cool\", \"copy\", \"core\", \"cost\", \"cost\", \"coverage\", \"customer\", \"data\", \"data\", \"data\", \"date\", \"day\", \"day\", \"deca\", \"defect\", \"delivery\", \"delivery\", \"depth\", \"depth\", \"description\", \"device\", \"device\", \"device\", \"device\", \"display\", \"display\", \"display\", \"display\", \"dolby\", \"drain\", \"drainage\", \"draining\", \"earphone\", \"earphone\", \"earphone\", \"everything\", \"everything\", \"example\", \"excellent\", \"experience\", \"experience\", \"experience\", \"eye\", \"facility\", \"fast\", \"feature\", \"feature\", \"feature\", \"feature\", \"file\", \"fine\", \"fine\", \"finger\", \"focus\", \"future\", \"gadget\", \"gallery\", \"game\", \"gaming\", \"gb\", \"gb\", \"glass\", \"google\", \"gorilla\", \"gorilla\", \"gud\", \"h\", \"hai\", \"half\", \"handset\", \"hanging\", \"hd\", \"head\", \"headphone\", \"headphone\", \"headset\", \"heat\", \"heat\", \"heat\", \"heat\", \"heating\", \"heating\", \"help\", \"hi\", \"hi\", \"ho\", \"hota\", \"hour\", \"hour\", \"hr\", \"hr\", \"icon\", \"idea\", \"improvement\", \"india\", \"invoice\", \"issue\", \"issue\", \"item\", \"jata\", \"jio\", \"k\", \"k\", \"k5\", \"k8\", \"k8\", \"k8\", \"ka\", \"ke\", \"key\", \"ki\", \"killer\", \"ko\", \"lag\", \"lag\", \"lenovo\", \"lenovo\", \"lenovo\", \"lenovo\", \"life\", \"lock\", \"lot\", \"lot\", \"lot\", \"love\", \"mah\", \"mail\", \"mail\", \"maine\", \"man\", \"management\", \"mark\", \"mark\", \"mast\", \"max\", \"mediatek\", \"memory\", \"memory\", \"message\", \"mi\", \"mi\", \"mi\", \"mi4\", \"mia1\", \"mob\", \"mob\", \"mobile\", \"mode\", \"mode\", \"money\", \"money\", \"month\", \"month\", \"month\", \"msg\", \"music\", \"nahi\", \"nd\", \"net\", \"network\", \"network\", \"nhi\", \"nice\", \"night\", \"night\", \"note\", \"note\", \"note\", \"note\", \"number\", \"offer\", \"offer\", \"ok\", \"one\", \"one\", \"one\", \"one\", \"option\", \"option\", \"order\", \"package\", \"packing\", \"par\", \"par\", \"performance\", \"performance\", \"performance\", \"phone\", \"phone\", \"phone\", \"phone.it\", \"photo\", \"photo\", \"pic\", \"piece\", \"player\", \"please\", \"please\", \"pls\", \"plz\", \"policy\", \"position\", \"price\", \"print\", \"prize\", \"problem\", \"problem\", \"problem\", \"processing\", \"processor\", \"product\", \"product\", \"protection\", \"provide\", \"purchase\", \"quality\", \"quality\", \"quality\", \"r\", \"r\", \"r\", \"r\", \"raha\", \"ram\", \"ram\", \"range\", \"range\", \"recorder\", \"recording\", \"refund\", \"replacement\", \"request\", \"rest\", \"rest\", \"result\", \"return\", \"rha\", \"round\", \"screen\", \"screen\", \"se\", \"segment\", \"segment\", \"sensor\", \"sensor\", \"service\", \"set\", \"set\", \"setting\", \"signal\", \"signal\", \"sim\", \"sim\", \"sim\", \"sir\", \"slot\", \"slot\", \"slot\", \"slot\", \"smartphone\", \"smartphone\", \"software\", \"software\", \"solution\", \"someone\", \"sound\", \"sound\", \"speaker\", \"speaker\", \"speaker\", \"speaker\", \"specification\", \"specification\", \"specification\", \"specification\", \"speed\", \"speed\", \"speed\", \"standby\", \"stick\", \"stock\", \"stock\", \"storage\", \"strength\", \"suggest\", \"super\", \"superb\", \"superb\", \"support\", \"support\", \"team\", \"tha\", \"thanks\", \"thanks\", \"thik\", \"time\", \"time\", \"time\", \"today\", \"today\", \"turbo\", \"turbo\", \"tv\", \"ui\", \"update\", \"update\", \"usage\", \"use\", \"use\", \"v\", \"value\", \"video\", \"video\", \"video\", \"volta\", \"volta\", \"warranty\", \"waste\", \"waste\", \"website\", \"weight\", \"wire\", \"word\", \"work\", \"work\", \"work\", \"work\", \"work\", \"worth\", \"wrost\", \"ye\"]}, \"R\": 30, \"lambda.step\": 0.01, \"plot.opts\": {\"xlab\": \"PC1\", \"ylab\": \"PC2\"}, \"topic.order\": [4, 3, 1, 2, 6, 5]};\n",
       "\n",
       "function LDAvis_load_lib(url, callback){\n",
       "  var s = document.createElement('script');\n",
       "  s.src = url;\n",
       "  s.async = true;\n",
       "  s.onreadystatechange = s.onload = callback;\n",
       "  s.onerror = function(){console.warn(\"failed to load library \" + url);};\n",
       "  document.getElementsByTagName(\"head\")[0].appendChild(s);\n",
       "}\n",
       "\n",
       "if(typeof(LDAvis) !== \"undefined\"){\n",
       "   // already loaded: just create the visualization\n",
       "   !function(LDAvis){\n",
       "       new LDAvis(\"#\" + \"ldavis_el775581396682735512163980865638\", ldavis_el775581396682735512163980865638_data);\n",
       "   }(LDAvis);\n",
       "}else if(typeof define === \"function\" && define.amd){\n",
       "   // require.js is available: use it to load d3/LDAvis\n",
       "   require.config({paths: {d3: \"https://d3js.org/d3.v5\"}});\n",
       "   require([\"d3\"], function(d3){\n",
       "      window.d3 = d3;\n",
       "      LDAvis_load_lib(\"https://cdn.jsdelivr.net/gh/bmabey/pyLDAvis@3.4.0/pyLDAvis/js/ldavis.v3.0.0.js\", function(){\n",
       "        new LDAvis(\"#\" + \"ldavis_el775581396682735512163980865638\", ldavis_el775581396682735512163980865638_data);\n",
       "      });\n",
       "    });\n",
       "}else{\n",
       "    // require.js not available: dynamically load d3 & LDAvis\n",
       "    LDAvis_load_lib(\"https://d3js.org/d3.v5.js\", function(){\n",
       "         LDAvis_load_lib(\"https://cdn.jsdelivr.net/gh/bmabey/pyLDAvis@3.4.0/pyLDAvis/js/ldavis.v3.0.0.js\", function(){\n",
       "                 new LDAvis(\"#\" + \"ldavis_el775581396682735512163980865638\", ldavis_el775581396682735512163980865638_data);\n",
       "            })\n",
       "         });\n",
       "}\n",
       "</script>"
      ],
      "text/plain": [
       "PreparedData(topic_coordinates=              x         y  topics  cluster       Freq\n",
       "topic                                                \n",
       "3     -0.210104  0.040088       1        1  27.279401\n",
       "2     -0.175885  0.127672       2        1  26.338678\n",
       "0     -0.150546 -0.099054       3        1  21.690322\n",
       "1      0.111029 -0.271954       4        1   9.006195\n",
       "5      0.225658  0.214743       5        1   8.097437\n",
       "4      0.199848 -0.011496       6        1   7.587966, topic_info=        Term         Freq        Total Category  logprob  loglift\n",
       "50   product  1946.000000  1946.000000  Default  30.0000  30.0000\n",
       "4    battery  2874.000000  2874.000000  Default  29.0000  29.0000\n",
       "12    mobile  1367.000000  1367.000000  Default  28.0000  28.0000\n",
       "16     phone  6504.000000  6504.000000  Default  27.0000  27.0000\n",
       "17   problem  1368.000000  1368.000000  Default  26.0000  26.0000\n",
       "..       ...          ...          ...      ...      ...      ...\n",
       "260       mi    37.051601    71.813640   Topic6  -5.1912   1.9168\n",
       "26    lenovo    91.139306   815.377014   Topic6  -4.2911   0.3873\n",
       "483      box    36.928227   129.315025   Topic6  -5.1946   1.3253\n",
       "104   charge    35.982553   283.035645   Topic6  -5.2205   0.5161\n",
       "103    .....    30.227328   242.932494   Topic6  -5.3948   0.4946\n",
       "\n",
       "[333 rows x 6 columns], token_table=      Topic      Freq   Term\n",
       "term                        \n",
       "143       1  0.172420   ....\n",
       "143       2  0.221441   ....\n",
       "143       3  0.606850   ....\n",
       "103       2  0.201702  .....\n",
       "103       3  0.650386  .....\n",
       "...     ...       ...    ...\n",
       "218       4  0.112926   work\n",
       "218       5  0.295758   work\n",
       "631       3  0.987711  worth\n",
       "34        4  0.944213  wrost\n",
       "349       6  0.990669     ye\n",
       "\n",
       "[412 rows x 3 columns], R=30, lambda_step=0.01, plot_opts={'xlab': 'PC1', 'ylab': 'PC2'}, topic_order=[4, 3, 1, 2, 6, 5])"
      ]
     },
     "execution_count": 31,
     "metadata": {},
     "output_type": "execute_result"
    }
   ],
   "source": [
    "import pyLDAvis\n",
    "import pyLDAvis.gensim\n",
    "\n",
    "pyLDAvis.enable_notebook()\n",
    "vis = pyLDAvis.gensim.prepare(lda_model6,corpus,id2word)\n",
    "vis"
   ]
  },
  {
   "cell_type": "markdown",
   "metadata": {
    "id": "UX2m8UeZKGg2"
   },
   "source": [
    "## Task 10. The business finally needs to be able to interpret the topics\n",
    " - name each of the identified topics\n",
    " - create a table with the topic name and the top 10 terms in each to present to business"
   ]
  },
  {
   "cell_type": "code",
   "execution_count": 32,
   "metadata": {
    "colab": {
     "base_uri": "https://localhost:8080/"
    },
    "executionInfo": {
     "elapsed": 16,
     "status": "ok",
     "timestamp": 1686987792838,
     "user": {
      "displayName": "Nisarg Gandhewar",
      "userId": "00173707501276252012"
     },
     "user_tz": -330
    },
    "id": "-h0CHoVKKGg2",
    "outputId": "6a3cb460-2a06-4a2d-cda1-1e6795498c28"
   },
   "outputs": [
    {
     "name": "stderr",
     "output_type": "stream",
     "text": [
      "/usr/local/lib/python3.10/dist-packages/ipykernel/ipkernel.py:283: DeprecationWarning: `should_run_async` will not call `transform_cell` automatically in the future. Please pass the result to `transformed_cell` argument and any exception that happen during thetransform in `preprocessing_exc_tuple` in IPython 7.17 and above.\n",
      "  and should_run_async(code)\n"
     ]
    }
   ],
   "source": [
    "x = lda_model6.show_topics(formatted=False)\n",
    "topics_words = [(tp[0], [wd[0] for wd in tp[1]]) for tp in x]"
   ]
  },
  {
   "cell_type": "code",
   "execution_count": 33,
   "metadata": {
    "colab": {
     "base_uri": "https://localhost:8080/"
    },
    "executionInfo": {
     "elapsed": 15,
     "status": "ok",
     "timestamp": 1686987792839,
     "user": {
      "displayName": "Nisarg Gandhewar",
      "userId": "00173707501276252012"
     },
     "user_tz": -330
    },
    "id": "36IO8f1RKGg2",
    "outputId": "ad7be765-d988-44d7-d997-e775669d7054"
   },
   "outputs": [
    {
     "name": "stdout",
     "output_type": "stream",
     "text": [
      "0::['phone', 'camera', 'feature', 'quality', 'note', 'money', '....', 'sound', 'screen', 'music']\n",
      "1::['product', 'price', 'quality', 'camera', 'range', 'speaker', 'everything', 'delivery', 'feature', 'thanks']\n",
      "2::['phone', 'time', 'issue', 'lenovo', 'service', 'amazon', 'day', 'problem', 'month', 'call']\n",
      "3::['battery', 'camera', 'phone', 'issue', 'performance', 'backup', 'day', 'hour', 'quality', 'time']\n",
      "4::['note', 'k8', 'hai', 'h', 'lenovo', 'ho', 'excellent', 'smartphone', 'class', 'cell']\n",
      "5::['mobile', 'problem', 'network', 'heating', 'sim', 'jio', 'volta', 'heat', 'super', 'plz']\n",
      "\n"
     ]
    },
    {
     "name": "stderr",
     "output_type": "stream",
     "text": [
      "/usr/local/lib/python3.10/dist-packages/ipykernel/ipkernel.py:283: DeprecationWarning: `should_run_async` will not call `transform_cell` automatically in the future. Please pass the result to `transformed_cell` argument and any exception that happen during thetransform in `preprocessing_exc_tuple` in IPython 7.17 and above.\n",
      "  and should_run_async(code)\n"
     ]
    }
   ],
   "source": [
    "for topic,words in topics_words:\n",
    "    print(str(topic)+ \"::\"+ str(words))\n",
    "print()"
   ]
  },
  {
   "cell_type": "code",
   "execution_count": 34,
   "metadata": {
    "colab": {
     "base_uri": "https://localhost:8080/"
    },
    "executionInfo": {
     "elapsed": 12,
     "status": "ok",
     "timestamp": 1686987792839,
     "user": {
      "displayName": "Nisarg Gandhewar",
      "userId": "00173707501276252012"
     },
     "user_tz": -330
    },
    "id": "uQ1vkl6VKGg2",
    "outputId": "c6ddd2c2-d7ff-4028-cf12-34e4670babb2"
   },
   "outputs": [
    {
     "name": "stderr",
     "output_type": "stream",
     "text": [
      "/usr/local/lib/python3.10/dist-packages/ipykernel/ipkernel.py:283: DeprecationWarning: `should_run_async` will not call `transform_cell` automatically in the future. Please pass the result to `transformed_cell` argument and any exception that happen during thetransform in `preprocessing_exc_tuple` in IPython 7.17 and above.\n",
      "  and should_run_async(code)\n"
     ]
    }
   ],
   "source": [
    "#possible topics from terms present\n",
    "\n",
    "#Topic1 = product accessories\n",
    "#Topic2 = amazon\n",
    "#Topic3 = pricing\n",
    "#Topic4 = phone performance\n",
    "#Topic5 = battery related issues\n",
    "#Topic6 = camera quality\n",
    "#Topic7 = sound features\n",
    "#Topic8 = overall general phone features"
   ]
  }
 ],
 "metadata": {
  "colab": {
   "provenance": []
  },
  "kernelspec": {
   "display_name": "Python 3 (ipykernel)",
   "language": "python",
   "name": "python3"
  },
  "language_info": {
   "codemirror_mode": {
    "name": "ipython",
    "version": 3
   },
   "file_extension": ".py",
   "mimetype": "text/x-python",
   "name": "python",
   "nbconvert_exporter": "python",
   "pygments_lexer": "ipython3",
   "version": "3.11.3"
  }
 },
 "nbformat": 4,
 "nbformat_minor": 1
}
