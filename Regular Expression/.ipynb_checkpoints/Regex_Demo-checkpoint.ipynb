{
 "cells": [
  {
   "cell_type": "markdown",
   "metadata": {
    "id": "y9vu0VJGjeQ7"
   },
   "source": [
    "\n",
    "A RegEx, or Regular Expression, is a sequence of characters that forms a search pattern.\n",
    "RegEx can be used to check if a string contains the specified search pattern."
   ]
  },
  {
   "cell_type": "code",
   "execution_count": 1,
   "metadata": {
    "id": "E_s2yaqLz0Al"
   },
   "outputs": [],
   "source": [
    "import re"
   ]
  },
  {
   "cell_type": "code",
   "execution_count": 6,
   "metadata": {
    "id": "BjOmAGVRjrVW"
   },
   "outputs": [],
   "source": [
    "# Multiline text\n",
    "txt = '''Tata Motors International Business\n",
    "A Block, Shivasagar Estate,\n",
    "Dr. Annie Besant Road,\n",
    "Worli, Mumbai - 400018\n",
    "Contact: +91(22) 67577200\n",
    "\n",
    "Name : Ritesh Verma\n",
    "Designation: State Service Head\n",
    "Office: Gurugaon\n",
    "Contact: 8588881784\n",
    "Email: ritesh.verma@tatamotors.com\n",
    "\n",
    "Domestic Business\n",
    "Tata Motors Ltd\n",
    "4th Floor, Ahura Centre\n",
    "82 Mahakali Caves Road\n",
    "MIDC, Andheri East\n",
    "mumbai - 400093\n",
    "Contact: 022-624071010\n",
    "\n",
    "Mr. Bapusaheb Bhadale\n",
    "Tata Motors Ltd\n",
    "4th Floor, Ahura Centre\n",
    "82 Mahakali Caves Road\n",
    "MIDC, #Andheri East\n",
    "Mumbai - 400093\n",
    "Email : b.bhadale@tatamotors1.com'''"
   ]
  },
  {
   "cell_type": "code",
   "execution_count": 21,
   "metadata": {
    "id": "Wq1ccm7KGwMg"
   },
   "outputs": [],
   "source": [
    "# pattern = re.compile(r'Ltd')   #re.compile() method is used to compile a regular expression pattern \n",
    "# pattern = re.compile(r'.') # any char\n",
    "# pattern = re.compile(r'.ai') # any char followed by ai\n",
    "# pattern = re.compile(r'^Tata')\n",
    "# pattern = re.compile(r'com$')\n",
    "# pattern = re.compile(r'Mu*') # Start with M followed by 0 or more u\n",
    "# pattern = re.compile(r'Mu+') # Start with M followed by 1 or more u\n",
    "# pattern = re.compile(r'40{3}')# Start with 4 followed by 3 zeros\n",
    "# pattern = re.compile(r'(10){2}') # wants a group of digit to be repeated\n",
    "# pattern = re.compile(r'Mu{1}|I{1}') # Start with M followed by 1 u or 1 I\n",
    "\n",
    "# Special Sequence\n",
    "#pattern = re.compile(r'\\ATata') # String starts with Tata\n",
    "# pattern = re.compile(r'\\bTata') # Word starts with Tata\n",
    "# pattern = re.compile(r'com\\b') # Word ends with com\n",
    "pattern = re.compile(r'\\d{3}-\\d{9}') # I want 3 digits before - and 9 digits after -\n",
    "#pattern = re.compile(r'[a-z]@[a-z]') # To fetch word containing @\n",
    "# pattern = re.compile(r'\\s') # string contains white space char\n",
    "# pattern = re.compile(r'\\S') # string does not contains white space char\n"
   ]
  },
  {
   "cell_type": "code",
   "execution_count": 9,
   "metadata": {
    "id": "_M69RzJlHbd2"
   },
   "outputs": [
    {
     "name": "stdout",
     "output_type": "stream",
     "text": [
      "\n",
      "\n",
      "\\n\n"
     ]
    }
   ],
   "source": [
    "print('\\n')\n",
    "print(r'\\n') # r represent Raw string"
   ]
  },
  {
   "cell_type": "code",
   "execution_count": 22,
   "metadata": {
    "colab": {
     "base_uri": "https://localhost:8080/"
    },
    "id": "UfQaZRa6HxKy",
    "outputId": "ac045b16-3602-4c39-c04f-7d6f6e54e409"
   },
   "outputs": [
    {
     "name": "stdout",
     "output_type": "stream",
     "text": [
      "<re.Match object; span=(386, 399), match='022-624071010'>\n"
     ]
    }
   ],
   "source": [
    "# function matches a pattern in a string and returns an iterator\n",
    "match = pattern.finditer(txt)  \n",
    "\n",
    "for m in match:\n",
    "  print(m)\n",
    "  # print(txt[495:496])"
   ]
  },
  {
   "cell_type": "code",
   "execution_count": null,
   "metadata": {},
   "outputs": [],
   "source": []
  }
 ],
 "metadata": {
  "colab": {
   "provenance": []
  },
  "kernelspec": {
   "display_name": "Python 3 (ipykernel)",
   "language": "python",
   "name": "python3"
  },
  "language_info": {
   "codemirror_mode": {
    "name": "ipython",
    "version": 3
   },
   "file_extension": ".py",
   "mimetype": "text/x-python",
   "name": "python",
   "nbconvert_exporter": "python",
   "pygments_lexer": "ipython3",
   "version": "3.11.3"
  }
 },
 "nbformat": 4,
 "nbformat_minor": 4
}
