{
 "cells": [
  {
   "cell_type": "code",
   "execution_count": 1,
   "metadata": {},
   "outputs": [
    {
     "ename": "ModuleNotFoundError",
     "evalue": "No module named 'aiml'",
     "output_type": "error",
     "traceback": [
      "\u001b[1;31m---------------------------------------------------------------------------\u001b[0m",
      "\u001b[1;31mModuleNotFoundError\u001b[0m                       Traceback (most recent call last)",
      "\u001b[1;32m~\\AppData\\Local\\Temp\\ipykernel_12456\\2337496261.py\u001b[0m in \u001b[0;36m<module>\u001b[1;34m\u001b[0m\n\u001b[0;32m      1\u001b[0m \u001b[1;32mimport\u001b[0m \u001b[0mos\u001b[0m\u001b[1;33m\u001b[0m\u001b[1;33m\u001b[0m\u001b[0m\n\u001b[1;32m----> 2\u001b[1;33m \u001b[1;32mimport\u001b[0m \u001b[0maiml\u001b[0m\u001b[1;33m\u001b[0m\u001b[1;33m\u001b[0m\u001b[0m\n\u001b[0m\u001b[0;32m      3\u001b[0m \u001b[1;32mfrom\u001b[0m \u001b[0mautocorrect\u001b[0m \u001b[1;32mimport\u001b[0m \u001b[0mspell\u001b[0m\u001b[1;33m\u001b[0m\u001b[1;33m\u001b[0m\u001b[0m\n\u001b[0;32m      4\u001b[0m \u001b[1;33m\u001b[0m\u001b[0m\n\u001b[0;32m      5\u001b[0m \u001b[0mBRAIN_FILE\u001b[0m\u001b[1;33m=\u001b[0m\u001b[1;34m\"D:/Bot/aiml_pretrained_model.dump\"\u001b[0m\u001b[1;33m\u001b[0m\u001b[1;33m\u001b[0m\u001b[0m\n",
      "\u001b[1;31mModuleNotFoundError\u001b[0m: No module named 'aiml'"
     ]
    }
   ],
   "source": [
    "import os\n",
    "import aiml\n",
    "from autocorrect import spell\n",
    "\n",
    "BRAIN_FILE=\"D:/Bot/aiml_pretrained_model.dump\"\n",
    "\n",
    "k = aiml.Kernel()\n",
    "\n",
    "if os.path.exists(BRAIN_FILE):\n",
    "    print(\"Loading from brain file: \" + BRAIN_FILE)\n",
    "    k.loadBrain(BRAIN_FILE)\n",
    "else:\n",
    "    print(\"Parsing aiml files\")\n",
    "    k.bootstrap(learnFiles=\"D:/Bot/learningFileList.aiml\", commands=\"load aiml\")\n",
    "    print(\"Saving brain file: \" + BRAIN_FILE)\n",
    "    k.saveBrain(BRAIN_FILE)\n",
    "\n",
    "\n",
    "while True:\n",
    "    query = input(\"User > \")\n",
    "    query = [spell(w) for w in (query.split())]\n",
    "    question = \" \".join(query)\n",
    "    response = k.respond(question)\n",
    "    if response:\n",
    "        print(\"bot > \", response)\n",
    "    else:\n",
    "        print(\"bot > :) \", )"
   ]
  },
  {
   "cell_type": "code",
   "execution_count": null,
   "metadata": {},
   "outputs": [],
   "source": []
  }
 ],
 "metadata": {
  "kernelspec": {
   "display_name": "Python 3 (ipykernel)",
   "language": "python",
   "name": "python3"
  },
  "language_info": {
   "codemirror_mode": {
    "name": "ipython",
    "version": 3
   },
   "file_extension": ".py",
   "mimetype": "text/x-python",
   "name": "python",
   "nbconvert_exporter": "python",
   "pygments_lexer": "ipython3",
   "version": "3.9.13"
  }
 },
 "nbformat": 4,
 "nbformat_minor": 2
}
