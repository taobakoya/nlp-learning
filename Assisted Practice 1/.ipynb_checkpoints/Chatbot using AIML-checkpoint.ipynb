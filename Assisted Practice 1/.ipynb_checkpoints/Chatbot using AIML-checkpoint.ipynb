{
 "cells": [
  {
   "cell_type": "markdown",
   "metadata": {
    "id": "831o-NKQSbOI"
   },
   "source": [
    "**Demonstration of chatbot**"
   ]
  },
  {
   "cell_type": "code",
   "execution_count": null,
   "metadata": {
    "id": "4tCDh5MYSYd9"
   },
   "outputs": [],
   "source": [
    "!pip install python-aiml"
   ]
  },
  {
   "cell_type": "code",
   "execution_count": null,
   "metadata": {
    "id": "UzTEUU-Z0ry7"
   },
   "outputs": [],
   "source": [
    "!pip install autocorrect"
   ]
  },
  {
   "cell_type": "code",
   "execution_count": null,
   "metadata": {
    "id": "ClqG-s4fz5_E"
   },
   "outputs": [],
   "source": [
    "import os\n",
    "import aiml\n",
    "from autocorrect import spell\n",
    "\n",
    "BRAIN_FILE=\"/content/drive/MyDrive/NLP/NLG/Assisted Practice 1/aiml_pretrained_model.dump\"\n",
    "\n",
    "k = aiml.Kernel()  #Kernel object is the public interface to the AIML interpreter.\n",
    "\n",
    "if os.path.exists(BRAIN_FILE):\n",
    "    print(\"Loading from brain file: \" + BRAIN_FILE)\n",
    "    k.loadBrain(BRAIN_FILE)\n",
    "else:\n",
    "    print(\"Parsing aiml files\")\n",
    "    k.bootstrap(learnFiles=\"/content/drive/MyDrive/NLP/NLG/Assisted Practice 1/learningFileList.aiml\", commands=\"load aiml\")\n",
    "    print(\"Saving brain file: \" + BRAIN_FILE)\n",
    "    k.saveBrain(BRAIN_FILE)\n",
    "\n",
    "\n",
    "while True:\n",
    "    query = input(\"User > \")\n",
    "    query = [spell(w) for w in (query.split())]\n",
    "    question = \" \".join(query)\n",
    "    response = k.respond(question)     #“respond” method is used to get the response from the learned AIML file.\n",
    "    if response:\n",
    "        print(\"bot > \", response)\n",
    "    else:\n",
    "        print(\"bot > :) \", )"
   ]
  },
  {
   "cell_type": "code",
   "execution_count": 5,
   "metadata": {
    "colab": {
     "base_uri": "https://localhost:8080/"
    },
    "executionInfo": {
     "elapsed": 3228,
     "status": "ok",
     "timestamp": 1687087623063,
     "user": {
      "displayName": "Nisarg Gandhewar",
      "userId": "00173707501276252012"
     },
     "user_tz": -330
    },
    "id": "myZu3lvt0ECb",
    "outputId": "6e4b3b20-c832-4f7f-a188-0decad6cd8e2"
   },
   "outputs": [
    {
     "name": "stdout",
     "output_type": "stream",
     "text": [
      "Drive already mounted at /content/drive; to attempt to forcibly remount, call drive.mount(\"/content/drive\", force_remount=True).\n"
     ]
    }
   ],
   "source": [
    "from google.colab import drive\n",
    "drive.mount('/content/drive')"
   ]
  },
  {
   "cell_type": "code",
   "execution_count": null,
   "metadata": {
    "id": "t1J8hmIisW-J"
   },
   "outputs": [],
   "source": [
    "# custom Chat bot\n",
    "import aiml\n",
    "k = aiml.Kernel()\n",
    "k.learn(\"/content/drive/MyDrive/NLP/NLG/Assisted Practice 1/astrology.aiml\")\n",
    "\n",
    "while True:\n",
    "    reply = k.respond(input(\"User > \"))\n",
    "    if reply:\n",
    "        print(\"bot > \", reply)\n",
    "    else:\n",
    "        print(\"bot > :) \", )"
   ]
  }
 ],
 "metadata": {
  "colab": {
   "provenance": []
  },
  "kernelspec": {
   "display_name": "Python 3 (ipykernel)",
   "language": "python",
   "name": "python3"
  },
  "language_info": {
   "codemirror_mode": {
    "name": "ipython",
    "version": 3
   },
   "file_extension": ".py",
   "mimetype": "text/x-python",
   "name": "python",
   "nbconvert_exporter": "python",
   "pygments_lexer": "ipython3",
   "version": "3.11.3"
  }
 },
 "nbformat": 4,
 "nbformat_minor": 1
}
