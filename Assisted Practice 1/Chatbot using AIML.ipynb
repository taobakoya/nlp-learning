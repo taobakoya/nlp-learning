{
 "cells": [
  {
   "cell_type": "markdown",
   "metadata": {
    "id": "831o-NKQSbOI"
   },
   "source": [
    "**Demonstration of chatbot**"
   ]
  },
  {
   "cell_type": "markdown",
   "metadata": {
    "id": "4tCDh5MYSYd9"
   },
   "source": [
    "!pip install python-aiml"
   ]
  },
  {
   "cell_type": "markdown",
   "metadata": {
    "id": "UzTEUU-Z0ry7"
   },
   "source": [
    "!pip install autocorrect"
   ]
  },
  {
   "cell_type": "code",
   "execution_count": 1,
   "metadata": {
    "id": "ClqG-s4fz5_E"
   },
   "outputs": [
    {
     "name": "stdout",
     "output_type": "stream",
     "text": [
      "Parsing aiml files\n"
     ]
    },
    {
     "ename": "AttributeError",
     "evalue": "module 'time' has no attribute 'clock'",
     "output_type": "error",
     "traceback": [
      "\u001b[1;31m---------------------------------------------------------------------------\u001b[0m",
      "\u001b[1;31mAttributeError\u001b[0m                            Traceback (most recent call last)",
      "Cell \u001b[1;32mIn[1], line 14\u001b[0m\n\u001b[0;32m     12\u001b[0m \u001b[38;5;28;01melse\u001b[39;00m:\n\u001b[0;32m     13\u001b[0m     \u001b[38;5;28mprint\u001b[39m(\u001b[38;5;124m\"\u001b[39m\u001b[38;5;124mParsing aiml files\u001b[39m\u001b[38;5;124m\"\u001b[39m)\n\u001b[1;32m---> 14\u001b[0m     \u001b[43mk\u001b[49m\u001b[38;5;241;43m.\u001b[39;49m\u001b[43mbootstrap\u001b[49m\u001b[43m(\u001b[49m\u001b[43mlearnFiles\u001b[49m\u001b[38;5;241;43m=\u001b[39;49m\u001b[38;5;124;43m\"\u001b[39;49m\u001b[38;5;124;43m/content/drive/MyDrive/NLP/NLG/Assisted Practice 1/learningFileList.aiml\u001b[39;49m\u001b[38;5;124;43m\"\u001b[39;49m\u001b[43m,\u001b[49m\u001b[43m \u001b[49m\u001b[43mcommands\u001b[49m\u001b[38;5;241;43m=\u001b[39;49m\u001b[38;5;124;43m\"\u001b[39;49m\u001b[38;5;124;43mload aiml\u001b[39;49m\u001b[38;5;124;43m\"\u001b[39;49m\u001b[43m)\u001b[49m\n\u001b[0;32m     15\u001b[0m     \u001b[38;5;28mprint\u001b[39m(\u001b[38;5;124m\"\u001b[39m\u001b[38;5;124mSaving brain file: \u001b[39m\u001b[38;5;124m\"\u001b[39m \u001b[38;5;241m+\u001b[39m BRAIN_FILE)\n\u001b[0;32m     16\u001b[0m     k\u001b[38;5;241m.\u001b[39msaveBrain(BRAIN_FILE)\n",
      "File \u001b[1;32m~\\Documents\\PythonWorkspace\\NLP\\nlp-venv\\Lib\\site-packages\\aiml\\Kernel.py:131\u001b[0m, in \u001b[0;36mKernel.bootstrap\u001b[1;34m(self, brainFile, learnFiles, commands, chdir)\u001b[0m\n\u001b[0;32m    113\u001b[0m \u001b[38;5;28;01mdef\u001b[39;00m \u001b[38;5;21mbootstrap\u001b[39m(\u001b[38;5;28mself\u001b[39m, brainFile \u001b[38;5;241m=\u001b[39m \u001b[38;5;28;01mNone\u001b[39;00m, learnFiles \u001b[38;5;241m=\u001b[39m [], commands \u001b[38;5;241m=\u001b[39m [],\n\u001b[0;32m    114\u001b[0m               chdir\u001b[38;5;241m=\u001b[39m\u001b[38;5;28;01mNone\u001b[39;00m):\n\u001b[0;32m    115\u001b[0m \u001b[38;5;250m    \u001b[39m\u001b[38;5;124;03m\"\"\"Prepare a Kernel object for use.\u001b[39;00m\n\u001b[0;32m    116\u001b[0m \n\u001b[0;32m    117\u001b[0m \u001b[38;5;124;03m    If a `brainFile` argument is provided, the Kernel attempts to\u001b[39;00m\n\u001b[1;32m   (...)\u001b[0m\n\u001b[0;32m    129\u001b[0m \u001b[38;5;124;03m    where it was before.\u001b[39;00m\n\u001b[0;32m    130\u001b[0m \u001b[38;5;124;03m    \"\"\"\u001b[39;00m\n\u001b[1;32m--> 131\u001b[0m     start \u001b[38;5;241m=\u001b[39m \u001b[43mtime\u001b[49m\u001b[38;5;241;43m.\u001b[39;49m\u001b[43mclock\u001b[49m()\n\u001b[0;32m    132\u001b[0m     \u001b[38;5;28;01mif\u001b[39;00m brainFile:\n\u001b[0;32m    133\u001b[0m         \u001b[38;5;28mself\u001b[39m\u001b[38;5;241m.\u001b[39mloadBrain(brainFile)\n",
      "\u001b[1;31mAttributeError\u001b[0m: module 'time' has no attribute 'clock'"
     ]
    }
   ],
   "source": [
    "import os\n",
    "import aiml\n",
    "from autocorrect import spell\n",
    "\n",
    "BRAIN_FILE=\"/content/drive/MyDrive/NLP/NLG/Assisted Practice 1/aiml_pretrained_model.dump\"\n",
    "\n",
    "k = aiml.Kernel()  #Kernel object is the public interface to the AIML interpreter.\n",
    "\n",
    "if os.path.exists(BRAIN_FILE):\n",
    "    print(\"Loading from brain file: \" + BRAIN_FILE)\n",
    "    k.loadBrain(BRAIN_FILE)\n",
    "else:\n",
    "    print(\"Parsing aiml files\")\n",
    "    k.bootstrap(learnFiles=\"/content/drive/MyDrive/NLP/NLG/Assisted Practice 1/learningFileList.aiml\", commands=\"load aiml\")\n",
    "    print(\"Saving brain file: \" + BRAIN_FILE)\n",
    "    k.saveBrain(BRAIN_FILE)\n",
    "\n",
    "\n",
    "while True:\n",
    "    query = input(\"User > \")\n",
    "    query = [spell(w) for w in (query.split())]\n",
    "    question = \" \".join(query)\n",
    "    response = k.respond(question)     #“respond” method is used to get the response from the learned AIML file.\n",
    "    if response:\n",
    "        print(\"bot > \", response)\n",
    "    else:\n",
    "        print(\"bot > :) \", )"
   ]
  },
  {
   "cell_type": "code",
   "execution_count": 5,
   "metadata": {
    "colab": {
     "base_uri": "https://localhost:8080/"
    },
    "executionInfo": {
     "elapsed": 3228,
     "status": "ok",
     "timestamp": 1687087623063,
     "user": {
      "displayName": "Nisarg Gandhewar",
      "userId": "00173707501276252012"
     },
     "user_tz": -330
    },
    "id": "myZu3lvt0ECb",
    "outputId": "6e4b3b20-c832-4f7f-a188-0decad6cd8e2"
   },
   "outputs": [
    {
     "name": "stdout",
     "output_type": "stream",
     "text": [
      "Drive already mounted at /content/drive; to attempt to forcibly remount, call drive.mount(\"/content/drive\", force_remount=True).\n"
     ]
    }
   ],
   "source": [
    "from google.colab import drive\n",
    "drive.mount('/content/drive')"
   ]
  },
  {
   "cell_type": "code",
   "execution_count": null,
   "metadata": {
    "id": "t1J8hmIisW-J"
   },
   "outputs": [],
   "source": [
    "# custom Chat bot\n",
    "import aiml\n",
    "k = aiml.Kernel()\n",
    "k.learn(\"/content/drive/MyDrive/NLP/NLG/Assisted Practice 1/astrology.aiml\")\n",
    "\n",
    "while True:\n",
    "    reply = k.respond(input(\"User > \"))\n",
    "    if reply:\n",
    "        print(\"bot > \", reply)\n",
    "    else:\n",
    "        print(\"bot > :) \", )"
   ]
  }
 ],
 "metadata": {
  "colab": {
   "provenance": []
  },
  "kernelspec": {
   "display_name": "Python 3 (ipykernel)",
   "language": "python",
   "name": "python3"
  },
  "language_info": {
   "codemirror_mode": {
    "name": "ipython",
    "version": 3
   },
   "file_extension": ".py",
   "mimetype": "text/x-python",
   "name": "python",
   "nbconvert_exporter": "python",
   "pygments_lexer": "ipython3",
   "version": "3.11.3"
  }
 },
 "nbformat": 4,
 "nbformat_minor": 1
}
