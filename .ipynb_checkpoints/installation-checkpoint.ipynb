{
 "cells": [
  {
   "cell_type": "code",
   "execution_count": 1,
   "id": "266cf8e6",
   "metadata": {},
   "outputs": [
    {
     "name": "stdout",
     "output_type": "stream",
     "text": [
      "Collecting numpy\n",
      "  Using cached numpy-1.24.3-cp311-cp311-win_amd64.whl (14.8 MB)\n",
      "Installing collected packages: numpy\n",
      "Successfully installed numpy-1.24.3\n",
      "Note: you may need to restart the kernel to use updated packages.\n"
     ]
    }
   ],
   "source": [
    "pip install numpy"
   ]
  },
  {
   "cell_type": "code",
   "execution_count": 2,
   "id": "ca15f9d8",
   "metadata": {},
   "outputs": [
    {
     "name": "stdout",
     "output_type": "stream",
     "text": [
      "Collecting pandas\n",
      "  Downloading pandas-2.0.2-cp311-cp311-win_amd64.whl (10.6 MB)\n",
      "                                              0.0/10.6 MB ? eta -:--:--\n",
      "                                              0.2/10.6 MB 4.8 MB/s eta 0:00:03\n",
      "     --                                       0.7/10.6 MB 7.0 MB/s eta 0:00:02\n",
      "     ----                                     1.1/10.6 MB 8.5 MB/s eta 0:00:02\n",
      "     -----                                    1.5/10.6 MB 8.0 MB/s eta 0:00:02\n",
      "     -------                                  1.9/10.6 MB 8.2 MB/s eta 0:00:02\n",
      "     --------                                 2.4/10.6 MB 8.8 MB/s eta 0:00:01\n",
      "     ----------                               2.8/10.6 MB 8.5 MB/s eta 0:00:01\n",
      "     ------------                             3.2/10.6 MB 8.6 MB/s eta 0:00:01\n",
      "     -------------                            3.7/10.6 MB 8.7 MB/s eta 0:00:01\n",
      "     ---------------                          4.1/10.6 MB 9.0 MB/s eta 0:00:01\n",
      "     ----------------                         4.5/10.6 MB 9.0 MB/s eta 0:00:01\n",
      "     ------------------                       4.9/10.6 MB 9.0 MB/s eta 0:00:01\n",
      "     --------------------                     5.4/10.6 MB 9.0 MB/s eta 0:00:01\n",
      "     ---------------------                    5.8/10.6 MB 9.0 MB/s eta 0:00:01\n",
      "     -----------------------                  6.2/10.6 MB 9.0 MB/s eta 0:00:01\n",
      "     ------------------------                 6.5/10.6 MB 9.0 MB/s eta 0:00:01\n",
      "     ---------------------------              7.2/10.6 MB 8.8 MB/s eta 0:00:01\n",
      "     -----------------------------            7.7/10.6 MB 8.8 MB/s eta 0:00:01\n",
      "     ------------------------------           8.2/10.6 MB 8.9 MB/s eta 0:00:01\n",
      "     --------------------------------         8.6/10.6 MB 8.9 MB/s eta 0:00:01\n",
      "     ----------------------------------       9.0/10.6 MB 8.9 MB/s eta 0:00:01\n",
      "     ------------------------------------     9.6/10.6 MB 8.9 MB/s eta 0:00:01\n",
      "     -------------------------------------    10.0/10.6 MB 8.9 MB/s eta 0:00:01\n",
      "     ---------------------------------------  10.5/10.6 MB 9.1 MB/s eta 0:00:01\n",
      "     ---------------------------------------  10.6/10.6 MB 9.0 MB/s eta 0:00:01\n",
      "     ---------------------------------------- 10.6/10.6 MB 8.6 MB/s eta 0:00:00\n",
      "Requirement already satisfied: python-dateutil>=2.8.2 in c:\\users\\tajudeen\\documents\\pythonworkspace\\nlp\\nlp-venv\\lib\\site-packages (from pandas) (2.8.2)\n",
      "Collecting pytz>=2020.1 (from pandas)\n",
      "  Using cached pytz-2023.3-py2.py3-none-any.whl (502 kB)\n",
      "Collecting tzdata>=2022.1 (from pandas)\n",
      "  Using cached tzdata-2023.3-py2.py3-none-any.whl (341 kB)\n",
      "Requirement already satisfied: numpy>=1.21.0 in c:\\users\\tajudeen\\documents\\pythonworkspace\\nlp\\nlp-venv\\lib\\site-packages (from pandas) (1.24.3)\n",
      "Requirement already satisfied: six>=1.5 in c:\\users\\tajudeen\\documents\\pythonworkspace\\nlp\\nlp-venv\\lib\\site-packages (from python-dateutil>=2.8.2->pandas) (1.16.0)\n",
      "Installing collected packages: pytz, tzdata, pandas\n",
      "Successfully installed pandas-2.0.2 pytz-2023.3 tzdata-2023.3\n",
      "Note: you may need to restart the kernel to use updated packages.\n"
     ]
    }
   ],
   "source": [
    "pip install pandas"
   ]
  },
  {
   "cell_type": "code",
   "execution_count": null,
   "id": "5922a544",
   "metadata": {},
   "outputs": [],
   "source": []
  }
 ],
 "metadata": {
  "kernelspec": {
   "display_name": "Python 3 (ipykernel)",
   "language": "python",
   "name": "python3"
  },
  "language_info": {
   "codemirror_mode": {
    "name": "ipython",
    "version": 3
   },
   "file_extension": ".py",
   "mimetype": "text/x-python",
   "name": "python",
   "nbconvert_exporter": "python",
   "pygments_lexer": "ipython3",
   "version": "3.11.3"
  }
 },
 "nbformat": 4,
 "nbformat_minor": 5
}
