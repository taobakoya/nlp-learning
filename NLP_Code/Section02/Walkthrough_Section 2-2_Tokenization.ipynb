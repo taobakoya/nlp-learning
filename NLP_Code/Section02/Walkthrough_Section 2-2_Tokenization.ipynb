{
 "cells": [
  {
   "cell_type": "code",
   "execution_count": 1,
   "metadata": {
    "collapsed": true
   },
   "outputs": [],
   "source": [
    "import nltk\n",
    "text = 'My dog got bored, and decided to chase our cat. So the cat jumped into my arms'"
   ]
  },
  {
   "cell_type": "code",
   "execution_count": 2,
   "metadata": {},
   "outputs": [
    {
     "name": "stdout",
     "output_type": "stream",
     "text": [
      "['My dog got bored, and decided to chase our cat.', 'So the cat jumped into my arms']\n"
     ]
    }
   ],
   "source": [
    "sent_text = nltk.sent_tokenize(text)\n",
    "print(sent_text)"
   ]
  },
  {
   "cell_type": "code",
   "execution_count": 3,
   "metadata": {},
   "outputs": [
    {
     "name": "stdout",
     "output_type": "stream",
     "text": [
      "['My', 'dog', 'got', 'bored', ',', 'and', 'decided', 'to', 'chase', 'our', 'cat', '.', 'So', 'the', 'cat', 'jumped', 'into', 'my', 'arms']\n"
     ]
    }
   ],
   "source": [
    "word_text = nltk.word_tokenize(text)\n",
    "print(word_text)"
   ]
  },
  {
   "cell_type": "code",
   "execution_count": 4,
   "metadata": {},
   "outputs": [
    {
     "name": "stdout",
     "output_type": "stream",
     "text": [
      "['My', 'dog', 'got', 'bored', ',', 'and', 'decided', 'to', 'chase', 'our', 'cat', '.']\n",
      "['So', 'the', 'cat', 'jumped', 'into', 'my', 'arms']\n"
     ]
    }
   ],
   "source": [
    "for sentence in sent_text:\n",
    "    tokenized_text = nltk.word_tokenize(sentence)\n",
    "    print(tokenized_text)"
   ]
  },
  {
   "cell_type": "code",
   "execution_count": 5,
   "metadata": {},
   "outputs": [
    {
     "data": {
      "text/plain": [
       "['That', 'party', 'was', 'sooooo', 'fun', '!', ':D', '#superfun']"
      ]
     },
     "execution_count": 5,
     "metadata": {},
     "output_type": "execute_result"
    }
   ],
   "source": [
    "from nltk.tokenize import TweetTokenizer\n",
    "text = 'That party was sooooo fun! :D #superfun'\n",
    "tknzr = TweetTokenizer()\n",
    "tknzr.tokenize(text)"
   ]
  },
  {
   "cell_type": "code",
   "execution_count": null,
   "metadata": {
    "collapsed": true
   },
   "outputs": [],
   "source": []
  }
 ],
 "metadata": {
  "kernelspec": {
   "display_name": "Python 3",
   "language": "python",
   "name": "python3"
  },
  "language_info": {
   "codemirror_mode": {
    "name": "ipython",
    "version": 3
   },
   "file_extension": ".py",
   "mimetype": "text/x-python",
   "name": "python",
   "nbconvert_exporter": "python",
   "pygments_lexer": "ipython3",
   "version": "3.6.1"
  }
 },
 "nbformat": 4,
 "nbformat_minor": 2
}
