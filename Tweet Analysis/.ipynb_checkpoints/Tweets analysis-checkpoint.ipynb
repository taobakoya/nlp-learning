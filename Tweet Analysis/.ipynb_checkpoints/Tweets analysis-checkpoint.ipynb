{
 "cells": [
  {
   "cell_type": "markdown",
   "metadata": {
    "id": "SxZlNjj8Om_u"
   },
   "source": [
    "# Tweet Analysis\n",
    "\n",
    "## Objective: \n",
    "Analyse tweets on a subject (economy) to identify -   \n",
    "- the top hashtags associated with a target hashtag ('economy')\n",
    "\n",
    "We'll need to perform a lot of clean up during the process. We will - \n",
    "- Normalize case\n",
    "- Tokenize with specific rules\n",
    "- Contextual stop word removal\n",
    "- Cleanup - removal of URLs, User handles\n",
    "\n",
    "Finally, we'll plot the top 10 hashtags that occurred along with '#economy' on a horizontal bar chart"
   ]
  },
  {
   "cell_type": "code",
   "execution_count": 1,
   "metadata": {
    "executionInfo": {
     "elapsed": 437,
     "status": "ok",
     "timestamp": 1685694692662,
     "user": {
      "displayName": "Nisarg Gandhewar",
      "userId": "00173707501276252012"
     },
     "user_tz": -330
    },
    "id": "qihfvmeDOm_2"
   },
   "outputs": [],
   "source": [
    "import pandas as pd"
   ]
  },
  {
   "cell_type": "code",
   "execution_count": 2,
   "metadata": {
    "colab": {
     "base_uri": "https://localhost:8080/",
     "height": 206
    },
    "executionInfo": {
     "elapsed": 783,
     "status": "ok",
     "timestamp": 1685694728536,
     "user": {
      "displayName": "Nisarg Gandhewar",
      "userId": "00173707501276252012"
     },
     "user_tz": -330
    },
    "id": "-mlwmAdeOm_5",
    "outputId": "3b3a3668-0027-45c3-fe9d-1147ac33ba6d"
   },
   "outputs": [
    {
     "data": {
      "text/html": [
       "<div>\n",
       "<style scoped>\n",
       "    .dataframe tbody tr th:only-of-type {\n",
       "        vertical-align: middle;\n",
       "    }\n",
       "\n",
       "    .dataframe tbody tr th {\n",
       "        vertical-align: top;\n",
       "    }\n",
       "\n",
       "    .dataframe thead th {\n",
       "        text-align: right;\n",
       "    }\n",
       "</style>\n",
       "<table border=\"1\" class=\"dataframe\">\n",
       "  <thead>\n",
       "    <tr style=\"text-align: right;\">\n",
       "      <th></th>\n",
       "      <th>Unnamed: 0</th>\n",
       "      <th>0</th>\n",
       "    </tr>\n",
       "  </thead>\n",
       "  <tbody>\n",
       "    <tr>\n",
       "      <th>0</th>\n",
       "      <td>0</td>\n",
       "      <td>Stocks losses deepen as a key recession warnin...</td>\n",
       "    </tr>\n",
       "    <tr>\n",
       "      <th>1</th>\n",
       "      <td>1</td>\n",
       "      <td>RT @CallMeAhmjusAyn: The #economy.\\r\\n@FoxNews...</td>\n",
       "    </tr>\n",
       "    <tr>\n",
       "      <th>2</th>\n",
       "      <td>2</td>\n",
       "      <td>AP Explains: Is the US economy nearing a reces...</td>\n",
       "    </tr>\n",
       "    <tr>\n",
       "      <th>3</th>\n",
       "      <td>3</td>\n",
       "      <td>A @JobCreatorsUSA / https://t.co/JXEt7hQU4k su...</td>\n",
       "    </tr>\n",
       "    <tr>\n",
       "      <th>4</th>\n",
       "      <td>4</td>\n",
       "      <td>Who will stop mr. Mario Draghi and the ECB wit...</td>\n",
       "    </tr>\n",
       "  </tbody>\n",
       "</table>\n",
       "</div>"
      ],
      "text/plain": [
       "   Unnamed: 0                                                  0\n",
       "0           0  Stocks losses deepen as a key recession warnin...\n",
       "1           1  RT @CallMeAhmjusAyn: The #economy.\\r\\n@FoxNews...\n",
       "2           2  AP Explains: Is the US economy nearing a reces...\n",
       "3           3  A @JobCreatorsUSA / https://t.co/JXEt7hQU4k su...\n",
       "4           4  Who will stop mr. Mario Draghi and the ECB wit..."
      ]
     },
     "execution_count": 2,
     "metadata": {},
     "output_type": "execute_result"
    }
   ],
   "source": [
    "inp_tweets0 = pd.read_csv(\"raw_tweets_economy.txt\", sep=\"\\t\")\n",
    "inp_tweets0.head()"
   ]
  },
  {
   "cell_type": "markdown",
   "metadata": {
    "id": "1Qmgij0IOm_8"
   },
   "source": [
    "#### Drop the column '0', rename column '1' to 'tweet'"
   ]
  },
  {
   "cell_type": "code",
   "execution_count": 3,
   "metadata": {
    "executionInfo": {
     "elapsed": 448,
     "status": "ok",
     "timestamp": 1685694750619,
     "user": {
      "displayName": "Nisarg Gandhewar",
      "userId": "00173707501276252012"
     },
     "user_tz": -330
    },
    "id": "L_AkDU2AOm_9"
   },
   "outputs": [],
   "source": [
    "inp_tweets0.drop('Unnamed: 0', inplace=True, axis=1)"
   ]
  },
  {
   "cell_type": "code",
   "execution_count": 4,
   "metadata": {
    "colab": {
     "base_uri": "https://localhost:8080/"
    },
    "executionInfo": {
     "elapsed": 6,
     "status": "ok",
     "timestamp": 1685694752647,
     "user": {
      "displayName": "Nisarg Gandhewar",
      "userId": "00173707501276252012"
     },
     "user_tz": -330
    },
    "id": "qNmvdVKgOm_-",
    "outputId": "a6c7190c-6556-4bf2-b75d-2e0cd365caae"
   },
   "outputs": [
    {
     "data": {
      "text/plain": [
       "(500, 1)"
      ]
     },
     "execution_count": 4,
     "metadata": {},
     "output_type": "execute_result"
    }
   ],
   "source": [
    "inp_tweets0.shape"
   ]
  },
  {
   "cell_type": "code",
   "execution_count": 5,
   "metadata": {
    "colab": {
     "base_uri": "https://localhost:8080/",
     "height": 206
    },
    "executionInfo": {
     "elapsed": 461,
     "status": "ok",
     "timestamp": 1685694755417,
     "user": {
      "displayName": "Nisarg Gandhewar",
      "userId": "00173707501276252012"
     },
     "user_tz": -330
    },
    "id": "RCLWXa3NOm__",
    "outputId": "d94f2bb8-99f0-4c67-99e1-1321772e69cb"
   },
   "outputs": [
    {
     "data": {
      "text/html": [
       "<div>\n",
       "<style scoped>\n",
       "    .dataframe tbody tr th:only-of-type {\n",
       "        vertical-align: middle;\n",
       "    }\n",
       "\n",
       "    .dataframe tbody tr th {\n",
       "        vertical-align: top;\n",
       "    }\n",
       "\n",
       "    .dataframe thead th {\n",
       "        text-align: right;\n",
       "    }\n",
       "</style>\n",
       "<table border=\"1\" class=\"dataframe\">\n",
       "  <thead>\n",
       "    <tr style=\"text-align: right;\">\n",
       "      <th></th>\n",
       "      <th>0</th>\n",
       "    </tr>\n",
       "  </thead>\n",
       "  <tbody>\n",
       "    <tr>\n",
       "      <th>0</th>\n",
       "      <td>Stocks losses deepen as a key recession warnin...</td>\n",
       "    </tr>\n",
       "    <tr>\n",
       "      <th>1</th>\n",
       "      <td>RT @CallMeAhmjusAyn: The #economy.\\r\\n@FoxNews...</td>\n",
       "    </tr>\n",
       "    <tr>\n",
       "      <th>2</th>\n",
       "      <td>AP Explains: Is the US economy nearing a reces...</td>\n",
       "    </tr>\n",
       "    <tr>\n",
       "      <th>3</th>\n",
       "      <td>A @JobCreatorsUSA / https://t.co/JXEt7hQU4k su...</td>\n",
       "    </tr>\n",
       "    <tr>\n",
       "      <th>4</th>\n",
       "      <td>Who will stop mr. Mario Draghi and the ECB wit...</td>\n",
       "    </tr>\n",
       "  </tbody>\n",
       "</table>\n",
       "</div>"
      ],
      "text/plain": [
       "                                                   0\n",
       "0  Stocks losses deepen as a key recession warnin...\n",
       "1  RT @CallMeAhmjusAyn: The #economy.\\r\\n@FoxNews...\n",
       "2  AP Explains: Is the US economy nearing a reces...\n",
       "3  A @JobCreatorsUSA / https://t.co/JXEt7hQU4k su...\n",
       "4  Who will stop mr. Mario Draghi and the ECB wit..."
      ]
     },
     "execution_count": 5,
     "metadata": {},
     "output_type": "execute_result"
    }
   ],
   "source": [
    "inp_tweets0.head()"
   ]
  },
  {
   "cell_type": "markdown",
   "metadata": {
    "id": "HgaZ7dTWOnAA"
   },
   "source": [
    "Renaming the column"
   ]
  },
  {
   "cell_type": "code",
   "execution_count": 6,
   "metadata": {
    "colab": {
     "base_uri": "https://localhost:8080/",
     "height": 206
    },
    "executionInfo": {
     "elapsed": 520,
     "status": "ok",
     "timestamp": 1685694767092,
     "user": {
      "displayName": "Nisarg Gandhewar",
      "userId": "00173707501276252012"
     },
     "user_tz": -330
    },
    "id": "M_WZBRzDOnAC",
    "outputId": "df34dc46-f8e0-4d04-b2bf-1cf03b1da2ee"
   },
   "outputs": [
    {
     "data": {
      "text/html": [
       "<div>\n",
       "<style scoped>\n",
       "    .dataframe tbody tr th:only-of-type {\n",
       "        vertical-align: middle;\n",
       "    }\n",
       "\n",
       "    .dataframe tbody tr th {\n",
       "        vertical-align: top;\n",
       "    }\n",
       "\n",
       "    .dataframe thead th {\n",
       "        text-align: right;\n",
       "    }\n",
       "</style>\n",
       "<table border=\"1\" class=\"dataframe\">\n",
       "  <thead>\n",
       "    <tr style=\"text-align: right;\">\n",
       "      <th></th>\n",
       "      <th>tweet</th>\n",
       "    </tr>\n",
       "  </thead>\n",
       "  <tbody>\n",
       "    <tr>\n",
       "      <th>0</th>\n",
       "      <td>Stocks losses deepen as a key recession warnin...</td>\n",
       "    </tr>\n",
       "    <tr>\n",
       "      <th>1</th>\n",
       "      <td>RT @CallMeAhmjusAyn: The #economy.\\r\\n@FoxNews...</td>\n",
       "    </tr>\n",
       "    <tr>\n",
       "      <th>2</th>\n",
       "      <td>AP Explains: Is the US economy nearing a reces...</td>\n",
       "    </tr>\n",
       "    <tr>\n",
       "      <th>3</th>\n",
       "      <td>A @JobCreatorsUSA / https://t.co/JXEt7hQU4k su...</td>\n",
       "    </tr>\n",
       "    <tr>\n",
       "      <th>4</th>\n",
       "      <td>Who will stop mr. Mario Draghi and the ECB wit...</td>\n",
       "    </tr>\n",
       "  </tbody>\n",
       "</table>\n",
       "</div>"
      ],
      "text/plain": [
       "                                               tweet\n",
       "0  Stocks losses deepen as a key recession warnin...\n",
       "1  RT @CallMeAhmjusAyn: The #economy.\\r\\n@FoxNews...\n",
       "2  AP Explains: Is the US economy nearing a reces...\n",
       "3  A @JobCreatorsUSA / https://t.co/JXEt7hQU4k su...\n",
       "4  Who will stop mr. Mario Draghi and the ECB wit..."
      ]
     },
     "execution_count": 6,
     "metadata": {},
     "output_type": "execute_result"
    }
   ],
   "source": [
    "inp_tweets0 = inp_tweets0.rename({'0':'tweet'}, axis=1)\n",
    "inp_tweets0.head()"
   ]
  },
  {
   "cell_type": "code",
   "execution_count": 8,
   "metadata": {
    "colab": {
     "base_uri": "https://localhost:8080/"
    },
    "executionInfo": {
     "elapsed": 515,
     "status": "ok",
     "timestamp": 1685695259024,
     "user": {
      "displayName": "Nisarg Gandhewar",
      "userId": "00173707501276252012"
     },
     "user_tz": -330
    },
    "id": "mFYOGU8WOnAD",
    "outputId": "d9924809-5973-4344-b98d-1f278e0cf72b"
   },
   "outputs": [
    {
     "data": {
      "text/plain": [
       "array(['In order to shift the blame, #tRump attacks everyone else -- no, the buck good or bad stops at the white house whic… https://t.co/EZMovNLlZM'],\n",
       "      dtype=object)"
      ]
     },
     "execution_count": 8,
     "metadata": {},
     "output_type": "execute_result"
    }
   ],
   "source": [
    "inp_tweets0.tweet.sample().values # to fetch random tweet\n",
    "# inp_tweets0.tweet.sample() "
   ]
  },
  {
   "cell_type": "markdown",
   "metadata": {
    "id": "eNaTJAkFOnAE"
   },
   "source": [
    "#### Get the tweets into a list, for easy text clean up and manipulation"
   ]
  },
  {
   "cell_type": "code",
   "execution_count": 9,
   "metadata": {
    "executionInfo": {
     "elapsed": 512,
     "status": "ok",
     "timestamp": 1685695312270,
     "user": {
      "displayName": "Nisarg Gandhewar",
      "userId": "00173707501276252012"
     },
     "user_tz": -330
    },
    "id": "ffn0SEs4OnAF"
   },
   "outputs": [],
   "source": [
    "tweets0 = inp_tweets0.tweet.values\n"
   ]
  },
  {
   "cell_type": "code",
   "execution_count": 10,
   "metadata": {},
   "outputs": [
    {
     "data": {
      "text/plain": [
       "array(['Stocks losses deepen as a key recession warning surfaces @GOP #economy #fail #collapse #recession #gop #greed… https://t.co/F8kazAixUk',\n",
       "       \"RT @CallMeAhmjusAyn: The #economy.\\r\\n@FoxNews @realDonaldTrump \\r\\n#Trump is an ejit.\\r\\n#maga #TrumpTrain2020 #sheeple are idiot's.\\r\\n#farming #Trad…\",\n",
       "       'AP Explains: Is the US economy nearing a recession? \\r\\n#Business\\r\\n#Economy\\r\\n#Recession\\r\\n#TradeWar\\r\\n#China\\r\\n#EU… https://t.co/0jtsR2kSxi',\n",
       "       'A @JobCreatorsUSA / https://t.co/JXEt7hQU4k survey completed Tuesday, 56% rated the #economy as good or excellent,… https://t.co/j1XMiptADx',\n",
       "       'Who will stop mr. Mario Draghi and the ECB with this counterproductive course of money dumping / zero interests? It… https://t.co/eweIrVuOK0',\n",
       "       'Studying on Quizlet: The economy in Argentina\\r\\nhttps://t.co/H95pL722qj #economy #LearnEnglish #businessenglish',\n",
       "       'RT @RKrivoFX: U.S. #Futures Rebound on #Trade Comments, #Earnings https://t.co/wXV3rzZ1yp #Currency #Trading #Forex #FX #Markets #Economy',\n",
       "       'RT @elerianm: Looking forward to discussing all this -- and more -- on @SquawkCNBC in about ten minutes with @JoeSquawk , @BeckyQuick and @…',\n",
       "       '@JohnJHarwood @reginaw50361 The #economy is like a camp fire. #trump took a good steady burning and growing… https://t.co/UUU6JItenk',\n",
       "       \"The #economy.\\r\\n@FoxNews @realDonaldTrump \\r\\n#Trump is an ejit.\\r\\n#maga #TrumpTrain2020 #sheeple are idiot's.\\r\\n#farming… https://t.co/lcafhCurTH\",\n",
       "       \"@aparanjape Why @iitmpune isn't sharing such information @IMDWeather @Hosalikar_KS to mitigate #Floods2019… https://t.co/M2DhqVU3OS\",\n",
       "       'RT @aseip1: A recession is looming in the US. It will affect us in Canada too. Prime Minister Trudeau has our economy running very well and…',\n",
       "       'Looking forward to discussing all this -- and more -- on @SquawkCNBC in about ten minutes with @JoeSquawk ,… https://t.co/y8GQNtSx16',\n",
       "       'RT @aseip1: A recession is looming in the US. It will affect us in Canada too. Prime Minister Trudeau has our economy running very well and…',\n",
       "       'The White House is sensitive to expectations for the economy and the financial markets. https://t.co/dKsX2DKcH8 via… https://t.co/1xCUb9Sjdk',\n",
       "       \"#Thursday's edition of #ConversationsDailyNews feat. #news, #TruthoftheDay w/ @askmaryellen, #music by #singer… https://t.co/rZUCrOmhMG\",\n",
       "       'The  #InvertedYieldCurve in the U.S. remains inverted today, for the second day in a row, deepening worries the… https://t.co/zDWE2UGumR',\n",
       "       'RT @michaeljohns: .@realDonaldTrump has transformed (and expanded) the Republican Party, making it the party of blue collar working America…',\n",
       "       'Hungary GDP growth up 5.1 percent in Q2 year-on-year https://t.co/mK6l5ySls3 #Economy https://t.co/eQQT8822Zi #472',\n",
       "       'Industrial production down by 1.6% in euro area https://t.co/W72iqDOREs #Economy https://t.co/eQQT8822Zi #134',\n",
       "       'Indonesia trade gap narrows sharply in July https://t.co/JHq9m8pNYT #Economy https://t.co/eQQT8822Zi #140',\n",
       "       'Value of exports from Ireland falls 2bn euros in one month https://t.co/M3INKzGd2G #Economy https://t.co/eQQT8822Zi #785',\n",
       "       'RT @satishacharya: Economic slowdown! #economy https://t.co/BZTLN4DmBh',\n",
       "       'One can easily predict a Slow Down in the #Economy by just observing the rush of vehicles at various #TollWays in t… https://t.co/JbbZdw7SMO',\n",
       "       '#Travel  \"The real voyage of discovery consists not in seeking new landscapes, but in having new eye\" - Marcel Prou… https://t.co/TWfXbNVT0y',\n",
       "       \"So yesterday makes it official.\\r\\nTrump's done.\\r\\nGoing to be a painful decade of heartfelt apologies from the GOP.… https://t.co/OjDZI3orfb\",\n",
       "       \"RT @AlanTonelson: I don't agree with every single analytical point but this @agaryshilling column contains lots of useful info about #China…\",\n",
       "       'Q&amp;A: CME’s Blu Putnam on reconstructing the order book, rate cuts and slowdowns\\r\\n\\r\\nhttps://t.co/qM9XNZLNhq\\r\\n\\r\\n#fintech… https://t.co/mhO27T9rPl',\n",
       "       \"After 7 years, the world's largest #company by market cap has changed. Who is the new leader? Find out in @PwC's Gl… https://t.co/y3qTUp4tls\",\n",
       "       '5 maneiras comprovadas que Bitcoin mudou o conceito de dinheiro\\r\\nhttps://t.co/0w3NpnWjAs\\r\\n#altcoins #bitcoin… https://t.co/aWftzRBmOB',\n",
       "       \"[A lire] dans @Socialter 🗞\\r\\nExcellente tribune d'Alain Caillé sur la gratuité et le don comme possibilité d'émancipa… https://t.co/OgNIpvnUoa\",\n",
       "       \"RT @AlanTonelson: I don't agree with every single analytical point but this @agaryshilling column contains lots of useful info about #China…\",\n",
       "       'RT @satishacharya: Economic slowdown! #economy https://t.co/BZTLN4DmBh',\n",
       "       '【#RETWEET】PressTV - Over 146 millions live in #poverty in US 【https://t.co/g6FbiNcjPK\\u3000https://t.co/vZU9eCGIe8】#child #ows #teaparty #economy',\n",
       "       'Ready for a AI bartender to serve your next cocktail?  Welcome to the next level of the #experience #economy. Click… https://t.co/iCRtWgwd8l',\n",
       "       'RT @byHeatherLong: 9 major economies are in recession or on the verge of it. Can the US stay solid with so much trouble around the globe? I…',\n",
       "       '#Economy #StocksDrop \\r\\n\\r\\nthe stock market is a giant ponzi scheme\\r\\nin for the long haul, but taken every 10 years\\r\\nyour… https://t.co/bECfDRiuCv',\n",
       "       \"''İngiltere'nin Sanayi Üretimi Haziran Ayında Geçen Yıla Göre %0,6 Azaldı.'' \\r\\n#Ekonomi \\r\\n#economy \\r\\n#sanayi \\r\\n#üretim… https://t.co/ev7jxVCAyX\",\n",
       "       'RT @michaeljohns: .@realDonaldTrump has transformed (and expanded) the Republican Party, making it the party of blue collar working America…',\n",
       "       'FRED Adds Quarterly Summary of State and Local Government Tax Revenue | St. Louis Fed Economic Research \\u2066… https://t.co/6i5dhXAFm8',\n",
       "       'Global stock markets were mostly lower Thursday after Wall Street fell on mounting fears of a possible recession… https://t.co/6PmlgPsKRK',\n",
       "       '“By 2020, 40% of all #consumers will be from #GenerationZ. By 2025, their purchasing decisions will be the single b… https://t.co/qCxCPjvNC2',\n",
       "       'RT @RecessionAlert2: This yield curve #inversion IS DIFFERENT. The average of prior 7 inversions before #recession were against a backdrop…',\n",
       "       'RT @RecessionAlert2: This yield curve #inversion IS DIFFERENT. The average of prior 7 inversions before #recession were against a backdrop…',\n",
       "       'Interesting article by Bloomberg on the debate that is gripping the #markets: whether #yield #curve inversions real… https://t.co/qMb9UN71kR',\n",
       "       \"''İngiltere'nin Sanayi Üretimi Haziran Ayında Bir Önceki Aya Göre %0,1 Azaldı.'' \\r\\n#Ekonomi \\r\\n#economy \\r\\n#sanayi… https://t.co/Wv9cjMBsU8\",\n",
       "       'RT @St_Patriot_1994: @AskmoreNorman @DrDeplorable60 @Cromag_19 @_TheRealBreeze_ @4Annie444 @CaliChick777 @DrDJ83 @JSpragens @Krm1285A @krun…',\n",
       "       'RT @EvgenyChernyav: {!§ö.┴ #Markets #Finance #Technology #Network #weekend #software #Economy #Investment https://t.co/TcG1onszoc https://t…',\n",
       "       '@realDonaldTrump Wow! You are welcome. Bernie will banish the bad rich. Hahaha!\\r\\n#BernieSanders #Bernie #Trump #MAGA #economy',\n",
       "       '{!§ö.┴ #Markets #Finance #Technology #Network #weekend #software #Economy #Investment https://t.co/TcG1onszoc https://t.co/99olsBSQMu',\n",
       "       'Expanding cautiously is the best way to build a #business even if the #economy is slowing. Keep a healthy #cash res… https://t.co/fDIh8Nyyzb',\n",
       "       'RT @MPD1Tweets: Feeling good about this, tough guy @realDonaldTrump? Market down 800 &amp; looking at worse day today? How’s all that winning w…',\n",
       "       'RT @michaeljohns: .@realDonaldTrump has transformed (and expanded) the Republican Party, making it the party of blue collar working America…',\n",
       "       'https://t.co/bifSQOuEmq vs #Uber/#Lyft\\r\\n#Rideshare #Taxi #CryptoCurrencyNews\\r\\n#BlockchainNews #BitcoinNews #Economy… https://t.co/lTvCBMLBkW',\n",
       "       \"''İngiltere'nin Temmuz Ayı İmalat PMI Verisi 48 Oldu.''\\r\\n#Ekonomi \\r\\n#economy \\r\\n#imalat \\r\\n#hizmet \\r\\n#PMI \\r\\n#ingiltere… https://t.co/FwRBxGdhxO\",\n",
       "       '#AmericanAirlines y #United venden millas con bono adicional ¿Cómo le sacamos valor?\\r\\n#business #economy #firstclass… https://t.co/yzhMQ0WZH4',\n",
       "       '#AmericanAirlines y #United venden millas con bono adicional ¿Cómo le sacamos valor?\\r\\n#business #economy #firstclass… https://t.co/BmBhLSRbTy',\n",
       "       'RT @dcbat: When will the #UnitedStates #economy go into a #recession?\\r\\n\\r\\nVote and retweet.  \\r\\n\\r\\n#WednesdayAfternoon #WednesdayMotivation #Wedne…',\n",
       "       '#EconomicSlowdown #economy #US #TradeWar #macroecon #treasurynote #Tnote #bond #warning\\r\\n#econrecession #recession… https://t.co/ReAdbsycqe',\n",
       "       'Commentary: Truck drivers are aging… or are we entering a golden age in trucking?\\r\\nhttps://t.co/tMua2DZkDs\\r\\n.\\r\\n.\\r\\n.… https://t.co/dk45RNVfAK',\n",
       "       'A new ship lift is expected to bring in $260 million into the Northern Territory’s #economy every year and create a… https://t.co/rYqShc8jtj',\n",
       "       'This yield curve #inversion IS DIFFERENT. The average of prior 7 inversions before #recession were against a backdr… https://t.co/oLkN2CWGpa',\n",
       "       'Petstages Rag Rope Ball #dogfood #sales #happy #cute\\r\\nRag Rope Ball is an interactive toy which gives thoughtful act… https://t.co/5zd61Gf4HF',\n",
       "       \"NEW RELEASE: The #LeaseFoundation's Monthly Confidence Index for the #equipmentfinance industry increases in August… https://t.co/oqj0OGmQac\",\n",
       "       'THE THANK YOU ECONOMY 👉 https://t.co/RtpANYozE0 #economy #book #game #amazon #world',\n",
       "       'When times get tough - who pays the price?  Why charities are the real victims of recession:… https://t.co/lnOgLI5y2i',\n",
       "       \"#Bankers are #NeverTrumpers and #AntiAmerican  so why wouldn't the #economy tank before #2020elections. But who wou… https://t.co/qMkFfwIkXg\",\n",
       "       '45, you managed to destroy an economy that was robust for nearly 10 years. All by yourself.\\r\\n @realDonaldTrump… https://t.co/lA1QKPx2vg',\n",
       "       'U.S. #Futures Rebound on #Trade Comments, #Earnings https://t.co/wXV3rzZ1yp #Currency #Trading #Forex #FX #Markets #Economy',\n",
       "       'The question now is: Where does it go from here? #TheInfiniteAge #DowDrop #dowjones #StockMarketCrash #economy… https://t.co/teyB1CI0xK',\n",
       "       'RT @michaeljohns: .@realDonaldTrump has transformed (and expanded) the Republican Party, making it the party of blue collar working America…',\n",
       "       'Bond yield has to remain inverted for at least a quarter to be reliable sign of recession. But with Trump antics th… https://t.co/FSaPY86aRW',\n",
       "       'The low rates in the #bondmarket are giving @realDonaldTrump a free pass to run massive deficits, and pump prime th… https://t.co/VAg5o4ektF',\n",
       "       '’معیشت درست سمت کی جانب گامزن ہے‘\\r\\nRead More: https://t.co/29V6P1Ph44\\r\\n#DawnNews \\r\\n#Pakistan \\r\\n#StateBank\\r\\n#Economy https://t.co/PQ7Lcp9wca',\n",
       "       'Ireland Trade Surplus Falls In June https://t.co/NT4LnEi5sP #economy #economics #rttnews https://t.co/afbIICL0vo',\n",
       "       'Latvia Jobless Rate Slows In Q2 https://t.co/fTHasISqit #economy #economics #rttnews https://t.co/P22VWw2Bfp',\n",
       "       'RT @byHeatherLong: 9 major economies are in recession or on the verge of it. Can the US stay solid with so much trouble around the globe? I…',\n",
       "       'Think tank @NEF recommends bolstering #wages and paid annual leave to boost #productivity in the UK:… https://t.co/1COueWfPUp',\n",
       "       'But post March 2019, there is an intriguing sharp escalation in the outstanding domestic debt from Rs.1,870 billion… https://t.co/FYVqT346ns',\n",
       "       'RT @byHeatherLong: 9 major economies are in recession or on the verge of it. Can the US stay solid with so much trouble around the globe? I…',\n",
       "       'When u have all sold out shows and u still take the economy flight... Wow! Legends Hahahahh Love the hashtag peej… https://t.co/p6VshG1Lfq',\n",
       "       'Worse performance of the YEAR! How does that #winning thing work again??? #economy #MAGA2020 #TrumpIsAFraud… https://t.co/TanrxdxykR',\n",
       "       'RT @byHeatherLong: 9 major economies are in recession or on the verge of it. Can the US stay solid with so much trouble around the globe? I…',\n",
       "       'RT @byHeatherLong: 9 major economies are in recession or on the verge of it. Can the US stay solid with so much trouble around the globe? I…',\n",
       "       'RT @byHeatherLong: 9 major economies are in recession or on the verge of it. Can the US stay solid with so much trouble around the globe? I…',\n",
       "       'RT @RT_America: What really drove Dow crash? (Full show) \\r\\n\\r\\n@RickSanchezTV\\r\\n\\r\\n#DowJones #recession #Economy #HongKong\\r\\n#Huawei \\r\\n\\r\\nhttps://t.co/n…',\n",
       "       'RT @byHeatherLong: 9 major economies are in recession or on the verge of it. Can the US stay solid with so much trouble around the globe? I…',\n",
       "       'RT @satishacharya: Economic slowdown! #economy https://t.co/BZTLN4DmBh',\n",
       "       'RT @smartdublin: Launch of the 18th edition of the Dublin Economic Monitor. See the full report here: https://t.co/KTUXRHOpSS\\r\\n@DubCityCounc…',\n",
       "       'RT @byHeatherLong: 9 major economies are in recession or on the verge of it. Can the US stay solid with so much trouble around the globe? I…',\n",
       "       'What does #evidence tell us about the most effective ways to achieve #development #outcomes in sectors like… https://t.co/QBj0Sm1dlq',\n",
       "       'Understanding Your #Conservative #SNOWFLAKE #Family – Christopher Oldcorn\\r\\n\\r\\n#Politics #government #religion… https://t.co/txw6w8ZmBg',\n",
       "       'RT @byHeatherLong: 9 major economies are in recession or on the verge of it. Can the US stay solid with so much trouble around the globe? I…',\n",
       "       'RT @KathrynTaetzsch: What creates #business continuity in man-made #disasters, #conflict and #drought with resulting impact on #SMEs? @ILO…',\n",
       "       \"RT @themankhosi: Read:\\r\\n\\r\\nPresident Cyril Ramaphosa's #CR17 Funder, #TonyGeorgiades,\\r\\n\\r\\n#FWdeKlerk and the #ArmsDeal #Corruption.\\r\\n\\r\\nI repeat mys…\",\n",
       "       \"RT @TokoinOfficial: What is Tokoin and why does Tokoin matter so much for Indonesia's economic growth in the future? Watch it here and unde…\",\n",
       "       'The #GSM Association (GSMA) says in its Mobile #Economy, Sub-Saharan Africa 2019 report that the region will remain… https://t.co/6lf4Txhdvn',\n",
       "       'RT @GGeoffwitha: Dear @BreakfastNews @RossAndJohn @sunriseon7 @9NewsAUS @theprojecttv \\r\\nSo @JoshFrydenberg has told a meeting in Burnie yest…',\n",
       "       'RT @byHeatherLong: 9 major economies are in recession or on the verge of it. Can the US stay solid with so much trouble around the globe? I…',\n",
       "       'RT @elerianm: #Bloomberg on the $2 billion stimulus package announced today by the #HongKong government this morning.\\r\\n\\r\\nTargeting both the h…',\n",
       "       \"RT @tahamuqri33: #India's recent escalation of tensions with Pakistan is because Indian #economy is slowing and #BJP is trying to hide it b…\",\n",
       "       'RT @smartdublin: Launch of the 18th edition of the Dublin Economic Monitor. See the full report here: https://t.co/KTUXRHOpSS\\r\\n@DubCityCounc…',\n",
       "       '@cnni China received only the market economy and returned human rights and democracy.\\r\\n#economy #HongKongAirport… https://t.co/09LoCiBjKg',\n",
       "       'The #GSM Association (GSMA) says in its Mobile #Economy, Sub-Saharan Africa #2019 report that the region will remai… https://t.co/rL9vZZS12d',\n",
       "       'RT @byHeatherLong: 9 major economies are in recession or on the verge of it. Can the US stay solid with so much trouble around the globe? I…',\n",
       "       'RT @anshuman1tiwari: Market registered biggest single day fall in a month. #Sensex returned to below 37,000 &amp; #Nifty 11,000. #yesbank down…',\n",
       "       '\"Socio-economics at the heart of South Africa\\'s xenophobic shame\"\\r\\n\\r\\nhttps://t.co/h5a4u5m95v\\r\\n\\r\\n#xenophobic \\r\\n#africa… https://t.co/RziM4Go6oM',\n",
       "       'RT @ashutosh83B: वीडियो विश्लेषण। अर्थ व्यवस्था की हालत ख़राब। \\r\\n\\r\\nऑटो\\xa0इंडस्ट्री: 10 लाख लोगों के बेरोज़गार होने का ख़तरा \\r\\n\\r\\n#economy #Economi…',\n",
       "       'RT @IncognitoA33: DoU care about the deficit?\\r\\n\\r\\nDeficit went down under Clinton &amp; Obama but went significantly up under Republicans Trump, B…',\n",
       "       \"RT @tahamuqri33: #India's recent escalation of tensions with Pakistan is because Indian #economy is slowing and #BJP is trying to hide it b…\",\n",
       "       'The 2020 presidential election is shaping up to be a simple IQ test. Prosperity under Trump, or racial division, co… https://t.co/KzCdaMIvaX',\n",
       "       'That moment when tp gets smashed #xauusd #trading #fx\\r\\n#fxtrading #topdownapproach #support #resistance… https://t.co/pWB2QMmYRl',\n",
       "       'DoU care about the deficit?\\r\\n\\r\\nDeficit went down under Clinton &amp; Obama but went significantly up under Republicans Tr… https://t.co/ooKn9hcoTa',\n",
       "       'RT @smartdublin: Launch of the 18th edition of the Dublin Economic Monitor. See the full report here: https://t.co/KTUXRHOpSS\\r\\n@DubCityCounc…',\n",
       "       'प्रधानमंत्री मोदी ने सीतारमण के साथ मिल कर की अर्थव्यवस्था की समीक्षा\\r\\n\\r\\n#Business @PMOIndia @nsitharaman #economy \\r\\n\\r\\nhttps://t.co/NXG0SLsCaD',\n",
       "       'प्रधानमंत्री मोदी ने सीतारमण के साथ मिल कर की अर्थव्यवस्था की समीक्षा\\r\\n\\r\\n#Business @PMOIndia @nsitharaman #economy \\r\\n\\r\\n https://t.co/7AAUif4RaR',\n",
       "       'European asset managers urges direct cash transfer to households &amp; businesses as \"more of the same simply won\\'t wor… https://t.co/k1Q70keBhk',\n",
       "       'RT @satishacharya: Economic slowdown! #economy https://t.co/BZTLN4DmBh',\n",
       "       '@shahidboss4U @ImranKhanPTI @narendramodi He was speaking to nation on 14th Aug. And Just rising his Political Agen… https://t.co/9b2NU7LW3H',\n",
       "       'RT @IMFNews: When a #country goes into an economic crisis, why do they turn to the IMF? #finance #economy https://t.co/ZxsbIfwWBy',\n",
       "       '#economy #stocks #recession2019 https://t.co/Q0DNUuNba5',\n",
       "       'RT @satishacharya: Economic slowdown! #economy https://t.co/BZTLN4DmBh',\n",
       "       'RT @VisionMechX: #HappyRakshabandhan #RakshaBandhan2019 #india #visionmechatronics #lithium #batteries #liberate #gogreen #ecofriendly #eco…',\n",
       "       'RT @globegov: World #economy is in trouble, former UK Cabinet Secretary @Gus_ODonnell told the 2019 Global Government Summit. Govts must be…',\n",
       "       'प्रधानमंत्री मोदी ने सीतारमण के साथ मिल कर की अर्थव्यवस्था की समीक्षा\\r\\n\\r\\n#Business @PMOIndia @nsitharaman #economy \\r\\n\\r\\nhttps://t.co/NbSGQYYoH3',\n",
       "       'We should add: Don\\'t let the Democrats and their #media allies get away with \"talking down\" the record-breaking Tru… https://t.co/59F2zOkVf0',\n",
       "       'RT @smartdublin: Launch of the 18th edition of the Dublin Economic Monitor. See the full report here: https://t.co/KTUXRHOpSS\\r\\n@DubCityCounc…',\n",
       "       'RT @GGeoffwitha: Dear @BreakfastNews @RossAndJohn @sunriseon7 @9NewsAUS @theprojecttv \\r\\nSo @JoshFrydenberg has told a meeting in Burnie yest…',\n",
       "       'RT @byHeatherLong: 9 major economies are in recession or on the verge of it. Can the US stay solid with so much trouble around the globe? I…',\n",
       "       'US stocks are set to rally after historic Treasuries meltdown that sent equities plunging https://t.co/MPgm60kSUX… https://t.co/a1CMeTaNVc',\n",
       "       'RT @byHeatherLong: 9 major economies are in recession or on the verge of it. Can the US stay solid with so much trouble around the globe? I…',\n",
       "       'RT @byHeatherLong: 9 major economies are in recession or on the verge of it. Can the US stay solid with so much trouble around the globe? I…',\n",
       "       '#HappyRakshabandhan #RakshaBandhan2019 #india #visionmechatronics #lithium #batteries #liberate #gogreen… https://t.co/A2vLzczqPf',\n",
       "       'RT @NorbertElekes: Share of GDP generated by tourism\\r\\n\\r\\nJapan:      1.9%\\r\\nUSA:         2.8%\\r\\nUK, India: 3.7%\\r\\nTurkey:     4.3%\\r\\n\\r\\nItaly:…',\n",
       "       'RT @VisionMechX: #HappyIndependenceDay #IndiaIndependenceDay #visionmechatronics #lithium #batteries #energy #freedom #liberate #gogreen #e…',\n",
       "       'RT @gerikovacs1: Energy efficiency drives consumption. The more efficient we are, the more we consume, more stuff we burn, more CO2 in the…',\n",
       "       \"RT @SP_RECcttee: We're seeking views on how recent spending decisions on roads maintenance has affected the quality of #Scotland’s roads, #…\",\n",
       "       'RT @satishacharya: Economic slowdown! #economy https://t.co/BZTLN4DmBh',\n",
       "       '“Americans are crippled by debt and seeing signs of a slowing economy.”\\r\\n\\r\\nI’m not going to lie, getting the daily… https://t.co/66sxPUiSX7',\n",
       "       'The Jordanian #economy has continued to expand despite a myriad of regional #challenges. But which sectors are driv… https://t.co/iqsTwqY5sw',\n",
       "       'RT @DennikN: Začalo odpočítavanie do ďalšej recesie. Nebude to zajtra, nejde o nič nové, netreba\\xa0 panikáriť… https://t.co/AfOzLtRAgX',\n",
       "       \"🇮🇳PLZZ don't try 2make me mad, impotent, criminal. stop unbelievable harass, don't force4suicide, if I criminal kil… https://t.co/qoqTSzvyz9\",\n",
       "       'RT @byHeatherLong: 9 major economies are in recession or on the verge of it. Can the US stay solid with so much trouble around the globe? I…',\n",
       "       'Handel ist Wandel und der Mensch wird digital...\\r\\n#intelligence #economy  #digitization  #futureofwork #technology… https://t.co/5GLkAZ8RQz',\n",
       "       'RT @byHeatherLong: 9 major economies are in recession or on the verge of it. Can the US stay solid with so much trouble around the globe? I…',\n",
       "       'RT @byHeatherLong: 9 major economies are in recession or on the verge of it. Can the US stay solid with so much trouble around the globe? I…',\n",
       "       'RT @YourTechDiet: By 2030, #AI will add $16 trillion to global #economy.\\r\\n#ML #DataScience #Robotics #HealthTech #Drones #4IR\\r\\n\\r\\n@grattonboy @…',\n",
       "       'RT @byHeatherLong: 9 major economies are in recession or on the verge of it. Can the US stay solid with so much trouble around the globe? I…',\n",
       "       'RT @michaeljohns: .@realDonaldTrump has transformed (and expanded) the Republican Party, making it the party of blue collar working America…',\n",
       "       'RT @EpochTimesChina: The Coalition for a Prosperous America (CPA) released updated study results in July showing that a permanent across-th…',\n",
       "       'What creates #business continuity in man-made #disasters, #conflict and #drought with resulting impact on #SMEs?… https://t.co/TST8jVGVp2',\n",
       "       '@realDonaldTrump with 30yr t under 2%, Massive Infrastructure plan announcement would be timely and counter Trade W… https://t.co/QLK3cKcsiY',\n",
       "       '@EmzdadRunToWork @establishmentno @tluvgolf @Suzanne54837213 @RosaleeAdams @luckydbldd @Schanette55 @davidf4444… https://t.co/s6XhJ2M9rd',\n",
       "       'RT @byHeatherLong: 9 major economies are in recession or on the verge of it. Can the US stay solid with so much trouble around the globe? I…',\n",
       "       'U.S. import prices unexpectedly increase https://t.co/UYqjPb6Rk5 #Economy https://t.co/eQQT8822Zi #820',\n",
       "       '@AskmoreNorman @DrDeplorable60 @Cromag_19 @_TheRealBreeze_ @4Annie444 @CaliChick777 @DrDJ83 @JSpragens @Krm1285A… https://t.co/wI1ItOaYBn',\n",
       "       'Walmart beats sales expectations, both top and bottom lines - E-commerce sales surge 37% #economy #TrumpRecession… https://t.co/ihKYm06BPy',\n",
       "       'Hungary GDP growth up 5.1 percent in Q2 year-on-year https://t.co/mK6l5ySls3 #Economy https://t.co/eQQT8822Zi #223',\n",
       "       'Industrial production down by 1.6% in euro area https://t.co/W72iqDOREs #Economy https://t.co/eQQT8822Zi #567',\n",
       "       'Indonesia trade gap narrows sharply in July https://t.co/JHq9m8pNYT #Economy https://t.co/eQQT8822Zi #840',\n",
       "       'RT @michaeljohns: .@realDonaldTrump has transformed (and expanded) the Republican Party, making it the party of blue collar working America…',\n",
       "       'RT @byHeatherLong: 9 major economies are in recession or on the verge of it. Can the US stay solid with so much trouble around the globe? I…',\n",
       "       'South Africa Wholesale Sales Fall For Second Month https://t.co/vm5SIhVn1w #economy #economics #rttnews https://t.co/pw1vIhC1aN',\n",
       "       'Denmark Producer Prices Decline Slows In July https://t.co/mXTPHW5hzy #economy #economics #rttnews https://t.co/lFMZJt0eEF',\n",
       "       'Turkey Jobless Rate Rises In May https://t.co/RdIaMMVqna #economy #economics #rttnews https://t.co/nwzJy3aUe1',\n",
       "       'Swiss Producer And Import Prices Fall In July https://t.co/As9EvMsl2n #economy #economics #rttnews https://t.co/NX9RQq07T0',\n",
       "       '#HappyIndependenceDay #IndiaIndependenceDay #visionmechatronics #lithium #batteries #energy #freedom #liberate… https://t.co/IZMolgF8Ne',\n",
       "       'RT @byHeatherLong: 9 major economies are in recession or on the verge of it. Can the US stay solid with so much trouble around the globe? I…',\n",
       "       'The US-China tariff war has more to do with the global volatility, as 🇩🇪 Germany is feeling the pressure #markets… https://t.co/RLGuVPcULS',\n",
       "       '@MarkMoore4MAGA @KimPKAG2020 @BobBrinson1 @Lynnoftrumpland @stanleyashe14 @TrkWilson @Janice36017731 @hoppinmama5… https://t.co/8r2SB4hPUl',\n",
       "       '@ETIndustryNews Well done West Bengal. Keep yourselves busy with meeting, michil and red tapes while filling the eg… https://t.co/jySij89QBx',\n",
       "       'RT @michaeljohns: .@realDonaldTrump has transformed (and expanded) the Republican Party, making it the party of blue collar working America…',\n",
       "       '#PresidentTrump is doing a great job with the #economy and the #StockMarket. The stock market has returned 25% up t… https://t.co/gP6XmsmwvS',\n",
       "       'RT @CrownPlatform: Who runs #Crown?\\r\\n\\r\\n$Crown isn’t run by any one party. Our self-regulated #economy is governed by every user with a stake…',\n",
       "       '@sallycopper They will never allow it to officially go bust, they will prop it up by any means necessary. Add to th… https://t.co/jMYdkSxFK5',\n",
       "       'RT @EpochTimesChina: #China’s #Economy stumbled more sharply than expected in July, with industrial output growth cooling to a more than 17…',\n",
       "       'RT @satishacharya: Economic slowdown! #economy https://t.co/BZTLN4DmBh',\n",
       "       'RT @tweetMalena: #Resistance, this is the hashtag that must trend. #TrumpSlump has legs. Nothing will p*ss him off more &amp; nothing will sink…',\n",
       "       'World #economy is in trouble, former UK Cabinet Secretary @Gus_ODonnell told the 2019 Global Government Summit. Gov… https://t.co/SoMGzilrD7',\n",
       "       'RT @EpochTimesChina: #China’s #Economy stumbled more sharply than expected in July, with industrial output growth cooling to a more than 17…',\n",
       "       'RT @depathailand: ผอ.@depathailand ร่วมประชุมบอร์ดกำกับสำนักงานส่งเสริมเศรษฐกิจดิจิทัล ครั้งที่ 3/2562\\r\\n\\r\\n#depa… https://t.co/AAcuAqrQsn',\n",
       "       \"RT @Tourism_Update: Tourism can be 'quick win' for SA economy. #tourism #economy\\r\\n\\r\\nhttps://t.co/el6LjJ1KHw https://t.co/HvT2XTnsxi\",\n",
       "       'RT @satishacharya: Economic slowdown! #economy https://t.co/BZTLN4DmBh',\n",
       "       'With yield curves close to inverting in the US and UK, Keith Wade, Chief Economist, explains the implications for t… https://t.co/A31SYdwcx4',\n",
       "       'Global #PeterDruckerForum on #LinkedIn: \"A Framework for the #CollaborationEconomy📖 #Economy… https://t.co/gMRr9MgK1u',\n",
       "       'RT @byHeatherLong: 9 major economies are in recession or on the verge of it. Can the US stay solid with so much trouble around the globe? I…',\n",
       "       'RT @EpochTimesChina: #China’s #Economy stumbled more sharply than expected in July, with industrial output growth cooling to a more than 17…',\n",
       "       '\"At its core, bitcoin is a smart currency, designed by very forward-thinking engineers.\" #bitcoin #cryptocurrency… https://t.co/EQ2rjhOc7y',\n",
       "       'RT @iamrzn2: तुम्हारे मन की बात की ऐसी की तैसी...!\\r\\n👉#economy ठीक करो, \\r\\n👉डूबती हुई कंपनी को बचाओ,\\r\\n👉जाॅब provide कराओ\\r\\n👉रुपया को मजबूत करो (अ…',\n",
       "       'ผอ.@depathailand ร่วมประชุมบอร์ดกำกับสำนักงานส่งเสริมเศรษฐกิจดิจิทัล ครั้งที่ 3/2562\\r\\n\\r\\n#depa #digital #innovation… https://t.co/YEcmsNnfjE',\n",
       "       'RT @byHeatherLong: 9 major economies are in recession or on the verge of it. Can the US stay solid with so much trouble around the globe? I…',\n",
       "       'Our analysis of #UK #retail sales volumes holding up better than expected in July as grow 0.2% month-on-month &amp; 3.3… https://t.co/3X0pq1nguF',\n",
       "       \"RT @tahamuqri33: #India's recent escalation of tensions with Pakistan is because Indian #economy is slowing and #BJP is trying to hide it b…\",\n",
       "       \"For the first time in 9 years, the world's most competitive #economy is not the U.S. or Hong Kong, but #Singapore \\r\\n\\r\\nhttps://t.co/FRY4QQlMzj\",\n",
       "       '@jimcramer well done on Today Show spot. Thanks for cool headed advice on the heels of a package that tried to sell… https://t.co/3rTBjGvrS4',\n",
       "       '@carlquintanilla @CNBC As the age old adage goes \"it\\'s the #ECONOMY...stupid!\". * @realDonaldTrump seemed bent on u… https://t.co/9LApww16Lb',\n",
       "       'RT @byHeatherLong: 9 major economies are in recession or on the verge of it. Can the US stay solid with so much trouble around the globe? I…',\n",
       "       'RT @EpochTimesChina: #China’s #Economy stumbled more sharply than expected in July, with industrial output growth cooling to a more than 17…',\n",
       "       'RT @Nairametrics: #Buhari’s food importation #ban could drag the Nigerian #economy into misery \\r\\nhttps://t.co/ObD7NvCvUs',\n",
       "       'U.S. import prices unexpectedly increase https://t.co/UYqjPb6Rk5 #Economy https://t.co/eQQT8822Zi #267',\n",
       "       'Hungary GDP growth up 5.1 percent in Q2 year-on-year https://t.co/mK6l5ySls3 #Economy https://t.co/eQQT8822Zi #537',\n",
       "       'Report: 50,000 warehouses to recruit robots by 2025. https://t.co/f0OorP5sCy \\r\\n.\\r\\n.\\r\\n.\\r\\n#LLA #smallbusiness #business… https://t.co/ehnrVpdKux',\n",
       "       'Industrial production down by 1.6% in euro area https://t.co/W72iqDOREs #Economy https://t.co/eQQT8822Zi #543',\n",
       "       'RT @thewebbix: Dow tanks 800 points after bond market flashes a #recession warning\\r\\n#Economy\\r\\nVolatile stock market for August. Dow has moved…',\n",
       "       'RT @thewebbix: Dow tanks 800 points after bond market flashes a #recession warning\\r\\n#Economy\\r\\nVolatile stock market for August. Dow has moved…',\n",
       "       'RT @Strange_Sounds: The Major Market Indicator That Preceded the Last Seven US Recessions Just Happened Again #recession #USA #UK #economy…',\n",
       "       'RT @satishacharya: Economic slowdown! #economy https://t.co/BZTLN4DmBh',\n",
       "       '#Amazon is Eating Up the #American #Economy – and #Fedex is Fighting Back\\r\\nhttps://t.co/i6wzrph8rK',\n",
       "       'So #recruitertwitter recession or no recession in 18 months?  \\r\\n\\r\\nU.S. 10-year yields fell below those of two-year Tr… https://t.co/WJWERh5VL8',\n",
       "       'MultiPet Loofa Squeaker Mat 12\" #dogfood #sales #happy #cute\\r\\nOne squeaker\\'s lovely great. An entire body filled wit… https://t.co/827DjyUpQU',\n",
       "       'News Highlights: Top Global Markets News of the Day #Samp;P500 #economy #MarketScreener https://t.co/flhSR5ruDr https://t.co/zIP9ngg5EJ',\n",
       "       \"RT @tahamuqri33: #India's recent escalation of tensions with Pakistan is because Indian #economy is slowing and #BJP is trying to hide it b…\",\n",
       "       \"RT @tahamuqri33: #India's recent escalation of tensions with Pakistan is because Indian #economy is slowing and #BJP is trying to hide it b…\",\n",
       "       'RT @tweetMalena: #Resistance, this is the hashtag that must trend. #TrumpSlump has legs. Nothing will p*ss him off more &amp; nothing will sink…',\n",
       "       'RT @tweetMalena: #TraitorTrump has taken our booming Obama #economy &amp; destroyed it via outrageous #deficits and #tradewars! This #TrumpSlum…',\n",
       "       'RT @thewebbix: Dow tanks 800 points after bond market flashes a #recession warning\\r\\n#Economy\\r\\nVolatile stock market for August. Dow has moved…',\n",
       "       'RT @Strange_Sounds: The Major Market Indicator That Preceded the Last Seven US Recessions Just Happened Again #recession #USA #UK #economy…',\n",
       "       'RT @Aryanwarlord: #PrimeMinister @narendramodi commits to pumping 1.4$Tr into the #economy of #India via #infrastructure projects . \\r\\nThis s…',\n",
       "       'RT @byHeatherLong: 9 major economies are in recession or on the verge of it. Can the US stay solid with so much trouble around the globe? I…',\n",
       "       'RT @NorbertElekes: Share of GDP generated by tourism\\r\\n\\r\\nJapan:      1.9%\\r\\nUSA:         2.8%\\r\\nUK, India: 3.7%\\r\\nTurkey:     4.3%\\r\\n\\r\\nItaly:…',\n",
       "       'RT @ETNOWlive: Market Veteran Raamdeo Agarwal says investors should only buy the sectors they understand given the volatility. Tune in for…',\n",
       "       'RT @byHeatherLong: 9 major economies are in recession or on the verge of it. Can the US stay solid with so much trouble around the globe? I…',\n",
       "       'Wkakaka pen maraaah #economy hehehehehe',\n",
       "       \"RT @tahamuqri33: #India's recent escalation of tensions with Pakistan is because Indian #economy is slowing and #BJP is trying to hide it b…\",\n",
       "       'Rough Day Yesterday For The Stock Markets https://t.co/Rat9IEZSqb #StockMarket #economy https://t.co/Wd7q7dUi9s',\n",
       "       'Rough Day Yesterday For The Stock Markets https://t.co/iYQ5SvSSqW #StockMarket #economy https://t.co/rIkVEoEKWQ',\n",
       "       'With our #economy in a contraction, how close are we to a #recession? Check out the update from our Chief Economist… https://t.co/y8d6QXgRjU',\n",
       "       \"RT @usstommy: .@realDonaldTrump please trust your instincts and not those of the folks around you. You didn't become a billionaire doing wh…\",\n",
       "       'RT @thewebbix: Dow tanks 800 points after bond market flashes a #recession warning\\r\\n#Economy\\r\\nVolatile stock market for August. Dow has moved…',\n",
       "       'RT @lootgous: YES #President .@CyrilRamaphosa now is the time for action!\\r\\nstart turning this #economy around!\\r\\nEvery citizen in #SouthAfrica…',\n",
       "       'RT @sugataraju: Former \\u2066@siddaramaiah acolyte \\u2069 @MTBNagaraj\\u2069 the \\u2066@INCKarnataka\\u2069 MLA who holed up in Mumbai to ensure \\u2066\\u2066@BJP4Karnataka\\u2069 cam…',\n",
       "       'RT @byHeatherLong: 9 major economies are in recession or on the verge of it. Can the US stay solid with so much trouble around the globe? I…',\n",
       "       'RT @haldonahue: @realDonaldTrump No personal safety in the #UnitedStates because @realDonaldTrump is too #weak and a slave to @NRA \\r\\n\\r\\nThere…',\n",
       "       'RT @byHeatherLong: 9 major economies are in recession or on the verge of it. Can the US stay solid with so much trouble around the globe? I…',\n",
       "       'Want to know what Canlead is? Canlead is one platform for all your opportunities and referrals, where you take cont… https://t.co/1I3XzZIWEW',\n",
       "       \"#India's recent escalation of tensions with Pakistan is because Indian #economy is slowing and #BJP is trying to hi… https://t.co/asTCcPIpRM\",\n",
       "       'RT @SiriusXMPatriot: Today on @BreitbartNews Daily, 6-9am EST:\\r\\n@carney on the #StockMarket and #economy \\r\\n@themightygwinn \\r\\n@SebGorka \\r\\n@KrisK…',\n",
       "       '9 major economies are in recession or on the verge of it. Can the US stay solid with so much trouble around the glo… https://t.co/YsPhjlVl0B',\n",
       "       'RT @elerianm: #Bloomberg on the $2 billion stimulus package announced today by the #HongKong government this morning.\\r\\n\\r\\nTargeting both the h…',\n",
       "       'RT @michaeljohns: .@realDonaldTrump has transformed (and expanded) the Republican Party, making it the party of blue collar working America…',\n",
       "       \".@realDonaldTrump please trust your instincts and not those of the folks around you. You didn't become a billionair… https://t.co/4BCUwvt8lA\",\n",
       "       'RT @F3NewsOfficial: #PM #Modi #Announces #Outlay Of #Rs.103.5 #Lakh #Crores For #Roadmap To #$5 #Trillion\\xa0#Economy https://t.co/o7cmPFYKLv…',\n",
       "       'RT @satishacharya: Economic slowdown! #economy https://t.co/BZTLN4DmBh',\n",
       "       'India can become a $5 trillion #economy in 5 years: PM @narendramodi in Independence Day speech… https://t.co/Ew1pBbrrpc',\n",
       "       'RT @Dawn_News: بڑھتی ہوئی مہنگائی کے باوجود گورنر اسٹیٹ بینک معیشت سے مطمئن\\r\\nRead More: https://t.co/29V6P1Ph44\\r\\n#DawnNews\\r\\n#Pakistan\\r\\n#Economy',\n",
       "       'RT @B_C_R_S: We provide loans to #businesses in and around the #WestMidlands. We aim to #safeguard or #create as many #jobs as possible wit…',\n",
       "       \"RT @amaldi_e: Can't wait for #NSEexpoforum! #Satellites, #environment, #space #technology and #innovation. All innovators should be there!…\",\n",
       "       'Deficit of resources for full-fledged support of state sector of #Belarus #economy seems to have been recognized by… https://t.co/Z6tOqLynbs',\n",
       "       'Singapore based financial adviser talks about a market crash.\\r\\n\\r\\nAgree or disagree? \\r\\n\\r\\nWhat are your thoughts? \\r\\n\\r\\nCheck… https://t.co/HZ8vuC2QtR',\n",
       "       'Is there about to be a #recession? Our Chief Economist @MOstwald1 shares his comments with @TheWeekUK… https://t.co/Wz69AJEK5i',\n",
       "       '@CBSEveningNews @jillonmoney We get the honor of living thru 2 great depressions in 1 decade  #TrumpRecession… https://t.co/C587AafohF',\n",
       "       'RT @theTrumpet_com: Israel’s #economy is growing stronger.\\r\\n\\r\\n#Militarily, Israel is stronger than ever.\\r\\n\\r\\n#Israel is also confident #strategi…',\n",
       "       \"@ddale8 Must be some sort of Schroedinger's tarrifs. Alternatively Schroedinger's nation. #schroedingerstarrifs… https://t.co/20nKh0WUR1\",\n",
       "       'RT @Nairametrics: #Buhari’s food importation #ban could drag the Nigerian #economy into misery \\r\\nhttps://t.co/ObD7NvCvUs',\n",
       "       'RT @psb_dc: The economic impact of closing the racial wealth gap - via @McKinsey \\r\\n\\r\\n#economy #inequality \\r\\ncc @ryevenbark @jimmie_lenz \\r\\n\\r\\nhttp…',\n",
       "       'The #economy moves in cycles. Having an #incompetent #president like #trump at the end of the cycle really cooks ou… https://t.co/DtHHUdAxmZ',\n",
       "       'RT @NorbertElekes: Share of GDP generated by tourism\\r\\n\\r\\nJapan:      1.9%\\r\\nUSA:         2.8%\\r\\nUK, India: 3.7%\\r\\nTurkey:     4.3%\\r\\n\\r\\nItaly:…',\n",
       "       \"We recently published our AA/@WARCEditors Expenditure Report for Q1 2019, which showed that the UK's ad market is e… https://t.co/GAYkhekIfK\",\n",
       "       'Is The UK Facing Another Recession? 8 steps to help protect your business in a recession https://t.co/9b82HFmoVj… https://t.co/02WlvoL9Xx',\n",
       "       'RT @tweetMalena: #Resistance, this is the hashtag that must trend. #TrumpSlump has legs. Nothing will p*ss him off more &amp; nothing will sink…',\n",
       "       'بڑھتی ہوئی مہنگائی کے باوجود گورنر اسٹیٹ بینک معیشت سے مطمئن\\r\\nRead More: https://t.co/29V6P1Ph44\\r\\n#DawnNews\\r\\n#Pakistan\\r\\n#Economy',\n",
       "       'Trump tariff delay is a nod to the U.S. consumer — the only engine powering the global economy -… https://t.co/58PfA9kCgG',\n",
       "       'Energy efficiency drives consumption. The more efficient we are, the more we consume, more stuff we burn, more CO2… https://t.co/GfohbOjBvG',\n",
       "       'RT @satishacharya: Economic slowdown! #economy https://t.co/BZTLN4DmBh',\n",
       "       'The Future of the Hemp Economy https://t.co/g73hFCPgwE #Cryptocurrency #Business #cannabis #CBD #Economy',\n",
       "       'RT @CryptoWorldNewx: #Bitcoin was born to change the paradigm of the #economy, but not the way we were told: instead of buying and storing,…',\n",
       "       'FX Week Ahead - Top 5 Events: July US Inflation Report &amp; USD/JPY Rate Forecast - https://t.co/JUqPNzO6FR -… https://t.co/8BKCiKCPXz',\n",
       "       \"Putin is desperate2be a superpower\\r\\nRU #economy shrinks\\r\\ndestitute/addicted, only way RU's economy survives\\r\\nis throug… https://t.co/2YsawYiPX3\",\n",
       "       'RT @FifeCouncil: Did you miss today’s #economy, #tourism, planning and transportation committee? If so, you can catch up here https://t.co/…',\n",
       "       '#Buhari’s food importation #ban could drag the Nigerian #economy into misery \\r\\nhttps://t.co/ObD7NvCvUs',\n",
       "       'Japan stocks lower at close of trade; Nikkei 225 down 1.21% By https://t.co/Xcg1jUYPDX - https://t.co/XJg3fqCV94 -… https://t.co/B5nRwfF2HJ',\n",
       "       'RT @CryptoWorldNewx: #Bitcoin was born to change the paradigm of the #economy, but not the way we were told: instead of buying and storing,…',\n",
       "       'RT @NorbertElekes: Share of GDP generated by tourism\\r\\n\\r\\nJapan:      1.9%\\r\\nUSA:         2.8%\\r\\nUK, India: 3.7%\\r\\nTurkey:     4.3%\\r\\n\\r\\nItaly:…',\n",
       "       \"@INCIndia Only on paper... There is no money for our #ARMY ...\\r\\nYou don't have fund to buy weapons for our Army... 🤔… https://t.co/x8YPgeINRJ\",\n",
       "       'RT @LLEPnews: #Leicester and #Leicestershire is the largest #Economy in the #EastMindlands, worth £23.4 billion. With 42,000 SMEs, three wo…',\n",
       "       \"Ok we got it. U're humble @pauljasonklein #economy\",\n",
       "       'Did you miss today’s #economy, #tourism, planning and transportation committee? If so, you can catch up here… https://t.co/TJ1QbUl9pN',\n",
       "       \"#Women's integration into the countries’ #economy is fundamental because it improves their status. Are women taking… https://t.co/Ms6DvOFKSK\",\n",
       "       'New Investors will Control Indonesia’s Radana Finance Shares https://t.co/yVpTrFSoph lewat @theinsiderstory… https://t.co/HK6PQlrQux',\n",
       "       'U.S. senator warns China on Hong Kong trade status if it intervenes in protests By Reuters -… https://t.co/95iXkeqSnI',\n",
       "       '@BernieSanders Immigrants do not overwork workers like consumables.\\r\\n#economy #Trump #Bernie #BernieSanders',\n",
       "       'Indonesia Readies to Develop Two SEZs Worth US$838M Next Year https://t.co/VYcE2hisds lewat @theinsiderstory… https://t.co/u38a9deLqr',\n",
       "       'RT @elerianm: #Bloomberg on the $2 billion stimulus package announced today by the #HongKong government this morning.\\r\\n\\r\\nTargeting both the h…',\n",
       "       'RT @RituJustAsking: Modi जी के लिए कुछ भी Serious Challenge नहीं है। #Economy \\r\\n“जब तक तोड़ूँगा नहीं छोड़ूँगा नहीं” \\r\\n🇮🇳🤔🙏 #मोदी_है_तो_मुमकिन…',\n",
       "       'How big data can change GDP calculations\\r\\n\\r\\n#Infoblaze #India #Business #Economy #BigData #GDP\\r\\nVia… https://t.co/HjpOCMeUSP',\n",
       "       '@realDonaldTrump \\r\\n@GOP\\r\\n@senatemajldr\\r\\n@TheDemocrats\\r\\n@SpeakerPelosi @TrumpSupporters\\r\\n#recession\\r\\n\\r\\n#Trump is now… https://t.co/rff7Vlb1Vj',\n",
       "       'Telkom Indonesia Eyes https://t.co/9C4YiIsnOF, Other E-commerce Firms https://t.co/HOOOH9jhck lewat… https://t.co/XdB9u1T0JP',\n",
       "       'Bitcoin Falls 10% In Rout By https://t.co/Xcg1jUYPDX - https://t.co/YVWrhkvL9y - #economysquare #financial #economy… https://t.co/VW0P8dYc7g',\n",
       "       'Indonesia’s Trade Deficit Falls to US$600M in July https://t.co/kEKa7NbBiU lewat @theinsiderstory\\r\\n#indonesia… https://t.co/H0QqrBipl1',\n",
       "       'Spain to take some migrants on Open Arms ship, says Italy By Reuters - https://t.co/ZsTgoMiMS8 - #economysquare… https://t.co/eFwnMnawAc',\n",
       "       'Oil Slips as Swelling Stockpiles Alarm Already-Panicked Market By Bloomberg - https://t.co/gFp4D32m5k -… https://t.co/p6sxu9tB9H',\n",
       "       'RT @satishacharya: Economic slowdown! #economy https://t.co/BZTLN4DmBh',\n",
       "       'RT @apmipartners: 68% of consumers in #China have changed their purchasing habits to purchase #Chinese products because of the #TradeWar to…',\n",
       "       'RT @apmipartners: 68% of consumers in #China have changed their purchasing habits to purchase #Chinese products because of the #TradeWar to…',\n",
       "       'Huawei Tells Texas Judge That U.S. Law Denies It Due Process By Bloomberg - https://t.co/2DbD9LqXuN -… https://t.co/PneZJaWPa1',\n",
       "       'Are markets signalling that a recession is due? https://t.co/bViAzpRDJv\\r\\n#economy',\n",
       "       'What are the key problems facing the #economy of #JammuAndKashmir . Watch here: https://t.co/RQQdEk768n https://t.co/cQCInmZ9nw',\n",
       "       'Dow drops 800 points. More gun violence at home. Xi to Trump: How do you like me now? #DonaldTrump #TradeWar… https://t.co/D1Flia1ju3',\n",
       "       'RT @michaeljohns: .@realDonaldTrump has transformed (and expanded) the Republican Party, making it the party of blue collar working America…',\n",
       "       'RT @elerianm: #Bloomberg on the $2 billion stimulus package announced today by the #HongKong government this morning.\\r\\n\\r\\nTargeting both the h…',\n",
       "       'RT @satishacharya: Economic slowdown! #economy https://t.co/BZTLN4DmBh',\n",
       "       'RT @ashutosh83B: वीडियो विश्लेषण। अर्थ व्यवस्था की हालत ख़राब। \\r\\n\\r\\nऑटो\\xa0इंडस्ट्री: 10 लाख लोगों के बेरोज़गार होने का ख़तरा \\r\\n\\r\\n#economy #Economi…',\n",
       "       'RT @tweetMalena: #TraitorTrump has taken our booming Obama #economy &amp; destroyed it via outrageous #deficits and #tradewars! This #TrumpSlum…',\n",
       "       'Feeling good about this, tough guy @realDonaldTrump? Market down 800 &amp; looking at worse day today? How’s all that w… https://t.co/1izeS5VMrN',\n",
       "       'RT @elerianm: #Bloomberg on the $2 billion stimulus package announced today by the #HongKong government this morning.\\r\\n\\r\\nTargeting both the h…',\n",
       "       'RT @satishacharya: Economic slowdown! #economy https://t.co/BZTLN4DmBh',\n",
       "       'UK wage growth picks up to 11-year high as employment rate for women increases to 72.1% - the highest on record… https://t.co/lX67ZEyVii',\n",
       "       'RT @gecic_law: #Serbia impresses with attracting almost 12 times the amount of #GFDI expected for the size of its #economy, and tops the 20…',\n",
       "       'RT @tweetMalena: #Resistance, this is the hashtag that must trend. #TrumpSlump has legs. Nothing will p*ss him off more &amp; nothing will sink…',\n",
       "       'When did world leave crisis? Realy #economy theories descives reality https://t.co/cHNRy27GXB\\r\\nRecession watch: 5 of… https://t.co/9z4E22LabV',\n",
       "       \".@Transport4North Board call on the government to commit to a 'Northern Budget' https://t.co/n5a4EqiW1x #road #rail… https://t.co/Kclq3NFSjJ\",\n",
       "       'RT @michaeljohns: .@realDonaldTrump has transformed (and expanded) the Republican Party, making it the party of blue collar working America…',\n",
       "       'RT @tweetMalena: #TraitorTrump has taken our booming Obama #economy &amp; destroyed it via outrageous #deficits and #tradewars! This #TrumpSlum…',\n",
       "       'New data showed the #German #economy hurtling toward a recession and factory output in #China growing at its slowes… https://t.co/mssOXeiMPU',\n",
       "       'RT @elerianm: #Bloomberg on the $2 billion stimulus package announced today by the #HongKong government this morning.\\r\\n\\r\\nTargeting both the h…',\n",
       "       'RT @elerianm: #Bloomberg on the $2 billion stimulus package announced today by the #HongKong government this morning.\\r\\n\\r\\nTargeting both the h…',\n",
       "       '#Lebanon #Beirut #politics #economy #commerce #funny #daily #media #crazy #Science #Food https://t.co/IvsT9kBtwH',\n",
       "       'RT @CryptoWorldNewx: #Bitcoin was born to change the paradigm of the #economy, but not the way we were told: instead of buying and storing,…',\n",
       "       'RT @elerianm: #Bloomberg on the $2 billion stimulus package announced today by the #HongKong government this morning.\\r\\n\\r\\nTargeting both the h…',\n",
       "       '▀ÿ■’õ1 #Markets #Finance #Technology #Network #weekend #software #Economy #Investment https://t.co/Zkz2GnxywV https://t.co/iZueTIaDCv',\n",
       "       'RT @CarolynRyanTV: Breaking: China saying it will retaliate against American tariffs. Markets could see another turbulent day. #Hardball #T…',\n",
       "       'RT @michaeljohns: .@realDonaldTrump has transformed (and expanded) the Republican Party, making it the party of blue collar working America…',\n",
       "       'RT @ceteraIM: #Stocks are down this morning because the 2-year/10-year treasury yield curve inverted, which has been a reliable #recession…',\n",
       "       'UK economy shrinks for first time since 2012 https://t.co/rxZQFDY2fs #UKeconomy #economy https://t.co/oZSh5hefu4',\n",
       "       'World Economy heading towards recession: Morgan Stanley\\r\\n#economy #MorganStanley #ChinaUS #TradeWar #tradewars… https://t.co/YDKGZx1NV4',\n",
       "       'RT @NorbertElekes: Share of GDP generated by tourism\\r\\n\\r\\nJapan:      1.9%\\r\\nUSA:         2.8%\\r\\nUK, India: 3.7%\\r\\nTurkey:     4.3%\\r\\n\\r\\nItaly:…',\n",
       "       'Ve son cümle Mevcut “Ekonomi” ve ekonomi politikaları “İstihdam” yaratamıyor .. \\r\\n #işsizlik #istihdam #employment #economy',\n",
       "       'U.S. import prices unexpectedly increase https://t.co/UYqjPb6Rk5 #Economy https://t.co/eQQT8822Zi #304',\n",
       "       'Industrial production down by 1.6% in euro area https://t.co/W72iqDOREs #Economy https://t.co/eQQT8822Zi #284',\n",
       "       'Uxcell 2 Piece Pocket Pet Dog Puppy Cat Training Sound Whistle Keychain, Yellow #dogfood #sales #happy #cute\\r\\nIdeal… https://t.co/7aYhLwal4D',\n",
       "       '#LakeErie is our past and Lake Erie is our #future. #CleanWater for #Economy #PublicHealth #Environment https://t.co/5xhd5jNFvZ',\n",
       "       'RT @sugataraju: Former \\u2066@siddaramaiah acolyte \\u2069 @MTBNagaraj\\u2069 the \\u2066@INCKarnataka\\u2069 MLA who holed up in Mumbai to ensure \\u2066\\u2066@BJP4Karnataka\\u2069 cam…',\n",
       "       'Investire nel mattone con il crowdfunding https://t.co/Lzl9JBeBv3\\r\\n#crowdfunding #realestate #smart #innovation #digital #economy',\n",
       "       \"The #transition to #netzero will disrupt Australia's #economy - #business, #unions, #government and #communities ne… https://t.co/U1lF5kx9fh\",\n",
       "       '‘Aid for Trade Review’ advances belief that inclusive integration of countries into the global #economy through tra… https://t.co/I9uqk87AY2',\n",
       "       'RT @elerianm: #Bloomberg on the $2 billion stimulus package announced today by the #HongKong government this morning.\\r\\n\\r\\nTargeting both the h…',\n",
       "       'US futures have turned negative after China came out announcing they will have to retaliate to the latest round of… https://t.co/PxI1qj7Z36',\n",
       "       \"RT @RealNoraC: #Hair_Fuhrer doesn't give a #Rats_Ass about #Farmers, or ANYONE other than #HIMSELF &amp; his #Wealthy_Welfare_Queen_Donor buddi…\",\n",
       "       'RT @satishacharya: Economic slowdown! #economy https://t.co/BZTLN4DmBh',\n",
       "       'He is painting ... the first major scandal corruption of the Bolsonaro misrule (the second. The first was Queiróz o… https://t.co/trcSHe8KJq',\n",
       "       'RT @elerianm: #Bloomberg on the $2 billion stimulus package announced today by the #HongKong government this morning.\\r\\n\\r\\nTargeting both the h…',\n",
       "       'A fifth of #Maine’s population is over 65. More nurses, home-care workers and physicians are needed to keep pace wi… https://t.co/LhlCKjfENk',\n",
       "       \"@BorisJohnson @NigelFarage crashed #economy on purpose: Putin's plan worked\\r\\nUK tanking under #Brexit foolery\\r\\nIt was… https://t.co/ugh75dcqLO\",\n",
       "       'RT @elerianm: #Bloomberg on the $2 billion stimulus package announced today by the #HongKong government this morning.\\r\\n\\r\\nTargeting both the h…',\n",
       "       '\"African American employees tend to receive more scrutiny from their bosses than their white colleagues, meaning th… https://t.co/ZDrZJSTRVd',\n",
       "       'RT @RituJustAsking: Modi जी के लिए कुछ भी Serious Challenge नहीं है। #Economy \\r\\n“जब तक तोड़ूँगा नहीं छोड़ूँगा नहीं” \\r\\n🇮🇳🤔🙏 #मोदी_है_तो_मुमकिन…',\n",
       "       'RT @Aryanwarlord: #PrimeMinister @narendramodi commits to pumping 1.4$Tr into the #economy of #India via #infrastructure projects . \\r\\nThis s…',\n",
       "       'RT @IcisFertDeepika: Are markets signalling that a recession is due? @ https://t.co/dFHoDJeJH4 #ICIS #TheMarket #Fertilizer #Economy #Reces…',\n",
       "       'RT @elerianm: #Bloomberg on the $2 billion stimulus package announced today by the #HongKong government this morning.\\r\\n\\r\\nTargeting both the h…',\n",
       "       'RT @CarolynRyanTV: Breaking: China saying it will retaliate against American tariffs. Markets could see another turbulent day. #Hardball #T…',\n",
       "       'Current account shows slight deficit in Q2 #Hungary #deficit #economy #balance\\r\\nhttps://t.co/zTgYE5aEQe',\n",
       "       'RT @thomastorfs: Limiting global warming to 1.5 °C would save upwards of 20,000,000,000 dollars worldwide by 2100 https://t.co/BmHEUK9nNB #…',\n",
       "       'RT @satishacharya: Economic slowdown! #economy https://t.co/BZTLN4DmBh',\n",
       "       'RT @CoreSpreads: ℹ️ Thursday’s Economic calendar highlights.\\r\\n#Economy #Markets https://t.co/23joarL5vb',\n",
       "       'Breaking: China saying it will retaliate against American tariffs. Markets could see another turbulent day.… https://t.co/1tlSsxysXu',\n",
       "       'RT @satishacharya: Economic slowdown! #economy https://t.co/BZTLN4DmBh',\n",
       "       'RT @tweetMalena: #Resistance, this is the hashtag that must trend. #TrumpSlump has legs. Nothing will p*ss him off more &amp; nothing will sink…',\n",
       "       'Limiting global warming to 1.5 °C would save upwards of 20,000,000,000 dollars worldwide by 2100… https://t.co/8Aj4fjtr8Z',\n",
       "       \"South Africa's Impala Platinum (Implats) IMPJ.J said on Thursday it expects to swing into profit this year boosted… https://t.co/r43WIscfJY\",\n",
       "       'RT @elerianm: #Bloomberg on the $2 billion stimulus package announced today by the #HongKong government this morning.\\r\\n\\r\\nTargeting both the h…',\n",
       "       'RT @tweetMalena: #Resistance, this is the hashtag that must trend. #TrumpSlump has legs. Nothing will p*ss him off more &amp; nothing will sink…',\n",
       "       'U.S. import prices unexpectedly increase https://t.co/UYqjPb6Rk5 #Economy https://t.co/eQQT8822Zi #521',\n",
       "       'Hungary GDP growth up 5.1 percent in Q2 year-on-year https://t.co/mK6l5ySls3 #Economy https://t.co/eQQT8822Zi #241',\n",
       "       'Industrial production down by 1.6% in euro area https://t.co/W72iqDOREs #Economy https://t.co/eQQT8822Zi #416',\n",
       "       '@panthera_s @mauldinecon #Americans expect the #economy to improve slightly in the near future.\\r\\n#consumer spending… https://t.co/t7B80NfWBW',\n",
       "       'Can someone please explain why our ZAR currency is so volatile? I have heard that it is highly liquid, but in what… https://t.co/WRs7WjOKsr',\n",
       "       'RT @B_C_R_S: We provide loans to #businesses in and around the #WestMidlands. We aim to #safeguard or #create as many #jobs as possible wit…',\n",
       "       'RT @satishacharya: Economic slowdown! #economy https://t.co/BZTLN4DmBh',\n",
       "       'We provide loans to #businesses in and around the #WestMidlands. We aim to #safeguard or #create as many #jobs as p… https://t.co/wnrkUeOPiq',\n",
       "       'RT @elerianm: #Bloomberg on the $2 billion stimulus package announced today by the #HongKong government this morning.\\r\\n\\r\\nTargeting both the h…',\n",
       "       '#PMModi reviews state of #economy with #Sitharaman, #financeministry officials\\r\\nhttps://t.co/JnOuxqw8Np https://t.co/DnyfmKMk7T',\n",
       "       '#Bloomberg on the $2 billion stimulus package announced today by the #HongKong government this morning.\\r\\n\\r\\nTargeting… https://t.co/YFFwQOc0mO',\n",
       "       'Interesting thread.\\r\\nSupports the theory of Economic Slowdown gonna happen in 2020.\\r\\nMust read \\r\\n\\r\\n#economy… https://t.co/0F9r5jtJtG',\n",
       "       '#Lebanon #Beirut #politics #economy #commerce #funny #daily #media #crazy #Science #Food\\r\\nhttps://t.co/I5RqIxOFIO',\n",
       "       'China threatens retaliation if US tariff hikes go ahead #Internationaltrade #Economy #Technology https://t.co/D04KX1jvkw',\n",
       "       'China threatens retaliation if US tariff hikes go ahead #Internationaltrade #Economy #Technology https://t.co/y9TpQZQxoR',\n",
       "       'RT @michaeljohns: .@realDonaldTrump has transformed (and expanded) the Republican Party, making it the party of blue collar working America…',\n",
       "       'RT @EpochTimesChina: #China’s #Economy stumbled more sharply than expected in July, with industrial output growth cooling to a more than 17…',\n",
       "       'Raising the #MinimumWage Makes Sense\\r\\n\\r\\n#politics #government #capitalism #socialism #SocialistAnyDay… https://t.co/tSQ1eT8LvF',\n",
       "       'Licenses for business in the UAE *&gt; https://t.co/Pif8PuK9Fy\\r\\n\\r#UAE #Dubai #dxb #tax #finance #economy #money… https://t.co/q9KAfIqd8g',\n",
       "       'So, the next recession is round the corner finally.....!\\r\\n\\r\\n#recession #recession2019 #EconomicSlowdown #economy… https://t.co/Bo5VpSBsH6',\n",
       "       'RT @michaeljohns: .@realDonaldTrump has transformed (and expanded) the Republican Party, making it the party of blue collar working America…',\n",
       "       'In order to shift the blame, #tRump attacks everyone else -- no, the buck good or bad stops at the white house whic… https://t.co/EZMovNLlZM',\n",
       "       'The World’s $86 Trillion Economy Visualized in One Chart  https://t.co/LcVaHIIZFd via @howmuch_net @worldbank… https://t.co/DChXl9ACuP',\n",
       "       '@realDonaldTrump THIS is what happens when we elect an #IDIOT  #stockmarket #economy #itstheeconomystupid',\n",
       "       'RT @WHISHWORKS: #LloydsofLondon has warned that a serious #cyberattack could cost the global #economy more than £92… https://t.co/US0vdE0DC4',\n",
       "       'RT @WHISHWORKS: #LloydsofLondon has warned that a serious #cyberattack could cost the global #economy more than £92bn. Today, #enterprise #…',\n",
       "       'RT @NorbertElekes: Share of GDP generated by tourism\\r\\n\\r\\nJapan:      1.9%\\r\\nUSA:         2.8%\\r\\nUK, India: 3.7%\\r\\nTurkey:     4.3%\\r\\n\\r\\nItaly:…',\n",
       "       'RT @Aryanwarlord: #PrimeMinister @narendramodi commits to pumping 1.4$Tr into the #economy of #India via #infrastructure projects . \\r\\nThis s…',\n",
       "       'RT @michaeljohns: .@realDonaldTrump has transformed (and expanded) the Republican Party, making it the party of blue collar working America…',\n",
       "       'RT @Aryanwarlord: #PrimeMinister @narendramodi commits to pumping 1.4$Tr into the #economy of #India via #infrastructure projects . \\r\\nThis s…',\n",
       "       'RT @satishacharya: Economic slowdown! #economy https://t.co/BZTLN4DmBh',\n",
       "       'Today on @BreitbartNews Daily, 6-9am EST:\\r\\n@carney on the #StockMarket and #economy \\r\\n@themightygwinn \\r\\n@SebGorka… https://t.co/QyCopyRtR9',\n",
       "       'RT @CryptoWorldNewx: #Bitcoin was born to change the paradigm of the #economy, but not the way we were told: instead of buying and storing,…',\n",
       "       'RT @GGeoffwitha: Dear @BreakfastNews @RossAndJohn @sunriseon7 @9NewsAUS @theprojecttv \\r\\nSo @JoshFrydenberg has told a meeting in Burnie yest…',\n",
       "       '#LloydsofLondon has warned that a serious #cyberattack could cost the global #economy more than £92bn. Today,… https://t.co/gaKS6ieSt9',\n",
       "       'RT @CdnAgvocate: .\\u2066@SeeDotRun\\u2069 autonomous robot sprayer in action @AgSmartOlds\\u2069 event yesterday. \\u2066@OldsCollege\\u2069 place to be for students to…',\n",
       "       '#Bitcoin was born to change the paradigm of the #economy, but not the way we were told: instead of buying and stori… https://t.co/oVd7cOysUM',\n",
       "       'RT @michaeljohns: .@realDonaldTrump has transformed (and expanded) the Republican Party, making it the party of blue collar working America…',\n",
       "       'RT @satishacharya: Economic slowdown! #economy https://t.co/BZTLN4DmBh',\n",
       "       'RT @NorbertElekes: Share of GDP generated by tourism\\r\\n\\r\\nJapan:      1.9%\\r\\nUSA:         2.8%\\r\\nUK, India: 3.7%\\r\\nTurkey:     4.3%\\r\\n\\r\\nItaly:…',\n",
       "       \"RT @TokoinOfficial: What is Tokoin and why does Tokoin matter so much for Indonesia's economic growth in the future? Watch it here and unde…\",\n",
       "       'RT @NorbertElekes: Share of GDP generated by tourism\\r\\n\\r\\nJapan:      1.9%\\r\\nUSA:         2.8%\\r\\nUK, India: 3.7%\\r\\nTurkey:     4.3%\\r\\n\\r\\nItaly:…',\n",
       "       'RT @EurBeyondCoal: #ZEPAK’s lignite business is undermining the #environment and damaging people’s #health. Its threat to the #economy and…',\n",
       "       'RT @NorbertElekes: Share of GDP generated by tourism\\r\\n\\r\\nJapan:      1.9%\\r\\nUSA:         2.8%\\r\\nUK, India: 3.7%\\r\\nTurkey:     4.3%\\r\\n\\r\\nItaly:…',\n",
       "       'RT @ETNOWlive: Market Veteran Raamdeo Agarwal says investors should only buy the sectors they understand given the volatility. Tune in for…',\n",
       "       '#China’s GDP growth in the 2nd quarter of 2019 slowed to 6.2%. Discover the reasons behind the slowdown and how it… https://t.co/oyQvLH4aG7',\n",
       "       'RT @satishacharya: Economic slowdown! #economy https://t.co/BZTLN4DmBh',\n",
       "       'RT @NorbertElekes: Share of GDP generated by tourism\\r\\n\\r\\nJapan:      1.9%\\r\\nUSA:         2.8%\\r\\nUK, India: 3.7%\\r\\nTurkey:     4.3%\\r\\n\\r\\nItaly:…',\n",
       "       'RT @SofiosThanos: Dry Bulk ETF has outperformed many traditional assets by wide margin this year. At a time when people are crazy about cry…',\n",
       "       '@TheWarMonitor #Trump #economy is failing and falling fast. What do others expect from a man who has LOST a billion… https://t.co/DMa8ktQ9XJ',\n",
       "       \"RT @themankhosi: Read:\\r\\n\\r\\nPresident Cyril Ramaphosa's #CR17 Funder, #TonyGeorgiades,\\r\\n\\r\\n#FWdeKlerk and the #ArmsDeal #Corruption.\\r\\n\\r\\nI repeat mys…\",\n",
       "       'RT @satishacharya: Economic slowdown! #economy https://t.co/BZTLN4DmBh',\n",
       "       'The Future of the #Hemp #Economy: Stress can be a huge weight on many of us and having the… https://t.co/qh4BkB5QsU',\n",
       "       'The Future of the #Hemp #Economy: Stress can be a huge weight on many of us and having the… https://t.co/2ggt1zHeFi',\n",
       "       '#PM #Modi #Announces #Outlay Of #Rs.103.5 #Lakh #Crores For #Roadmap To #$5 #Trillion\\xa0#Economy… https://t.co/VB3XghLM5d',\n",
       "       'In #UK more than 4 million people are trapped in deep poverty: https://t.co/P8BMMg1yuH via @guardian #economy… https://t.co/NwFvIcjoHA',\n",
       "       'RT @michaeljohns: .@realDonaldTrump has transformed (and expanded) the Republican Party, making it the party of blue collar working America…',\n",
       "       'This is fine ¯\\\\_(ツ)_/¯\\r\\n#Trumponomics #Republiconomics #Recession #Economy\\r\\nhttps://t.co/kLXMY63UQk',\n",
       "       'RT @MediosTec21_Vva: #Markets #Economy #Bolsa\\r\\n \\r\\n❗️Wall Street acusa el pesimismo con caídas que rozan el 3%:\\r\\n👉https://t.co/Renpkvwmkh 👀\\r\\nel…',\n",
       "       'RT @FifeCouncil: Today’s #Economy, Tourism, Planning and Transportation Committee is set to hear about the wide range of #business advice a…',\n",
       "       'RT @NorbertElekes: Share of GDP generated by tourism\\r\\n\\r\\nJapan:      1.9%\\r\\nUSA:         2.8%\\r\\nUK, India: 3.7%\\r\\nTurkey:     4.3%\\r\\n\\r\\nItaly:…',\n",
       "       \"RT @themankhosi: Read:\\r\\n\\r\\nPresident Cyril Ramaphosa's #CR17 Funder, #TonyGeorgiades,\\r\\n\\r\\n#FWdeKlerk and the #ArmsDeal #Corruption.\\r\\n\\r\\nI repeat mys…\",\n",
       "       'Our #Economy, Tourism, Planning and Transportation Committee today heard how our Culture of Enterprise Programme is… https://t.co/BvDKQCrD8i',\n",
       "       'Hong Kong: The economic implications of the protest rallies!\\r\\n\\r\\nRead the full article here: https://t.co/6Wyo2KAzbt… https://t.co/XmvI5dAvRS',\n",
       "       'RT @tweetMalena: #TraitorTrump has taken our booming Obama #economy &amp; destroyed it via outrageous #deficits and #tradewars! This #TrumpSlum…',\n",
       "       'The nose diving economy might crash land I guess !! #economy https://t.co/83sjl88HDX',\n",
       "       'This Country Recently Became #Africa’s Largest Economy.\\r\\nNow It’s Too Big for #Businesses to Ignore.\\r\\n#investment… https://t.co/d2AFe2JaT0',\n",
       "       'RT @michaeljohns: .@realDonaldTrump has transformed (and expanded) the Republican Party, making it the party of blue collar working America…',\n",
       "       '@amitabhk87 @narendramodi Currently there seems to be a tussle between RW #Politicians &amp; LW #bureaucracy. We are go… https://t.co/LjfA53Ltzk',\n",
       "       'With a wide variety of factors affecting the UK #economy,  uncertainty &amp; instability can play havoc with business… https://t.co/Edh5NA2g3Y',\n",
       "       '#Nigeria #news #economy - FIRS says, VAT, Withholding Tax must be remitted every 21st https://t.co/wbzQM1YjXV https://t.co/wbzQM1YjXV',\n",
       "       'RT @Breaking24Seven: #BREAKING Hong Kong announces economic stimulus measures amid trade war, violent protests\\r\\n\\r\\n#HongKong #economy\\r\\nhttps://…',\n",
       "       '#Nigeria #news #economy - FIRS says, VAT, Withholding Tax must be remitted every 21st https://t.co/wNwJNjGtdp',\n",
       "       '@CNN Why is Japan hosting the Olympics even though it is not possible to secure space for the contaminated water ta… https://t.co/BQuzJJP0nl',\n",
       "       'RT @NorbertElekes: Share of GDP generated by tourism\\r\\n\\r\\nJapan:      1.9%\\r\\nUSA:         2.8%\\r\\nUK, India: 3.7%\\r\\nTurkey:     4.3%\\r\\n\\r\\nItaly:…',\n",
       "       'The Great Recession will result in a scarcity of valuable assets in the market economy and the collapse of the fina… https://t.co/t9T3Z9LGyI',\n",
       "       '@iatefl_besig @evanfrendo #Uzbekistan efforts R  GR8! https://t.co/b92hcpUOJt https://t.co/RsnneixSSE But w/t #ESP,… https://t.co/3RcuXlOKXD',\n",
       "       'RT @MPLbroker: Unemployment Is Low, but That’s Only Part of the Story \"The unemployment rate...hit record lows, fails to tell us how many p…',\n",
       "       'RT @Raskenn: Trump is clearly scared about the economy, and he’s setting up Jerome Powell as his fall guy - The Washington Post @MSNBC #MSN…',\n",
       "       '政治・経済ニュース\\r\\nhttps://t.co/6zEBuAWc1i\\r\\n#news #ニュース #government #政治 #economy #経済 ##jamjamtv',\n",
       "       'The #nikkei 225 is up 0.75% so far on #thursday following the earlier drops. Appears markets may have over-reacted,… https://t.co/5TqOgnQ3ca',\n",
       "       'RT @NorbertElekes: Share of GDP generated by tourism\\r\\n\\r\\nJapan:      1.9%\\r\\nUSA:         2.8%\\r\\nUK, India: 3.7%\\r\\nTurkey:     4.3%\\r\\n\\r\\nItaly:…',\n",
       "       'Raising the #MinimumWage Makes Sense via @smedian_network \\r\\n\\r\\n.@Medium #medium #blog #essay #Economics #Government… https://t.co/C2Sep5xylT',\n",
       "       'RT @FifeCouncil: Today’s #Economy, Tourism, Planning and Transportation Committee is set to hear about the wide range of #business advice a…',\n",
       "       'RT @DunBradstreet: “Dun &amp; Bradstreet’s latest proprietary #data shows that in Q2, the number of business failures remained fairly stable fo…',\n",
       "       '“Dun &amp; Bradstreet’s latest proprietary #data shows that in Q2, the number of business failures remained fairly stab… https://t.co/PnoWCluA3c',\n",
       "       \"RT @aliakbar1346ta: RT.@HeshmatAlavi's #Facts #THREAD\\r\\n1).@CNBC blames U.S. sanctions for #Iran’s crumbling #economy. #BlacklistIRGC #Corrup…\",\n",
       "       \"RT.@HeshmatAlavi's #Facts #THREAD\\r\\n1).@CNBC blames U.S. sanctions for #Iran’s crumbling #economy. #BlacklistIRGC… https://t.co/0keVVnNKqD\",\n",
       "       'RT @IcisFertDeepika: Are markets signalling that a recession is due? @ https://t.co/dFHoDJeJH4 #ICIS #TheMarket #Fertilizer #Economy #Reces…',\n",
       "       'Chuckit! Ultra Tug #dogfood #sales #happy #cute\\r\\nBall launcher compatible\\r\\nTug to play\\r\\nToss to play\\r\\nFits Small Ball L… https://t.co/pSB02VTFWL',\n",
       "       'RT @RuanoFaxas: @RWPUSA @politico \"putting an irresponsible, ignorant man [#Trump] who takes his advice from all the wrong people in charge…',\n",
       "       \"Read:\\r\\n\\r\\nPresident Cyril Ramaphosa's #CR17 Funder, #TonyGeorgiades,\\r\\n\\r\\n#FWdeKlerk and the #ArmsDeal #Corruption.\\r\\n\\r\\nI rep… https://t.co/femKCUcNf4\",\n",
       "       'RT @thewebbix: Dow tanks 800 points after bond market flashes a #recession warning\\r\\n#Economy\\r\\nVolatile stock market for August. Dow has moved…',\n",
       "       \"@oflynnsocial @isaby didn't @theresa_may beat him to the #economy #wrecking bit?\\r\\nhttps://t.co/PoHvqquNOE\\r\\n#recession \\r\\n#Brexit\",\n",
       "       'RT @NorbertElekes: Share of GDP generated by tourism\\r\\n\\r\\nJapan:      1.9%\\r\\nUSA:         2.8%\\r\\nUK, India: 3.7%\\r\\nTurkey:     4.3%\\r\\n\\r\\nItaly:…',\n",
       "       'RT @Mr_Singh86_: Starting my bit to help #India #economy ..\\r\\nDear #World My district has lots of👇.\\r\\nPlease visit anytime,u will love it .\\r\\n\\r\\n#M…',\n",
       "       'RT @NorbertElekes: Share of GDP generated by tourism\\r\\n\\r\\nJapan:      1.9%\\r\\nUSA:         2.8%\\r\\nUK, India: 3.7%\\r\\nTurkey:     4.3%\\r\\n\\r\\nItaly:…',\n",
       "       'RT @MerrillLynch: The yield on the 30-year #TreasuryBond just fell to its lowest level ever, says our CIO. See what that might mean for #in…',\n",
       "       'What is the experience #economy and why companies must change existing #business strategies to address the demands… https://t.co/J4jHWqrl5V',\n",
       "       'What is the experience #economy and why companies must change existing #business strategies to address the demands… https://t.co/yXcWRlyiuD',\n",
       "       'Weekly Update --- Endgame for the Fed? https://t.co/UETab4AwFF #FederalReserve #economy #economics #CurrencyTrading… https://t.co/iNfHRrorCk',\n",
       "       'RT @tweetMalena: #TraitorTrump has taken our booming Obama #economy &amp; destroyed it via outrageous #deficits and #tradewars! This #TrumpSlum…',\n",
       "       'RT @NorbertElekes: Share of GDP generated by tourism\\r\\n\\r\\nJapan:      1.9%\\r\\nUSA:         2.8%\\r\\nUK, India: 3.7%\\r\\nTurkey:     4.3%\\r\\n\\r\\nItaly:…',\n",
       "       \"@bsindia @ArvindKejriwal It's bad news....!!! It's not good news...!!! Freebies are huge jolt to economy. Just do s… https://t.co/lq2TVKJo5T\",\n",
       "       'RT @TheAssetMag: Singapore comes second in BRI opportunities in ASEAN- #BeltAndRoad #economy #infrastructure https://t.co/8k0h2oQ4BT',\n",
       "       'BREAKING: China says it will retaliate if the US imposes new sanctions next month #News #Economy #Politics',\n",
       "       'RT @ashutosh83B: वीडियो विश्लेषण। अर्थ व्यवस्था की हालत ख़राब। \\r\\n\\r\\nऑटो\\xa0इंडस्ट्री: 10 लाख लोगों के बेरोज़गार होने का ख़तरा \\r\\n\\r\\n#economy #Economi…',\n",
       "       'Are markets signalling that a recession is due? @ https://t.co/dFHoDJeJH4 #ICIS #TheMarket #Fertilizer #Economy #Recession',\n",
       "       'Whenever I hear a politician brag about a strong economy is the moment it inevitably goes south. A good leader is a… https://t.co/mYglKFzVOz',\n",
       "       'RT @footballkim: #economy #German German economy slips back into negative growth https://t.co/FDzvzQlAB6',\n",
       "       'Botswanan budget retailer Choppies Enterprises said on Wednesday it planned to sell its stores in South Africa as g… https://t.co/Us9Eq1Eq7m',\n",
       "       'RT @NorbertElekes: Share of GDP generated by tourism\\r\\n\\r\\nJapan:      1.9%\\r\\nUSA:         2.8%\\r\\nUK, India: 3.7%\\r\\nTurkey:     4.3%\\r\\n\\r\\nItaly:…',\n",
       "       'U.S. import prices unexpectedly increase https://t.co/UYqjPb6Rk5 #Economy https://t.co/eQQT8822Zi #671',\n",
       "       '🇪🇺📉 Stoxx 600 -0.43%\\r\\n🇩🇪📉 Dax -0.6%\\r\\n🇬🇧📉 FTSE 100 -0.83% \\r\\n #investing #world #economy #global https://t.co/5wbauNrVdZ',\n",
       "       '🇪🇺📉 Stoxx 600 -0.43%\\r\\n🇩🇪📉 Dax -0.6%\\r\\n🇬🇧📉 FTSE 100 -0.83% \\r\\n #investing #world #economy #global https://t.co/we0YvBiFKW',\n",
       "       '🇪🇺📉 Stoxx 600 -0.43%\\r\\n🇩🇪📉 Dax -0.6%\\r\\n🇬🇧📉 FTSE 100 -0.83% \\r\\n #investing #world #economy #global https://t.co/xyCSdakd9Z',\n",
       "       '🇪🇺📉 Stoxx 600 -0.43%\\r\\n🇩🇪📉 Dax -0.6%\\r\\n🇬🇧📉 FTSE 100 -0.83% \\r\\n #investing #world #economy #global https://t.co/KyuVX0WsSi',\n",
       "       '🇪🇺📉 Stoxx 600 -0.43%\\r\\n🇩🇪📉 Dax -0.6%\\r\\n🇬🇧📉 FTSE 100 -0.83% \\r\\n #investing #world #economy #global https://t.co/yl5BL1lKZf',\n",
       "       'Hungary GDP growth up 5.1 percent in Q2 year-on-year https://t.co/mK6l5ySls3 #Economy https://t.co/eQQT8822Zi #50',\n",
       "       'Industrial production down by 1.6% in euro area https://t.co/W72iqDOREs #Economy https://t.co/eQQT8822Zi #131',\n",
       "       'Why Immigration Is A Solution To The Skill Gap Crisis https://t.co/d9ULjoksSD / #Economics #Economy https://t.co/4bUWG0liNZ',\n",
       "       'RT @michaeljohns: .@realDonaldTrump has transformed (and expanded) the Republican Party, making it the party of blue collar working America…',\n",
       "       \"ಮೋದಿನಾಮಿಕ್ಸ್: 'ಮುಂದಿನ ಒಂದು ವರ್ಷ ಜಾಗ್ರತೆಯಾಗಿರೋಣ'\\r\\n\\r\\n#economy\\r\\n\\r\\nhttps://t.co/DkDwNY1rUP\",\n",
       "       'RT @Mohitanxious: This is the first step towards 5 trillion #economy https://t.co/YnZZr5pNWR',\n",
       "       'RT @satishacharya: Economic slowdown! #economy https://t.co/BZTLN4DmBh',\n",
       "       'RT @Aryanwarlord: #PrimeMinister @narendramodi commits to pumping 1.4$Tr into the #economy of #India via #infrastructure projects . \\r\\nThis s…',\n",
       "       'Top Stories of #2018 via @smedian_network\\r\\n\\r\\n.@Medium #medium #blog #politics #government #tax #economy #finance… https://t.co/rlg8uE6KMb',\n",
       "       'RT @michaeljohns: .@realDonaldTrump has transformed (and expanded) the Republican Party, making it the party of blue collar working America…',\n",
       "       '#financialcrisis #economy \\r\\nIs a #recession coming? #WallStreet sure thought so Wednesday. The #Dow lost 800 points,… https://t.co/2CMnAofWsV',\n",
       "       'RT @Aryanwarlord: #PrimeMinister @narendramodi commits to pumping 1.4$Tr into the #economy of #India via #infrastructure projects . \\r\\nThis s…',\n",
       "       'What is the experience #economy and why companies must change existing #business strategies to address the demands… https://t.co/1fQ1gP1536',\n",
       "       'RT @Mr_Singh86_: Starting my bit to help #India #economy ..\\r\\nDear #World My district has lots of👇.\\r\\nPlease visit anytime,u will love it .\\r\\n\\r\\n#M…',\n",
       "       'RT @michaeljohns: .@realDonaldTrump has transformed (and expanded) the Republican Party, making it the party of blue collar working America…',\n",
       "       'RT @Aryanwarlord: #PrimeMinister @narendramodi commits to pumping 1.4$Tr into the #economy of #India via #infrastructure projects . \\r\\nThis s…',\n",
       "       'RT @michaeljohns: .@realDonaldTrump has transformed (and expanded) the Republican Party, making it the party of blue collar working America…',\n",
       "       'RT @Emile1chedid: #Lebanon #Beirut #politics #economy #commerce #funny #daily #media #crazy #Science #food\\r\\nhttps://t.co/ckW2xfEnOC',\n",
       "       'RT @michaeljohns: .@realDonaldTrump has transformed (and expanded) the Republican Party, making it the party of blue collar working America…',\n",
       "       \"RT @farhadrahaei: RT.@HeshmatAlavi's #Facts #THREAD\\r\\n1).@CNBC blames U.S. sanctions for #Iran’s crumbling #economy. #BlacklistIRGC #Corrupti…\",\n",
       "       '#PrimeMinister @narendramodi commits to pumping 1.4$Tr into the #economy of #India via #infrastructure projects .… https://t.co/E4trEvsnR1'],\n",
       "      dtype=object)"
      ]
     },
     "execution_count": 10,
     "metadata": {},
     "output_type": "execute_result"
    }
   ],
   "source": [
    "tweets0"
   ]
  },
  {
   "cell_type": "code",
   "execution_count": 13,
   "metadata": {
    "colab": {
     "base_uri": "https://localhost:8080/"
    },
    "executionInfo": {
     "elapsed": 854,
     "status": "ok",
     "timestamp": 1685695330916,
     "user": {
      "displayName": "Nisarg Gandhewar",
      "userId": "00173707501276252012"
     },
     "user_tz": -330
    },
    "id": "IrdBJxSQOnAG",
    "outputId": "f9bb5aeb-6a29-43fa-c92b-6dd158bed825"
   },
   "outputs": [
    {
     "data": {
      "text/plain": [
       "500"
      ]
     },
     "execution_count": 13,
     "metadata": {},
     "output_type": "execute_result"
    }
   ],
   "source": [
    "len(tweets0)"
   ]
  },
  {
   "cell_type": "code",
   "execution_count": 12,
   "metadata": {
    "id": "SyH_gt6SOnAH",
    "scrolled": true
   },
   "outputs": [
    {
     "data": {
      "text/plain": [
       "array(['Stocks losses deepen as a key recession warning surfaces @GOP #economy #fail #collapse #recession #gop #greed… https://t.co/F8kazAixUk',\n",
       "       \"RT @CallMeAhmjusAyn: The #economy.\\r\\n@FoxNews @realDonaldTrump \\r\\n#Trump is an ejit.\\r\\n#maga #TrumpTrain2020 #sheeple are idiot's.\\r\\n#farming #Trad…\",\n",
       "       'AP Explains: Is the US economy nearing a recession? \\r\\n#Business\\r\\n#Economy\\r\\n#Recession\\r\\n#TradeWar\\r\\n#China\\r\\n#EU… https://t.co/0jtsR2kSxi',\n",
       "       'A @JobCreatorsUSA / https://t.co/JXEt7hQU4k survey completed Tuesday, 56% rated the #economy as good or excellent,… https://t.co/j1XMiptADx',\n",
       "       'Who will stop mr. Mario Draghi and the ECB with this counterproductive course of money dumping / zero interests? It… https://t.co/eweIrVuOK0'],\n",
       "      dtype=object)"
      ]
     },
     "execution_count": 12,
     "metadata": {},
     "output_type": "execute_result"
    }
   ],
   "source": [
    "tweets0[:5]"
   ]
  },
  {
   "cell_type": "markdown",
   "metadata": {
    "id": "c3M7ll-tOnAI"
   },
   "source": [
    "The tweets contain - \n",
    "1. URLs\n",
    "2. Hashtags\n",
    "3. User handles\n",
    "4. 'RT'"
   ]
  },
  {
   "cell_type": "markdown",
   "metadata": {
    "id": "D9f3dK-IOnAI"
   },
   "source": [
    "## Cleanup "
   ]
  },
  {
   "cell_type": "markdown",
   "metadata": {
    "id": "3kSaIhvbOnAJ"
   },
   "source": [
    "#### Normalizing case"
   ]
  },
  {
   "cell_type": "code",
   "execution_count": 14,
   "metadata": {
    "executionInfo": {
     "elapsed": 480,
     "status": "ok",
     "timestamp": 1685695445697,
     "user": {
      "displayName": "Nisarg Gandhewar",
      "userId": "00173707501276252012"
     },
     "user_tz": -330
    },
    "id": "Wgk6O_WSOnAK"
   },
   "outputs": [],
   "source": [
    "tweets_lower = [twt.lower() for twt in tweets0] # to convert all char in lower case"
   ]
  },
  {
   "cell_type": "code",
   "execution_count": 15,
   "metadata": {
    "colab": {
     "base_uri": "https://localhost:8080/"
    },
    "executionInfo": {
     "elapsed": 4,
     "status": "ok",
     "timestamp": 1685695448153,
     "user": {
      "displayName": "Nisarg Gandhewar",
      "userId": "00173707501276252012"
     },
     "user_tz": -330
    },
    "id": "wjDxOk3COnAK",
    "outputId": "8e937bbb-bb53-4c9e-fcb6-57607b0b8525"
   },
   "outputs": [
    {
     "data": {
      "text/plain": [
       "['stocks losses deepen as a key recession warning surfaces @gop #economy #fail #collapse #recession #gop #greed… https://t.co/f8kazaixuk',\n",
       " \"rt @callmeahmjusayn: the #economy.\\r\\n@foxnews @realdonaldtrump \\r\\n#trump is an ejit.\\r\\n#maga #trumptrain2020 #sheeple are idiot's.\\r\\n#farming #trad…\",\n",
       " 'ap explains: is the us economy nearing a recession? \\r\\n#business\\r\\n#economy\\r\\n#recession\\r\\n#tradewar\\r\\n#china\\r\\n#eu… https://t.co/0jtsr2ksxi',\n",
       " 'a @jobcreatorsusa / https://t.co/jxet7hqu4k survey completed tuesday, 56% rated the #economy as good or excellent,… https://t.co/j1xmiptadx',\n",
       " 'who will stop mr. mario draghi and the ecb with this counterproductive course of money dumping / zero interests? it… https://t.co/eweirvuok0']"
      ]
     },
     "execution_count": 15,
     "metadata": {},
     "output_type": "execute_result"
    }
   ],
   "source": [
    "tweets_lower[:5]"
   ]
  },
  {
   "cell_type": "markdown",
   "metadata": {
    "id": "D-0RtcYGOnAL"
   },
   "source": [
    "#### Remove user handles, begin with '@'"
   ]
  },
  {
   "cell_type": "code",
   "execution_count": 16,
   "metadata": {
    "executionInfo": {
     "elapsed": 6,
     "status": "ok",
     "timestamp": 1685695639750,
     "user": {
      "displayName": "Nisarg Gandhewar",
      "userId": "00173707501276252012"
     },
     "user_tz": -330
    },
    "id": "XhtPL3fHOnAM"
   },
   "outputs": [],
   "source": [
    "import re"
   ]
  },
  {
   "cell_type": "code",
   "execution_count": 20,
   "metadata": {
    "colab": {
     "base_uri": "https://localhost:8080/",
     "height": 35
    },
    "executionInfo": {
     "elapsed": 1120,
     "status": "ok",
     "timestamp": 1685695717877,
     "user": {
      "displayName": "Nisarg Gandhewar",
      "userId": "00173707501276252012"
     },
     "user_tz": -330
    },
    "id": "CnaMlMI2OnAM",
    "outputId": "b6750779-e8d6-4090-c21a-cb9e8def25b8"
   },
   "outputs": [
    {
     "data": {
      "text/plain": [
       "' this course rocks! http://rahimbaig.com/ai'"
      ]
     },
     "execution_count": 20,
     "metadata": {},
     "output_type": "execute_result"
    }
   ],
   "source": [
    "re.sub(\"@\\w+\",\"\", \"@Rahim this course rocks! http://rahimbaig.com/ai\") # (pattern,replcewith, string), regex to remove @handle\n",
    "# \\w string contain any char (a-z,0-9 and _)"
   ]
  },
  {
   "cell_type": "code",
   "execution_count": 21,
   "metadata": {
    "executionInfo": {
     "elapsed": 517,
     "status": "ok",
     "timestamp": 1685695728223,
     "user": {
      "displayName": "Nisarg Gandhewar",
      "userId": "00173707501276252012"
     },
     "user_tz": -330
    },
    "id": "LDnx6eXoOnAN"
   },
   "outputs": [],
   "source": [
    "tweets_nouser = [re.sub(\"@\\w+\",\"\", twt) for twt in tweets_lower]"
   ]
  },
  {
   "cell_type": "code",
   "execution_count": 22,
   "metadata": {
    "colab": {
     "base_uri": "https://localhost:8080/"
    },
    "executionInfo": {
     "elapsed": 519,
     "status": "ok",
     "timestamp": 1685695734266,
     "user": {
      "displayName": "Nisarg Gandhewar",
      "userId": "00173707501276252012"
     },
     "user_tz": -330
    },
    "id": "sLdfH_B8OnAO",
    "outputId": "1a5ab0a7-ccfe-44b4-a055-c0da428c4ec1"
   },
   "outputs": [
    {
     "data": {
      "text/plain": [
       "['stocks losses deepen as a key recession warning surfaces  #economy #fail #collapse #recession #gop #greed… https://t.co/f8kazaixuk',\n",
       " \"rt : the #economy.\\r\\n  \\r\\n#trump is an ejit.\\r\\n#maga #trumptrain2020 #sheeple are idiot's.\\r\\n#farming #trad…\",\n",
       " 'ap explains: is the us economy nearing a recession? \\r\\n#business\\r\\n#economy\\r\\n#recession\\r\\n#tradewar\\r\\n#china\\r\\n#eu… https://t.co/0jtsr2ksxi',\n",
       " 'a  / https://t.co/jxet7hqu4k survey completed tuesday, 56% rated the #economy as good or excellent,… https://t.co/j1xmiptadx',\n",
       " 'who will stop mr. mario draghi and the ecb with this counterproductive course of money dumping / zero interests? it… https://t.co/eweirvuok0']"
      ]
     },
     "execution_count": 22,
     "metadata": {},
     "output_type": "execute_result"
    }
   ],
   "source": [
    "tweets_nouser[:5]"
   ]
  },
  {
   "cell_type": "markdown",
   "metadata": {
    "id": "o7rkgbaKOnAP"
   },
   "source": [
    "#### Remove URLs"
   ]
  },
  {
   "cell_type": "code",
   "execution_count": 23,
   "metadata": {
    "id": "uhWtrXpvOnAP",
    "outputId": "50f27b40-bbf4-49ab-e75b-0af71cbb6639"
   },
   "outputs": [
    {
     "data": {
      "text/plain": [
       "'@Rahim this course rocks! '"
      ]
     },
     "execution_count": 23,
     "metadata": {},
     "output_type": "execute_result"
    }
   ],
   "source": [
    "re.sub(\"\\w+://\\S+\",\"\", \"@Rahim this course rocks! http://rahimbaig.com/ai\")   # \\S string does not contain white space"
   ]
  },
  {
   "cell_type": "code",
   "execution_count": 24,
   "metadata": {
    "executionInfo": {
     "elapsed": 805,
     "status": "ok",
     "timestamp": 1685695931482,
     "user": {
      "displayName": "Nisarg Gandhewar",
      "userId": "00173707501276252012"
     },
     "user_tz": -330
    },
    "id": "zR2ieKiyOnAQ"
   },
   "outputs": [],
   "source": [
    "tweets_nourl = [re.sub(\"\\w+://\\S+\",\"\", twt) for twt in tweets_nouser]"
   ]
  },
  {
   "cell_type": "code",
   "execution_count": 25,
   "metadata": {
    "colab": {
     "base_uri": "https://localhost:8080/"
    },
    "executionInfo": {
     "elapsed": 8,
     "status": "ok",
     "timestamp": 1685695933530,
     "user": {
      "displayName": "Nisarg Gandhewar",
      "userId": "00173707501276252012"
     },
     "user_tz": -330
    },
    "id": "mXReLMArOnAR",
    "outputId": "d0b925a0-e667-4327-99c8-5dc1ea7e32d0"
   },
   "outputs": [
    {
     "data": {
      "text/plain": [
       "['stocks losses deepen as a key recession warning surfaces  #economy #fail #collapse #recession #gop #greed… ',\n",
       " \"rt : the #economy.\\r\\n  \\r\\n#trump is an ejit.\\r\\n#maga #trumptrain2020 #sheeple are idiot's.\\r\\n#farming #trad…\",\n",
       " 'ap explains: is the us economy nearing a recession? \\r\\n#business\\r\\n#economy\\r\\n#recession\\r\\n#tradewar\\r\\n#china\\r\\n#eu… ',\n",
       " 'a  /  survey completed tuesday, 56% rated the #economy as good or excellent,… ',\n",
       " 'who will stop mr. mario draghi and the ecb with this counterproductive course of money dumping / zero interests? it… ']"
      ]
     },
     "execution_count": 25,
     "metadata": {},
     "output_type": "execute_result"
    }
   ],
   "source": [
    "tweets_nourl[:5]"
   ]
  },
  {
   "cell_type": "code",
   "execution_count": 26,
   "metadata": {
    "colab": {
     "base_uri": "https://localhost:8080/"
    },
    "executionInfo": {
     "elapsed": 7,
     "status": "ok",
     "timestamp": 1685695943684,
     "user": {
      "displayName": "Nisarg Gandhewar",
      "userId": "00173707501276252012"
     },
     "user_tz": -330
    },
    "id": "HwABVIRZOnAR",
    "outputId": "a6bb508b-3115-49f1-e464-4853b18cf527"
   },
   "outputs": [
    {
     "data": {
      "text/plain": [
       "['rt : . has transformed (and expanded) the republican party, making it the party of blue collar working america…',\n",
       " 'rt : #lebanon #beirut #politics #economy #commerce #funny #daily #media #crazy #science #food\\r\\n',\n",
       " 'rt : . has transformed (and expanded) the republican party, making it the party of blue collar working america…',\n",
       " \"rt : rt.'s #facts #thread\\r\\n1). blames u.s. sanctions for #iran’s crumbling #economy. #blacklistirgc #corrupti…\",\n",
       " '#primeminister  commits to pumping 1.4$tr into the #economy of #india via #infrastructure projects .… ']"
      ]
     },
     "execution_count": 26,
     "metadata": {},
     "output_type": "execute_result"
    }
   ],
   "source": [
    "tweets_nourl[-5:]"
   ]
  },
  {
   "cell_type": "markdown",
   "metadata": {
    "id": "vPJ6wxD5OnAS"
   },
   "source": [
    "#### Extracting only the hashtags from the tweets - remember, we want to analyse the most common hashtags in the tweets"
   ]
  },
  {
   "cell_type": "code",
   "execution_count": 27,
   "metadata": {
    "colab": {
     "base_uri": "https://localhost:8080/"
    },
    "executionInfo": {
     "elapsed": 727,
     "status": "ok",
     "timestamp": 1685696132412,
     "user": {
      "displayName": "Nisarg Gandhewar",
      "userId": "00173707501276252012"
     },
     "user_tz": -330
    },
    "id": "U6kvZeJAOnAS",
    "outputId": "0c2860ed-23df-484a-9a21-4e86affc5c71"
   },
   "outputs": [
    {
     "data": {
      "text/plain": [
       "['#love', '#life']"
      ]
     },
     "execution_count": 27,
     "metadata": {},
     "output_type": "execute_result"
    }
   ],
   "source": [
    "re.findall(\"#\\w+\",\"I love this #love #life and fun\")  # findall():\tReturns a list containing all matches"
   ]
  },
  {
   "cell_type": "code",
   "execution_count": 28,
   "metadata": {
    "colab": {
     "base_uri": "https://localhost:8080/"
    },
    "executionInfo": {
     "elapsed": 6,
     "status": "ok",
     "timestamp": 1685696134983,
     "user": {
      "displayName": "Nisarg Gandhewar",
      "userId": "00173707501276252012"
     },
     "user_tz": -330
    },
    "id": "j_FF7kWQOnAT",
    "outputId": "019230a7-ee26-41c9-9941-495c6b6f3510"
   },
   "outputs": [
    {
     "data": {
      "text/plain": [
       "['#food', '#love']"
      ]
     },
     "execution_count": 28,
     "metadata": {},
     "output_type": "execute_result"
    }
   ],
   "source": [
    "re.findall(\"#\\w+\",\"@Rahim #food is #love\")"
   ]
  },
  {
   "cell_type": "code",
   "execution_count": 29,
   "metadata": {
    "executionInfo": {
     "elapsed": 448,
     "status": "ok",
     "timestamp": 1685696150978,
     "user": {
      "displayName": "Nisarg Gandhewar",
      "userId": "00173707501276252012"
     },
     "user_tz": -330
    },
    "id": "zoSdi4RXOnAU"
   },
   "outputs": [],
   "source": [
    "hashtags0 = [re.findall('#\\w+',twt) for twt in tweets_nourl] # fetch the string having #"
   ]
  },
  {
   "cell_type": "code",
   "execution_count": 30,
   "metadata": {
    "colab": {
     "base_uri": "https://localhost:8080/"
    },
    "executionInfo": {
     "elapsed": 5,
     "status": "ok",
     "timestamp": 1685696153601,
     "user": {
      "displayName": "Nisarg Gandhewar",
      "userId": "00173707501276252012"
     },
     "user_tz": -330
    },
    "id": "Y2Qmi4zmOnAU",
    "outputId": "14c2e68f-c275-4dc9-aa74-b3666ec20139"
   },
   "outputs": [
    {
     "data": {
      "text/plain": [
       "[['#economy', '#fail', '#collapse', '#recession', '#gop', '#greed'],\n",
       " ['#economy',\n",
       "  '#trump',\n",
       "  '#maga',\n",
       "  '#trumptrain2020',\n",
       "  '#sheeple',\n",
       "  '#farming',\n",
       "  '#trad'],\n",
       " ['#business', '#economy', '#recession', '#tradewar', '#china', '#eu'],\n",
       " ['#economy'],\n",
       " []]"
      ]
     },
     "execution_count": 30,
     "metadata": {},
     "output_type": "execute_result"
    }
   ],
   "source": [
    "hashtags0[:5]"
   ]
  },
  {
   "cell_type": "markdown",
   "metadata": {
    "id": "m1lae9-XOnAV"
   },
   "source": [
    "### Finding out the most common hashtags and plotting them"
   ]
  },
  {
   "cell_type": "markdown",
   "metadata": {
    "id": "bbt-PfGaOnAV"
   },
   "source": [
    "#### First, combining all the individuals lists into a single list, which can easily be passed to a counter"
   ]
  },
  {
   "cell_type": "code",
   "execution_count": 31,
   "metadata": {
    "executionInfo": {
     "elapsed": 6,
     "status": "ok",
     "timestamp": 1685696251682,
     "user": {
      "displayName": "Nisarg Gandhewar",
      "userId": "00173707501276252012"
     },
     "user_tz": -330
    },
    "id": "GJc_bvhnOnAW"
   },
   "outputs": [],
   "source": [
    "#Declaring an empty list which will later contain all the hashtags\n",
    "all_hashtags = []"
   ]
  },
  {
   "cell_type": "code",
   "execution_count": 32,
   "metadata": {
    "executionInfo": {
     "elapsed": 4,
     "status": "ok",
     "timestamp": 1685696255682,
     "user": {
      "displayName": "Nisarg Gandhewar",
      "userId": "00173707501276252012"
     },
     "user_tz": -330
    },
    "id": "6b1xYBBTOnAX"
   },
   "outputs": [],
   "source": [
    "for twt in hashtags0:\n",
    "    all_hashtags.extend(twt)"
   ]
  },
  {
   "cell_type": "code",
   "execution_count": 33,
   "metadata": {
    "colab": {
     "base_uri": "https://localhost:8080/"
    },
    "executionInfo": {
     "elapsed": 8,
     "status": "ok",
     "timestamp": 1685696257948,
     "user": {
      "displayName": "Nisarg Gandhewar",
      "userId": "00173707501276252012"
     },
     "user_tz": -330
    },
    "id": "PsCfDVa3OnAX",
    "outputId": "c015625f-0fe7-4ec7-d841-7de9a66a5665"
   },
   "outputs": [
    {
     "data": {
      "text/plain": [
       "['#economy', '#fail', '#collapse', '#recession', '#gop']"
      ]
     },
     "execution_count": 33,
     "metadata": {},
     "output_type": "execute_result"
    }
   ],
   "source": [
    "all_hashtags[:5]"
   ]
  },
  {
   "cell_type": "code",
   "execution_count": 34,
   "metadata": {
    "colab": {
     "base_uri": "https://localhost:8080/"
    },
    "executionInfo": {
     "elapsed": 408,
     "status": "ok",
     "timestamp": 1685696267462,
     "user": {
      "displayName": "Nisarg Gandhewar",
      "userId": "00173707501276252012"
     },
     "user_tz": -330
    },
    "id": "6ERrLWpGOnAn",
    "outputId": "2edfc329-04d9-44ec-bc78-0c68077e23d1"
   },
   "outputs": [
    {
     "data": {
      "text/plain": [
       "1061"
      ]
     },
     "execution_count": 34,
     "metadata": {},
     "output_type": "execute_result"
    }
   ],
   "source": [
    "len(all_hashtags)"
   ]
  },
  {
   "cell_type": "markdown",
   "metadata": {
    "id": "n8XlvSCbOnAn"
   },
   "source": [
    "#### Removing '#economy' from the data, as this is what the tweets are about"
   ]
  },
  {
   "cell_type": "code",
   "execution_count": 35,
   "metadata": {
    "executionInfo": {
     "elapsed": 504,
     "status": "ok",
     "timestamp": 1685696291122,
     "user": {
      "displayName": "Nisarg Gandhewar",
      "userId": "00173707501276252012"
     },
     "user_tz": -330
    },
    "id": "5zZcAIAiOnAo"
   },
   "outputs": [],
   "source": [
    "stop_contextual = ['#economy']"
   ]
  },
  {
   "cell_type": "markdown",
   "metadata": {
    "id": "Up0EKF53OnAo"
   },
   "source": [
    "#### Removing the contextual stopwords"
   ]
  },
  {
   "cell_type": "code",
   "execution_count": 36,
   "metadata": {
    "executionInfo": {
     "elapsed": 707,
     "status": "ok",
     "timestamp": 1685696317131,
     "user": {
      "displayName": "Nisarg Gandhewar",
      "userId": "00173707501276252012"
     },
     "user_tz": -330
    },
    "id": "sSVONVXIOnAp"
   },
   "outputs": [],
   "source": [
    "all_hashtags = [tag for tag in all_hashtags if tag not in stop_contextual]"
   ]
  },
  {
   "cell_type": "code",
   "execution_count": 37,
   "metadata": {
    "colab": {
     "base_uri": "https://localhost:8080/"
    },
    "executionInfo": {
     "elapsed": 1031,
     "status": "ok",
     "timestamp": 1685696320720,
     "user": {
      "displayName": "Nisarg Gandhewar",
      "userId": "00173707501276252012"
     },
     "user_tz": -330
    },
    "id": "e0UYUOgkOnAq",
    "outputId": "dd8aa689-c3d4-40db-e03d-9b009f765d72"
   },
   "outputs": [
    {
     "data": {
      "text/plain": [
       "815"
      ]
     },
     "execution_count": 37,
     "metadata": {},
     "output_type": "execute_result"
    }
   ],
   "source": [
    "len(all_hashtags)"
   ]
  },
  {
   "cell_type": "code",
   "execution_count": 38,
   "metadata": {
    "colab": {
     "base_uri": "https://localhost:8080/"
    },
    "executionInfo": {
     "elapsed": 506,
     "status": "ok",
     "timestamp": 1685696327476,
     "user": {
      "displayName": "Nisarg Gandhewar",
      "userId": "00173707501276252012"
     },
     "user_tz": -330
    },
    "id": "zul8d5FkOnAq",
    "outputId": "df973dd2-33e6-497f-e8c1-6332eb6c6f3d"
   },
   "outputs": [
    {
     "data": {
      "text/plain": [
       "['#fail', '#collapse', '#recession', '#gop', '#greed']"
      ]
     },
     "execution_count": 38,
     "metadata": {},
     "output_type": "execute_result"
    }
   ],
   "source": [
    "all_hashtags[:5]"
   ]
  },
  {
   "cell_type": "markdown",
   "metadata": {
    "id": "BQcc5wcNOnAr"
   },
   "source": [
    "#### Using a counter to get the top hashtags"
   ]
  },
  {
   "cell_type": "code",
   "execution_count": 39,
   "metadata": {
    "executionInfo": {
     "elapsed": 477,
     "status": "ok",
     "timestamp": 1685696337099,
     "user": {
      "displayName": "Nisarg Gandhewar",
      "userId": "00173707501276252012"
     },
     "user_tz": -330
    },
    "id": "uMnh5SY8OnAr"
   },
   "outputs": [],
   "source": [
    "# A Counter is a subclass of dict. where elements and their respective count are stored as a dictionary.\n",
    "from collections import Counter"
   ]
  },
  {
   "cell_type": "code",
   "execution_count": 40,
   "metadata": {
    "executionInfo": {
     "elapsed": 409,
     "status": "ok",
     "timestamp": 1685696371889,
     "user": {
      "displayName": "Nisarg Gandhewar",
      "userId": "00173707501276252012"
     },
     "user_tz": -330
    },
    "id": "rgmviLGWOnAs"
   },
   "outputs": [],
   "source": [
    "counts_hashtags = Counter(all_hashtags)"
   ]
  },
  {
   "cell_type": "code",
   "execution_count": 41,
   "metadata": {
    "colab": {
     "base_uri": "https://localhost:8080/"
    },
    "executionInfo": {
     "elapsed": 9,
     "status": "ok",
     "timestamp": 1685696374285,
     "user": {
      "displayName": "Nisarg Gandhewar",
      "userId": "00173707501276252012"
     },
     "user_tz": -330
    },
    "id": "0FZQME4QOnAs",
    "outputId": "008444b8-146e-4f4c-e8f8-e98a617b1da6",
    "scrolled": true
   },
   "outputs": [
    {
     "data": {
      "text/plain": [
       "[('#recession', 24),\n",
       " ('#india', 20),\n",
       " ('#business', 18),\n",
       " ('#hongkong', 17),\n",
       " ('#bloomberg', 15),\n",
       " ('#china', 12),\n",
       " ('#trump', 10),\n",
       " ('#markets', 9),\n",
       " ('#economics', 9),\n",
       " ('#infrastructure', 9)]"
      ]
     },
     "execution_count": 41,
     "metadata": {},
     "output_type": "execute_result"
    }
   ],
   "source": [
    "#returns a list of top 'n' elements from most common to least common\n",
    "counts_hashtags.most_common(10) "
   ]
  },
  {
   "cell_type": "markdown",
   "metadata": {
    "id": "XeiZjTAWOnAt"
   },
   "source": [
    "#### Plotting the top 10 hashtags"
   ]
  },
  {
   "cell_type": "code",
   "execution_count": 42,
   "metadata": {
    "executionInfo": {
     "elapsed": 4,
     "status": "ok",
     "timestamp": 1685696386109,
     "user": {
      "displayName": "Nisarg Gandhewar",
      "userId": "00173707501276252012"
     },
     "user_tz": -330
    },
    "id": "5QmvzBguOnAt"
   },
   "outputs": [],
   "source": [
    "import matplotlib.pyplot as plt"
   ]
  },
  {
   "cell_type": "code",
   "execution_count": 43,
   "metadata": {
    "executionInfo": {
     "elapsed": 6,
     "status": "ok",
     "timestamp": 1685696390425,
     "user": {
      "displayName": "Nisarg Gandhewar",
      "userId": "00173707501276252012"
     },
     "user_tz": -330
    },
    "id": "bj43vY4yOnAu"
   },
   "outputs": [],
   "source": [
    "res = counts_hashtags.most_common(10)"
   ]
  },
  {
   "cell_type": "code",
   "execution_count": 44,
   "metadata": {
    "executionInfo": {
     "elapsed": 923,
     "status": "ok",
     "timestamp": 1685696403661,
     "user": {
      "displayName": "Nisarg Gandhewar",
      "userId": "00173707501276252012"
     },
     "user_tz": -330
    },
    "id": "tl5aC-cCOnAu"
   },
   "outputs": [],
   "source": [
    "res2 = {term:cnt for term, cnt in res}"
   ]
  },
  {
   "cell_type": "code",
   "execution_count": 45,
   "metadata": {
    "colab": {
     "base_uri": "https://localhost:8080/"
    },
    "executionInfo": {
     "elapsed": 7,
     "status": "ok",
     "timestamp": 1685696544977,
     "user": {
      "displayName": "Nisarg Gandhewar",
      "userId": "00173707501276252012"
     },
     "user_tz": -330
    },
    "id": "0D8X-VvAV5us",
    "outputId": "b220195e-b76e-49d9-f04a-f89404bf070e"
   },
   "outputs": [
    {
     "data": {
      "text/plain": [
       "dict"
      ]
     },
     "execution_count": 45,
     "metadata": {},
     "output_type": "execute_result"
    }
   ],
   "source": [
    "type(res2)"
   ]
  },
  {
   "cell_type": "code",
   "execution_count": 46,
   "metadata": {
    "colab": {
     "base_uri": "https://localhost:8080/"
    },
    "executionInfo": {
     "elapsed": 7,
     "status": "ok",
     "timestamp": 1685696407571,
     "user": {
      "displayName": "Nisarg Gandhewar",
      "userId": "00173707501276252012"
     },
     "user_tz": -330
    },
    "id": "PumVVHj0OnAv",
    "outputId": "5053a7e6-14ee-4f9f-cb33-3b9662b3d21a"
   },
   "outputs": [
    {
     "data": {
      "text/plain": [
       "['#recession',\n",
       " '#india',\n",
       " '#business',\n",
       " '#hongkong',\n",
       " '#bloomberg',\n",
       " '#china',\n",
       " '#trump',\n",
       " '#markets',\n",
       " '#economics',\n",
       " '#infrastructure']"
      ]
     },
     "execution_count": 46,
     "metadata": {},
     "output_type": "execute_result"
    }
   ],
   "source": [
    "list(res2.keys())"
   ]
  },
  {
   "cell_type": "code",
   "execution_count": null,
   "metadata": {
    "colab": {
     "base_uri": "https://localhost:8080/"
    },
    "executionInfo": {
     "elapsed": 7,
     "status": "ok",
     "timestamp": 1685696412283,
     "user": {
      "displayName": "Nisarg Gandhewar",
      "userId": "00173707501276252012"
     },
     "user_tz": -330
    },
    "id": "xWef1cVTOnAv",
    "outputId": "34c1025d-2470-4990-bf40-e2859789d995"
   },
   "outputs": [
    {
     "data": {
      "text/plain": [
       "[24, 20, 18, 17, 15, 12, 10, 9, 9, 9]"
      ]
     },
     "execution_count": 47,
     "metadata": {},
     "output_type": "execute_result"
    }
   ],
   "source": [
    "list(res2.values())"
   ]
  },
  {
   "cell_type": "code",
   "execution_count": 48,
   "metadata": {
    "colab": {
     "base_uri": "https://localhost:8080/",
     "height": 430
    },
    "executionInfo": {
     "elapsed": 12,
     "status": "ok",
     "timestamp": 1685696616688,
     "user": {
      "displayName": "Nisarg Gandhewar",
      "userId": "00173707501276252012"
     },
     "user_tz": -330
    },
    "id": "X0j2jUrhOnAw",
    "outputId": "70de3732-92ed-412f-9e0d-f764c8122eb5"
   },
   "outputs": [
    {
     "data": {
      "image/png": "[encoded data removed]",
      "text/plain": [
       "<Figure size 640x480 with 1 Axes>"
      ]
     },
     "metadata": {},
     "output_type": "display_data"
    }
   ],
   "source": [
    "plt.barh(list(res2.keys()), list(res2.values()), color=\"red\")  # To get horizontal bar plot\n",
    "plt.show()"
   ]
  },
  {
   "cell_type": "code",
   "execution_count": null,
   "metadata": {},
   "outputs": [],
   "source": []
  }
 ],
 "metadata": {
  "colab": {
   "provenance": []
  },
  "kernelspec": {
   "display_name": "Python 3 (ipykernel)",
   "language": "python",
   "name": "python3"
  },
  "language_info": {
   "codemirror_mode": {
    "name": "ipython",
    "version": 3
   },
   "file_extension": ".py",
   "mimetype": "text/x-python",
   "name": "python",
   "nbconvert_exporter": "python",
   "pygments_lexer": "ipython3",
   "version": "3.11.3"
  }
 },
 "nbformat": 4,
 "nbformat_minor": 4
}
